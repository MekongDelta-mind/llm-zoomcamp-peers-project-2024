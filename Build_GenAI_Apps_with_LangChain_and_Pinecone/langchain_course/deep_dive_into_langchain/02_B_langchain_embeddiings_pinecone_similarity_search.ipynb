{
 "cells": [
  {
   "cell_type": "markdown",
   "id": "2e0b0311-a7cc-462c-98db-71fb4fece29c",
   "metadata": {},
   "source": [
    "# Splitting and Embedding Text Using LangChain (Similarity Search)"
   ]
  },
  {
   "cell_type": "code",
   "execution_count": 1,
   "id": "ea688b99-5f9e-4646-8b83-5b334ad454ee",
   "metadata": {},
   "outputs": [],
   "source": [
    "%%capture\n",
    "!pip install -r requirements.txt -q"
   ]
  },
  {
   "cell_type": "code",
   "execution_count": 2,
   "id": "bc0ea669-7013-4ef9-ac2b-2dcb94b1738d",
   "metadata": {},
   "outputs": [],
   "source": [
    "import os\n",
    "import openai\n",
    "import getpass\n",
    "from pinecone import Pinecone, ServerlessSpec"
   ]
  },
  {
   "cell_type": "code",
   "execution_count": 3,
   "id": "090cd315-a9eb-4359-aa34-98728e599bd8",
   "metadata": {},
   "outputs": [
    {
     "name": "stdin",
     "output_type": "stream",
     "text": [
      "Enter your OPENAI_API_KEY:  ········\n",
      "Enter your LANGCHAIN_API_KEY:  ········\n",
      "Enter your PINECONE_API_KEY:  ········\n"
     ]
    }
   ],
   "source": [
    "os.environ[\"OPENAI_API_KEY\"] = getpass.getpass(\"Enter your OPENAI_API_KEY: \")\n",
    "os.environ[\"LANGCHAIN_API_KEY\"] = getpass.getpass(\"Enter your LANGCHAIN_API_KEY: \")\n",
    "os.environ[\"PINECONE_API_KEY\"] = getpass.getpass(\"Enter your PINECONE_API_KEY: \")"
   ]
  },
  {
   "cell_type": "markdown",
   "id": "906b0b49-5a38-4dd6-a7c1-12717e3dc063",
   "metadata": {},
   "source": [
    "## Splitting text\n",
    "- [Langchain Loaders](https://python.langchain.com/docs/how_to/#document-loaders)"
   ]
  },
  {
   "cell_type": "code",
   "execution_count": 5,
   "id": "7750af21-7846-4dc6-af59-2cf888544110",
   "metadata": {},
   "outputs": [
    {
     "name": "stdout",
     "output_type": "stream",
     "text": [
      "The history saving thread hit an unexpected error (OperationalError('attempt to write a readonly database')).History will not be written to the database.\n"
     ]
    }
   ],
   "source": [
    "from langchain.text_splitter import RecursiveCharacterTextSplitter"
   ]
  },
  {
   "cell_type": "code",
   "execution_count": 7,
   "id": "973afa1b-6598-42d5-9d3e-b36beac64fd0",
   "metadata": {},
   "outputs": [],
   "source": [
    "with open(\"files/churchill_speech.txt\") as f:\n",
    "    churchill_speech = f.read()"
   ]
  },
  {
   "cell_type": "code",
   "execution_count": 10,
   "id": "13957145-2e0f-4944-84ea-f76b5c7d67ea",
   "metadata": {},
   "outputs": [],
   "source": [
    "text_splitter = RecursiveCharacterTextSplitter(\n",
    "    chunk_size=500,\n",
    "    chunk_overlap=20,\n",
    "    length_function=len\n",
    ")"
   ]
  },
  {
   "cell_type": "code",
   "execution_count": 11,
   "id": "cc7f877c-7fe0-40a1-9747-9406b6e4591a",
   "metadata": {},
   "outputs": [
    {
     "name": "stdout",
     "output_type": "stream",
     "text": [
      "page_content='Winston Churchill Speech - We Shall Fight on the Beaches\n",
      "We Shall Fight on the Beaches\n",
      "June 4, 1940\n",
      "House of Commons\n",
      "From the moment that the French defenses at Sedan and on the Meuse were broken at the end of the\n",
      "second week of May, only a rapid retreat to Amiens and the south could have saved the British and\n",
      "French Armies who had entered Belgium at the appeal of the Belgian King; but this strategic fact was'\n"
     ]
    }
   ],
   "source": [
    "chunks = text_splitter.create_documents([churchill_speech])\n",
    "print(chunks[0])"
   ]
  },
  {
   "cell_type": "code",
   "execution_count": 12,
   "id": "8354084b-d259-4830-8285-0978ed6b7da9",
   "metadata": {},
   "outputs": [
    {
     "name": "stdout",
     "output_type": "stream",
     "text": [
      "page_content='streets, we shall fight in the hills; we shall never surrender, and even if, which I do not for a moment\n",
      "believe, this Island or a large part of it were subjugated and starving, then our Empire beyond the\n",
      "seas, armed and guarded by the British Fleet, would carry on the struggle, until, in God's good time,\n",
      "the New World, with all its power and might, steps forth to the rescue and the liberation of the old.'\n"
     ]
    }
   ],
   "source": [
    "print(chunks[-1])"
   ]
  },
  {
   "cell_type": "code",
   "execution_count": 14,
   "id": "2e6e23c9-ee92-41f1-9674-84167ad35106",
   "metadata": {},
   "outputs": [
    {
     "name": "stdout",
     "output_type": "stream",
     "text": [
      "streets, we shall fight in the hills; we shall never surrender, and even if, which I do not for a moment\n",
      "believe, this Island or a large part of it were subjugated and starving, then our Empire beyond the\n",
      "seas, armed and guarded by the British Fleet, would carry on the struggle, until, in God's good time,\n",
      "the New World, with all its power and might, steps forth to the rescue and the liberation of the old.\n"
     ]
    }
   ],
   "source": [
    "print(chunks[-1].page_content)"
   ]
  },
  {
   "cell_type": "code",
   "execution_count": 13,
   "id": "06ce857c-4207-40a8-b96d-2ba885560913",
   "metadata": {},
   "outputs": [
    {
     "data": {
      "text/plain": [
       "47"
      ]
     },
     "execution_count": 13,
     "metadata": {},
     "output_type": "execute_result"
    }
   ],
   "source": [
    "len(chunks)"
   ]
  },
  {
   "cell_type": "markdown",
   "id": "80eae0ba-f54a-4993-b58a-8efdefb430e0",
   "metadata": {},
   "source": [
    "## Embedding cost\n",
    "- [How to count tokens with Tiktoken](https://cookbook.openai.com/examples/how_to_count_tokens_with_tiktoken)\n",
    "- [tiktoken](https://github.com/openai/tiktoken)"
   ]
  },
  {
   "cell_type": "code",
   "execution_count": 15,
   "id": "c70ee6b9-89d2-416e-b17b-e7b560fac99f",
   "metadata": {},
   "outputs": [
    {
     "name": "stdout",
     "output_type": "stream",
     "text": [
      "Total Tokens: 4646\n",
      "Embedding Cost in USD: 0.000093\n"
     ]
    }
   ],
   "source": [
    "def print_embedding_cost(texts):\n",
    "    import tiktoken\n",
    "    enc = tiktoken.encoding_for_model('text-embedding-3-small')\n",
    "    total_tokens = sum([len(enc.encode(page.page_content)) for page in texts])\n",
    "    # check prices here: https://openai.com/pricing\n",
    "    print(f'Total Tokens: {total_tokens}')\n",
    "    print(f'Embedding Cost in USD: {total_tokens / 1000 * 0.00002:.6f}')\n",
    "    \n",
    "print_embedding_cost(chunks)"
   ]
  },
  {
   "cell_type": "markdown",
   "id": "11743549-8a1e-4f74-90b5-03dfb7533417",
   "metadata": {},
   "source": [
    "## Create Embeddings"
   ]
  },
  {
   "cell_type": "code",
   "execution_count": 16,
   "id": "526ef8f0-b35f-40ae-8942-cc6486697d12",
   "metadata": {},
   "outputs": [],
   "source": [
    "from langchain_openai import OpenAIEmbeddings"
   ]
  },
  {
   "cell_type": "code",
   "execution_count": 17,
   "id": "d578726b-11c4-4726-88e0-454e94d665da",
   "metadata": {},
   "outputs": [],
   "source": [
    "embeddings = OpenAIEmbeddings(model='text-embedding-3-small', dimensions=1536)  # 512 works as well"
   ]
  },
  {
   "cell_type": "code",
   "execution_count": 19,
   "id": "fe962bc8-7ff1-4333-bee5-414d0e0b9ff9",
   "metadata": {},
   "outputs": [
    {
     "data": {
      "text/plain": [
       "(1536, [0.046349696815013885, 0.052983976900577545])"
      ]
     },
     "execution_count": 19,
     "metadata": {},
     "output_type": "execute_result"
    }
   ],
   "source": [
    "vector = embeddings.embed_query(chunks[0].page_content)\n",
    "len(vector), vector[:2]"
   ]
  },
  {
   "cell_type": "markdown",
   "id": "e515c1d3-62af-4201-a313-8806be650eb6",
   "metadata": {},
   "source": [
    "## Inserting the Embeddings into a Pinecone Index\n",
    "- [Vector stores](https://python.langchain.com/docs/concepts/vectorstores/)\n",
    "- [Pinecone](https://python.langchain.com/docs/integrations/vectorstores/pinecone/)"
   ]
  },
  {
   "cell_type": "code",
   "execution_count": 20,
   "id": "1ba370ac-be14-490b-a1b2-8d2db1931691",
   "metadata": {},
   "outputs": [],
   "source": [
    "import pinecone\n",
    "from langchain_community.vectorstores import Pinecone"
   ]
  },
  {
   "cell_type": "code",
   "execution_count": 21,
   "id": "adb44a3a-e80c-47a4-ba06-cdb47fe8ca63",
   "metadata": {},
   "outputs": [],
   "source": [
    "pc = pinecone.Pinecone()"
   ]
  },
  {
   "cell_type": "code",
   "execution_count": 22,
   "id": "c173d60d-0c1a-4aa8-91b2-10d89b2e3264",
   "metadata": {},
   "outputs": [
    {
     "name": "stdout",
     "output_type": "stream",
     "text": [
      "Deleting all indexes ... Done\n"
     ]
    }
   ],
   "source": [
    "# deleting all indexes\n",
    "indexes = pc.list_indexes().names()\n",
    "for i in indexes:\n",
    "    print('Deleting all indexes ... ', end='')\n",
    "    pc.delete_index(i)\n",
    "    print('Done')"
   ]
  },
  {
   "cell_type": "code",
   "execution_count": 23,
   "id": "aafa101c-9b1f-4079-9fdb-5750e12e0c38",
   "metadata": {},
   "outputs": [
    {
     "name": "stdout",
     "output_type": "stream",
     "text": [
      "Creating index churchill-speech\n",
      "Index created! 😊\n"
     ]
    }
   ],
   "source": [
    "# creating an index\n",
    "from pinecone import ServerlessSpec\n",
    "\n",
    "index_name = 'churchill-speech'\n",
    "if index_name not in pc.list_indexes().names():\n",
    "    print(f'Creating index {index_name}')\n",
    "    pc.create_index(\n",
    "        name=index_name,\n",
    "        dimension=1536,\n",
    "        metric='cosine',\n",
    "        spec=ServerlessSpec(\n",
    "            cloud=\"aws\",\n",
    "            region=\"us-east-1\"\n",
    "        ) \n",
    "    )\n",
    "    print('Index created! 😊')\n",
    "else:\n",
    "    print(f'Index {index_name} already exists!')"
   ]
  },
  {
   "cell_type": "code",
   "execution_count": 24,
   "id": "633045c8-88fc-4c75-bf68-948e57c98edc",
   "metadata": {},
   "outputs": [],
   "source": [
    "# processing the input documents, generating embeddings using the provided `OpenAIEmbeddings` instance,\n",
    "# inserting the embeddings into the index and returning a new Pinecone vector store object. \n",
    "vectore_store = Pinecone.from_documents(chunks, embedding=embeddings, index_name=index_name)"
   ]
  },
  {
   "cell_type": "code",
   "execution_count": 25,
   "id": "2f2b8a1c-b6e8-4bf3-a571-51ca8c586795",
   "metadata": {},
   "outputs": [
    {
     "data": {
      "text/plain": [
       "{'dimension': 1536,\n",
       " 'index_fullness': 0.0,\n",
       " 'namespaces': {'': {'vector_count': 47}},\n",
       " 'total_vector_count': 47}"
      ]
     },
     "execution_count": 25,
     "metadata": {},
     "output_type": "execute_result"
    }
   ],
   "source": [
    "index = pc.Index(index_name)\n",
    "index.describe_index_stats()"
   ]
  },
  {
   "cell_type": "markdown",
   "id": "cf3e2e34-66fd-49f7-b42c-c86240426cd0",
   "metadata": {},
   "source": [
    "## Asking Questions (Similarity Search)"
   ]
  },
  {
   "cell_type": "code",
   "execution_count": 26,
   "id": "67a595ac-5e8f-4174-9776-ea0ad75d7774",
   "metadata": {},
   "outputs": [
    {
     "data": {
      "text/plain": [
       "[Document(metadata={}, page_content='the Gestapo and all the odious apparatus of Nazi rule, we shall not flag or fail. We shall go on to the\\nend, we shall fight in France, we shall fight on the seas and oceans, we shall fight with growing\\nconfidence and growing strength in the air, we shall defend our Island, whatever the cost may be, we\\nshall fight on the beaches, we shall fight on the landing grounds, we shall fight in the fields and in the'),\n",
       " Document(metadata={}, page_content=\"streets, we shall fight in the hills; we shall never surrender, and even if, which I do not for a moment\\nbelieve, this Island or a large part of it were subjugated and starving, then our Empire beyond the\\nseas, armed and guarded by the British Fleet, would carry on the struggle, until, in God's good time,\\nthe New World, with all its power and might, steps forth to the rescue and the liberation of the old.\"),\n",
       " Document(metadata={}, page_content='Winston Churchill Speech - We Shall Fight on the Beaches\\nWe Shall Fight on the Beaches\\nJune 4, 1940\\nHouse of Commons\\nFrom the moment that the French defenses at Sedan and on the Meuse were broken at the end of the\\nsecond week of May, only a rapid retreat to Amiens and the south could have saved the British and\\nFrench Armies who had entered Belgium at the appeal of the Belgian King; but this strategic fact was'),\n",
       " Document(metadata={}, page_content='I return to the Army. In the long series of very fierce battles, now on this front, now on that, fighting\\non three fronts at once, battles fought by two or three divisions against an equal or somewhat larger\\nnumber of the enemy, and fought fiercely on some of the old grounds that so many of us knew so wellin these battles our losses in men have exceeded 30,000 killed, wounded and missing. I take occasion')]"
      ]
     },
     "execution_count": 26,
     "metadata": {},
     "output_type": "execute_result"
    }
   ],
   "source": [
    "query = \"where should we fight?\"\n",
    "result = vectore_store.similarity_search(query)\n",
    "result"
   ]
  },
  {
   "cell_type": "code",
   "execution_count": 28,
   "id": "16d679ad-5d67-476f-95fb-9426d990e918",
   "metadata": {},
   "outputs": [
    {
     "name": "stdout",
     "output_type": "stream",
     "text": [
      "the Gestapo and all the odious apparatus of Nazi rule, we shall not flag or fail. We shall go on to the\n",
      "end, we shall fight in France, we shall fight on the seas and oceans, we shall fight with growing\n",
      "confidence and growing strength in the air, we shall defend our Island, whatever the cost may be, we\n",
      "shall fight on the beaches, we shall fight on the landing grounds, we shall fight in the fields and in the\n",
      "----------------------------------------------------------------------------------------------------\n",
      "streets, we shall fight in the hills; we shall never surrender, and even if, which I do not for a moment\n",
      "believe, this Island or a large part of it were subjugated and starving, then our Empire beyond the\n",
      "seas, armed and guarded by the British Fleet, would carry on the struggle, until, in God's good time,\n",
      "the New World, with all its power and might, steps forth to the rescue and the liberation of the old.\n",
      "----------------------------------------------------------------------------------------------------\n",
      "Winston Churchill Speech - We Shall Fight on the Beaches\n",
      "We Shall Fight on the Beaches\n",
      "June 4, 1940\n",
      "House of Commons\n",
      "From the moment that the French defenses at Sedan and on the Meuse were broken at the end of the\n",
      "second week of May, only a rapid retreat to Amiens and the south could have saved the British and\n",
      "French Armies who had entered Belgium at the appeal of the Belgian King; but this strategic fact was\n",
      "----------------------------------------------------------------------------------------------------\n",
      "I return to the Army. In the long series of very fierce battles, now on this front, now on that, fighting\n",
      "on three fronts at once, battles fought by two or three divisions against an equal or somewhat larger\n",
      "number of the enemy, and fought fiercely on some of the old grounds that so many of us knew so wellin these battles our losses in men have exceeded 30,000 killed, wounded and missing. I take occasion\n",
      "----------------------------------------------------------------------------------------------------\n"
     ]
    }
   ],
   "source": [
    "for r in result:\n",
    "    print(r.page_content)\n",
    "    print(\"-\" * 100)"
   ]
  },
  {
   "cell_type": "markdown",
   "id": "0be53cbb-e5a0-46be-8841-67e705225c29",
   "metadata": {},
   "source": [
    "## Answering questions in Natural Language using an LLM"
   ]
  },
  {
   "cell_type": "code",
   "execution_count": 49,
   "id": "4d0b0445-0c9f-4c44-839a-9058e48d532f",
   "metadata": {},
   "outputs": [],
   "source": [
    "from langchain.chains import RetrievalQA\n",
    "from langchain_openai import ChatOpenAI\n",
    "\n",
    "# Initialize the LLM with the specified model and temperature\n",
    "llm = ChatOpenAI(model='gpt-4o-mini', temperature=0.2)\n",
    "\n",
    "# Use the provided vector store with similarity search and retrieve top 3 results\n",
    "retriever = vectore_store.as_retriever(search_type='similarity', search_kwargs={'k': 15})\n",
    "\n",
    "# Create a RetrievalQA chain using the defined LLM, chain type 'stuff', and retriever\n",
    "chain = RetrievalQA.from_chain_type(llm=llm, chain_type='stuff', retriever=retriever)"
   ]
  },
  {
   "cell_type": "code",
   "execution_count": 50,
   "id": "7b567518-7b33-42e0-b9e6-072a43ff542b",
   "metadata": {},
   "outputs": [
    {
     "name": "stdout",
     "output_type": "stream",
     "text": [
      "We shall fight in France, we shall fight on the seas and oceans, we shall fight with growing confidence and growing strength in the air, we shall defend our Island, whatever the cost may be, we shall fight on the beaches, we shall fight on the landing grounds, we shall fight in the fields and in the streets, we shall fight in the hills.\n"
     ]
    }
   ],
   "source": [
    "query = 'Answer only from the provided input. Where should we fight?'\n",
    "answer = chain.invoke(query)\n",
    "print(answer.get(\"result\"))"
   ]
  },
  {
   "cell_type": "code",
   "execution_count": 51,
   "id": "7275b917-9ed7-4b07-9268-509bac54569e",
   "metadata": {},
   "outputs": [
    {
     "name": "stdout",
     "output_type": "stream",
     "text": [
      "The king of Belgium at that time was King Leopold III.\n"
     ]
    }
   ],
   "source": [
    "query = 'Who was the king of Belgium at that time?'\n",
    "answer = chain.invoke(query)\n",
    "# answer\n",
    "print(answer.get(\"result\"))"
   ]
  },
  {
   "cell_type": "code",
   "execution_count": 52,
   "id": "fb60f86e-095a-40c8-8bc1-8b34b9efc82d",
   "metadata": {},
   "outputs": [
    {
     "name": "stdout",
     "output_type": "stream",
     "text": [
      "The text indicates that the French Army was significantly weakened during the military operations in France and Belgium. The German forces executed a successful penetration that cut off communications between the British and French Armies, leading to a colossal military disaster for the French. The French High Command hoped to close the gap created by the German advance, but the situation deteriorated, and the French Army faced severe challenges, including being outnumbered and surrounded. Ultimately, the French Army was largely cast back and disturbed by the German onslaught.\n"
     ]
    }
   ],
   "source": [
    "query = 'What about the French Armies??'\n",
    "answer = chain.invoke(query)\n",
    "print(answer.get(\"result\"))"
   ]
  },
  {
   "cell_type": "code",
   "execution_count": null,
   "id": "348af1c9-0a8a-4902-96ad-c012309a8d26",
   "metadata": {},
   "outputs": [],
   "source": []
  }
 ],
 "metadata": {
  "kernelspec": {
   "display_name": "Python 3 (ipykernel)",
   "language": "python",
   "name": "python3"
  },
  "language_info": {
   "codemirror_mode": {
    "name": "ipython",
    "version": 3
   },
   "file_extension": ".py",
   "mimetype": "text/x-python",
   "name": "python",
   "nbconvert_exporter": "python",
   "pygments_lexer": "ipython3",
   "version": "3.11.9"
  }
 },
 "nbformat": 4,
 "nbformat_minor": 5
}
