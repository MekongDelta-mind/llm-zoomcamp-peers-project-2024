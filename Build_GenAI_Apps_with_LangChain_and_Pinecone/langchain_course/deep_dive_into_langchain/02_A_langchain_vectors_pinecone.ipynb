{
 "cells": [
  {
   "cell_type": "markdown",
   "id": "46e043e3-d4ac-40a2-a930-1a3f9030baf8",
   "metadata": {},
   "source": [
    "# Diving into Pinecone\n",
    "- [pinecone.io](https://www.pinecone.io/)\n",
    "- [Pinecone docs](https://docs.pinecone.io/home)\n",
    "- [Pinecone example notebooks](https://docs.pinecone.io/examples/notebooks)"
   ]
  },
  {
   "cell_type": "code",
   "execution_count": 2,
   "id": "542d8c53-004e-4892-a4aa-2a757bc90781",
   "metadata": {},
   "outputs": [],
   "source": [
    "%%capture\n",
    "!pip install -r requirements.txt -q"
   ]
  },
  {
   "cell_type": "code",
   "execution_count": 3,
   "id": "27908d8b-5c2e-4993-81b7-e89caa9bfb1e",
   "metadata": {},
   "outputs": [],
   "source": [
    "import os\n",
    "import openai\n",
    "import getpass\n",
    "from pinecone import Pinecone, ServerlessSpec"
   ]
  },
  {
   "cell_type": "code",
   "execution_count": 4,
   "id": "eec850d1-7452-4af4-b957-2fc755b8b452",
   "metadata": {},
   "outputs": [
    {
     "name": "stdin",
     "output_type": "stream",
     "text": [
      "Enter your OPENAI_API_KEY:  ········\n",
      "Enter your LANGCHAIN_API_KEY:  ········\n",
      "Enter your PINECONE_API_KEY:  ········\n"
     ]
    }
   ],
   "source": [
    "os.environ[\"OPENAI_API_KEY\"] = getpass.getpass(\"Enter your OPENAI_API_KEY: \")\n",
    "os.environ[\"LANGCHAIN_API_KEY\"] = getpass.getpass(\"Enter your LANGCHAIN_API_KEY: \")\n",
    "os.environ[\"PINECONE_API_KEY\"] = getpass.getpass(\"Enter your PINECONE_API_KEY: \")"
   ]
  },
  {
   "cell_type": "code",
   "execution_count": 7,
   "id": "d55d7c7a-7e24-4f40-b88c-e0725c765be0",
   "metadata": {},
   "outputs": [],
   "source": [
    "# Initilizing and authenticating the pinecone client\n",
    "pc = Pinecone()"
   ]
  },
  {
   "cell_type": "code",
   "execution_count": 8,
   "id": "fb13ea83-f8df-416d-81d1-06a65f48f25a",
   "metadata": {},
   "outputs": [
    {
     "data": {
      "text/plain": [
       "{'indexes': []}"
      ]
     },
     "execution_count": 8,
     "metadata": {},
     "output_type": "execute_result"
    }
   ],
   "source": [
    "pc.list_indexes()"
   ]
  },
  {
   "cell_type": "markdown",
   "id": "ee748930-518a-46e3-abf6-57a58a2d35d4",
   "metadata": {},
   "source": [
    "## Working with Pinecone Indexes"
   ]
  },
  {
   "cell_type": "code",
   "execution_count": 9,
   "id": "0392fd19-a388-43e7-9170-fdb0cf4973db",
   "metadata": {},
   "outputs": [
    {
     "data": {
      "text/plain": [
       "{'indexes': []}"
      ]
     },
     "execution_count": 9,
     "metadata": {},
     "output_type": "execute_result"
    }
   ],
   "source": [
    "pc.list_indexes()"
   ]
  },
  {
   "cell_type": "code",
   "execution_count": 17,
   "id": "b46fc52c-c944-4c39-8590-fd6fddbb3763",
   "metadata": {},
   "outputs": [
    {
     "data": {
      "text/plain": [
       "'\\nindex_name = \"langchain\"\\n\\npc.create_index(\\n    name=index_name,\\n    dimension=1536, # Replace with your model dimensions\\n    metric=\"cosine\", # Replace with your model metric\\n    spec=ServerlessSpec(\\n        cloud=\"aws\",\\n        region=\"us-east-1\"\\n    ) \\n)\\n'"
      ]
     },
     "execution_count": 17,
     "metadata": {},
     "output_type": "execute_result"
    }
   ],
   "source": [
    "# creat an index\n",
    "\n",
    "\"\"\"\n",
    "index_name = \"langchain\"\n",
    "\n",
    "pc.create_index(\n",
    "    name=index_name,\n",
    "    dimension=1536, # Replace with your model dimensions\n",
    "    metric=\"cosine\", # Replace with your model metric\n",
    "    spec=ServerlessSpec(\n",
    "        cloud=\"aws\",\n",
    "        region=\"us-east-1\"\n",
    "    ) \n",
    ")\n",
    "\"\"\""
   ]
  },
  {
   "cell_type": "code",
   "execution_count": 28,
   "id": "0c93be89-329f-4fc8-a112-26086bda4432",
   "metadata": {},
   "outputs": [
    {
     "name": "stdout",
     "output_type": "stream",
     "text": [
      "Deleting index langchain ... \n",
      "Done\n"
     ]
    }
   ],
   "source": [
    "# deleting an index\n",
    "if index_name in pc.list_indexes().names():\n",
    "    print(f'Deleting index {index_name} ... ')\n",
    "    pc.delete_index(index_name)\n",
    "    print('Done')\n",
    "else:\n",
    "    print(f'Index {index_name} does not exist!')"
   ]
  },
  {
   "cell_type": "code",
   "execution_count": 29,
   "id": "fa642482-cd8e-40d1-a636-dedecc5908a0",
   "metadata": {},
   "outputs": [
    {
     "name": "stdout",
     "output_type": "stream",
     "text": [
      "Creating index langchain\n",
      "Index created! 😊\n"
     ]
    }
   ],
   "source": [
    "# creating a Serverless Pinecone index \n",
    "# starter free plan permits 1 project, up to 5 indexes, up to 100 namespaces per index\n",
    "index_name = 'langchain'\n",
    "\n",
    "if index_name not in pc.list_indexes().names():\n",
    "    print(f'Creating index {index_name}')\n",
    "    pc.create_index(\n",
    "        name=index_name,\n",
    "        dimension=1536,\n",
    "        metric='cosine',\n",
    "        spec=ServerlessSpec(\n",
    "            cloud=\"aws\",\n",
    "            region=\"us-east-1\"\n",
    "        ) \n",
    "    )\n",
    "    print('Index created! 😊')\n",
    "else:\n",
    "    print(f'Index {index_name} already exists!')"
   ]
  },
  {
   "cell_type": "code",
   "execution_count": 11,
   "id": "e15077e7-043e-4c7f-9e4c-2b9de025d0cd",
   "metadata": {},
   "outputs": [
    {
     "data": {
      "text/plain": [
       "{'indexes': [{'deletion_protection': 'disabled',\n",
       "              'dimension': 1536,\n",
       "              'host': 'langchain-9oj8ute.svc.aped-4627-b74a.pinecone.io',\n",
       "              'metric': 'cosine',\n",
       "              'name': 'langchain',\n",
       "              'spec': {'serverless': {'cloud': 'aws', 'region': 'us-east-1'}},\n",
       "              'status': {'ready': True, 'state': 'Ready'}}]}"
      ]
     },
     "execution_count": 11,
     "metadata": {},
     "output_type": "execute_result"
    }
   ],
   "source": [
    "pc.list_indexes()"
   ]
  },
  {
   "cell_type": "code",
   "execution_count": 12,
   "id": "ad898b51-25e6-4406-9daa-9eb4f8da281c",
   "metadata": {},
   "outputs": [
    {
     "data": {
      "text/plain": [
       "{'deletion_protection': 'disabled',\n",
       " 'dimension': 1536,\n",
       " 'host': 'langchain-9oj8ute.svc.aped-4627-b74a.pinecone.io',\n",
       " 'metric': 'cosine',\n",
       " 'name': 'langchain',\n",
       " 'spec': {'serverless': {'cloud': 'aws', 'region': 'us-east-1'}},\n",
       " 'status': {'ready': True, 'state': 'Ready'}}"
      ]
     },
     "execution_count": 12,
     "metadata": {},
     "output_type": "execute_result"
    }
   ],
   "source": [
    "# getting a complete description of a specific index:\n",
    "pc.describe_index(index_name)"
   ]
  },
  {
   "cell_type": "code",
   "execution_count": 13,
   "id": "e6cef595-adf9-471f-a2a9-d93e9d22308b",
   "metadata": {},
   "outputs": [
    {
     "data": {
      "text/plain": [
       "['langchain']"
      ]
     },
     "execution_count": 13,
     "metadata": {},
     "output_type": "execute_result"
    }
   ],
   "source": [
    "# getting a list with index names\n",
    "pc.list_indexes().names()"
   ]
  },
  {
   "cell_type": "code",
   "execution_count": 16,
   "id": "2046bf46-cae5-42d1-a021-faf7d71b0cc4",
   "metadata": {},
   "outputs": [
    {
     "data": {
      "text/plain": [
       "{'dimension': 1536,\n",
       " 'index_fullness': 0.0,\n",
       " 'namespaces': {},\n",
       " 'total_vector_count': 0}"
      ]
     },
     "execution_count": 16,
     "metadata": {},
     "output_type": "execute_result"
    }
   ],
   "source": [
    "index = pc.Index(index_name)\n",
    "index.describe_index_stats()"
   ]
  },
  {
   "cell_type": "markdown",
   "id": "358d75e3-b2f5-4c18-825f-394c7949585e",
   "metadata": {},
   "source": [
    "## Working with Vectors"
   ]
  },
  {
   "cell_type": "code",
   "execution_count": 30,
   "id": "c2005887-12f8-4818-883b-e2313a46573e",
   "metadata": {},
   "outputs": [
    {
     "name": "stdout",
     "output_type": "stream",
     "text": [
      "[0.8885520972547745, 0.19287054128056125]\n"
     ]
    }
   ],
   "source": [
    "import random\n",
    "\n",
    "vectors = [[random.random() for _ in range(1536)] for v in range(5)]\n",
    "print(vectors[0][:2])"
   ]
  },
  {
   "cell_type": "code",
   "execution_count": 31,
   "id": "c4d3da0a-486e-4b0a-bb68-9213e5b7762a",
   "metadata": {},
   "outputs": [
    {
     "data": {
      "text/plain": [
       "{'upserted_count': 5}"
      ]
     },
     "execution_count": 31,
     "metadata": {},
     "output_type": "execute_result"
    }
   ],
   "source": [
    "ids = list(\"abcde\")\n",
    "\n",
    "index_name = \"langchain\"\n",
    "index = pc.Index(index_name)\n",
    "# inserting the vectors into an index using the upsert method\n",
    "index.upsert(vectors=zip(ids, vectors))"
   ]
  },
  {
   "cell_type": "code",
   "execution_count": 22,
   "id": "e3a461e6-2a7c-4227-867e-756802b1b421",
   "metadata": {},
   "outputs": [
    {
     "data": {
      "text/plain": [
       "{'upserted_count': 1}"
      ]
     },
     "execution_count": 22,
     "metadata": {},
     "output_type": "execute_result"
    }
   ],
   "source": [
    "# updating the vectors\n",
    "index.upsert(vectors=[(\"c\", [0.5] * 1536)])"
   ]
  },
  {
   "cell_type": "code",
   "execution_count": 24,
   "id": "833368c6-deba-41fe-ac7f-e528d974e4b4",
   "metadata": {},
   "outputs": [],
   "source": [
    "# fetching vectors\n",
    "# index.fetch(ids=[\"c\", \"d\"])"
   ]
  },
  {
   "cell_type": "code",
   "execution_count": 25,
   "id": "7fb1bac0-ea00-49f6-ac04-8dfa24b8c76f",
   "metadata": {},
   "outputs": [
    {
     "data": {
      "text/plain": [
       "{}"
      ]
     },
     "execution_count": 25,
     "metadata": {},
     "output_type": "execute_result"
    }
   ],
   "source": [
    "# deleting vectors by id\n",
    "index.delete(ids=[\"b\", \"c\"])"
   ]
  },
  {
   "cell_type": "code",
   "execution_count": 32,
   "id": "97ffa8f6-e95e-419b-9946-6369538527ee",
   "metadata": {},
   "outputs": [
    {
     "data": {
      "text/plain": [
       "{'dimension': 1536,\n",
       " 'index_fullness': 0.0,\n",
       " 'namespaces': {},\n",
       " 'total_vector_count': 0}"
      ]
     },
     "execution_count": 32,
     "metadata": {},
     "output_type": "execute_result"
    }
   ],
   "source": [
    "index.describe_index_stats()"
   ]
  },
  {
   "cell_type": "code",
   "execution_count": 27,
   "id": "877a87ef-fe6a-444f-91c1-581116262fa7",
   "metadata": {},
   "outputs": [
    {
     "data": {
      "text/plain": [
       "{'namespace': '', 'usage': {'read_units': 1}, 'vectors': {}}"
      ]
     },
     "execution_count": 27,
     "metadata": {},
     "output_type": "execute_result"
    }
   ],
   "source": [
    "# vector not existing returns an empty vector\n",
    "index.fetch(ids=[\"x\"])"
   ]
  },
  {
   "cell_type": "code",
   "execution_count": 33,
   "id": "28c6e744-1ef1-4786-9909-0f4d1091ef54",
   "metadata": {},
   "outputs": [],
   "source": [
    "# Querying a vector\n",
    "query_vector = [random.random() for _ in range(1536)]"
   ]
  },
  {
   "cell_type": "code",
   "execution_count": 34,
   "id": "01c06887-2651-4950-9685-2d0b2fa9d85a",
   "metadata": {},
   "outputs": [
    {
     "data": {
      "text/plain": [
       "{'matches': [{'id': 'e', 'score': 0.761978, 'values': []},\n",
       "             {'id': 'c', 'score': 0.753419757, 'values': []},\n",
       "             {'id': 'a', 'score': 0.749340713, 'values': []}],\n",
       " 'namespace': '',\n",
       " 'usage': {'read_units': 5}}"
      ]
     },
     "execution_count": 34,
     "metadata": {},
     "output_type": "execute_result"
    }
   ],
   "source": [
    "index.query(\n",
    "    vector=query_vector,\n",
    "    top_k=3,\n",
    "    include_values=False\n",
    ")"
   ]
  },
  {
   "cell_type": "markdown",
   "id": "ebe4bf4c-b41e-4a79-8ec4-84b6214aecd2",
   "metadata": {},
   "source": [
    "## Namespaces"
   ]
  },
  {
   "cell_type": "code",
   "execution_count": 36,
   "id": "7cf5829d-777c-4f57-90b9-66681e250164",
   "metadata": {},
   "outputs": [
    {
     "data": {
      "text/plain": [
       "{'upserted_count': 3}"
      ]
     },
     "execution_count": 36,
     "metadata": {},
     "output_type": "execute_result"
    }
   ],
   "source": [
    "vectors = [[random.random() for _ in range(1536)] for v in range(3)]\n",
    "ids = list(\"xyz\")\n",
    "index.upsert(vectors=zip(ids, vectors), namespace=\"xyz-namespace\")"
   ]
  },
  {
   "cell_type": "code",
   "execution_count": 37,
   "id": "cf48cccd-e86e-41eb-9d9e-f87b95d03c9e",
   "metadata": {},
   "outputs": [
    {
     "data": {
      "text/plain": [
       "{'upserted_count': 2}"
      ]
     },
     "execution_count": 37,
     "metadata": {},
     "output_type": "execute_result"
    }
   ],
   "source": [
    "vectors = [[random.random() for _ in range(1536)] for v in range(2)]\n",
    "ids = list(\"qp\")\n",
    "index.upsert(vectors=zip(ids, vectors), namespace=\"qp-namespace\")"
   ]
  },
  {
   "cell_type": "code",
   "execution_count": 38,
   "id": "8dda3323-11cc-41b1-b335-80111f567048",
   "metadata": {},
   "outputs": [
    {
     "data": {
      "text/plain": [
       "{'dimension': 1536,\n",
       " 'index_fullness': 0.0,\n",
       " 'namespaces': {'': {'vector_count': 5},\n",
       "                'qp-namespace': {'vector_count': 2},\n",
       "                'xyz-namespace': {'vector_count': 3}},\n",
       " 'total_vector_count': 10}"
      ]
     },
     "execution_count": 38,
     "metadata": {},
     "output_type": "execute_result"
    }
   ],
   "source": [
    "index.describe_index_stats()"
   ]
  },
  {
   "cell_type": "code",
   "execution_count": 39,
   "id": "3fd390be-c44a-4bc2-b856-dafa6289bed6",
   "metadata": {},
   "outputs": [
    {
     "data": {
      "text/plain": [
       "{'namespace': '', 'usage': {'read_units': 1}, 'vectors': {}}"
      ]
     },
     "execution_count": 39,
     "metadata": {},
     "output_type": "execute_result"
    }
   ],
   "source": [
    "index.fetch(ids=[\"x\"])"
   ]
  },
  {
   "cell_type": "code",
   "execution_count": 42,
   "id": "af9e7768-ea1a-431e-948f-f7a2365648c2",
   "metadata": {},
   "outputs": [],
   "source": [
    "# index.fetch(ids=[\"x\"], namespace=\"xyz-namespace\")"
   ]
  },
  {
   "cell_type": "code",
   "execution_count": 43,
   "id": "cac30817-7da6-457b-9d93-15ea496790d9",
   "metadata": {},
   "outputs": [
    {
     "data": {
      "text/plain": [
       "{}"
      ]
     },
     "execution_count": 43,
     "metadata": {},
     "output_type": "execute_result"
    }
   ],
   "source": [
    "index.delete(ids=[\"x\"], namespace=\"xyz-namespace\")"
   ]
  },
  {
   "cell_type": "code",
   "execution_count": 44,
   "id": "b5c95cb8-2269-434d-b40d-70620d71336a",
   "metadata": {},
   "outputs": [
    {
     "data": {
      "text/plain": [
       "{}"
      ]
     },
     "execution_count": 44,
     "metadata": {},
     "output_type": "execute_result"
    }
   ],
   "source": [
    "index.delete(delete_all=True, namespace=\"xyz-namespace\")"
   ]
  },
  {
   "cell_type": "code",
   "execution_count": 45,
   "id": "290335b7-4bed-4358-a974-efe3547d92c8",
   "metadata": {},
   "outputs": [
    {
     "data": {
      "text/plain": [
       "{'dimension': 1536,\n",
       " 'index_fullness': 0.0,\n",
       " 'namespaces': {'': {'vector_count': 5}, 'qp-namespace': {'vector_count': 2}},\n",
       " 'total_vector_count': 7}"
      ]
     },
     "execution_count": 45,
     "metadata": {},
     "output_type": "execute_result"
    }
   ],
   "source": [
    "index.describe_index_stats()"
   ]
  },
  {
   "cell_type": "code",
   "execution_count": null,
   "id": "b9e99384-96f9-4582-a770-9224156f0893",
   "metadata": {},
   "outputs": [],
   "source": []
  }
 ],
 "metadata": {
  "kernelspec": {
   "display_name": "Python 3 (ipykernel)",
   "language": "python",
   "name": "python3"
  },
  "language_info": {
   "codemirror_mode": {
    "name": "ipython",
    "version": 3
   },
   "file_extension": ".py",
   "mimetype": "text/x-python",
   "name": "python",
   "nbconvert_exporter": "python",
   "pygments_lexer": "ipython3",
   "version": "3.11.9"
  }
 },
 "nbformat": 4,
 "nbformat_minor": 5
}
