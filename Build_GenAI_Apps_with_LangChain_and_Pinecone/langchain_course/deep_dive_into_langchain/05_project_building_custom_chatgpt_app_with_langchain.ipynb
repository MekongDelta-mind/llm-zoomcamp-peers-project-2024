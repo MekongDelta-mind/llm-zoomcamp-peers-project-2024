{
 "cells": [
  {
   "cell_type": "markdown",
   "id": "2529b4ee-1e5b-474a-98b2-db30602ca5d4",
   "metadata": {},
   "source": [
    "# Project: Building a Custom ChatGPT App with LangChain from Scratch"
   ]
  },
  {
   "cell_type": "code",
   "execution_count": 1,
   "id": "a3ed721d-255c-4efd-b9aa-9748cfc9be29",
   "metadata": {},
   "outputs": [],
   "source": [
    "%%capture \n",
    "!pip install -r requirements.txt -q"
   ]
  },
  {
   "cell_type": "code",
   "execution_count": 2,
   "id": "614191a5-d6a9-4f5f-b826-eab59423fa11",
   "metadata": {},
   "outputs": [],
   "source": [
    "import os\n",
    "import openai\n",
    "import getpass"
   ]
  },
  {
   "cell_type": "code",
   "execution_count": 3,
   "id": "ea4eb313-ae24-4512-b234-d8dac7b851e3",
   "metadata": {},
   "outputs": [
    {
     "name": "stdin",
     "output_type": "stream",
     "text": [
      "Enter your OPENAI_API_KEY:  ········\n"
     ]
    }
   ],
   "source": [
    "os.environ[\"OPENAI_API_KEY\"] = getpass.getpass(\"Enter your OPENAI_API_KEY: \")"
   ]
  },
  {
   "cell_type": "code",
   "execution_count": 7,
   "id": "94c069bf-0fb5-4c96-8f25-5c7c5ec49ddb",
   "metadata": {},
   "outputs": [],
   "source": [
    "from langchain.chat_models import ChatOpenAI\n",
    "from langchain.schema import SystemMessage\n",
    "from langchain.chains import LLMChain\n",
    "from langchain.prompts import ChatPromptTemplate, HumanMessagePromptTemplate\n",
    "from langchain_core.output_parsers import StrOutputParser"
   ]
  },
  {
   "cell_type": "code",
   "execution_count": 11,
   "id": "d7b0d0ea-80e2-4c58-bd67-e42fa157e3de",
   "metadata": {},
   "outputs": [
    {
     "name": "stdin",
     "output_type": "stream",
     "text": [
      "Your prompt:  Kampala is ...\n"
     ]
    },
    {
     "name": "stdout",
     "output_type": "stream",
     "text": [
      "Kampala is the capital city of Uganda, located in East Africa. It is known for its vibrant culture, diverse population, and beautiful landscapes, including hills and lakes. The city has a rich history and offers a mix of modern and traditional influences, evident in its architecture, markets, and cuisine. Some notable attractions include the Uganda National Museum, Kasubi Tombs, and the bustling local markets. Kampala is also a center for education, commerce, and government in Uganda. Is there anything specific you'd like to know about Kampala?\n",
      "----------------------------------------------------------------------------------------------------\n"
     ]
    },
    {
     "name": "stdin",
     "output_type": "stream",
     "text": [
      "Your prompt:  Tell me about it's history.\n"
     ]
    },
    {
     "name": "stdout",
     "output_type": "stream",
     "text": [
      "Could you please clarify what specific topic or subject you're interested in regarding its history? There are many areas we could explore, such as the history of a particular country, event, invention, or cultural phenomenon. Let me know so I can provide the most relevant information!\n",
      "----------------------------------------------------------------------------------------------------\n"
     ]
    },
    {
     "name": "stdin",
     "output_type": "stream",
     "text": [
      "Your prompt:  exit\n"
     ]
    },
    {
     "name": "stdout",
     "output_type": "stream",
     "text": [
      "Goodbye!\n"
     ]
    }
   ],
   "source": [
    "llm = ChatOpenAI(model_name=\"gpt-4o-mini\", temperature=1)\n",
    "prompt = ChatPromptTemplate(\n",
    "    input_variables=[\"content\"],\n",
    "    messages=[\n",
    "        SystemMessage(content=\"You are chatbot having a conversation with a human.\"),\n",
    "        HumanMessagePromptTemplate.from_template(\"{content}\")\n",
    "    ]\n",
    ")\n",
    "# chain = LLMChain(\n",
    "#     llm=llm,\n",
    "#     prompt=prompt,\n",
    "#     verbose=False\n",
    "# )\n",
    "\n",
    "chain = prompt | llm | StrOutputParser()\n",
    "\n",
    "while True:\n",
    "    content = input(\"Your prompt: \")\n",
    "    if content in [\"quit\", \"exit\", \"bye\"]:\n",
    "        print(\"Goodbye!\")\n",
    "        break\n",
    "\n",
    "    response = chain.invoke({\"content\": content})\n",
    "    print(response)\n",
    "    print(\"-\" * 100)"
   ]
  },
  {
   "cell_type": "markdown",
   "id": "cfe9965c-e6bf-4e35-8949-6cbfd7dc821a",
   "metadata": {},
   "source": [
    "## Adding Chat Memory Using ConversationBufferMemory"
   ]
  },
  {
   "cell_type": "code",
   "execution_count": 19,
   "id": "ee3f7e4e-9064-4a76-b622-da810115a00b",
   "metadata": {},
   "outputs": [],
   "source": [
    "from langchain.chat_models import ChatOpenAI\n",
    "from langchain.schema import SystemMessage\n",
    "from langchain.memory import ConversationBufferMemory\n",
    "from langchain.chains import LLMChain\n",
    "from langchain.prompts import ChatPromptTemplate, HumanMessagePromptTemplate, MessagesPlaceholder\n",
    "from langchain_core.output_parsers import StrOutputParser"
   ]
  },
  {
   "cell_type": "code",
   "execution_count": 24,
   "id": "795ac0b5-c2d6-4039-9e19-c14fe827efad",
   "metadata": {},
   "outputs": [
    {
     "name": "stdin",
     "output_type": "stream",
     "text": [
      "Your prompt:  Paris is ...\n"
     ]
    },
    {
     "name": "stdout",
     "output_type": "stream",
     "text": [
      "Paris is the capital city of France, known for its rich history, art, culture, and fashion. It's home to iconic landmarks like the Eiffel Tower, the Louvre Museum, and Notre-Dame Cathedral. The city is famous for its charming streets, cafes, and vibrant atmosphere, making it a popular destination for tourists from around the world. What specifically would you like to know about Paris?\n",
      "----------------------------------------------------------------------------------------------------\n"
     ]
    },
    {
     "name": "stdin",
     "output_type": "stream",
     "text": [
      "Your prompt:  Tell me about it's history\n"
     ]
    },
    {
     "name": "stdout",
     "output_type": "stream",
     "text": [
      "Paris has a rich and complex history that dates back over 2,000 years. Here are some key points in its historical timeline:\n",
      "\n",
      "1. **Foundation and Roman Era (3rd century BC - 5th century AD)**: The area now known as Paris was originally settled by a Celtic tribe called the Parisii around the 3rd century BC. The Romans conquered the city in 52 BC, calling it Lutetia. Under Roman rule, the city grew in significance, with the construction of baths, an amphitheater, and a forum.\n",
      "\n",
      "2. **Middle Ages (5th century - 15th century)**: After the fall of the Roman Empire, Paris became the capital of the Frankish kingdom. The city was officially declared the capital of France in the early 9th century. By the 12th century, it had become a center for education, with the establishment of the University of Paris. During this period, many iconic structures like Notre-Dame Cathedral began to be constructed.\n",
      "\n",
      "3. **Renaissance (15th century - 17th century)**: The Renaissance brought a flourishing of arts and science in Paris. The city became the cultural center of France, fostering renowned artists, writers, and philosophers. The construction of the Louvre began, which would eventually become a royal palace and later a world-famous museum.\n",
      "\n",
      "4. **The Age of Revolution (18th century)**: The French Revolution, which began in 1789, profoundly impacted Paris. The city was the epicenter of revolutionary activities, leading to the overthrow of the monarchy. Key events, such as the storming of the Bastille, took place here.\n",
      "\n",
      "5. **19th Century Expansion**: Following the revolution, Paris underwent significant urban development, notably under Baron Haussmann in the 1850s and 1860s, which transformed the city's layout with wide boulevards, parks, and modernized infrastructure. This era also saw the rise of artistic movements like Impressionism.\n",
      "\n",
      "6. **World Wars (20th century)**: Paris was occupied by German forces during World War I and World War II. The city's resilience was notable during these challenging times, especially during the Nazi occupation from 1940 to 1944. The Liberation of Paris in August 1944 marked a significant moment in the war.\n",
      "\n",
      "7. **Modern Era (Post-World War II)**: After the war, Paris became a symbol of peace, freedom, and cultural revival. The city has continued to evolve, hosting major international events and becoming a hub for global culture, fashion, and commerce.\n",
      "\n",
      "Today, Paris is known as \"La Ville Lumière\" (the City of Light) and remains a vibrant center for art, philosophy, fashion, and gastronomy. Its historical significance continues to influence contemporary culture both in France and around the world. If you're interested in any specific period or event in Paris's history, feel free to ask!\n",
      "----------------------------------------------------------------------------------------------------\n"
     ]
    },
    {
     "name": "stdin",
     "output_type": "stream",
     "text": [
      "Your prompt:  exit\n"
     ]
    },
    {
     "name": "stdout",
     "output_type": "stream",
     "text": [
      "Goodbye!\n"
     ]
    }
   ],
   "source": [
    "llm = ChatOpenAI(model_name=\"gpt-4o-mini\", temperature=1)\n",
    "memory = ConversationBufferMemory(\n",
    "    memory_key=\"chat_history\",\n",
    "    return_messages=True\n",
    ")\n",
    "\n",
    "prompt = ChatPromptTemplate(\n",
    "    input_variables=[\"content\", \"chat_history\"],\n",
    "    messages=[\n",
    "        SystemMessage(content=\"You are chatbot having a conversation with a human.\"),\n",
    "        MessagesPlaceholder(variable_name=\"chat_history\"), # Where the memory will be stored.\n",
    "        HumanMessagePromptTemplate.from_template(\"{content}\")\n",
    "    ]\n",
    ")\n",
    "\n",
    "# chain = prompt | llm | StrOutputParser()\n",
    "chain = LLMChain(\n",
    "    llm=llm,\n",
    "    prompt=prompt,\n",
    "    memory=memory,\n",
    "    verbose=False\n",
    ")\n",
    "\n",
    "while True:\n",
    "    content = input(\"Your prompt: \")\n",
    "    if content in [\"quit\", \"exit\", \"bye\"]:\n",
    "        print(\"Goodbye!\")\n",
    "        break\n",
    "\n",
    "    response = chain.invoke({\"content\": content})\n",
    "    print(response[\"text\"])\n",
    "    print(\"-\" * 100)"
   ]
  },
  {
   "cell_type": "markdown",
   "id": "eecc1dd6-3fd2-4ac9-a984-927c948b911f",
   "metadata": {},
   "source": [
    "### How to migrate to LangGraph memory\n",
    "\n",
    "- [How to migrate to LangGraph memory](https://python.langchain.com/docs/versions/migrating_memory/)\n",
    "- [Migrating off ConversationBufferWindowMemory or ConversationTokenBufferMemory](https://python.langchain.com/docs/versions/migrating_memory/conversation_buffer_window_memory/)"
   ]
  },
  {
   "cell_type": "markdown",
   "id": "3fddca2b-877f-44e0-ba36-2fd9f803f598",
   "metadata": {},
   "source": [
    "## Saving Chat Sessions"
   ]
  },
  {
   "cell_type": "code",
   "execution_count": 26,
   "id": "56ef321f-6ab7-46a1-b23a-1834208fbf08",
   "metadata": {},
   "outputs": [],
   "source": [
    "from langchain.chat_models import ChatOpenAI\n",
    "from langchain.schema import SystemMessage\n",
    "from langchain.memory import ConversationBufferMemory, FileChatMessageHistory\n",
    "from langchain.chains import LLMChain\n",
    "from langchain.prompts import ChatPromptTemplate, HumanMessagePromptTemplate, MessagesPlaceholder\n",
    "from langchain_core.output_parsers import StrOutputParser"
   ]
  },
  {
   "cell_type": "code",
   "execution_count": 27,
   "id": "d3e74a15-dd58-4767-865e-66c924fbd19c",
   "metadata": {},
   "outputs": [
    {
     "name": "stdin",
     "output_type": "stream",
     "text": [
      "Your prompt:  Earth mass is ...\n"
     ]
    },
    {
     "name": "stdout",
     "output_type": "stream",
     "text": [
      "The mass of Earth is approximately \\(5.97 \\times 10^{24}\\) kilograms. This value is an estimate based on gravitational measurements and observations of Earth's density and structure. If you have any specific questions or need more details, feel free to ask!\n",
      "----------------------------------------------------------------------------------------------------\n"
     ]
    },
    {
     "name": "stdin",
     "output_type": "stream",
     "text": [
      "Your prompt:  What about the Moon and the Sun?\n"
     ]
    },
    {
     "name": "stdout",
     "output_type": "stream",
     "text": [
      "The mass of the Moon is about \\(7.35 \\times 10^{22}\\) kilograms, which is roughly 1/81 of Earth's mass.\n",
      "\n",
      "The mass of the Sun is approximately \\(1.99 \\times 10^{30}\\) kilograms, making it about 333,000 times more massive than Earth. The Sun contains about 99.86% of the total mass of the entire Solar System. If you have more questions or need further information, just let me know!\n",
      "----------------------------------------------------------------------------------------------------\n"
     ]
    },
    {
     "name": "stdin",
     "output_type": "stream",
     "text": [
      "Your prompt:  What are their diameters?\n"
     ]
    },
    {
     "name": "stdout",
     "output_type": "stream",
     "text": [
      "The approximate diameters of Earth, the Moon, and the Sun are as follows:\n",
      "\n",
      "- **Earth**: About 12,742 kilometers (7,918 miles)\n",
      "- **Moon**: About 3,474 kilometers (2,159 miles)\n",
      "- **Sun**: About 1,391,000 kilometers (864,000 miles)\n",
      "\n",
      "If you have any more questions or need additional information, feel free to ask!\n",
      "----------------------------------------------------------------------------------------------------\n"
     ]
    },
    {
     "name": "stdin",
     "output_type": "stream",
     "text": [
      "Your prompt:  What is the gravitional pull on these planets?\n"
     ]
    },
    {
     "name": "stdout",
     "output_type": "stream",
     "text": [
      "The gravitational acceleration at the surface of Earth, the Moon, and the Sun are approximately as follows:\n",
      "\n",
      "- **Earth**: About \\(9.81 \\, \\text{m/s}^2\\)\n",
      "- **Moon**: About \\(1.62 \\, \\text{m/s}^2\\) (approximately 1/6th that of Earth's gravity)\n",
      "- **Sun**: About \\(274 \\, \\text{m/s}^2\\) (which is significantly stronger due to the Sun's massive size)\n",
      "\n",
      "These values represent the gravitational pull experienced at the surfaces of these celestial bodies. If you have more questions or need further clarification, let me know!\n",
      "----------------------------------------------------------------------------------------------------\n"
     ]
    },
    {
     "name": "stdin",
     "output_type": "stream",
     "text": [
      "Your prompt:  What is Newton’s law of gravitation? Write the math and physics equation for Newton’s law of gravitation.\n"
     ]
    },
    {
     "name": "stdout",
     "output_type": "stream",
     "text": [
      "Newton's law of gravitation states that every point mass attracts every other point mass in the universe with a force that is directly proportional to the product of their masses and inversely proportional to the square of the distance between them.\n",
      "\n",
      "The mathematical equation for Newton's law of universal gravitation is:\n",
      "\n",
      "\\[\n",
      "F = G \\frac{{m_1 m_2}}{{r^2}}\n",
      "\\]\n",
      "\n",
      "Where:\n",
      "- \\( F \\) is the gravitational force between the two masses,\n",
      "- \\( G \\) is the gravitational constant, approximately \\( 6.674 \\times 10^{-11} \\, \\text{N m}^2/\\text{kg}^2 \\),\n",
      "- \\( m_1 \\) and \\( m_2 \\) are the masses of the two objects,\n",
      "- \\( r \\) is the distance between the centers of the two masses.\n",
      "\n",
      "This equation shows that the gravitational force decreases as the distance between the masses increases and increases as the mass of either object increases. If you need more details or examples, feel free to ask!\n",
      "----------------------------------------------------------------------------------------------------\n"
     ]
    },
    {
     "name": "stdin",
     "output_type": "stream",
     "text": [
      "Your prompt:  exit\n"
     ]
    },
    {
     "name": "stdout",
     "output_type": "stream",
     "text": [
      "Goodbye!\n"
     ]
    }
   ],
   "source": [
    "llm = ChatOpenAI(model_name=\"gpt-4o-mini\", temperature=1)\n",
    "\n",
    "# 2. Add an additional keyword argument to the ConversationBufferMemory() constructor\n",
    "history = FileChatMessageHistory('chat_history.json')\n",
    "memory = ConversationBufferMemory(\n",
    "    memory_key=\"chat_history\",\n",
    "    chat_memory=history,\n",
    "    return_messages=True\n",
    ")\n",
    "\n",
    "prompt = ChatPromptTemplate(\n",
    "    input_variables=[\"content\", \"chat_history\"],\n",
    "    messages=[\n",
    "        SystemMessage(content=\"You are chatbot having a conversation with a human.\"),\n",
    "        MessagesPlaceholder(variable_name=\"chat_history\"), # Where the memory will be stored.\n",
    "        HumanMessagePromptTemplate.from_template(\"{content}\")\n",
    "    ]\n",
    ")\n",
    "\n",
    "# chain = prompt | llm | StrOutputParser()\n",
    "chain = LLMChain(\n",
    "    llm=llm,\n",
    "    prompt=prompt,\n",
    "    memory=memory,\n",
    "    verbose=False\n",
    ")\n",
    "\n",
    "while True:\n",
    "    content = input(\"Your prompt: \")\n",
    "    if content in [\"quit\", \"exit\", \"bye\"]:\n",
    "        print(\"Goodbye!\")\n",
    "        break\n",
    "\n",
    "    response = chain.invoke({\"content\": content})\n",
    "    print(response[\"text\"])\n",
    "    print(\"-\" * 100)"
   ]
  },
  {
   "cell_type": "code",
   "execution_count": 28,
   "id": "7fd0e8f0-7bf6-4c34-a97f-b5069d061325",
   "metadata": {},
   "outputs": [],
   "source": [
    "from IPython.display import Markdown, display"
   ]
  },
  {
   "cell_type": "code",
   "execution_count": 31,
   "id": "615d991d-2545-488f-aa10-79c91be90c86",
   "metadata": {},
   "outputs": [
    {
     "name": "stdout",
     "output_type": "stream",
     "text": [
      "[HumanMessage(content='Earth mass is ...'), AIMessage(content=\"The mass of Earth is approximately \\\\(5.97 \\\\times 10^{24}\\\\) kilograms. This value is an estimate based on gravitational measurements and observations of Earth's density and structure. If you have any specific questions or need more details, feel free to ask!\"), HumanMessage(content='What about the Moon and the Sun?'), AIMessage(content=\"The mass of the Moon is about \\\\(7.35 \\\\times 10^{22}\\\\) kilograms, which is roughly 1/81 of Earth's mass.\\n\\nThe mass of the Sun is approximately \\\\(1.99 \\\\times 10^{30}\\\\) kilograms, making it about 333,000 times more massive than Earth. The Sun contains about 99.86% of the total mass of the entire Solar System. If you have more questions or need further information, just let me know!\"), HumanMessage(content='What are their diameters?'), AIMessage(content='The approximate diameters of Earth, the Moon, and the Sun are as follows:\\n\\n- **Earth**: About 12,742 kilometers (7,918 miles)\\n- **Moon**: About 3,474 kilometers (2,159 miles)\\n- **Sun**: About 1,391,000 kilometers (864,000 miles)\\n\\nIf you have any more questions or need additional information, feel free to ask!'), HumanMessage(content='What is the gravitional pull on these planets?'), AIMessage(content=\"The gravitational acceleration at the surface of Earth, the Moon, and the Sun are approximately as follows:\\n\\n- **Earth**: About \\\\(9.81 \\\\, \\\\text{m/s}^2\\\\)\\n- **Moon**: About \\\\(1.62 \\\\, \\\\text{m/s}^2\\\\) (approximately 1/6th that of Earth's gravity)\\n- **Sun**: About \\\\(274 \\\\, \\\\text{m/s}^2\\\\) (which is significantly stronger due to the Sun's massive size)\\n\\nThese values represent the gravitational pull experienced at the surfaces of these celestial bodies. If you have more questions or need further clarification, let me know!\"), HumanMessage(content='What is Newton’s law of gravitation? Write the math and physics equation for Newton’s law of gravitation.'), AIMessage(content=\"Newton's law of gravitation states that every point mass attracts every other point mass in the universe with a force that is directly proportional to the product of their masses and inversely proportional to the square of the distance between them.\\n\\nThe mathematical equation for Newton's law of universal gravitation is:\\n\\n\\\\[\\nF = G \\\\frac{{m_1 m_2}}{{r^2}}\\n\\\\]\\n\\nWhere:\\n- \\\\( F \\\\) is the gravitational force between the two masses,\\n- \\\\( G \\\\) is the gravitational constant, approximately \\\\( 6.674 \\\\times 10^{-11} \\\\, \\\\text{N m}^2/\\\\text{kg}^2 \\\\),\\n- \\\\( m_1 \\\\) and \\\\( m_2 \\\\) are the masses of the two objects,\\n- \\\\( r \\\\) is the distance between the centers of the two masses.\\n\\nThis equation shows that the gravitational force decreases as the distance between the masses increases and increases as the mass of either object increases. If you need more details or examples, feel free to ask!\")]\n"
     ]
    }
   ],
   "source": [
    "print(history.messages)"
   ]
  },
  {
   "cell_type": "code",
   "execution_count": null,
   "id": "2fb467ac-7f6a-4538-9abc-7fc421b144c4",
   "metadata": {},
   "outputs": [],
   "source": []
  }
 ],
 "metadata": {
  "kernelspec": {
   "display_name": "Python 3 (ipykernel)",
   "language": "python",
   "name": "python3"
  },
  "language_info": {
   "codemirror_mode": {
    "name": "ipython",
    "version": 3
   },
   "file_extension": ".py",
   "mimetype": "text/x-python",
   "name": "python",
   "nbconvert_exporter": "python",
   "pygments_lexer": "ipython3",
   "version": "3.11.9"
  }
 },
 "nbformat": 4,
 "nbformat_minor": 5
}
