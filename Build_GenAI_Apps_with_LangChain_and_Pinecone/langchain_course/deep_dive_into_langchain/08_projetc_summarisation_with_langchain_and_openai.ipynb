{
 "cells": [
  {
   "cell_type": "markdown",
   "id": "2993e46e-50bc-49b2-b11e-d4ecd080dac0",
   "metadata": {},
   "source": [
    "# Project: Summarization App Using LangChain and OpenAI"
   ]
  },
  {
   "cell_type": "code",
   "execution_count": 2,
   "id": "a8c50d8b-0a4c-44a5-a022-d0c8a1cc497c",
   "metadata": {},
   "outputs": [],
   "source": [
    "%%capture \n",
    "!pip install -r requirements.txt"
   ]
  },
  {
   "cell_type": "code",
   "execution_count": 3,
   "id": "c3bbc8b8-4607-49aa-b2ba-2abd215c347f",
   "metadata": {},
   "outputs": [],
   "source": [
    "import os\n",
    "import openai\n",
    "import getpass"
   ]
  },
  {
   "cell_type": "code",
   "execution_count": 4,
   "id": "9290bb97-6051-4753-b71e-d6968a1df9ba",
   "metadata": {},
   "outputs": [
    {
     "name": "stdin",
     "output_type": "stream",
     "text": [
      "Enter your OPENAI_API_KEY:  ········\n",
      "Enter your PINECONE_API_KEY:  ········\n"
     ]
    }
   ],
   "source": [
    "os.environ[\"OPENAI_API_KEY\"] = getpass.getpass(\"Enter your OPENAI_API_KEY: \")\n",
    "os.environ[\"PINECONE_API_KEY\"] = getpass.getpass(\"Enter your PINECONE_API_KEY: \")"
   ]
  },
  {
   "cell_type": "markdown",
   "id": "73156fba-d2c2-44d3-abcf-597f5fafea6f",
   "metadata": {},
   "source": [
    "## Summarizing Using a Basic Prompt"
   ]
  },
  {
   "cell_type": "code",
   "execution_count": 6,
   "id": "47ec6e85-98f2-49d2-aac8-f09c72ea9728",
   "metadata": {},
   "outputs": [],
   "source": [
    "from langchain_openai import ChatOpenAI\n",
    "from langchain.schema import (\n",
    "    AIMessage,\n",
    "    HumanMessage,\n",
    "    SystemMessage\n",
    ")"
   ]
  },
  {
   "cell_type": "code",
   "execution_count": 7,
   "id": "63e8e034-e7f6-4b34-aa01-fee83b1bd596",
   "metadata": {},
   "outputs": [],
   "source": [
    "text= r\"\"\"\n",
    "Mojo combines the usability of Python with the performance of C, unlocking unparalleled programmability \\\n",
    "of AI hardware and extensibility of AI models.\n",
    "Mojo is a new programming language that bridges the gap between research and production \\ \n",
    "by combining the best of Python syntax with systems programming and metaprogramming.\n",
    "With Mojo, you can write portable code that’s faster than C and seamlessly inter-op with the Python ecosystem.\n",
    "When we started Modular, we had no intention of building a new programming language. \\\n",
    "But as we were building our platform with the intent to unify the world’s ML/AI infrastructure, \\\n",
    "we realized that programming across the entire stack was too complicated. Plus, we were writing a \\\n",
    "lot of MLIR by hand and not having a good time.\n",
    "And although accelerators are important, one of the most prevalent and sometimes overlooked \"accelerators\" \\\n",
    "is the host CPU. Nowadays, CPUs have lots of tensor-core-like accelerator blocks and other AI acceleration \\\n",
    "units, but they also serve as the “fallback” for operations that specialized accelerators don’t handle, \\\n",
    "such as data loading, pre- and post-processing, and integrations with foreign systems. \\\n",
    "\"\"\"\n",
    "\n",
    "messages = [\n",
    "    SystemMessage(content='You are an expert copywriter with expertize in summarizing documents'),\n",
    "    HumanMessage(content=f'Please provide a short and concise summary of the following text:\\n TEXT: {text}')\n",
    "]\n",
    "\n",
    "llm = ChatOpenAI(temperature=0, model_name='gpt-4o-mini')"
   ]
  },
  {
   "cell_type": "code",
   "execution_count": 8,
   "id": "77236159-e0bc-48e7-a133-2ccacd6badce",
   "metadata": {},
   "outputs": [
    {
     "data": {
      "text/plain": [
       "235"
      ]
     },
     "execution_count": 8,
     "metadata": {},
     "output_type": "execute_result"
    }
   ],
   "source": [
    "llm.get_num_tokens(text)"
   ]
  },
  {
   "cell_type": "code",
   "execution_count": 9,
   "id": "e532461c-1589-4acb-8cfa-3cf52c877fda",
   "metadata": {},
   "outputs": [],
   "source": [
    "summary_output = llm.invoke(messages)"
   ]
  },
  {
   "cell_type": "code",
   "execution_count": 11,
   "id": "b30be070-8a55-487e-941b-6b11f52dbb11",
   "metadata": {},
   "outputs": [
    {
     "data": {
      "text/plain": [
       "\"Mojo is a new programming language that merges Python's usability with C's performance, enhancing AI hardware programmability and model extensibility. It aims to simplify the transition from research to production by offering a syntax similar to Python while incorporating systems programming and metaprogramming. Mojo enables the creation of portable, high-speed code that integrates well with the Python ecosystem. The development of Mojo arose from the challenges faced while building a unified ML/AI infrastructure, highlighting the importance of both specialized accelerators and the host CPU in AI operations.\""
      ]
     },
     "execution_count": 11,
     "metadata": {},
     "output_type": "execute_result"
    }
   ],
   "source": [
    "summary_output.content"
   ]
  },
  {
   "cell_type": "markdown",
   "id": "c2d80420-24ed-4d45-83d6-366887cc950f",
   "metadata": {},
   "source": [
    "## Summarizing using Prompt Templates"
   ]
  },
  {
   "cell_type": "code",
   "execution_count": 12,
   "id": "16627d16-af01-4d83-b7f4-b1e4cca43872",
   "metadata": {},
   "outputs": [],
   "source": [
    "from langchain import PromptTemplate\n",
    "from langchain_core.output_parsers import StrOutputParser\n",
    "from langchain_openai import ChatOpenAI"
   ]
  },
  {
   "cell_type": "code",
   "execution_count": 13,
   "id": "b02ea7eb-2ff4-4f11-9bf7-bc71a6e76e64",
   "metadata": {},
   "outputs": [],
   "source": [
    "llm = ChatOpenAI(temperature=0, model_name='gpt-4o-mini')\n",
    "parser = StrOutputParser()\n",
    "\n",
    "template = '''\n",
    "Write a concise and short summary of the following text:\n",
    "TEXT: `{text}`\n",
    "Translate the summary to {language}.\n",
    "'''\n",
    "prompt = PromptTemplate(\n",
    "    input_variables=['text', 'language'],\n",
    "    template=template\n",
    ")\n",
    "chain = prompt | llm | parser"
   ]
  },
  {
   "cell_type": "code",
   "execution_count": 14,
   "id": "648352d9-6301-4443-a886-96fe3d5dff66",
   "metadata": {},
   "outputs": [
    {
     "data": {
      "text/plain": [
       "256"
      ]
     },
     "execution_count": 14,
     "metadata": {},
     "output_type": "execute_result"
    }
   ],
   "source": [
    "llm.get_num_tokens(prompt.format(text=text, language='English'))"
   ]
  },
  {
   "cell_type": "code",
   "execution_count": 15,
   "id": "e7e6db0d-2553-4eb3-9e09-94053eea7d4e",
   "metadata": {},
   "outputs": [],
   "source": [
    "summary = chain.invoke({'text': text, 'language':'English'})"
   ]
  },
  {
   "cell_type": "code",
   "execution_count": 16,
   "id": "4e7a5a54-56b2-4aaa-a5b6-2edc3dd7d823",
   "metadata": {},
   "outputs": [
    {
     "data": {
      "text/plain": [
       "\"Mojo is a new programming language that merges Python's usability with C's performance, enhancing AI hardware programmability and model extensibility. It aims to simplify the complexities of programming across the machine learning and AI infrastructure by offering a syntax similar to Python while enabling high-speed, portable code that integrates well with the Python ecosystem. The development of Mojo arose from the challenges faced while building a unified ML/AI platform, highlighting the importance of both specialized accelerators and the host CPU in AI operations.\""
      ]
     },
     "execution_count": 16,
     "metadata": {},
     "output_type": "execute_result"
    }
   ],
   "source": [
    "summary"
   ]
  },
  {
   "cell_type": "code",
   "execution_count": 17,
   "id": "1910c0d1-5472-455b-b10b-7cdafa43ee04",
   "metadata": {},
   "outputs": [],
   "source": [
    "summary = chain.invoke({'text': text, 'language':'Jamaican patois'})"
   ]
  },
  {
   "cell_type": "code",
   "execution_count": 18,
   "id": "d0378b9a-91bf-4749-8f5e-fcfababe5d63",
   "metadata": {},
   "outputs": [
    {
     "data": {
      "text/plain": [
       "\"**Summary:** Mojo is a new programming language that merges Python's ease of use with C's performance, making it ideal for AI hardware and model extensibility. It allows for fast, portable code that works well within the Python ecosystem. The creators of Mojo aimed to simplify programming across machine learning and AI infrastructure, recognizing the importance of both specialized accelerators and host CPUs in the process.\\n\\n**Jamaican Patois Translation:** Mojo a one new programming language weh mix up Python ease wid C performance, mek it perfect fi AI hardware an model extensibility. It allow yuh fi write fast, portable code weh work good inna di Python ecosystem. Di creators a Mojo did waan fi simplify di programming across machine learnin an AI infrastructure, knowin seh both specialized accelerators an host CPUs important fi di process.\""
      ]
     },
     "execution_count": 18,
     "metadata": {},
     "output_type": "execute_result"
    }
   ],
   "source": [
    "summary"
   ]
  },
  {
   "cell_type": "code",
   "execution_count": 20,
   "id": "c1b3e89d-5e8a-4151-9d35-7be00933ac85",
   "metadata": {},
   "outputs": [],
   "source": [
    "from IPython.display import Markdown, display"
   ]
  },
  {
   "cell_type": "code",
   "execution_count": 21,
   "id": "f0d31e67-9afd-4425-b1aa-4e44a27e4765",
   "metadata": {},
   "outputs": [
    {
     "data": {
      "text/markdown": [
       "**Summary:** Mojo is a new programming language that merges Python's ease of use with C's performance, making it ideal for AI hardware and model extensibility. It allows for fast, portable code that works well within the Python ecosystem. The creators of Mojo aimed to simplify programming across machine learning and AI infrastructure, recognizing the importance of both specialized accelerators and host CPUs in the process.\n",
       "\n",
       "**Jamaican Patois Translation:** Mojo a one new programming language weh mix up Python ease wid C performance, mek it perfect fi AI hardware an model extensibility. It allow yuh fi write fast, portable code weh work good inna di Python ecosystem. Di creators a Mojo did waan fi simplify di programming across machine learnin an AI infrastructure, knowin seh both specialized accelerators an host CPUs important fi di process."
      ],
      "text/plain": [
       "<IPython.core.display.Markdown object>"
      ]
     },
     "metadata": {},
     "output_type": "display_data"
    }
   ],
   "source": [
    "display(Markdown(summary))"
   ]
  },
  {
   "cell_type": "markdown",
   "id": "1cca89a0-a80a-41e7-a611-87d2b588c42d",
   "metadata": {},
   "source": [
    "## Summarizing using StuffDocumentChain"
   ]
  },
  {
   "cell_type": "code",
   "execution_count": 22,
   "id": "97cc02e9-7e58-480f-aec2-3ad44650d105",
   "metadata": {},
   "outputs": [],
   "source": [
    "from langchain import PromptTemplate\n",
    "from langchain_openai import ChatOpenAI\n",
    "from langchain.chains.summarize import load_summarize_chain\n",
    "from langchain.docstore.document import Document"
   ]
  },
  {
   "cell_type": "code",
   "execution_count": 29,
   "id": "d01a901e-7d96-4cd8-a49d-44beae860600",
   "metadata": {},
   "outputs": [],
   "source": [
    "with open(\"files/sj.txt\", encoding=\"utf-8\") as f:\n",
    "    text = f.read()\n",
    "\n",
    "docs = [Document(page_content=text)]\n",
    "llm = ChatOpenAI(temperature=0, model_name='gpt-4o-mini')"
   ]
  },
  {
   "cell_type": "code",
   "execution_count": 30,
   "id": "40344cc9-65fc-48a0-a0fe-267494928c29",
   "metadata": {},
   "outputs": [
    {
     "data": {
      "text/plain": [
       "PromptTemplate(input_variables=['text'], input_types={}, partial_variables={}, template='Write a concise and short summary of the following text.\\nTEXT: `{text}`\\n')"
      ]
     },
     "execution_count": 30,
     "metadata": {},
     "output_type": "execute_result"
    }
   ],
   "source": [
    "template = '''Write a concise and short summary of the following text.\n",
    "TEXT: `{text}`\n",
    "'''\n",
    "prompt = PromptTemplate(\n",
    "    input_variables=['text'],\n",
    "    template=template\n",
    ")\n",
    "prompt"
   ]
  },
  {
   "cell_type": "code",
   "execution_count": 31,
   "id": "75dbfc1f-08cd-4806-89d3-c375689a48ba",
   "metadata": {},
   "outputs": [
    {
     "data": {
      "text/plain": [
       "[Document(metadata={}, page_content='I am honored to be with you today at your commencement from one of the finest universities in the world. I never graduated from college. Truth be told, this is the closest I’ve ever gotten to a college graduation. Today I want to tell you three stories from my life. That’s it. No big deal. Just three stories.\\n\\nThe first story is about connecting the dots.\\n\\nI dropped out of Reed College after the first 6 months, but then stayed around as a drop-in for another 18 months or so before I really quit. So why did I drop out?\\n\\nIt started before I was born. My biological mother was a young, unwed college graduate student, and she decided to put me up for adoption. She felt very strongly that I should be adopted by college graduates, so everything was all set for me to be adopted at birth by a lawyer and his wife. Except that when I popped out they decided at the last minute that they really wanted a girl. So my parents, who were on a waiting list, got a call in the middle of the night asking: “We have an unexpected baby boy; do you want him?” They said: “Of course.” My biological mother later found out that my mother had never graduated from college and that my father had never graduated from high school. She refused to sign the final adoption papers. She only relented a few months later when my parents promised that I would someday go to college.\\n\\nAnd 17 years later I did go to college. But I naively chose a college that was almost as expensive as Stanford, and all of my working-class parents’ savings were being spent on my college tuition. After six months, I couldn’t see the value in it. I had no idea what I wanted to do with my life and no idea how college was going to help me figure it out. And here I was spending all of the money my parents had saved their entire life. So I decided to drop out and trust that it would all work out OK. It was pretty scary at the time, but looking back it was one of the best decisions I ever made. The minute I dropped out I could stop taking the required classes that didn’t interest me, and begin dropping in on the ones that looked interesting.\\n\\nIt wasn’t all romantic. I didn’t have a dorm room, so I slept on the floor in friends’ rooms, I returned Coke bottles for the 5¢ deposits to buy food with, and I would walk the 7 miles across town every Sunday night to get one good meal a week at the Hare Krishna temple. I loved it. And much of what I stumbled into by following my curiosity and intuition turned out to be priceless later on. Let me give you one example:\\n\\nReed College at that time offered perhaps the best calligraphy instruction in the country. Throughout the campus every poster, every label on every drawer, was beautifully hand calligraphed. Because I had dropped out and didn’t have to take the normal classes, I decided to take a calligraphy class to learn how to do this. I learned about serif and sans serif typefaces, about varying the amount of space between different letter combinations, about what makes great typography great. It was beautiful, historical, artistically subtle in a way that science can’t capture, and I found it fascinating.\\n\\nNone of this had even a hope of any practical application in my life. But 10 years later, when we were designing the first Macintosh computer, it all came back to me. And we designed it all into the Mac. It was the first computer with beautiful typography. If I had never dropped in on that single course in college, the Mac would have never had multiple typefaces or proportionally spaced fonts. And since Windows just copied the Mac, it’s likely that no personal computer would have them. If I had never dropped out, I would have never dropped in on this calligraphy class, and personal computers might not have the wonderful typography that they do. Of course it was impossible to connect the dots looking forward when I was in college. But it was very, very clear looking backward 10 years later.\\n\\nAgain, you can’t connect the dots looking forward; you can only connect them looking backward. So you have to trust that the dots will somehow connect in your future. You have to trust in something — your gut, destiny, life, karma, whatever. This approach has never let me down, and it has made all the difference in my life.\\n\\nMy second story is about love and loss.\\n\\nI was lucky — I found what I loved to do early in life. Woz and I started Apple in my parents’ garage when I was 20. We worked hard, and in 10 years Apple had grown from just the two of us in a garage into a $2 billion company with over 4,000 employees. We had just released our finest creation — the Macintosh — a year earlier, and I had just turned 30. And then I got fired. How can you get fired from a company you started? Well, as Apple grew we hired someone who I thought was very talented to run the company with me, and for the first year or so things went well. But then our visions of the future began to diverge and eventually we had a falling out. When we did, our Board of Directors sided with him. So at 30 I was out. And very publicly out. What had been the focus of my entire adult life was gone, and it was devastating.\\n\\nI really didn’t know what to do for a few months. I felt that I had let the previous generation of entrepreneurs down — that I had dropped the baton as it was being passed to me. I met with David Packard and Bob Noyce and tried to apologize for screwing up so badly. I was a very public failure, and I even thought about running away from the valley. But something slowly began to dawn on me — I still loved what I did. The turn of events at Apple had not changed that one bit. I had been rejected, but I was still in love. And so I decided to start over.\\n\\nI didn’t see it then, but it turned out that getting fired from Apple was the best thing that could have ever happened to me. The heaviness of being successful was replaced by the lightness of being a beginner again, less sure about everything. It freed me to enter one of the most creative periods of my life.\\n\\nDuring the next five years, I started a company named NeXT, another company named Pixar, and fell in love with an amazing woman who would become my wife. Pixar went on to create the world’s first computer animated feature film, Toy Story, and is now the most successful animation studio in the world. In a remarkable turn of events, Apple bought NeXT, I returned to Apple, and the technology we developed at NeXT is at the heart of Apple’s current renaissance. And Laurene and I have a wonderful family together.\\n\\nI’m pretty sure none of this would have happened if I hadn’t been fired from Apple. It was awful tasting medicine, but I guess the patient needed it. Sometimes life hits you in the head with a brick. Don’t lose faith. I’m convinced that the only thing that kept me going was that I loved what I did. You’ve got to find what you love. And that is as true for your work as it is for your lovers. Your work is going to fill a large part of your life, and the only way to be truly satisfied is to do what you believe is great work. And the only way to do great work is to love what you do. If you haven’t found it yet, keep looking. Don’t settle. As with all matters of the heart, you’ll know when you find it. And, like any great relationship, it just gets better and better as the years roll on. So keep looking until you find it. Don’t settle.\\n\\nMy third story is about death.\\n\\nWhen I was 17, I read a quote that went something like: “If you live each day as if it was your last, someday you’ll most certainly be right.” It made an impression on me, and since then, for the past 33 years, I have looked in the mirror every morning and asked myself: “If today were the last day of my life, would I want to do what I am about to do today?” And whenever the answer has been “No” for too many days in a row, I know I need to change something.\\n\\nRemembering that I’ll be dead soon is the most important tool I’ve ever encountered to help me make the big choices in life. Because almost everything — all external expectations, all pride, all fear of embarrassment or failure — these things just fall away in the face of death, leaving only what is truly important. Remembering that you are going to die is the best way I know to avoid the trap of thinking you have something to lose. You are already naked. There is no reason not to follow your heart.\\n\\nAbout a year ago I was diagnosed with cancer. I had a scan at 7:30 in the morning, and it clearly showed a tumor on my pancreas. I didn’t even know what a pancreas was. The doctors told me this was almost certainly a type of cancer that is incurable, and that I should expect to live no longer than three to six months. My doctor advised me to go home and get my affairs in order, which is doctor’s code for prepare to die. It means to try to tell your kids everything you thought you’d have the next 10 years to tell them in just a few months. It means to make sure everything is buttoned up so that it will be as easy as possible for your family. It means to say your goodbyes.\\n\\nI lived with that diagnosis all day. Later that evening I had a biopsy, where they stuck an endoscope down my throat, through my stomach and into my intestines, put a needle into my pancreas and got a few cells from the tumor. I was sedated, but my wife, who was there, told me that when they viewed the cells under a microscope the doctors started crying because it turned out to be a very rare form of pancreatic cancer that is curable with surgery. I had the surgery and I’m fine now.\\n\\nThis was the closest I’ve been to facing death, and I hope it’s the closest I get for a few more decades. Having lived through it, I can now say this to you with a bit more certainty than when death was a useful but purely intellectual concept:\\n\\nNo one wants to die. Even people who want to go to heaven don’t want to die to get there. And yet death is the destination we all share. No one has ever escaped it. And that is as it should be, because Death is very likely the single best invention of Life. It is Life’s change agent. It clears out the old to make way for the new. Right now the new is you, but someday not too long from now, you will gradually become the old and be cleared away. Sorry to be so dramatic, but it is quite true.\\n\\nYour time is limited, so don’t waste it living someone else’s life. Don’t be trapped by dogma — which is living with the results of other people’s thinking. Don’t let the noise of others’ opinions drown out your own inner voice. And most important, have the courage to follow your heart and intuition. They somehow already know what you truly want to become. Everything else is secondary.\\n\\nWhen I was young, there was an amazing publication called The Whole Earth Catalog, which was one of the bibles of my generation. It was created by a fellow named Stewart Brand not far from here in Menlo Park, and he brought it to life with his poetic touch. This was in the late 1960s, before personal computers and desktop publishing, so it was all made with typewriters, scissors and Polaroid cameras. It was sort of like Google in paperback form, 35 years before Google came along: It was idealistic, and overflowing with neat tools and great notions.\\n\\nStewart and his team put out several issues of The Whole Earth Catalog, and then when it had run its course, they put out a final issue. It was the mid-1970s, and I was your age. On the back cover of their final issue was a photograph of an early morning country road, the kind you might find yourself hitchhiking on if you were so adventurous. Beneath it were the words: “Stay Hungry. Stay Foolish.” It was their farewell message as they signed off. Stay Hungry. Stay Foolish. And I have always wished that for myself. And now, as you graduate to begin anew, I wish that for you.\\n\\nStay Hungry. Stay Foolish.\\n\\nThank you all very much.\\n')]"
      ]
     },
     "execution_count": 31,
     "metadata": {},
     "output_type": "execute_result"
    }
   ],
   "source": [
    "docs"
   ]
  },
  {
   "cell_type": "code",
   "execution_count": 32,
   "id": "5c23a153-0ecb-4429-836d-8f0079f48be5",
   "metadata": {},
   "outputs": [],
   "source": [
    "chain = load_summarize_chain(\n",
    "    llm,\n",
    "    chain_type='stuff',\n",
    "    prompt=prompt,\n",
    "    verbose=False\n",
    ")\n",
    "output_summary = chain.invoke(docs)"
   ]
  },
  {
   "cell_type": "code",
   "execution_count": 33,
   "id": "a89037aa-69b5-4119-894f-40661343737d",
   "metadata": {},
   "outputs": [
    {
     "data": {
      "text/markdown": [
       "In a commencement speech, the speaker shares three personal stories that highlight key life lessons. The first story emphasizes the importance of trusting one's intuition and the ability to connect past experiences to future success, illustrated by his decision to drop out of college and later apply his calligraphy skills to the Macintosh computer. The second story reflects on love and loss, detailing how being fired from Apple led to a creative resurgence, resulting in the founding of NeXT and Pixar. The third story addresses the inevitability of death, urging graduates to live authentically and follow their passions. He concludes with the advice to \"Stay Hungry. Stay Foolish,\" encouraging a lifelong pursuit of curiosity and innovation."
      ],
      "text/plain": [
       "<IPython.core.display.Markdown object>"
      ]
     },
     "metadata": {},
     "output_type": "display_data"
    }
   ],
   "source": [
    "display(Markdown(output_summary[\"output_text\"]))"
   ]
  },
  {
   "cell_type": "markdown",
   "id": "b018f156-2515-4be1-a60f-ad7d69001a99",
   "metadata": {},
   "source": [
    "## Summarizing Large Documents using map_reduce"
   ]
  },
  {
   "cell_type": "code",
   "execution_count": 34,
   "id": "d16aac5f-b892-4ab3-b8b3-41d331c06a59",
   "metadata": {},
   "outputs": [],
   "source": [
    "from langchain import PromptTemplate\n",
    "from langchain_openai import ChatOpenAI\n",
    "from langchain.chains.summarize import load_summarize_chain\n",
    "from langchain.text_splitter import RecursiveCharacterTextSplitter"
   ]
  },
  {
   "cell_type": "code",
   "execution_count": 80,
   "id": "b4192892-efd6-463c-9696-61429795f1d8",
   "metadata": {},
   "outputs": [],
   "source": [
    "llm = ChatOpenAI(temperature=0, model_name='gpt-4o-mini')\n",
    "\n",
    "with open('files/sj.txt', encoding='utf-8') as f:\n",
    "    text = f.read()"
   ]
  },
  {
   "cell_type": "code",
   "execution_count": 81,
   "id": "3c50ef32-d660-4a06-a7ea-eb0e70302ea9",
   "metadata": {},
   "outputs": [
    {
     "data": {
      "text/plain": [
       "2643"
      ]
     },
     "execution_count": 81,
     "metadata": {},
     "output_type": "execute_result"
    }
   ],
   "source": [
    "llm.get_num_tokens(text)"
   ]
  },
  {
   "cell_type": "code",
   "execution_count": 82,
   "id": "ecac5242-aa5a-427c-a819-5efceda54219",
   "metadata": {},
   "outputs": [],
   "source": [
    "text_splitter = RecursiveCharacterTextSplitter(chunk_size=10000, chunk_overlap=50)\n",
    "chunks = text_splitter.create_documents([text])"
   ]
  },
  {
   "cell_type": "code",
   "execution_count": 83,
   "id": "2a58d6fb-bb4a-48a2-8cd3-9f94ea56d359",
   "metadata": {},
   "outputs": [
    {
     "data": {
      "text/plain": [
       "2"
      ]
     },
     "execution_count": 83,
     "metadata": {},
     "output_type": "execute_result"
    }
   ],
   "source": [
    "len(chunks)"
   ]
  },
  {
   "cell_type": "code",
   "execution_count": 84,
   "id": "bfe58331-fffd-41ba-b1e9-a689785d132a",
   "metadata": {},
   "outputs": [
    {
     "data": {
      "text/plain": [
       "Document(metadata={}, page_content='No one wants to die. Even people who want to go to heaven don’t want to die to get there. And yet death is the destination we all share. No one has ever escaped it. And that is as it should be, because Death is very likely the single best invention of Life. It is Life’s change agent. It clears out the old to make way for the new. Right now the new is you, but someday not too long from now, you will gradually become the old and be cleared away. Sorry to be so dramatic, but it is quite true.\\n\\nYour time is limited, so don’t waste it living someone else’s life. Don’t be trapped by dogma — which is living with the results of other people’s thinking. Don’t let the noise of others’ opinions drown out your own inner voice. And most important, have the courage to follow your heart and intuition. They somehow already know what you truly want to become. Everything else is secondary.\\n\\nWhen I was young, there was an amazing publication called The Whole Earth Catalog, which was one of the bibles of my generation. It was created by a fellow named Stewart Brand not far from here in Menlo Park, and he brought it to life with his poetic touch. This was in the late 1960s, before personal computers and desktop publishing, so it was all made with typewriters, scissors and Polaroid cameras. It was sort of like Google in paperback form, 35 years before Google came along: It was idealistic, and overflowing with neat tools and great notions.\\n\\nStewart and his team put out several issues of The Whole Earth Catalog, and then when it had run its course, they put out a final issue. It was the mid-1970s, and I was your age. On the back cover of their final issue was a photograph of an early morning country road, the kind you might find yourself hitchhiking on if you were so adventurous. Beneath it were the words: “Stay Hungry. Stay Foolish.” It was their farewell message as they signed off. Stay Hungry. Stay Foolish. And I have always wished that for myself. And now, as you graduate to begin anew, I wish that for you.\\n\\nStay Hungry. Stay Foolish.\\n\\nThank you all very much.')"
      ]
     },
     "execution_count": 84,
     "metadata": {},
     "output_type": "execute_result"
    }
   ],
   "source": [
    "chunks[-1]"
   ]
  },
  {
   "cell_type": "code",
   "execution_count": 85,
   "id": "4d2fdcc7-884b-40b6-a27e-0536bc77a147",
   "metadata": {},
   "outputs": [],
   "source": [
    "chain = load_summarize_chain(\n",
    "    llm,\n",
    "    chain_type='map_reduce',\n",
    "    verbose=False\n",
    ")\n",
    "output_summary = chain.invoke(chunks)"
   ]
  },
  {
   "cell_type": "code",
   "execution_count": 86,
   "id": "21c15905-93b0-4341-a30e-b123d19e24f6",
   "metadata": {},
   "outputs": [
    {
     "data": {
      "text/markdown": [
       "In his commencement speech, Steve Jobs shares three personal stories that convey essential life lessons. He emphasizes trusting intuition and connecting past experiences, illustrated by his decision to drop out of college and take a calligraphy class, which later influenced Macintosh design. He reflects on love and loss through his firing from Apple, which led to new ventures and ultimately his return to the company. Lastly, he discusses the inevitability of death, prompted by his cancer diagnosis, which encouraged him to prioritize what truly matters. Jobs urges graduates to pursue their passions and live authentically, echoing the message of \"Stay Hungry. Stay Foolish\" to inspire curiosity and boldness in their journeys."
      ],
      "text/plain": [
       "<IPython.core.display.Markdown object>"
      ]
     },
     "metadata": {},
     "output_type": "display_data"
    }
   ],
   "source": [
    "display(Markdown(output_summary[\"output_text\"]))"
   ]
  },
  {
   "cell_type": "code",
   "execution_count": 87,
   "id": "7930744c-5174-4f33-8d19-55443cfbbf8c",
   "metadata": {},
   "outputs": [
    {
     "data": {
      "text/plain": [
       "8220"
      ]
     },
     "execution_count": 87,
     "metadata": {},
     "output_type": "execute_result"
    }
   ],
   "source": [
    "with open('files/state_of_the_union.txt', encoding='utf-8') as f:\n",
    "    text = f.read()\n",
    "\n",
    "llm.get_num_tokens(text)"
   ]
  },
  {
   "cell_type": "code",
   "execution_count": 88,
   "id": "b7d4e6f4-8c93-407e-8b40-f424450a44f2",
   "metadata": {},
   "outputs": [
    {
     "data": {
      "text/plain": [
       "4"
      ]
     },
     "execution_count": 88,
     "metadata": {},
     "output_type": "execute_result"
    }
   ],
   "source": [
    "text_splitter = RecursiveCharacterTextSplitter(chunk_size=10000, chunk_overlap=50)\n",
    "chunks = text_splitter.create_documents([text])\n",
    "len(chunks)"
   ]
  },
  {
   "cell_type": "code",
   "execution_count": 56,
   "id": "3120d0e4-7d42-4786-a508-2d906fdb44fe",
   "metadata": {},
   "outputs": [],
   "source": [
    "chain = load_summarize_chain(\n",
    "    llm,\n",
    "    chain_type='map_reduce',\n",
    "    verbose=False\n",
    ")\n",
    "output_summary = chain.invoke(chunks)"
   ]
  },
  {
   "cell_type": "code",
   "execution_count": 57,
   "id": "a0b70b57-a733-4751-b130-8cac42380fad",
   "metadata": {},
   "outputs": [
    {
     "data": {
      "text/markdown": [
       "In a recent address, the President called for unity among Americans in response to global challenges, particularly the conflict in Ukraine, where he condemned Russian aggression and highlighted U.S. support for Ukraine. He discussed domestic issues, including economic recovery, job creation, and the need for infrastructure investment to compete globally, particularly against China. The Bipartisan Infrastructure Law aims to modernize infrastructure and promote domestic manufacturing. The President also outlined measures to combat inflation, improve healthcare, and support small businesses, while emphasizing the importance of voting rights and bipartisan cooperation on issues like police funding and gun control. Additionally, he honored retiring Supreme Court Justice Stephen Breyer and nominated Judge Ketanji Brown Jackson as his successor. A speaker advocating for immigration reform and women's rights emphasized a \"Unity Agenda\" focused on mental health, veterans' support, and cancer research, expressing optimism about America's resilience."
      ],
      "text/plain": [
       "<IPython.core.display.Markdown object>"
      ]
     },
     "metadata": {},
     "output_type": "display_data"
    }
   ],
   "source": [
    "display(Markdown(output_summary[\"output_text\"]))"
   ]
  },
  {
   "cell_type": "code",
   "execution_count": 58,
   "id": "cbc3db54-8876-4587-95f7-1737e07a0ea0",
   "metadata": {},
   "outputs": [],
   "source": [
    "from langchain_community.document_loaders import PyPDFLoader\n",
    "from langchain.text_splitter import RecursiveCharacterTextSplitter"
   ]
  },
  {
   "cell_type": "code",
   "execution_count": 89,
   "id": "5ddfa0a0-c1f8-4205-a5f3-91a76de5a7c3",
   "metadata": {},
   "outputs": [],
   "source": [
    "file = \"files/attention_is_all_you_need.pdf\"\n",
    "loader = PyPDFLoader(file)\n",
    "data = loader.load()\n",
    "# data"
   ]
  },
  {
   "cell_type": "code",
   "execution_count": 62,
   "id": "dbc2b2ff-223e-4f6c-a1ab-2838af186d45",
   "metadata": {},
   "outputs": [
    {
     "data": {
      "text/plain": [
       "15"
      ]
     },
     "execution_count": 62,
     "metadata": {},
     "output_type": "execute_result"
    }
   ],
   "source": [
    "len(data)"
   ]
  },
  {
   "cell_type": "code",
   "execution_count": 90,
   "id": "d8ea6f18-b088-4362-9994-baa565fe5834",
   "metadata": {},
   "outputs": [
    {
     "data": {
      "text/plain": [
       "15"
      ]
     },
     "execution_count": 90,
     "metadata": {},
     "output_type": "execute_result"
    }
   ],
   "source": [
    "text_splitter = RecursiveCharacterTextSplitter(chunk_size=10000, chunk_overlap=50)\n",
    "pdf_chunks = text_splitter.split_documents(data)\n",
    "len(pdf_chunks)"
   ]
  },
  {
   "cell_type": "code",
   "execution_count": 91,
   "id": "2a3724f0-74e1-4817-adbe-d7ccea3ad16f",
   "metadata": {},
   "outputs": [],
   "source": [
    "chain = load_summarize_chain(\n",
    "    llm,\n",
    "    chain_type='map_reduce',\n",
    "    verbose=False\n",
    ")\n",
    "output_summary = chain.invoke(pdf_chunks)"
   ]
  },
  {
   "cell_type": "code",
   "execution_count": 92,
   "id": "6351929a-3b49-4986-b0a9-51b5cd853f32",
   "metadata": {},
   "outputs": [
    {
     "data": {
      "text/markdown": [
       "The paper \"Attention Is All You Need\" presents the Transformer, a groundbreaking neural network architecture that utilizes only attention mechanisms, eliminating the need for recurrent and convolutional layers. This design enhances parallelization and reduces training time, leading to superior performance in machine translation, achieving BLEU scores of 28.4 for English-to-German and 41.8 for English-to-French, surpassing previous models. The Transformer consists of an encoder and decoder with stacked self-attention and feed-forward layers, employing techniques like multi-head attention and positional encoding to effectively model dependencies and handle long-range sequences. The architecture demonstrates strong generalization across various tasks, including constituency parsing, and sets new benchmarks in translation efficiency. The study also explores variations in model configurations and their impact on performance, highlighting the potential for future research in applying attention mechanisms to other modalities."
      ],
      "text/plain": [
       "<IPython.core.display.Markdown object>"
      ]
     },
     "metadata": {},
     "output_type": "display_data"
    }
   ],
   "source": [
    "display(Markdown(output_summary[\"output_text\"]))"
   ]
  },
  {
   "cell_type": "code",
   "execution_count": 69,
   "id": "afc2a581-dd99-481b-a8f0-5491c56833f6",
   "metadata": {},
   "outputs": [
    {
     "data": {
      "text/markdown": [
       "Write a concise summary of the following:\n",
       "\n",
       "\n",
       "\"{text}\"\n",
       "\n",
       "\n",
       "CONCISE SUMMARY:"
      ],
      "text/plain": [
       "<IPython.core.display.Markdown object>"
      ]
     },
     "metadata": {},
     "output_type": "display_data"
    }
   ],
   "source": [
    "display(Markdown(chain.llm_chain.prompt.template))"
   ]
  },
  {
   "cell_type": "code",
   "execution_count": 70,
   "id": "d8ef038b-7839-43f7-b1b1-d5a51eb36231",
   "metadata": {},
   "outputs": [
    {
     "data": {
      "text/markdown": [
       "Write a concise summary of the following:\n",
       "\n",
       "\n",
       "\"{text}\"\n",
       "\n",
       "\n",
       "CONCISE SUMMARY:"
      ],
      "text/plain": [
       "<IPython.core.display.Markdown object>"
      ]
     },
     "metadata": {},
     "output_type": "display_data"
    }
   ],
   "source": [
    "display(Markdown(chain.combine_document_chain.llm_chain.prompt.template))"
   ]
  },
  {
   "cell_type": "markdown",
   "id": "6a9be1fd-6735-42c0-9778-eae0ad3c0920",
   "metadata": {},
   "source": [
    "### map_reduce with Custom Prompts"
   ]
  },
  {
   "cell_type": "code",
   "execution_count": 71,
   "id": "3d9ee12c-81d5-40e1-a340-a443fd66de87",
   "metadata": {},
   "outputs": [],
   "source": [
    "map_prompt = '''\n",
    "Write a short and concise summary of the following:\n",
    "Text: `{text}`\n",
    "CONCISE SUMMARY:\n",
    "'''\n",
    "map_prompt_template = PromptTemplate(\n",
    "    input_variables=['text'],\n",
    "    template=map_prompt\n",
    ")"
   ]
  },
  {
   "cell_type": "code",
   "execution_count": 72,
   "id": "369b077a-9a9f-41fe-a579-02396436da1c",
   "metadata": {},
   "outputs": [],
   "source": [
    "combine_prompt = '''\n",
    "Write a concise summary of the following text that covers the key points.\n",
    "Add a title to the summary.\n",
    "Start your summary with an INTRODUCTION PARAGRAPH that gives an overview of the topic FOLLOWED\n",
    "by BULLET POINTS if possible AND end the summary with a CONCLUSION PHRASE.\n",
    "Text: `{text}`\n",
    "'''\n",
    "combine_prompt_template = PromptTemplate(template=combine_prompt, input_variables=['text'])"
   ]
  },
  {
   "cell_type": "code",
   "execution_count": 76,
   "id": "7b7f3802-cf57-4627-911d-c495b05d7c70",
   "metadata": {},
   "outputs": [],
   "source": [
    "summary_chain = load_summarize_chain(\n",
    "    llm=llm,\n",
    "    chain_type='map_reduce',\n",
    "    map_prompt=map_prompt_template,\n",
    "    combine_prompt=combine_prompt_template,\n",
    "    verbose=False\n",
    ")\n",
    "output = summary_chain.invoke(chunks)"
   ]
  },
  {
   "cell_type": "code",
   "execution_count": 77,
   "id": "7edf9d52-1c3a-4f11-b108-d026f5742a2d",
   "metadata": {},
   "outputs": [
    {
     "data": {
      "text/markdown": [
       "### Summary of Recent Address on Unity and Progress\n",
       "\n",
       "In a recent address, the speaker called for unity among Americans while addressing both international and domestic challenges. They condemned Russia's aggression in Ukraine, praised the resilience of the Ukrainian people, and reaffirmed U.S. support through sanctions and military aid. The speaker also discussed the impact of the COVID-19 pandemic and outlined a vision for economic revitalization focused on the middle class and infrastructure investment.\n",
       "\n",
       "- **International Focus:**\n",
       "  - Condemnation of Russia's actions under Putin.\n",
       "  - Support for Ukraine through economic sanctions and military assistance.\n",
       "  \n",
       "- **Domestic Issues:**\n",
       "  - Reflection on the COVID-19 pandemic and the American Rescue Plan.\n",
       "  - Advocacy for a new economic vision prioritizing middle-class investment and infrastructure.\n",
       "  \n",
       "- **Infrastructure Investment:**\n",
       "  - U.S. infrastructure ranked 13th globally; need for modernization.\n",
       "  - Bipartisan Infrastructure Law aims to create jobs and address climate change.\n",
       "  - Key initiatives include electric vehicle charging stations, lead pipe replacement, and high-speed internet expansion.\n",
       "  \n",
       "- **Economic Measures:**\n",
       "  - Proposals to lower costs for prescription drugs, energy, and childcare.\n",
       "  - Emphasis on fair taxation for corporations and the wealthy.\n",
       "  - Significant deficit reduction, with over a trillion dollars cut in one year.\n",
       "  \n",
       "- **Social Issues:**\n",
       "  - Plans to improve nursing home standards, raise the minimum wage, and support workers.\n",
       "  - Call for immigration reform, women's rights, and LGBTQ+ rights.\n",
       "  - Unity Agenda focusing on the opioid epidemic, mental health services, veterans' support, and cancer research.\n",
       "\n",
       "In conclusion, the speaker's address emphasized the importance of unity in overcoming challenges, both at home and abroad, while advocating for policies that promote economic equity and social justice."
      ],
      "text/plain": [
       "<IPython.core.display.Markdown object>"
      ]
     },
     "metadata": {},
     "output_type": "display_data"
    }
   ],
   "source": [
    "display(Markdown(output[\"output_text\"]))"
   ]
  },
  {
   "cell_type": "code",
   "execution_count": 78,
   "id": "f9686a0a-3e5d-43de-a78f-479417d85d70",
   "metadata": {},
   "outputs": [],
   "source": [
    "output = summary_chain.invoke(pdf_chunks)"
   ]
  },
  {
   "cell_type": "code",
   "execution_count": 79,
   "id": "c699d0f0-7c94-41e6-892f-c0630f41e572",
   "metadata": {},
   "outputs": [
    {
     "data": {
      "text/markdown": [
       "### Summary of \"Attention Is All You Need\"\n",
       "\n",
       "The paper \"Attention Is All You Need\" presents the Transformer, a groundbreaking neural network architecture that utilizes attention mechanisms exclusively, eliminating the need for recurrent and convolutional layers. This innovation leads to enhanced performance in machine translation tasks, showcasing significant improvements in efficiency and translation quality.\n",
       "\n",
       "- **Introduction of the Transformer**: \n",
       "  - A novel architecture that relies solely on attention mechanisms.\n",
       "  - Achieves state-of-the-art BLEU scores: 28.4 (English-to-German) and 41.8 (English-to-French).\n",
       "  - More parallelizable and requires less training time than previous models.\n",
       "\n",
       "- **Architecture Overview**:\n",
       "  - Comprises an encoder and decoder, each with six identical layers.\n",
       "  - Utilizes multi-head self-attention and position-wise feed-forward networks.\n",
       "  - Incorporates residual connections and layer normalization for improved performance.\n",
       "\n",
       "- **Attention Mechanisms**:\n",
       "  - Scaled Dot-Product Attention and Multi-Head Attention are key components.\n",
       "  - Multi-Head Attention allows simultaneous focus on various representation subspaces.\n",
       "\n",
       "- **Efficiency and Performance**:\n",
       "  - Self-attention layers are more efficient than recurrent layers, especially for shorter sequences.\n",
       "  - The Transformer model outperforms traditional models in translation tasks with reduced training costs.\n",
       "\n",
       "- **Model Variations and Generalization**:\n",
       "  - Different configurations of the Transformer show competitive performance in various tasks, including constituency parsing.\n",
       "  - Future research aims to extend attention-based models to other domains like images and audio.\n",
       "\n",
       "- **Training and Optimization**:\n",
       "  - Utilizes the Adam optimizer and various regularization techniques.\n",
       "  - Highlights the importance of hyperparameter tuning for optimal results.\n",
       "\n",
       "In conclusion, the Transformer architecture represents a significant advancement in neural network design, particularly for language processing tasks, demonstrating strong performance and efficiency that could influence future research and applications in various fields."
      ],
      "text/plain": [
       "<IPython.core.display.Markdown object>"
      ]
     },
     "metadata": {},
     "output_type": "display_data"
    }
   ],
   "source": [
    "display(Markdown(output[\"output_text\"]))"
   ]
  },
  {
   "cell_type": "markdown",
   "id": "02694844-8f9c-4a9e-887a-c9d979a1aa00",
   "metadata": {},
   "source": [
    "## Summarizing Using the refine CombineDocumentChain"
   ]
  },
  {
   "cell_type": "code",
   "execution_count": 93,
   "id": "89250d0b-510c-4a32-83a6-e484ca13ad2e",
   "metadata": {},
   "outputs": [],
   "source": [
    "from langchain_openai import ChatOpenAI\n",
    "from langchain import PromptTemplate\n",
    "from langchain.chains.summarize import load_summarize_chain\n",
    "from langchain.text_splitter import RecursiveCharacterTextSplitter\n",
    "from langchain_community.document_loaders import PyPDFLoader"
   ]
  },
  {
   "cell_type": "code",
   "execution_count": 96,
   "id": "f71293e7-23a8-4253-a94f-25ff5afb3519",
   "metadata": {},
   "outputs": [],
   "source": [
    "file = \"files/attention_is_all_you_need.pdf\"\n",
    "loader = PyPDFLoader(file)\n",
    "pdf_data = loader.load()"
   ]
  },
  {
   "cell_type": "code",
   "execution_count": 123,
   "id": "3bd6cb88-9c05-4ff8-b677-35a5d2dc94af",
   "metadata": {},
   "outputs": [
    {
     "data": {
      "text/markdown": [
       "Attention Is All You Need\n",
       "Ashish Vaswani∗\n",
       "Google Brain\n",
       "avaswani@google.com\n",
       "Noam Shazeer∗\n",
       "Google Brain\n",
       "noam@google.com\n",
       "Niki Parmar∗\n",
       "Google Research\n",
       "nikip@google.com\n",
       "Jakob Uszkoreit∗\n",
       "Google Research\n",
       "usz@google.com\n",
       "Llion Jones∗\n",
       "Google Research\n",
       "llion@google.com\n",
       "Aidan N. Gomez∗†\n",
       "University of Toronto\n",
       "aidan@cs.toronto.edu\n",
       "Łukasz Kaiser ∗\n",
       "Google Brain\n",
       "lukaszkaiser@google.com\n",
       "Illia Polosukhin∗‡\n",
       "illia.polosukhin@gmail.com\n",
       "Abstract\n",
       "The dominant sequence transduction models are based on complex recurrent or\n",
       "convolutional neural networks that include an encoder and a decoder. The best\n",
       "performing models also connect the encoder and decoder through an attention\n",
       "mechanism. We propose a new simple network architecture, the Transformer,\n",
       "based solely on attention mechanisms, dispensing with recurrence and convolutions\n",
       "entirely. Experiments on two machine translation tasks show these models to\n",
       "be superior in quality while being more parallelizable and requiring signiﬁcantly\n",
       "less time to train. Our model achieves 28.4 BLEU on the WMT 2014 English-\n",
       "to-German translation task, improving over the existing best results, including\n",
       "ensembles, by over 2 BLEU. On the WMT 2014 English-to-French translation task,\n",
       "our model establishes a new single-model state-of-the-art BLEU score of 41.8 after\n",
       "training for 3.5 days on eight GPUs, a small fraction of the training costs of the\n",
       "best models from the literature. We show that the Transformer generalizes well to\n",
       "other tasks by applying it successfully to English constituency parsing both with\n",
       "large and limited training data.\n",
       "1 Introduction\n",
       "Recurrent neural networks, long short-term memory [13] and gated recurrent [7] neural networks\n",
       "in particular, have been ﬁrmly established as state of the art approaches in sequence modeling and\n",
       "∗Equal contribution. Listing order is random. Jakob proposed replacing RNNs with self-attention and started\n",
       "the effort to evaluate this idea. Ashish, with Illia, designed and implemented the ﬁrst Transformer models and\n",
       "has been crucially involved in every aspect of this work. Noam proposed scaled dot-product attention, multi-head\n",
       "attention and the parameter-free position representation and became the other person involved in nearly every\n",
       "detail. Niki designed, implemented, tuned and evaluated countless model variants in our original codebase and\n",
       "tensor2tensor. Llion also experimented with novel model variants, was responsible for our initial codebase, and\n",
       "efﬁcient inference and visualizations. Lukasz and Aidan spent countless long days designing various parts of and\n",
       "implementing tensor2tensor, replacing our earlier codebase, greatly improving results and massively accelerating\n",
       "our research.\n",
       "†Work performed while at Google Brain.\n",
       "‡Work performed while at Google Research.\n",
       "31st Conference on Neural Information Processing Systems (NIPS 2017), Long Beach, CA, USA.\n",
       "arXiv:1706.03762v5  [cs.CL]  6 Dec 2017"
      ],
      "text/plain": [
       "<IPython.core.display.Markdown object>"
      ]
     },
     "metadata": {},
     "output_type": "display_data"
    }
   ],
   "source": [
    "display(Markdown(pdf_data[0].page_content))"
   ]
  },
  {
   "cell_type": "code",
   "execution_count": 98,
   "id": "89160cd2-4fad-47e4-be13-03c87f8b8784",
   "metadata": {},
   "outputs": [
    {
     "data": {
      "text/plain": [
       "15"
      ]
     },
     "execution_count": 98,
     "metadata": {},
     "output_type": "execute_result"
    }
   ],
   "source": [
    "text_splitter = RecursiveCharacterTextSplitter(chunk_size=10000, chunk_overlap=100)\n",
    "pdf_chunks = text_splitter.split_documents(pdf_data)\n",
    "len(pdf_chunks)"
   ]
  },
  {
   "cell_type": "code",
   "execution_count": 124,
   "id": "b97aa578-74a7-4d1d-82cd-7371efd62d58",
   "metadata": {},
   "outputs": [],
   "source": [
    "def print_embedding_cost(texts):\n",
    "    import tiktoken\n",
    "    enc = tiktoken.encoding_for_model('text-embedding-3-small')\n",
    "    total_tokens = sum([len(enc.encode(page.page_content)) for page in texts])\n",
    "    print(f'Total Tokens: {total_tokens}')\n",
    "    print(f'Embedding Cost in USD: {total_tokens / 1000 * 0.00002:.6f}')"
   ]
  },
  {
   "cell_type": "code",
   "execution_count": 125,
   "id": "6dddbba1-7db7-478b-86c8-21a6aff42433",
   "metadata": {},
   "outputs": [
    {
     "name": "stdout",
     "output_type": "stream",
     "text": [
      "Total Tokens: 10235\n",
      "Embedding Cost in USD: 0.000205\n"
     ]
    }
   ],
   "source": [
    "print_embedding_cost(pdf_chunks)"
   ]
  },
  {
   "cell_type": "code",
   "execution_count": 100,
   "id": "c9c6cc89-aa03-4a07-8a99-027f68a1c812",
   "metadata": {},
   "outputs": [
    {
     "name": "stdout",
     "output_type": "stream",
     "text": [
      "\n",
      "\n",
      "\u001b[1m> Entering new RefineDocumentsChain chain...\u001b[0m\n",
      "\n",
      "\n",
      "\u001b[1m> Entering new LLMChain chain...\u001b[0m\n",
      "Prompt after formatting:\n",
      "\u001b[32;1m\u001b[1;3mWrite a concise summary of the following:\n",
      "\n",
      "\n",
      "\"Attention Is All You Need\n",
      "Ashish Vaswani∗\n",
      "Google Brain\n",
      "avaswani@google.com\n",
      "Noam Shazeer∗\n",
      "Google Brain\n",
      "noam@google.com\n",
      "Niki Parmar∗\n",
      "Google Research\n",
      "nikip@google.com\n",
      "Jakob Uszkoreit∗\n",
      "Google Research\n",
      "usz@google.com\n",
      "Llion Jones∗\n",
      "Google Research\n",
      "llion@google.com\n",
      "Aidan N. Gomez∗†\n",
      "University of Toronto\n",
      "aidan@cs.toronto.edu\n",
      "Łukasz Kaiser ∗\n",
      "Google Brain\n",
      "lukaszkaiser@google.com\n",
      "Illia Polosukhin∗‡\n",
      "illia.polosukhin@gmail.com\n",
      "Abstract\n",
      "The dominant sequence transduction models are based on complex recurrent or\n",
      "convolutional neural networks that include an encoder and a decoder. The best\n",
      "performing models also connect the encoder and decoder through an attention\n",
      "mechanism. We propose a new simple network architecture, the Transformer,\n",
      "based solely on attention mechanisms, dispensing with recurrence and convolutions\n",
      "entirely. Experiments on two machine translation tasks show these models to\n",
      "be superior in quality while being more parallelizable and requiring signiﬁcantly\n",
      "less time to train. Our model achieves 28.4 BLEU on the WMT 2014 English-\n",
      "to-German translation task, improving over the existing best results, including\n",
      "ensembles, by over 2 BLEU. On the WMT 2014 English-to-French translation task,\n",
      "our model establishes a new single-model state-of-the-art BLEU score of 41.8 after\n",
      "training for 3.5 days on eight GPUs, a small fraction of the training costs of the\n",
      "best models from the literature. We show that the Transformer generalizes well to\n",
      "other tasks by applying it successfully to English constituency parsing both with\n",
      "large and limited training data.\n",
      "1 Introduction\n",
      "Recurrent neural networks, long short-term memory [13] and gated recurrent [7] neural networks\n",
      "in particular, have been ﬁrmly established as state of the art approaches in sequence modeling and\n",
      "∗Equal contribution. Listing order is random. Jakob proposed replacing RNNs with self-attention and started\n",
      "the effort to evaluate this idea. Ashish, with Illia, designed and implemented the ﬁrst Transformer models and\n",
      "has been crucially involved in every aspect of this work. Noam proposed scaled dot-product attention, multi-head\n",
      "attention and the parameter-free position representation and became the other person involved in nearly every\n",
      "detail. Niki designed, implemented, tuned and evaluated countless model variants in our original codebase and\n",
      "tensor2tensor. Llion also experimented with novel model variants, was responsible for our initial codebase, and\n",
      "efﬁcient inference and visualizations. Lukasz and Aidan spent countless long days designing various parts of and\n",
      "implementing tensor2tensor, replacing our earlier codebase, greatly improving results and massively accelerating\n",
      "our research.\n",
      "†Work performed while at Google Brain.\n",
      "‡Work performed while at Google Research.\n",
      "31st Conference on Neural Information Processing Systems (NIPS 2017), Long Beach, CA, USA.\n",
      "arXiv:1706.03762v5  [cs.CL]  6 Dec 2017\"\n",
      "\n",
      "\n",
      "CONCISE SUMMARY:\u001b[0m\n",
      "\n",
      "\u001b[1m> Finished chain.\u001b[0m\n",
      "\n",
      "\n",
      "\u001b[1m> Entering new LLMChain chain...\u001b[0m\n",
      "Prompt after formatting:\n",
      "\u001b[32;1m\u001b[1;3mYour job is to produce a final summary.\n",
      "We have provided an existing summary up to a certain point: The paper \"Attention Is All You Need\" introduces the Transformer, a novel neural network architecture that relies solely on attention mechanisms, eliminating the need for recurrent and convolutional layers. This approach enhances parallelization and reduces training time. The Transformer outperforms existing models in machine translation, achieving a BLEU score of 28.4 for English-to-German and 41.8 for English-to-French, surpassing previous state-of-the-art results. Additionally, the model demonstrates strong generalization capabilities across various tasks, including English constituency parsing. The authors highlight the collaborative effort behind the development and implementation of the Transformer.\n",
      "We have the opportunity to refine the existing summary (only if needed) with some more context below.\n",
      "------------\n",
      "transduction problems such as language modeling and machine translation [ 35, 2, 5]. Numerous\n",
      "efforts have since continued to push the boundaries of recurrent language models and encoder-decoder\n",
      "architectures [38, 24, 15].\n",
      "Recurrent models typically factor computation along the symbol positions of the input and output\n",
      "sequences. Aligning the positions to steps in computation time, they generate a sequence of hidden\n",
      "states ht, as a function of the previous hidden state ht−1 and the input for position t. This inherently\n",
      "sequential nature precludes parallelization within training examples, which becomes critical at longer\n",
      "sequence lengths, as memory constraints limit batching across examples. Recent work has achieved\n",
      "signiﬁcant improvements in computational efﬁciency through factorization tricks [21] and conditional\n",
      "computation [32], while also improving model performance in case of the latter. The fundamental\n",
      "constraint of sequential computation, however, remains.\n",
      "Attention mechanisms have become an integral part of compelling sequence modeling and transduc-\n",
      "tion models in various tasks, allowing modeling of dependencies without regard to their distance in\n",
      "the input or output sequences [2, 19]. In all but a few cases [27], however, such attention mechanisms\n",
      "are used in conjunction with a recurrent network.\n",
      "In this work we propose the Transformer, a model architecture eschewing recurrence and instead\n",
      "relying entirely on an attention mechanism to draw global dependencies between input and output.\n",
      "The Transformer allows for signiﬁcantly more parallelization and can reach a new state of the art in\n",
      "translation quality after being trained for as little as twelve hours on eight P100 GPUs.\n",
      "2 Background\n",
      "The goal of reducing sequential computation also forms the foundation of the Extended Neural GPU\n",
      "[16], ByteNet [18] and ConvS2S [9], all of which use convolutional neural networks as basic building\n",
      "block, computing hidden representations in parallel for all input and output positions. In these models,\n",
      "the number of operations required to relate signals from two arbitrary input or output positions grows\n",
      "in the distance between positions, linearly for ConvS2S and logarithmically for ByteNet. This makes\n",
      "it more difﬁcult to learn dependencies between distant positions [ 12]. In the Transformer this is\n",
      "reduced to a constant number of operations, albeit at the cost of reduced effective resolution due\n",
      "to averaging attention-weighted positions, an effect we counteract with Multi-Head Attention as\n",
      "described in section 3.2.\n",
      "Self-attention, sometimes called intra-attention is an attention mechanism relating different positions\n",
      "of a single sequence in order to compute a representation of the sequence. Self-attention has been\n",
      "used successfully in a variety of tasks including reading comprehension, abstractive summarization,\n",
      "textual entailment and learning task-independent sentence representations [4, 27, 28, 22].\n",
      "End-to-end memory networks are based on a recurrent attention mechanism instead of sequence-\n",
      "aligned recurrence and have been shown to perform well on simple-language question answering and\n",
      "language modeling tasks [34].\n",
      "To the best of our knowledge, however, the Transformer is the ﬁrst transduction model relying\n",
      "entirely on self-attention to compute representations of its input and output without using sequence-\n",
      "aligned RNNs or convolution. In the following sections, we will describe the Transformer, motivate\n",
      "self-attention and discuss its advantages over models such as [17, 18] and [9].\n",
      "3 Model Architecture\n",
      "Most competitive neural sequence transduction models have an encoder-decoder structure [5, 2, 35].\n",
      "Here, the encoder maps an input sequence of symbol representations (x1,...,x n) to a sequence\n",
      "of continuous representations z = (z1,...,z n). Given z, the decoder then generates an output\n",
      "sequence (y1,...,y m) of symbols one element at a time. At each step the model is auto-regressive\n",
      "[10], consuming the previously generated symbols as additional input when generating the next.\n",
      "The Transformer follows this overall architecture using stacked self-attention and point-wise, fully\n",
      "connected layers for both the encoder and decoder, shown in the left and right halves of Figure 1,\n",
      "respectively.\n",
      "2\n",
      "------------\n",
      "Given the new context, refine the original summary.\n",
      "If the context isn't useful, return the original summary.\u001b[0m\n",
      "\n",
      "\u001b[1m> Finished chain.\u001b[0m\n",
      "\n",
      "\n",
      "\u001b[1m> Entering new LLMChain chain...\u001b[0m\n",
      "Prompt after formatting:\n",
      "\u001b[32;1m\u001b[1;3mYour job is to produce a final summary.\n",
      "We have provided an existing summary up to a certain point: The paper \"Attention Is All You Need\" introduces the Transformer, a novel neural network architecture that relies solely on attention mechanisms, eliminating the need for recurrent and convolutional layers. This approach enhances parallelization and reduces training time, allowing the model to achieve state-of-the-art results in machine translation, with a BLEU score of 28.4 for English-to-German and 41.8 for English-to-French. The Transformer demonstrates strong generalization capabilities across various tasks, including English constituency parsing. By utilizing self-attention, the model effectively captures dependencies between input and output sequences without the constraints of sequential computation found in traditional recurrent models. The authors emphasize the collaborative effort behind the development and implementation of the Transformer, which represents a significant advancement in the field of sequence transduction.\n",
      "We have the opportunity to refine the existing summary (only if needed) with some more context below.\n",
      "------------\n",
      "Figure 1: The Transformer - model architecture.\n",
      "3.1 Encoder and Decoder Stacks\n",
      "Encoder: The encoder is composed of a stack of N = 6 identical layers. Each layer has two\n",
      "sub-layers. The ﬁrst is a multi-head self-attention mechanism, and the second is a simple, position-\n",
      "wise fully connected feed-forward network. We employ a residual connection [11] around each of\n",
      "the two sub-layers, followed by layer normalization [ 1]. That is, the output of each sub-layer is\n",
      "LayerNorm(x+ Sublayer(x)), where Sublayer(x) is the function implemented by the sub-layer\n",
      "itself. To facilitate these residual connections, all sub-layers in the model, as well as the embedding\n",
      "layers, produce outputs of dimension dmodel = 512.\n",
      "Decoder: The decoder is also composed of a stack of N = 6identical layers. In addition to the two\n",
      "sub-layers in each encoder layer, the decoder inserts a third sub-layer, which performs multi-head\n",
      "attention over the output of the encoder stack. Similar to the encoder, we employ residual connections\n",
      "around each of the sub-layers, followed by layer normalization. We also modify the self-attention\n",
      "sub-layer in the decoder stack to prevent positions from attending to subsequent positions. This\n",
      "masking, combined with fact that the output embeddings are offset by one position, ensures that the\n",
      "predictions for position ican depend only on the known outputs at positions less than i.\n",
      "3.2 Attention\n",
      "An attention function can be described as mapping a query and a set of key-value pairs to an output,\n",
      "where the query, keys, values, and output are all vectors. The output is computed as a weighted sum\n",
      "of the values, where the weight assigned to each value is computed by a compatibility function of the\n",
      "query with the corresponding key.\n",
      "3\n",
      "------------\n",
      "Given the new context, refine the original summary.\n",
      "If the context isn't useful, return the original summary.\u001b[0m\n",
      "\n",
      "\u001b[1m> Finished chain.\u001b[0m\n",
      "\n",
      "\n",
      "\u001b[1m> Entering new LLMChain chain...\u001b[0m\n",
      "Prompt after formatting:\n",
      "\u001b[32;1m\u001b[1;3mYour job is to produce a final summary.\n",
      "We have provided an existing summary up to a certain point: The paper \"Attention Is All You Need\" introduces the Transformer, a novel neural network architecture that relies solely on attention mechanisms, eliminating the need for recurrent and convolutional layers. This approach enhances parallelization and reduces training time, allowing the model to achieve state-of-the-art results in machine translation, with a BLEU score of 28.4 for English-to-German and 41.8 for English-to-French. The Transformer demonstrates strong generalization capabilities across various tasks, including English constituency parsing. \n",
      "\n",
      "The architecture consists of an encoder and a decoder, each composed of a stack of six identical layers. The encoder features a multi-head self-attention mechanism and a position-wise fully connected feed-forward network, with residual connections and layer normalization applied to each sub-layer. The decoder includes an additional multi-head attention sub-layer that attends to the encoder's output, with modifications to prevent attending to future positions, ensuring that predictions depend only on known outputs. \n",
      "\n",
      "By utilizing self-attention, the model effectively captures dependencies between input and output sequences without the constraints of sequential computation found in traditional recurrent models. The authors emphasize the collaborative effort behind the development and implementation of the Transformer, which represents a significant advancement in the field of sequence transduction.\n",
      "We have the opportunity to refine the existing summary (only if needed) with some more context below.\n",
      "------------\n",
      "Scaled Dot-Product Attention\n",
      " Multi-Head Attention\n",
      "Figure 2: (left) Scaled Dot-Product Attention. (right) Multi-Head Attention consists of several\n",
      "attention layers running in parallel.\n",
      "3.2.1 Scaled Dot-Product Attention\n",
      "We call our particular attention \"Scaled Dot-Product Attention\" (Figure 2). The input consists of\n",
      "queries and keys of dimension dk, and values of dimension dv. We compute the dot products of the\n",
      "query with all keys, divide each by √dk, and apply a softmax function to obtain the weights on the\n",
      "values.\n",
      "In practice, we compute the attention function on a set of queries simultaneously, packed together\n",
      "into a matrix Q. The keys and values are also packed together into matrices Kand V. We compute\n",
      "the matrix of outputs as:\n",
      "Attention(Q,K,V ) = softmax(QKT\n",
      "√dk\n",
      ")V (1)\n",
      "The two most commonly used attention functions are additive attention [2], and dot-product (multi-\n",
      "plicative) attention. Dot-product attention is identical to our algorithm, except for the scaling factor\n",
      "of 1√dk\n",
      ". Additive attention computes the compatibility function using a feed-forward network with\n",
      "a single hidden layer. While the two are similar in theoretical complexity, dot-product attention is\n",
      "much faster and more space-efﬁcient in practice, since it can be implemented using highly optimized\n",
      "matrix multiplication code.\n",
      "While for small values of dk the two mechanisms perform similarly, additive attention outperforms\n",
      "dot product attention without scaling for larger values of dk [3]. We suspect that for large values of\n",
      "dk, the dot products grow large in magnitude, pushing the softmax function into regions where it has\n",
      "extremely small gradients 4. To counteract this effect, we scale the dot products by 1√dk\n",
      ".\n",
      "3.2.2 Multi-Head Attention\n",
      "Instead of performing a single attention function with dmodel-dimensional keys, values and queries,\n",
      "we found it beneﬁcial to linearly project the queries, keys and values htimes with different, learned\n",
      "linear projections to dk, dk and dv dimensions, respectively. On each of these projected versions of\n",
      "queries, keys and values we then perform the attention function in parallel, yielding dv-dimensional\n",
      "output values. These are concatenated and once again projected, resulting in the ﬁnal values, as\n",
      "depicted in Figure 2.\n",
      "4To illustrate why the dot products get large, assume that the components of q and k are independent random\n",
      "variables with mean 0 and variance 1. Then their dot product, q · k = ∑dk\n",
      "i=1 qiki, has mean 0 and variance dk.\n",
      "4\n",
      "------------\n",
      "Given the new context, refine the original summary.\n",
      "If the context isn't useful, return the original summary.\u001b[0m\n",
      "\n",
      "\u001b[1m> Finished chain.\u001b[0m\n",
      "\n",
      "\n",
      "\u001b[1m> Entering new LLMChain chain...\u001b[0m\n",
      "Prompt after formatting:\n",
      "\u001b[32;1m\u001b[1;3mYour job is to produce a final summary.\n",
      "We have provided an existing summary up to a certain point: The paper \"Attention Is All You Need\" introduces the Transformer, a novel neural network architecture that relies solely on attention mechanisms, eliminating the need for recurrent and convolutional layers. This approach enhances parallelization and reduces training time, allowing the model to achieve state-of-the-art results in machine translation, with a BLEU score of 28.4 for English-to-German and 41.8 for English-to-French. The Transformer demonstrates strong generalization capabilities across various tasks, including English constituency parsing.\n",
      "\n",
      "The architecture consists of an encoder and a decoder, each composed of a stack of six identical layers. The encoder features a multi-head self-attention mechanism and a position-wise fully connected feed-forward network, with residual connections and layer normalization applied to each sub-layer. The decoder includes an additional multi-head attention sub-layer that attends to the encoder's output, with modifications to prevent attending to future positions, ensuring that predictions depend only on known outputs.\n",
      "\n",
      "A key component of the Transformer is the Scaled Dot-Product Attention, which computes attention scores by taking the dot products of queries and keys, scaling them by the square root of their dimension, and applying a softmax function to obtain weights for the values. This method is efficient and effective, particularly when implemented with matrix multiplication. The model also employs Multi-Head Attention, which allows it to project queries, keys, and values into multiple learned representations, performing attention in parallel to capture diverse information from different representation subspaces.\n",
      "\n",
      "By utilizing self-attention, the model effectively captures dependencies between input and output sequences without the constraints of sequential computation found in traditional recurrent models. The authors emphasize the collaborative effort behind the development and implementation of the Transformer, which represents a significant advancement in the field of sequence transduction.\n",
      "We have the opportunity to refine the existing summary (only if needed) with some more context below.\n",
      "------------\n",
      "Multi-head attention allows the model to jointly attend to information from different representation\n",
      "subspaces at different positions. With a single attention head, averaging inhibits this.\n",
      "MultiHead(Q,K,V ) = Concat(head1,..., headh)WO\n",
      "where headi = Attention(QWQ\n",
      "i ,KW K\n",
      "i ,VW V\n",
      "i )\n",
      "Where the projections are parameter matricesWQ\n",
      "i ∈Rdmodel×dk , WK\n",
      "i ∈Rdmodel×dk , WV\n",
      "i ∈Rdmodel×dv\n",
      "and WO ∈Rhdv×dmodel .\n",
      "In this work we employ h = 8 parallel attention layers, or heads. For each of these we use\n",
      "dk = dv = dmodel/h= 64. Due to the reduced dimension of each head, the total computational cost\n",
      "is similar to that of single-head attention with full dimensionality.\n",
      "3.2.3 Applications of Attention in our Model\n",
      "The Transformer uses multi-head attention in three different ways:\n",
      "• In \"encoder-decoder attention\" layers, the queries come from the previous decoder layer,\n",
      "and the memory keys and values come from the output of the encoder. This allows every\n",
      "position in the decoder to attend over all positions in the input sequence. This mimics the\n",
      "typical encoder-decoder attention mechanisms in sequence-to-sequence models such as\n",
      "[38, 2, 9].\n",
      "• The encoder contains self-attention layers. In a self-attention layer all of the keys, values\n",
      "and queries come from the same place, in this case, the output of the previous layer in the\n",
      "encoder. Each position in the encoder can attend to all positions in the previous layer of the\n",
      "encoder.\n",
      "• Similarly, self-attention layers in the decoder allow each position in the decoder to attend to\n",
      "all positions in the decoder up to and including that position. We need to prevent leftward\n",
      "information ﬂow in the decoder to preserve the auto-regressive property. We implement this\n",
      "inside of scaled dot-product attention by masking out (setting to −∞) all values in the input\n",
      "of the softmax which correspond to illegal connections. See Figure 2.\n",
      "3.3 Position-wise Feed-Forward Networks\n",
      "In addition to attention sub-layers, each of the layers in our encoder and decoder contains a fully\n",
      "connected feed-forward network, which is applied to each position separately and identically. This\n",
      "consists of two linear transformations with a ReLU activation in between.\n",
      "FFN(x) = max(0,xW1 + b1)W2 + b2 (2)\n",
      "While the linear transformations are the same across different positions, they use different parameters\n",
      "from layer to layer. Another way of describing this is as two convolutions with kernel size 1.\n",
      "The dimensionality of input and output is dmodel = 512, and the inner-layer has dimensionality\n",
      "dff = 2048.\n",
      "3.4 Embeddings and Softmax\n",
      "Similarly to other sequence transduction models, we use learned embeddings to convert the input\n",
      "tokens and output tokens to vectors of dimension dmodel. We also use the usual learned linear transfor-\n",
      "mation and softmax function to convert the decoder output to predicted next-token probabilities. In\n",
      "our model, we share the same weight matrix between the two embedding layers and the pre-softmax\n",
      "linear transformation, similar to [30]. In the embedding layers, we multiply those weights by √dmodel.\n",
      "3.5 Positional Encoding\n",
      "Since our model contains no recurrence and no convolution, in order for the model to make use of the\n",
      "order of the sequence, we must inject some information about the relative or absolute position of the\n",
      "5\n",
      "------------\n",
      "Given the new context, refine the original summary.\n",
      "If the context isn't useful, return the original summary.\u001b[0m\n",
      "\n",
      "\u001b[1m> Finished chain.\u001b[0m\n",
      "\n",
      "\n",
      "\u001b[1m> Entering new LLMChain chain...\u001b[0m\n",
      "Prompt after formatting:\n",
      "\u001b[32;1m\u001b[1;3mYour job is to produce a final summary.\n",
      "We have provided an existing summary up to a certain point: The paper \"Attention Is All You Need\" introduces the Transformer, a novel neural network architecture that relies solely on attention mechanisms, eliminating the need for recurrent and convolutional layers. This approach enhances parallelization and reduces training time, allowing the model to achieve state-of-the-art results in machine translation, with a BLEU score of 28.4 for English-to-German and 41.8 for English-to-French. The Transformer demonstrates strong generalization capabilities across various tasks, including English constituency parsing.\n",
      "\n",
      "The architecture consists of an encoder and a decoder, each composed of a stack of six identical layers. The encoder features a multi-head self-attention mechanism and a position-wise fully connected feed-forward network, with residual connections and layer normalization applied to each sub-layer. The decoder includes an additional multi-head attention sub-layer that attends to the encoder's output, with modifications to prevent attending to future positions, ensuring that predictions depend only on known outputs.\n",
      "\n",
      "A key component of the Transformer is the Scaled Dot-Product Attention, which computes attention scores by taking the dot products of queries and keys, scaling them by the square root of their dimension, and applying a softmax function to obtain weights for the values. This method is efficient and effective, particularly when implemented with matrix multiplication. The model employs Multi-Head Attention, which allows it to project queries, keys, and values into multiple learned representations, performing attention in parallel to capture diverse information from different representation subspaces. Specifically, the Transformer uses eight parallel attention heads, each with reduced dimensionality, maintaining computational efficiency while enhancing the model's ability to jointly attend to information from different representation subspaces.\n",
      "\n",
      "The Transformer utilizes multi-head attention in three distinct ways: in encoder-decoder attention layers, where the decoder queries attend to the encoder's output; in self-attention layers within the encoder, allowing each position to attend to all previous positions; and in self-attention layers within the decoder, which are masked to prevent leftward information flow, preserving the auto-regressive property. \n",
      "\n",
      "In addition to attention sub-layers, each layer in the encoder and decoder contains a position-wise feed-forward network, consisting of two linear transformations with a ReLU activation in between. The model also incorporates learned embeddings to convert input and output tokens into vectors, and it uses positional encoding to inject information about the order of the sequence, compensating for the lack of recurrence and convolution.\n",
      "\n",
      "The authors emphasize the collaborative effort behind the development and implementation of the Transformer, which represents a significant advancement in the field of sequence transduction.\n",
      "We have the opportunity to refine the existing summary (only if needed) with some more context below.\n",
      "------------\n",
      "Table 1: Maximum path lengths, per-layer complexity and minimum number of sequential operations\n",
      "for different layer types. nis the sequence length, dis the representation dimension, kis the kernel\n",
      "size of convolutions and rthe size of the neighborhood in restricted self-attention.\n",
      "Layer Type Complexity per Layer Sequential Maximum Path Length\n",
      "Operations\n",
      "Self-Attention O(n2 ·d) O(1) O(1)\n",
      "Recurrent O(n·d2) O(n) O(n)\n",
      "Convolutional O(k·n·d2) O(1) O(logk(n))\n",
      "Self-Attention (restricted) O(r·n·d) O(1) O(n/r)\n",
      "tokens in the sequence. To this end, we add \"positional encodings\" to the input embeddings at the\n",
      "bottoms of the encoder and decoder stacks. The positional encodings have the same dimension dmodel\n",
      "as the embeddings, so that the two can be summed. There are many choices of positional encodings,\n",
      "learned and ﬁxed [9].\n",
      "In this work, we use sine and cosine functions of different frequencies:\n",
      "PE(pos,2i) = sin(pos/100002i/dmodel )\n",
      "PE(pos,2i+1) = cos(pos/100002i/dmodel )\n",
      "where posis the position and iis the dimension. That is, each dimension of the positional encoding\n",
      "corresponds to a sinusoid. The wavelengths form a geometric progression from 2πto 10000 ·2π. We\n",
      "chose this function because we hypothesized it would allow the model to easily learn to attend by\n",
      "relative positions, since for any ﬁxed offset k, PEpos+k can be represented as a linear function of\n",
      "PEpos.\n",
      "We also experimented with using learned positional embeddings [9] instead, and found that the two\n",
      "versions produced nearly identical results (see Table 3 row (E)). We chose the sinusoidal version\n",
      "because it may allow the model to extrapolate to sequence lengths longer than the ones encountered\n",
      "during training.\n",
      "4 Why Self-Attention\n",
      "In this section we compare various aspects of self-attention layers to the recurrent and convolu-\n",
      "tional layers commonly used for mapping one variable-length sequence of symbol representations\n",
      "(x1,...,x n) to another sequence of equal length (z1,...,z n), with xi,zi ∈Rd, such as a hidden\n",
      "layer in a typical sequence transduction encoder or decoder. Motivating our use of self-attention we\n",
      "consider three desiderata.\n",
      "One is the total computational complexity per layer. Another is the amount of computation that can\n",
      "be parallelized, as measured by the minimum number of sequential operations required.\n",
      "The third is the path length between long-range dependencies in the network. Learning long-range\n",
      "dependencies is a key challenge in many sequence transduction tasks. One key factor affecting the\n",
      "ability to learn such dependencies is the length of the paths forward and backward signals have to\n",
      "traverse in the network. The shorter these paths between any combination of positions in the input\n",
      "and output sequences, the easier it is to learn long-range dependencies [12]. Hence we also compare\n",
      "the maximum path length between any two input and output positions in networks composed of the\n",
      "different layer types.\n",
      "As noted in Table 1, a self-attention layer connects all positions with a constant number of sequentially\n",
      "executed operations, whereas a recurrent layer requires O(n) sequential operations. In terms of\n",
      "computational complexity, self-attention layers are faster than recurrent layers when the sequence\n",
      "length n is smaller than the representation dimensionality d, which is most often the case with\n",
      "sentence representations used by state-of-the-art models in machine translations, such as word-piece\n",
      "[38] and byte-pair [31] representations. To improve computational performance for tasks involving\n",
      "very long sequences, self-attention could be restricted to considering only a neighborhood of size rin\n",
      "6\n",
      "------------\n",
      "Given the new context, refine the original summary.\n",
      "If the context isn't useful, return the original summary.\u001b[0m\n",
      "\n",
      "\u001b[1m> Finished chain.\u001b[0m\n",
      "\n",
      "\n",
      "\u001b[1m> Entering new LLMChain chain...\u001b[0m\n",
      "Prompt after formatting:\n",
      "\u001b[32;1m\u001b[1;3mYour job is to produce a final summary.\n",
      "We have provided an existing summary up to a certain point: The paper \"Attention Is All You Need\" introduces the Transformer, a novel neural network architecture that relies solely on attention mechanisms, eliminating the need for recurrent and convolutional layers. This approach enhances parallelization and reduces training time, allowing the model to achieve state-of-the-art results in machine translation, with a BLEU score of 28.4 for English-to-German and 41.8 for English-to-French. The Transformer demonstrates strong generalization capabilities across various tasks, including English constituency parsing.\n",
      "\n",
      "The architecture consists of an encoder and a decoder, each composed of a stack of six identical layers. The encoder features a multi-head self-attention mechanism and a position-wise fully connected feed-forward network, with residual connections and layer normalization applied to each sub-layer. The decoder includes an additional multi-head attention sub-layer that attends to the encoder's output, with modifications to prevent attending to future positions, ensuring that predictions depend only on known outputs.\n",
      "\n",
      "A key component of the Transformer is the Scaled Dot-Product Attention, which computes attention scores by taking the dot products of queries and keys, scaling them by the square root of their dimension, and applying a softmax function to obtain weights for the values. This method is efficient and effective, particularly when implemented with matrix multiplication. The model employs Multi-Head Attention, which allows it to project queries, keys, and values into multiple learned representations, performing attention in parallel to capture diverse information from different representation subspaces. Specifically, the Transformer uses eight parallel attention heads, each with reduced dimensionality, maintaining computational efficiency while enhancing the model's ability to jointly attend to information from different representation subspaces.\n",
      "\n",
      "The Transformer utilizes multi-head attention in three distinct ways: in encoder-decoder attention layers, where the decoder queries attend to the encoder's output; in self-attention layers within the encoder, allowing each position to attend to all previous positions; and in self-attention layers within the decoder, which are masked to prevent leftward information flow, preserving the auto-regressive property.\n",
      "\n",
      "In addition to attention sub-layers, each layer in the encoder and decoder contains a position-wise feed-forward network, consisting of two linear transformations with a ReLU activation in between. The model also incorporates learned embeddings to convert input and output tokens into vectors, and it uses positional encoding to inject information about the order of the sequence, compensating for the lack of recurrence and convolution. The positional encodings are derived from sine and cosine functions of different frequencies, allowing the model to learn relative positions effectively and potentially extrapolate to longer sequences than those encountered during training.\n",
      "\n",
      "The authors emphasize the collaborative effort behind the development and implementation of the Transformer, which represents a significant advancement in the field of sequence transduction. The paper also discusses the advantages of self-attention over recurrent and convolutional layers, highlighting its lower computational complexity, greater parallelization potential, and shorter path lengths for learning long-range dependencies, making it particularly suitable for tasks involving variable-length sequences.\n",
      "We have the opportunity to refine the existing summary (only if needed) with some more context below.\n",
      "------------\n",
      "the input sequence centered around the respective output position. This would increase the maximum\n",
      "path length to O(n/r). We plan to investigate this approach further in future work.\n",
      "A single convolutional layer with kernel width k<n does not connect all pairs of input and output\n",
      "positions. Doing so requires a stack of O(n/k) convolutional layers in the case of contiguous kernels,\n",
      "or O(logk(n)) in the case of dilated convolutions [ 18], increasing the length of the longest paths\n",
      "between any two positions in the network. Convolutional layers are generally more expensive than\n",
      "recurrent layers, by a factor of k. Separable convolutions [ 6], however, decrease the complexity\n",
      "considerably, to O(k·n·d+ n·d2). Even with k = n, however, the complexity of a separable\n",
      "convolution is equal to the combination of a self-attention layer and a point-wise feed-forward layer,\n",
      "the approach we take in our model.\n",
      "As side beneﬁt, self-attention could yield more interpretable models. We inspect attention distributions\n",
      "from our models and present and discuss examples in the appendix. Not only do individual attention\n",
      "heads clearly learn to perform different tasks, many appear to exhibit behavior related to the syntactic\n",
      "and semantic structure of the sentences.\n",
      "5 Training\n",
      "This section describes the training regime for our models.\n",
      "5.1 Training Data and Batching\n",
      "We trained on the standard WMT 2014 English-German dataset consisting of about 4.5 million\n",
      "sentence pairs. Sentences were encoded using byte-pair encoding [ 3], which has a shared source-\n",
      "target vocabulary of about 37000 tokens. For English-French, we used the signiﬁcantly larger WMT\n",
      "2014 English-French dataset consisting of 36M sentences and split tokens into a 32000 word-piece\n",
      "vocabulary [38]. Sentence pairs were batched together by approximate sequence length. Each training\n",
      "batch contained a set of sentence pairs containing approximately 25000 source tokens and 25000\n",
      "target tokens.\n",
      "5.2 Hardware and Schedule\n",
      "We trained our models on one machine with 8 NVIDIA P100 GPUs. For our base models using\n",
      "the hyperparameters described throughout the paper, each training step took about 0.4 seconds. We\n",
      "trained the base models for a total of 100,000 steps or 12 hours. For our big models,(described on the\n",
      "bottom line of table 3), step time was 1.0 seconds. The big models were trained for 300,000 steps\n",
      "(3.5 days).\n",
      "5.3 Optimizer\n",
      "We used the Adam optimizer [20] with β1 = 0.9, β2 = 0.98 and ϵ= 10−9. We varied the learning\n",
      "rate over the course of training, according to the formula:\n",
      "lrate= d−0.5\n",
      "model ·min(step_num−0.5,step_num·warmup_steps−1.5) (3)\n",
      "This corresponds to increasing the learning rate linearly for the ﬁrst warmup_stepstraining steps,\n",
      "and decreasing it thereafter proportionally to the inverse square root of the step number. We used\n",
      "warmup_steps= 4000.\n",
      "5.4 Regularization\n",
      "We employ three types of regularization during training:\n",
      "Residual Dropout We apply dropout [33] to the output of each sub-layer, before it is added to the\n",
      "sub-layer input and normalized. In addition, we apply dropout to the sums of the embeddings and the\n",
      "positional encodings in both the encoder and decoder stacks. For the base model, we use a rate of\n",
      "Pdrop = 0.1.\n",
      "7\n",
      "------------\n",
      "Given the new context, refine the original summary.\n",
      "If the context isn't useful, return the original summary.\u001b[0m\n",
      "\n",
      "\u001b[1m> Finished chain.\u001b[0m\n",
      "\n",
      "\n",
      "\u001b[1m> Entering new LLMChain chain...\u001b[0m\n",
      "Prompt after formatting:\n",
      "\u001b[32;1m\u001b[1;3mYour job is to produce a final summary.\n",
      "We have provided an existing summary up to a certain point: The paper \"Attention Is All You Need\" introduces the Transformer, a novel neural network architecture that relies solely on attention mechanisms, eliminating the need for recurrent and convolutional layers. This approach enhances parallelization and reduces training time, allowing the model to achieve state-of-the-art results in machine translation, with a BLEU score of 28.4 for English-to-German and 41.8 for English-to-French. The Transformer demonstrates strong generalization capabilities across various tasks, including English constituency parsing.\n",
      "\n",
      "The architecture consists of an encoder and a decoder, each composed of a stack of six identical layers. The encoder features a multi-head self-attention mechanism and a position-wise fully connected feed-forward network, with residual connections and layer normalization applied to each sub-layer. The decoder includes an additional multi-head attention sub-layer that attends to the encoder's output, with modifications to prevent attending to future positions, ensuring that predictions depend only on known outputs.\n",
      "\n",
      "A key component of the Transformer is the Scaled Dot-Product Attention, which computes attention scores by taking the dot products of queries and keys, scaling them by the square root of their dimension, and applying a softmax function to obtain weights for the values. This method is efficient and effective, particularly when implemented with matrix multiplication. The model employs Multi-Head Attention, which allows it to project queries, keys, and values into multiple learned representations, performing attention in parallel to capture diverse information from different representation subspaces. Specifically, the Transformer uses eight parallel attention heads, each with reduced dimensionality, maintaining computational efficiency while enhancing the model's ability to jointly attend to information from different representation subspaces.\n",
      "\n",
      "The Transformer utilizes multi-head attention in three distinct ways: in encoder-decoder attention layers, where the decoder queries attend to the encoder's output; in self-attention layers within the encoder, allowing each position to attend to all previous positions; and in self-attention layers within the decoder, which are masked to prevent leftward information flow, preserving the auto-regressive property.\n",
      "\n",
      "In addition to attention sub-layers, each layer in the encoder and decoder contains a position-wise feed-forward network, consisting of two linear transformations with a ReLU activation in between. The model also incorporates learned embeddings to convert input and output tokens into vectors, and it uses positional encoding to inject information about the order of the sequence, compensating for the lack of recurrence and convolution. The positional encodings are derived from sine and cosine functions of different frequencies, allowing the model to learn relative positions effectively and potentially extrapolate to longer sequences than those encountered during training.\n",
      "\n",
      "The authors emphasize the collaborative effort behind the development and implementation of the Transformer, which represents a significant advancement in the field of sequence transduction. The paper also discusses the advantages of self-attention over recurrent and convolutional layers, highlighting its lower computational complexity, greater parallelization potential, and shorter path lengths for learning long-range dependencies, making it particularly suitable for tasks involving variable-length sequences. Additionally, the authors note that self-attention could yield more interpretable models, as individual attention heads learn to perform different tasks and exhibit behavior related to the syntactic and semantic structure of sentences.\n",
      "\n",
      "The training of the Transformer models was conducted on large datasets, including the WMT 2014 English-German and English-French datasets, utilizing the Adam optimizer with a specific learning rate schedule and regularization techniques such as residual dropout. The training process was optimized for efficiency, leveraging powerful hardware to achieve significant performance improvements.\n",
      "We have the opportunity to refine the existing summary (only if needed) with some more context below.\n",
      "------------\n",
      "Table 2: The Transformer achieves better BLEU scores than previous state-of-the-art models on the\n",
      "English-to-German and English-to-French newstest2014 tests at a fraction of the training cost.\n",
      "Model\n",
      "BLEU Training Cost (FLOPs)\n",
      "EN-DE EN-FR EN-DE EN-FR\n",
      "ByteNet [18] 23.75\n",
      "Deep-Att + PosUnk [39] 39.2 1.0 ·1020\n",
      "GNMT + RL [38] 24.6 39.92 2.3 ·1019 1.4 ·1020\n",
      "ConvS2S [9] 25.16 40.46 9.6 ·1018 1.5 ·1020\n",
      "MoE [32] 26.03 40.56 2.0 ·1019 1.2 ·1020\n",
      "Deep-Att + PosUnk Ensemble [39] 40.4 8.0 ·1020\n",
      "GNMT + RL Ensemble [38] 26.30 41.16 1.8 ·1020 1.1 ·1021\n",
      "ConvS2S Ensemble [9] 26.36 41.29 7.7 ·1019 1.2 ·1021\n",
      "Transformer (base model) 27.3 38.1 3.3 · 1018\n",
      "Transformer (big) 28.4 41.8 2.3 ·1019\n",
      "Label Smoothing During training, we employed label smoothing of value ϵls = 0.1 [36]. This\n",
      "hurts perplexity, as the model learns to be more unsure, but improves accuracy and BLEU score.\n",
      "6 Results\n",
      "6.1 Machine Translation\n",
      "On the WMT 2014 English-to-German translation task, the big transformer model (Transformer (big)\n",
      "in Table 2) outperforms the best previously reported models (including ensembles) by more than 2.0\n",
      "BLEU, establishing a new state-of-the-art BLEU score of 28.4. The conﬁguration of this model is\n",
      "listed in the bottom line of Table 3. Training took 3.5 days on 8 P100 GPUs. Even our base model\n",
      "surpasses all previously published models and ensembles, at a fraction of the training cost of any of\n",
      "the competitive models.\n",
      "On the WMT 2014 English-to-French translation task, our big model achieves a BLEU score of 41.0,\n",
      "outperforming all of the previously published single models, at less than 1/4 the training cost of the\n",
      "previous state-of-the-art model. The Transformer (big) model trained for English-to-French used\n",
      "dropout rate Pdrop = 0.1, instead of 0.3.\n",
      "For the base models, we used a single model obtained by averaging the last 5 checkpoints, which\n",
      "were written at 10-minute intervals. For the big models, we averaged the last 20 checkpoints. We\n",
      "used beam search with a beam size of 4 and length penalty α= 0.6 [38]. These hyperparameters\n",
      "were chosen after experimentation on the development set. We set the maximum output length during\n",
      "inference to input length + 50, but terminate early when possible [38].\n",
      "Table 2 summarizes our results and compares our translation quality and training costs to other model\n",
      "architectures from the literature. We estimate the number of ﬂoating point operations used to train a\n",
      "model by multiplying the training time, the number of GPUs used, and an estimate of the sustained\n",
      "single-precision ﬂoating-point capacity of each GPU 5.\n",
      "6.2 Model Variations\n",
      "To evaluate the importance of different components of the Transformer, we varied our base model\n",
      "in different ways, measuring the change in performance on English-to-German translation on the\n",
      "development set, newstest2013. We used beam search as described in the previous section, but no\n",
      "checkpoint averaging. We present these results in Table 3.\n",
      "In Table 3 rows (A), we vary the number of attention heads and the attention key and value dimensions,\n",
      "keeping the amount of computation constant, as described in Section 3.2.2. While single-head\n",
      "attention is 0.9 BLEU worse than the best setting, quality also drops off with too many heads.\n",
      "5We used values of 2.8, 3.7, 6.0 and 9.5 TFLOPS for K80, K40, M40 and P100, respectively.\n",
      "8\n",
      "------------\n",
      "Given the new context, refine the original summary.\n",
      "If the context isn't useful, return the original summary.\u001b[0m\n",
      "\n",
      "\u001b[1m> Finished chain.\u001b[0m\n",
      "\n",
      "\n",
      "\u001b[1m> Entering new LLMChain chain...\u001b[0m\n",
      "Prompt after formatting:\n",
      "\u001b[32;1m\u001b[1;3mYour job is to produce a final summary.\n",
      "We have provided an existing summary up to a certain point: The paper \"Attention Is All You Need\" introduces the Transformer, a novel neural network architecture that relies solely on attention mechanisms, eliminating the need for recurrent and convolutional layers. This approach enhances parallelization and reduces training time, allowing the model to achieve state-of-the-art results in machine translation, with a BLEU score of 28.4 for English-to-German and 41.8 for English-to-French. The Transformer demonstrates strong generalization capabilities across various tasks, including English constituency parsing.\n",
      "\n",
      "The architecture consists of an encoder and a decoder, each composed of a stack of six identical layers. The encoder features a multi-head self-attention mechanism and a position-wise fully connected feed-forward network, with residual connections and layer normalization applied to each sub-layer. The decoder includes an additional multi-head attention sub-layer that attends to the encoder's output, with modifications to prevent attending to future positions, ensuring that predictions depend only on known outputs.\n",
      "\n",
      "A key component of the Transformer is the Scaled Dot-Product Attention, which computes attention scores by taking the dot products of queries and keys, scaling them by the square root of their dimension, and applying a softmax function to obtain weights for the values. This method is efficient and effective, particularly when implemented with matrix multiplication. The model employs Multi-Head Attention, which allows it to project queries, keys, and values into multiple learned representations, performing attention in parallel to capture diverse information from different representation subspaces. Specifically, the Transformer uses eight parallel attention heads, each with reduced dimensionality, maintaining computational efficiency while enhancing the model's ability to jointly attend to information from different representation subspaces.\n",
      "\n",
      "The Transformer utilizes multi-head attention in three distinct ways: in encoder-decoder attention layers, where the decoder queries attend to the encoder's output; in self-attention layers within the encoder, allowing each position to attend to all previous positions; and in self-attention layers within the decoder, which are masked to prevent leftward information flow, preserving the auto-regressive property.\n",
      "\n",
      "In addition to attention sub-layers, each layer in the encoder and decoder contains a position-wise feed-forward network, consisting of two linear transformations with a ReLU activation in between. The model also incorporates learned embeddings to convert input and output tokens into vectors, and it uses positional encoding to inject information about the order of the sequence, compensating for the lack of recurrence and convolution. The positional encodings are derived from sine and cosine functions of different frequencies, allowing the model to learn relative positions effectively and potentially extrapolate to longer sequences than those encountered during training.\n",
      "\n",
      "The authors emphasize the collaborative effort behind the development and implementation of the Transformer, which represents a significant advancement in the field of sequence transduction. The paper discusses the advantages of self-attention over recurrent and convolutional layers, highlighting its lower computational complexity, greater parallelization potential, and shorter path lengths for learning long-range dependencies, making it particularly suitable for tasks involving variable-length sequences. Additionally, the authors note that self-attention could yield more interpretable models, as individual attention heads learn to perform different tasks and exhibit behavior related to the syntactic and semantic structure of sentences.\n",
      "\n",
      "The training of the Transformer models was conducted on large datasets, including the WMT 2014 English-German and English-French datasets, utilizing the Adam optimizer with a specific learning rate schedule and regularization techniques such as residual dropout. The training process was optimized for efficiency, leveraging powerful hardware to achieve significant performance improvements. Notably, the Transformer outperforms previous state-of-the-art models on the English-to-German and English-to-French translation tasks, achieving BLEU scores of 28.4 and 41.8, respectively, while requiring significantly less training cost in terms of floating point operations (FLOPs). The authors also employed label smoothing during training to improve accuracy and BLEU scores, further demonstrating the model's effectiveness.\n",
      "We have the opportunity to refine the existing summary (only if needed) with some more context below.\n",
      "------------\n",
      "Table 3: Variations on the Transformer architecture. Unlisted values are identical to those of the base\n",
      "model. All metrics are on the English-to-German translation development set, newstest2013. Listed\n",
      "perplexities are per-wordpiece, according to our byte-pair encoding, and should not be compared to\n",
      "per-word perplexities.\n",
      "N d model dff h d k dv Pdrop ϵls\n",
      "train PPL BLEU params\n",
      "steps (dev) (dev) ×106\n",
      "base 6 512 2048 8 64 64 0.1 0.1 100K 4.92 25.8 65\n",
      "(A)\n",
      "1 512 512 5.29 24.9\n",
      "4 128 128 5.00 25.5\n",
      "16 32 32 4.91 25.8\n",
      "32 16 16 5.01 25.4\n",
      "(B) 16 5.16 25.1 58\n",
      "32 5.01 25.4 60\n",
      "(C)\n",
      "2 6.11 23.7 36\n",
      "4 5.19 25.3 50\n",
      "8 4.88 25.5 80\n",
      "256 32 32 5.75 24.5 28\n",
      "1024 128 128 4.66 26.0 168\n",
      "1024 5.12 25.4 53\n",
      "4096 4.75 26.2 90\n",
      "(D)\n",
      "0.0 5.77 24.6\n",
      "0.2 4.95 25.5\n",
      "0.0 4.67 25.3\n",
      "0.2 5.47 25.7\n",
      "(E) positional embedding instead of sinusoids 4.92 25.7\n",
      "big 6 1024 4096 16 0.3 300K 4.33 26.4 213\n",
      "Table 4: The Transformer generalizes well to English constituency parsing (Results are on Section 23\n",
      "of WSJ)\n",
      "Parser Training WSJ 23 F1\n",
      "Vinyals & Kaiser el al. (2014) [37] WSJ only, discriminative 88.3\n",
      "Petrov et al. (2006) [29] WSJ only, discriminative 90.4\n",
      "Zhu et al. (2013) [40] WSJ only, discriminative 90.4\n",
      "Dyer et al. (2016) [8] WSJ only, discriminative 91.7\n",
      "Transformer (4 layers) WSJ only, discriminative 91.3\n",
      "Zhu et al. (2013) [40] semi-supervised 91.3\n",
      "Huang & Harper (2009) [14] semi-supervised 91.3\n",
      "McClosky et al. (2006) [26] semi-supervised 92.1\n",
      "Vinyals & Kaiser el al. (2014) [37] semi-supervised 92.1\n",
      "Transformer (4 layers) semi-supervised 92.7\n",
      "Luong et al. (2015) [23] multi-task 93.0\n",
      "Dyer et al. (2016) [8] generative 93.3\n",
      "In Table 3 rows (B), we observe that reducing the attention key size dk hurts model quality. This\n",
      "suggests that determining compatibility is not easy and that a more sophisticated compatibility\n",
      "function than dot product may be beneﬁcial. We further observe in rows (C) and (D) that, as expected,\n",
      "bigger models are better, and dropout is very helpful in avoiding over-ﬁtting. In row (E) we replace our\n",
      "sinusoidal positional encoding with learned positional embeddings [9], and observe nearly identical\n",
      "results to the base model.\n",
      "6.3 English Constituency Parsing\n",
      "To evaluate if the Transformer can generalize to other tasks we performed experiments on English\n",
      "constituency parsing. This task presents speciﬁc challenges: the output is subject to strong structural\n",
      "9\n",
      "------------\n",
      "Given the new context, refine the original summary.\n",
      "If the context isn't useful, return the original summary.\u001b[0m\n",
      "\n",
      "\u001b[1m> Finished chain.\u001b[0m\n",
      "\n",
      "\n",
      "\u001b[1m> Entering new LLMChain chain...\u001b[0m\n",
      "Prompt after formatting:\n",
      "\u001b[32;1m\u001b[1;3mYour job is to produce a final summary.\n",
      "We have provided an existing summary up to a certain point: The paper \"Attention Is All You Need\" introduces the Transformer, a novel neural network architecture that relies solely on attention mechanisms, eliminating the need for recurrent and convolutional layers. This approach enhances parallelization and reduces training time, allowing the model to achieve state-of-the-art results in machine translation, with a BLEU score of 28.4 for English-to-German and 41.8 for English-to-French. The Transformer demonstrates strong generalization capabilities across various tasks, including English constituency parsing.\n",
      "\n",
      "The architecture consists of an encoder and a decoder, each composed of a stack of six identical layers. The encoder features a multi-head self-attention mechanism and a position-wise fully connected feed-forward network, with residual connections and layer normalization applied to each sub-layer. The decoder includes an additional multi-head attention sub-layer that attends to the encoder's output, with modifications to prevent attending to future positions, ensuring that predictions depend only on known outputs.\n",
      "\n",
      "A key component of the Transformer is the Scaled Dot-Product Attention, which computes attention scores by taking the dot products of queries and keys, scaling them by the square root of their dimension, and applying a softmax function to obtain weights for the values. This method is efficient and effective, particularly when implemented with matrix multiplication. The model employs Multi-Head Attention, which allows it to project queries, keys, and values into multiple learned representations, performing attention in parallel to capture diverse information from different representation subspaces. Specifically, the Transformer uses eight parallel attention heads, each with reduced dimensionality, maintaining computational efficiency while enhancing the model's ability to jointly attend to information from different representation subspaces.\n",
      "\n",
      "The Transformer utilizes multi-head attention in three distinct ways: in encoder-decoder attention layers, where the decoder queries attend to the encoder's output; in self-attention layers within the encoder, allowing each position to attend to all previous positions; and in self-attention layers within the decoder, which are masked to prevent leftward information flow, preserving the auto-regressive property.\n",
      "\n",
      "In addition to attention sub-layers, each layer in the encoder and decoder contains a position-wise feed-forward network, consisting of two linear transformations with a ReLU activation in between. The model also incorporates learned embeddings to convert input and output tokens into vectors, and it uses positional encoding to inject information about the order of the sequence, compensating for the lack of recurrence and convolution. The positional encodings are derived from sine and cosine functions of different frequencies, allowing the model to learn relative positions effectively and potentially extrapolate to longer sequences than those encountered during training.\n",
      "\n",
      "The authors emphasize the collaborative effort behind the development and implementation of the Transformer, which represents a significant advancement in the field of sequence transduction. The paper discusses the advantages of self-attention over recurrent and convolutional layers, highlighting its lower computational complexity, greater parallelization potential, and shorter path lengths for learning long-range dependencies, making it particularly suitable for tasks involving variable-length sequences. Additionally, the authors note that self-attention could yield more interpretable models, as individual attention heads learn to perform different tasks and exhibit behavior related to the syntactic and semantic structure of sentences.\n",
      "\n",
      "The training of the Transformer models was conducted on large datasets, including the WMT 2014 English-German and English-French datasets, utilizing the Adam optimizer with a specific learning rate schedule and regularization techniques such as residual dropout. The training process was optimized for efficiency, leveraging powerful hardware to achieve significant performance improvements. Notably, the Transformer outperforms previous state-of-the-art models on the English-to-German and English-to-French translation tasks, achieving BLEU scores of 28.4 and 41.8, respectively, while requiring significantly less training cost in terms of floating point operations (FLOPs). The authors also employed label smoothing during training to improve accuracy and BLEU scores, further demonstrating the model's effectiveness.\n",
      "\n",
      "Additionally, the paper presents variations on the Transformer architecture, showing that larger models generally yield better performance, while dropout is effective in preventing overfitting. The Transformer also generalizes well to English constituency parsing, achieving competitive results compared to previous models, indicating its versatility across different tasks. The findings suggest that while certain architectural choices, such as the size of attention keys, can impact model quality, the overall design of the Transformer remains robust and effective across various applications.\n",
      "We have the opportunity to refine the existing summary (only if needed) with some more context below.\n",
      "------------\n",
      "constraints and is signiﬁcantly longer than the input. Furthermore, RNN sequence-to-sequence\n",
      "models have not been able to attain state-of-the-art results in small-data regimes [37].\n",
      "We trained a 4-layer transformer with dmodel = 1024on the Wall Street Journal (WSJ) portion of the\n",
      "Penn Treebank [25], about 40K training sentences. We also trained it in a semi-supervised setting,\n",
      "using the larger high-conﬁdence and BerkleyParser corpora from with approximately 17M sentences\n",
      "[37]. We used a vocabulary of 16K tokens for the WSJ only setting and a vocabulary of 32K tokens\n",
      "for the semi-supervised setting.\n",
      "We performed only a small number of experiments to select the dropout, both attention and residual\n",
      "(section 5.4), learning rates and beam size on the Section 22 development set, all other parameters\n",
      "remained unchanged from the English-to-German base translation model. During inference, we\n",
      "increased the maximum output length to input length + 300. We used a beam size of 21 and α= 0.3\n",
      "for both WSJ only and the semi-supervised setting.\n",
      "Our results in Table 4 show that despite the lack of task-speciﬁc tuning our model performs sur-\n",
      "prisingly well, yielding better results than all previously reported models with the exception of the\n",
      "Recurrent Neural Network Grammar [8].\n",
      "In contrast to RNN sequence-to-sequence models [37], the Transformer outperforms the Berkeley-\n",
      "Parser [29] even when training only on the WSJ training set of 40K sentences.\n",
      "7 Conclusion\n",
      "In this work, we presented the Transformer, the ﬁrst sequence transduction model based entirely on\n",
      "attention, replacing the recurrent layers most commonly used in encoder-decoder architectures with\n",
      "multi-headed self-attention.\n",
      "For translation tasks, the Transformer can be trained signiﬁcantly faster than architectures based\n",
      "on recurrent or convolutional layers. On both WMT 2014 English-to-German and WMT 2014\n",
      "English-to-French translation tasks, we achieve a new state of the art. In the former task our best\n",
      "model outperforms even all previously reported ensembles.\n",
      "We are excited about the future of attention-based models and plan to apply them to other tasks. We\n",
      "plan to extend the Transformer to problems involving input and output modalities other than text and\n",
      "to investigate local, restricted attention mechanisms to efﬁciently handle large inputs and outputs\n",
      "such as images, audio and video. Making generation less sequential is another research goals of ours.\n",
      "The code we used to train and evaluate our models is available at https://github.com/\n",
      "tensorflow/tensor2tensor.\n",
      "Acknowledgements We are grateful to Nal Kalchbrenner and Stephan Gouws for their fruitful\n",
      "comments, corrections and inspiration.\n",
      "References\n",
      "[1] Jimmy Lei Ba, Jamie Ryan Kiros, and Geoffrey E Hinton. Layer normalization. arXiv preprint\n",
      "arXiv:1607.06450, 2016.\n",
      "[2] Dzmitry Bahdanau, Kyunghyun Cho, and Yoshua Bengio. Neural machine translation by jointly\n",
      "learning to align and translate. CoRR, abs/1409.0473, 2014.\n",
      "[3] Denny Britz, Anna Goldie, Minh-Thang Luong, and Quoc V . Le. Massive exploration of neural\n",
      "machine translation architectures. CoRR, abs/1703.03906, 2017.\n",
      "[4] Jianpeng Cheng, Li Dong, and Mirella Lapata. Long short-term memory-networks for machine\n",
      "reading. arXiv preprint arXiv:1601.06733, 2016.\n",
      "[5] Kyunghyun Cho, Bart van Merrienboer, Caglar Gulcehre, Fethi Bougares, Holger Schwenk,\n",
      "and Yoshua Bengio. Learning phrase representations using rnn encoder-decoder for statistical\n",
      "machine translation. CoRR, abs/1406.1078, 2014.\n",
      "[6] Francois Chollet. Xception: Deep learning with depthwise separable convolutions. arXiv\n",
      "preprint arXiv:1610.02357, 2016.\n",
      "10\n",
      "------------\n",
      "Given the new context, refine the original summary.\n",
      "If the context isn't useful, return the original summary.\u001b[0m\n",
      "\n",
      "\u001b[1m> Finished chain.\u001b[0m\n",
      "\n",
      "\n",
      "\u001b[1m> Entering new LLMChain chain...\u001b[0m\n",
      "Prompt after formatting:\n",
      "\u001b[32;1m\u001b[1;3mYour job is to produce a final summary.\n",
      "We have provided an existing summary up to a certain point: The paper \"Attention Is All You Need\" introduces the Transformer, a novel neural network architecture that relies solely on attention mechanisms, eliminating the need for recurrent and convolutional layers. This approach enhances parallelization and reduces training time, allowing the model to achieve state-of-the-art results in machine translation, with a BLEU score of 28.4 for English-to-German and 41.8 for English-to-French. The Transformer demonstrates strong generalization capabilities across various tasks, including English constituency parsing.\n",
      "\n",
      "The architecture consists of an encoder and a decoder, each composed of a stack of six identical layers. The encoder features a multi-head self-attention mechanism and a position-wise fully connected feed-forward network, with residual connections and layer normalization applied to each sub-layer. The decoder includes an additional multi-head attention sub-layer that attends to the encoder's output, with modifications to prevent attending to future positions, ensuring that predictions depend only on known outputs.\n",
      "\n",
      "A key component of the Transformer is the Scaled Dot-Product Attention, which computes attention scores by taking the dot products of queries and keys, scaling them by the square root of their dimension, and applying a softmax function to obtain weights for the values. This method is efficient and effective, particularly when implemented with matrix multiplication. The model employs Multi-Head Attention, which allows it to project queries, keys, and values into multiple learned representations, performing attention in parallel to capture diverse information from different representation subspaces. Specifically, the Transformer uses eight parallel attention heads, each with reduced dimensionality, maintaining computational efficiency while enhancing the model's ability to jointly attend to information from different representation subspaces.\n",
      "\n",
      "The Transformer utilizes multi-head attention in three distinct ways: in encoder-decoder attention layers, where the decoder queries attend to the encoder's output; in self-attention layers within the encoder, allowing each position to attend to all previous positions; and in self-attention layers within the decoder, which are masked to prevent leftward information flow, preserving the auto-regressive property.\n",
      "\n",
      "In addition to attention sub-layers, each layer in the encoder and decoder contains a position-wise feed-forward network, consisting of two linear transformations with a ReLU activation in between. The model also incorporates learned embeddings to convert input and output tokens into vectors, and it uses positional encoding to inject information about the order of the sequence, compensating for the lack of recurrence and convolution. The positional encodings are derived from sine and cosine functions of different frequencies, allowing the model to learn relative positions effectively and potentially extrapolate to longer sequences than those encountered during training.\n",
      "\n",
      "The authors emphasize the collaborative effort behind the development and implementation of the Transformer, which represents a significant advancement in the field of sequence transduction. The paper discusses the advantages of self-attention over recurrent and convolutional layers, highlighting its lower computational complexity, greater parallelization potential, and shorter path lengths for learning long-range dependencies, making it particularly suitable for tasks involving variable-length sequences. Additionally, the authors note that self-attention could yield more interpretable models, as individual attention heads learn to perform different tasks and exhibit behavior related to the syntactic and semantic structure of sentences.\n",
      "\n",
      "The training of the Transformer models was conducted on large datasets, including the WMT 2014 English-German and English-French datasets, utilizing the Adam optimizer with a specific learning rate schedule and regularization techniques such as residual dropout. The training process was optimized for efficiency, leveraging powerful hardware to achieve significant performance improvements. Notably, the Transformer outperforms previous state-of-the-art models on the English-to-German and English-to-French translation tasks, achieving BLEU scores of 28.4 and 41.8, respectively, while requiring significantly less training cost in terms of floating point operations (FLOPs). The authors also employed label smoothing during training to improve accuracy and BLEU scores, further demonstrating the model's effectiveness.\n",
      "\n",
      "Additionally, the paper presents variations on the Transformer architecture, showing that larger models generally yield better performance, while dropout is effective in preventing overfitting. The Transformer also generalizes well to English constituency parsing, achieving competitive results compared to previous models, indicating its versatility across different tasks. The findings suggest that while certain architectural choices, such as the size of attention keys, can impact model quality, the overall design of the Transformer remains robust and effective across various applications. The authors also highlight the model's performance in small-data regimes, noting that it outperforms traditional RNN sequence-to-sequence models even with limited training data, further underscoring its efficiency and effectiveness. Future research directions include extending the Transformer to other modalities beyond text and exploring local attention mechanisms for handling larger inputs and outputs.\n",
      "We have the opportunity to refine the existing summary (only if needed) with some more context below.\n",
      "------------\n",
      "[7] Junyoung Chung, Çaglar Gülçehre, Kyunghyun Cho, and Yoshua Bengio. Empirical evaluation\n",
      "of gated recurrent neural networks on sequence modeling. CoRR, abs/1412.3555, 2014.\n",
      "[8] Chris Dyer, Adhiguna Kuncoro, Miguel Ballesteros, and Noah A. Smith. Recurrent neural\n",
      "network grammars. In Proc. of NAACL, 2016.\n",
      "[9] Jonas Gehring, Michael Auli, David Grangier, Denis Yarats, and Yann N. Dauphin. Convolu-\n",
      "tional sequence to sequence learning. arXiv preprint arXiv:1705.03122v2, 2017.\n",
      "[10] Alex Graves. Generating sequences with recurrent neural networks. arXiv preprint\n",
      "arXiv:1308.0850, 2013.\n",
      "[11] Kaiming He, Xiangyu Zhang, Shaoqing Ren, and Jian Sun. Deep residual learning for im-\n",
      "age recognition. In Proceedings of the IEEE Conference on Computer Vision and Pattern\n",
      "Recognition, pages 770–778, 2016.\n",
      "[12] Sepp Hochreiter, Yoshua Bengio, Paolo Frasconi, and Jürgen Schmidhuber. Gradient ﬂow in\n",
      "recurrent nets: the difﬁculty of learning long-term dependencies, 2001.\n",
      "[13] Sepp Hochreiter and Jürgen Schmidhuber. Long short-term memory. Neural computation,\n",
      "9(8):1735–1780, 1997.\n",
      "[14] Zhongqiang Huang and Mary Harper. Self-training PCFG grammars with latent annotations\n",
      "across languages. In Proceedings of the 2009 Conference on Empirical Methods in Natural\n",
      "Language Processing, pages 832–841. ACL, August 2009.\n",
      "[15] Rafal Jozefowicz, Oriol Vinyals, Mike Schuster, Noam Shazeer, and Yonghui Wu. Exploring\n",
      "the limits of language modeling. arXiv preprint arXiv:1602.02410, 2016.\n",
      "[16] Łukasz Kaiser and Samy Bengio. Can active memory replace attention? In Advances in Neural\n",
      "Information Processing Systems, (NIPS), 2016.\n",
      "[17] Łukasz Kaiser and Ilya Sutskever. Neural GPUs learn algorithms. In International Conference\n",
      "on Learning Representations (ICLR), 2016.\n",
      "[18] Nal Kalchbrenner, Lasse Espeholt, Karen Simonyan, Aaron van den Oord, Alex Graves, and Ko-\n",
      "ray Kavukcuoglu. Neural machine translation in linear time.arXiv preprint arXiv:1610.10099v2,\n",
      "2017.\n",
      "[19] Yoon Kim, Carl Denton, Luong Hoang, and Alexander M. Rush. Structured attention networks.\n",
      "In International Conference on Learning Representations, 2017.\n",
      "[20] Diederik Kingma and Jimmy Ba. Adam: A method for stochastic optimization. In ICLR, 2015.\n",
      "[21] Oleksii Kuchaiev and Boris Ginsburg. Factorization tricks for LSTM networks. arXiv preprint\n",
      "arXiv:1703.10722, 2017.\n",
      "[22] Zhouhan Lin, Minwei Feng, Cicero Nogueira dos Santos, Mo Yu, Bing Xiang, Bowen\n",
      "Zhou, and Yoshua Bengio. A structured self-attentive sentence embedding. arXiv preprint\n",
      "arXiv:1703.03130, 2017.\n",
      "[23] Minh-Thang Luong, Quoc V . Le, Ilya Sutskever, Oriol Vinyals, and Lukasz Kaiser. Multi-task\n",
      "sequence to sequence learning. arXiv preprint arXiv:1511.06114, 2015.\n",
      "[24] Minh-Thang Luong, Hieu Pham, and Christopher D Manning. Effective approaches to attention-\n",
      "based neural machine translation. arXiv preprint arXiv:1508.04025, 2015.\n",
      "[25] Mitchell P Marcus, Mary Ann Marcinkiewicz, and Beatrice Santorini. Building a large annotated\n",
      "corpus of english: The penn treebank. Computational linguistics, 19(2):313–330, 1993.\n",
      "[26] David McClosky, Eugene Charniak, and Mark Johnson. Effective self-training for parsing. In\n",
      "Proceedings of the Human Language Technology Conference of the NAACL, Main Conference,\n",
      "pages 152–159. ACL, June 2006.\n",
      "11\n",
      "------------\n",
      "Given the new context, refine the original summary.\n",
      "If the context isn't useful, return the original summary.\u001b[0m\n",
      "\n",
      "\u001b[1m> Finished chain.\u001b[0m\n",
      "\n",
      "\n",
      "\u001b[1m> Entering new LLMChain chain...\u001b[0m\n",
      "Prompt after formatting:\n",
      "\u001b[32;1m\u001b[1;3mYour job is to produce a final summary.\n",
      "We have provided an existing summary up to a certain point: The paper \"Attention Is All You Need\" introduces the Transformer, a novel neural network architecture that relies solely on attention mechanisms, eliminating the need for recurrent and convolutional layers. This approach enhances parallelization and reduces training time, allowing the model to achieve state-of-the-art results in machine translation, with a BLEU score of 28.4 for English-to-German and 41.8 for English-to-French. The Transformer demonstrates strong generalization capabilities across various tasks, including English constituency parsing.\n",
      "\n",
      "The architecture consists of an encoder and a decoder, each composed of a stack of six identical layers. The encoder features a multi-head self-attention mechanism and a position-wise fully connected feed-forward network, with residual connections and layer normalization applied to each sub-layer. The decoder includes an additional multi-head attention sub-layer that attends to the encoder's output, with modifications to prevent attending to future positions, ensuring that predictions depend only on known outputs.\n",
      "\n",
      "A key component of the Transformer is the Scaled Dot-Product Attention, which computes attention scores by taking the dot products of queries and keys, scaling them by the square root of their dimension, and applying a softmax function to obtain weights for the values. This method is efficient and effective, particularly when implemented with matrix multiplication. The model employs Multi-Head Attention, which allows it to project queries, keys, and values into multiple learned representations, performing attention in parallel to capture diverse information from different representation subspaces. Specifically, the Transformer uses eight parallel attention heads, each with reduced dimensionality, maintaining computational efficiency while enhancing the model's ability to jointly attend to information from different representation subspaces.\n",
      "\n",
      "The Transformer utilizes multi-head attention in three distinct ways: in encoder-decoder attention layers, where the decoder queries attend to the encoder's output; in self-attention layers within the encoder, allowing each position to attend to all previous positions; and in self-attention layers within the decoder, which are masked to prevent leftward information flow, preserving the auto-regressive property.\n",
      "\n",
      "In addition to attention sub-layers, each layer in the encoder and decoder contains a position-wise feed-forward network, consisting of two linear transformations with a ReLU activation in between. The model also incorporates learned embeddings to convert input and output tokens into vectors, and it uses positional encoding to inject information about the order of the sequence, compensating for the lack of recurrence and convolution. The positional encodings are derived from sine and cosine functions of different frequencies, allowing the model to learn relative positions effectively and potentially extrapolate to longer sequences than those encountered during training.\n",
      "\n",
      "The authors emphasize the collaborative effort behind the development and implementation of the Transformer, which represents a significant advancement in the field of sequence transduction. The paper discusses the advantages of self-attention over recurrent and convolutional layers, highlighting its lower computational complexity, greater parallelization potential, and shorter path lengths for learning long-range dependencies, making it particularly suitable for tasks involving variable-length sequences. Additionally, the authors note that self-attention could yield more interpretable models, as individual attention heads learn to perform different tasks and exhibit behavior related to the syntactic and semantic structure of sentences.\n",
      "\n",
      "The training of the Transformer models was conducted on large datasets, including the WMT 2014 English-German and English-French datasets, utilizing the Adam optimizer with a specific learning rate schedule and regularization techniques such as residual dropout. The training process was optimized for efficiency, leveraging powerful hardware to achieve significant performance improvements. Notably, the Transformer outperforms previous state-of-the-art models on the English-to-German and English-to-French translation tasks, achieving BLEU scores of 28.4 and 41.8, respectively, while requiring significantly less training cost in terms of floating point operations (FLOPs). The authors also employed label smoothing during training to improve accuracy and BLEU scores, further demonstrating the model's effectiveness.\n",
      "\n",
      "Additionally, the paper presents variations on the Transformer architecture, showing that larger models generally yield better performance, while dropout is effective in preventing overfitting. The Transformer also generalizes well to English constituency parsing, achieving competitive results compared to previous models, indicating its versatility across different tasks. The findings suggest that while certain architectural choices, such as the size of attention keys, can impact model quality, the overall design of the Transformer remains robust and effective across various applications. The authors also highlight the model's performance in small-data regimes, noting that it outperforms traditional RNN sequence-to-sequence models even with limited training data, further underscoring its efficiency and effectiveness. Future research directions include extending the Transformer to other modalities beyond text and exploring local attention mechanisms for handling larger inputs and outputs.\n",
      "We have the opportunity to refine the existing summary (only if needed) with some more context below.\n",
      "------------\n",
      "[27] Ankur Parikh, Oscar Täckström, Dipanjan Das, and Jakob Uszkoreit. A decomposable attention\n",
      "model. In Empirical Methods in Natural Language Processing, 2016.\n",
      "[28] Romain Paulus, Caiming Xiong, and Richard Socher. A deep reinforced model for abstractive\n",
      "summarization. arXiv preprint arXiv:1705.04304, 2017.\n",
      "[29] Slav Petrov, Leon Barrett, Romain Thibaux, and Dan Klein. Learning accurate, compact,\n",
      "and interpretable tree annotation. In Proceedings of the 21st International Conference on\n",
      "Computational Linguistics and 44th Annual Meeting of the ACL, pages 433–440. ACL, July\n",
      "2006.\n",
      "[30] Oﬁr Press and Lior Wolf. Using the output embedding to improve language models. arXiv\n",
      "preprint arXiv:1608.05859, 2016.\n",
      "[31] Rico Sennrich, Barry Haddow, and Alexandra Birch. Neural machine translation of rare words\n",
      "with subword units. arXiv preprint arXiv:1508.07909, 2015.\n",
      "[32] Noam Shazeer, Azalia Mirhoseini, Krzysztof Maziarz, Andy Davis, Quoc Le, Geoffrey Hinton,\n",
      "and Jeff Dean. Outrageously large neural networks: The sparsely-gated mixture-of-experts\n",
      "layer. arXiv preprint arXiv:1701.06538, 2017.\n",
      "[33] Nitish Srivastava, Geoffrey E Hinton, Alex Krizhevsky, Ilya Sutskever, and Ruslan Salakhutdi-\n",
      "nov. Dropout: a simple way to prevent neural networks from overﬁtting. Journal of Machine\n",
      "Learning Research, 15(1):1929–1958, 2014.\n",
      "[34] Sainbayar Sukhbaatar, Arthur Szlam, Jason Weston, and Rob Fergus. End-to-end memory\n",
      "networks. In C. Cortes, N. D. Lawrence, D. D. Lee, M. Sugiyama, and R. Garnett, editors,\n",
      "Advances in Neural Information Processing Systems 28, pages 2440–2448. Curran Associates,\n",
      "Inc., 2015.\n",
      "[35] Ilya Sutskever, Oriol Vinyals, and Quoc VV Le. Sequence to sequence learning with neural\n",
      "networks. In Advances in Neural Information Processing Systems, pages 3104–3112, 2014.\n",
      "[36] Christian Szegedy, Vincent Vanhoucke, Sergey Ioffe, Jonathon Shlens, and Zbigniew Wojna.\n",
      "Rethinking the inception architecture for computer vision. CoRR, abs/1512.00567, 2015.\n",
      "[37] Vinyals & Kaiser, Koo, Petrov, Sutskever, and Hinton. Grammar as a foreign language. In\n",
      "Advances in Neural Information Processing Systems, 2015.\n",
      "[38] Yonghui Wu, Mike Schuster, Zhifeng Chen, Quoc V Le, Mohammad Norouzi, Wolfgang\n",
      "Macherey, Maxim Krikun, Yuan Cao, Qin Gao, Klaus Macherey, et al. Google’s neural machine\n",
      "translation system: Bridging the gap between human and machine translation. arXiv preprint\n",
      "arXiv:1609.08144, 2016.\n",
      "[39] Jie Zhou, Ying Cao, Xuguang Wang, Peng Li, and Wei Xu. Deep recurrent models with\n",
      "fast-forward connections for neural machine translation. CoRR, abs/1606.04199, 2016.\n",
      "[40] Muhua Zhu, Yue Zhang, Wenliang Chen, Min Zhang, and Jingbo Zhu. Fast and accurate\n",
      "shift-reduce constituent parsing. In Proceedings of the 51st Annual Meeting of the ACL (Volume\n",
      "1: Long Papers), pages 434–443. ACL, August 2013.\n",
      "12\n",
      "------------\n",
      "Given the new context, refine the original summary.\n",
      "If the context isn't useful, return the original summary.\u001b[0m\n",
      "\n",
      "\u001b[1m> Finished chain.\u001b[0m\n",
      "\n",
      "\n",
      "\u001b[1m> Entering new LLMChain chain...\u001b[0m\n",
      "Prompt after formatting:\n",
      "\u001b[32;1m\u001b[1;3mYour job is to produce a final summary.\n",
      "We have provided an existing summary up to a certain point: The paper \"Attention Is All You Need\" introduces the Transformer, a novel neural network architecture that relies solely on attention mechanisms, eliminating the need for recurrent and convolutional layers. This approach enhances parallelization and reduces training time, allowing the model to achieve state-of-the-art results in machine translation, with a BLEU score of 28.4 for English-to-German and 41.8 for English-to-French. The Transformer demonstrates strong generalization capabilities across various tasks, including English constituency parsing.\n",
      "\n",
      "The architecture consists of an encoder and a decoder, each composed of a stack of six identical layers. The encoder features a multi-head self-attention mechanism and a position-wise fully connected feed-forward network, with residual connections and layer normalization applied to each sub-layer. The decoder includes an additional multi-head attention sub-layer that attends to the encoder's output, with modifications to prevent attending to future positions, ensuring that predictions depend only on known outputs.\n",
      "\n",
      "A key component of the Transformer is the Scaled Dot-Product Attention, which computes attention scores by taking the dot products of queries and keys, scaling them by the square root of their dimension, and applying a softmax function to obtain weights for the values. This method is efficient and effective, particularly when implemented with matrix multiplication. The model employs Multi-Head Attention, which allows it to project queries, keys, and values into multiple learned representations, performing attention in parallel to capture diverse information from different representation subspaces. Specifically, the Transformer uses eight parallel attention heads, each with reduced dimensionality, maintaining computational efficiency while enhancing the model's ability to jointly attend to information from different representation subspaces.\n",
      "\n",
      "The Transformer utilizes multi-head attention in three distinct ways: in encoder-decoder attention layers, where the decoder queries attend to the encoder's output; in self-attention layers within the encoder, allowing each position to attend to all previous positions; and in self-attention layers within the decoder, which are masked to prevent leftward information flow, preserving the auto-regressive property.\n",
      "\n",
      "In addition to attention sub-layers, each layer in the encoder and decoder contains a position-wise feed-forward network, consisting of two linear transformations with a ReLU activation in between. The model also incorporates learned embeddings to convert input and output tokens into vectors, and it uses positional encoding to inject information about the order of the sequence, compensating for the lack of recurrence and convolution. The positional encodings are derived from sine and cosine functions of different frequencies, allowing the model to learn relative positions effectively and potentially extrapolate to longer sequences than those encountered during training.\n",
      "\n",
      "The authors emphasize the collaborative effort behind the development and implementation of the Transformer, which represents a significant advancement in the field of sequence transduction. The paper discusses the advantages of self-attention over recurrent and convolutional layers, highlighting its lower computational complexity, greater parallelization potential, and shorter path lengths for learning long-range dependencies, making it particularly suitable for tasks involving variable-length sequences. Additionally, the authors note that self-attention could yield more interpretable models, as individual attention heads learn to perform different tasks and exhibit behavior related to the syntactic and semantic structure of sentences.\n",
      "\n",
      "The training of the Transformer models was conducted on large datasets, including the WMT 2014 English-German and English-French datasets, utilizing the Adam optimizer with a specific learning rate schedule and regularization techniques such as residual dropout. The training process was optimized for efficiency, leveraging powerful hardware to achieve significant performance improvements. Notably, the Transformer outperforms previous state-of-the-art models on the English-to-German and English-to-French translation tasks, achieving BLEU scores of 28.4 and 41.8, respectively, while requiring significantly less training cost in terms of floating point operations (FLOPs). The authors also employed label smoothing during training to improve accuracy and BLEU scores, further demonstrating the model's effectiveness.\n",
      "\n",
      "Additionally, the paper presents variations on the Transformer architecture, showing that larger models generally yield better performance, while dropout is effective in preventing overfitting. The Transformer also generalizes well to English constituency parsing, achieving competitive results compared to previous models, indicating its versatility across different tasks. The findings suggest that while certain architectural choices, such as the size of attention keys, can impact model quality, the overall design of the Transformer remains robust and effective across various applications. The authors also highlight the model's performance in small-data regimes, noting that it outperforms traditional RNN sequence-to-sequence models even with limited training data, further underscoring its efficiency and effectiveness. Future research directions include extending the Transformer to other modalities beyond text and exploring local attention mechanisms for handling larger inputs and outputs.\n",
      "We have the opportunity to refine the existing summary (only if needed) with some more context below.\n",
      "------------\n",
      "Attention Visualizations\n",
      "Input-Input Layer5\n",
      "It\n",
      "is\n",
      "in\n",
      "this\n",
      "spirit\n",
      "that\n",
      "a\n",
      "majority\n",
      "of\n",
      "American\n",
      "governments\n",
      "have\n",
      "passed\n",
      "new\n",
      "laws\n",
      "since\n",
      "2009\n",
      "making\n",
      "the\n",
      "registration\n",
      "or\n",
      "voting\n",
      "process\n",
      "more\n",
      "difficult\n",
      ".\n",
      "<EOS>\n",
      "<pad>\n",
      "<pad>\n",
      "<pad>\n",
      "<pad>\n",
      "<pad>\n",
      "<pad>\n",
      "It\n",
      "is\n",
      "in\n",
      "this\n",
      "spirit\n",
      "that\n",
      "a\n",
      "majority\n",
      "of\n",
      "American\n",
      "governments\n",
      "have\n",
      "passed\n",
      "new\n",
      "laws\n",
      "since\n",
      "2009\n",
      "making\n",
      "the\n",
      "registration\n",
      "or\n",
      "voting\n",
      "process\n",
      "more\n",
      "difficult\n",
      ".\n",
      "<EOS>\n",
      "<pad>\n",
      "<pad>\n",
      "<pad>\n",
      "<pad>\n",
      "<pad>\n",
      "<pad>\n",
      "Figure 3: An example of the attention mechanism following long-distance dependencies in the\n",
      "encoder self-attention in layer 5 of 6. Many of the attention heads attend to a distant dependency of\n",
      "the verb ‘making’, completing the phrase ‘making...more difﬁcult’. Attentions here shown only for\n",
      "the word ‘making’. Different colors represent different heads. Best viewed in color.\n",
      "13\n",
      "------------\n",
      "Given the new context, refine the original summary.\n",
      "If the context isn't useful, return the original summary.\u001b[0m\n",
      "\n",
      "\u001b[1m> Finished chain.\u001b[0m\n",
      "\n",
      "\n",
      "\u001b[1m> Entering new LLMChain chain...\u001b[0m\n",
      "Prompt after formatting:\n",
      "\u001b[32;1m\u001b[1;3mYour job is to produce a final summary.\n",
      "We have provided an existing summary up to a certain point: The paper \"Attention Is All You Need\" introduces the Transformer, a novel neural network architecture that relies solely on attention mechanisms, eliminating the need for recurrent and convolutional layers. This approach enhances parallelization and reduces training time, allowing the model to achieve state-of-the-art results in machine translation, with a BLEU score of 28.4 for English-to-German and 41.8 for English-to-French. The Transformer demonstrates strong generalization capabilities across various tasks, including English constituency parsing.\n",
      "\n",
      "The architecture consists of an encoder and a decoder, each composed of a stack of six identical layers. The encoder features a multi-head self-attention mechanism and a position-wise fully connected feed-forward network, with residual connections and layer normalization applied to each sub-layer. The decoder includes an additional multi-head attention sub-layer that attends to the encoder's output, with modifications to prevent attending to future positions, ensuring that predictions depend only on known outputs.\n",
      "\n",
      "A key component of the Transformer is the Scaled Dot-Product Attention, which computes attention scores by taking the dot products of queries and keys, scaling them by the square root of their dimension, and applying a softmax function to obtain weights for the values. This method is efficient and effective, particularly when implemented with matrix multiplication. The model employs Multi-Head Attention, which allows it to project queries, keys, and values into multiple learned representations, performing attention in parallel to capture diverse information from different representation subspaces. Specifically, the Transformer uses eight parallel attention heads, each with reduced dimensionality, maintaining computational efficiency while enhancing the model's ability to jointly attend to information from different representation subspaces.\n",
      "\n",
      "The Transformer utilizes multi-head attention in three distinct ways: in encoder-decoder attention layers, where the decoder queries attend to the encoder's output; in self-attention layers within the encoder, allowing each position to attend to all previous positions; and in self-attention layers within the decoder, which are masked to prevent leftward information flow, preserving the auto-regressive property.\n",
      "\n",
      "In addition to attention sub-layers, each layer in the encoder and decoder contains a position-wise feed-forward network, consisting of two linear transformations with a ReLU activation in between. The model also incorporates learned embeddings to convert input and output tokens into vectors, and it uses positional encoding to inject information about the order of the sequence, compensating for the lack of recurrence and convolution. The positional encodings are derived from sine and cosine functions of different frequencies, allowing the model to learn relative positions effectively and potentially extrapolate to longer sequences than those encountered during training.\n",
      "\n",
      "The authors emphasize the collaborative effort behind the development and implementation of the Transformer, which represents a significant advancement in the field of sequence transduction. The paper discusses the advantages of self-attention over recurrent and convolutional layers, highlighting its lower computational complexity, greater parallelization potential, and shorter path lengths for learning long-range dependencies, making it particularly suitable for tasks involving variable-length sequences. Additionally, the authors note that self-attention could yield more interpretable models, as individual attention heads learn to perform different tasks and exhibit behavior related to the syntactic and semantic structure of sentences.\n",
      "\n",
      "The training of the Transformer models was conducted on large datasets, including the WMT 2014 English-German and English-French datasets, utilizing the Adam optimizer with a specific learning rate schedule and regularization techniques such as residual dropout. The training process was optimized for efficiency, leveraging powerful hardware to achieve significant performance improvements. Notably, the Transformer outperforms previous state-of-the-art models on the English-to-German and English-to-French translation tasks, achieving BLEU scores of 28.4 and 41.8, respectively, while requiring significantly less training cost in terms of floating point operations (FLOPs). The authors also employed label smoothing during training to improve accuracy and BLEU scores, further demonstrating the model's effectiveness.\n",
      "\n",
      "Additionally, the paper presents variations on the Transformer architecture, showing that larger models generally yield better performance, while dropout is effective in preventing overfitting. The Transformer also generalizes well to English constituency parsing, achieving competitive results compared to previous models, indicating its versatility across different tasks. The findings suggest that while certain architectural choices, such as the size of attention keys, can impact model quality, the overall design of the Transformer remains robust and effective across various applications. The authors also highlight the model's performance in small-data regimes, noting that it outperforms traditional RNN sequence-to-sequence models even with limited training data, further underscoring its efficiency and effectiveness. Future research directions include extending the Transformer to other modalities beyond text and exploring local attention mechanisms for handling larger inputs and outputs.\n",
      "\n",
      "The paper also includes attention visualizations, demonstrating how the attention mechanism can effectively capture long-distance dependencies. For instance, in the encoder's self-attention layer, certain attention heads focus on distant dependencies, such as the verb \"making\" in a sentence, illustrating the model's ability to maintain contextual relevance across longer sequences. This capability enhances the interpretability of the model, as different attention heads can be observed to learn distinct aspects of the input data.\n",
      "We have the opportunity to refine the existing summary (only if needed) with some more context below.\n",
      "------------\n",
      "Input-Input Layer5\n",
      "The\n",
      "Law\n",
      "will\n",
      "never\n",
      "be\n",
      "perfect\n",
      ",\n",
      "but\n",
      "its\n",
      "application\n",
      "should\n",
      "be\n",
      "just\n",
      "-\n",
      "this\n",
      "is\n",
      "what\n",
      "we\n",
      "are\n",
      "missing\n",
      ",\n",
      "in\n",
      "my\n",
      "opinion\n",
      ".\n",
      "<EOS>\n",
      "<pad>\n",
      "The\n",
      "Law\n",
      "will\n",
      "never\n",
      "be\n",
      "perfect\n",
      ",\n",
      "but\n",
      "its\n",
      "application\n",
      "should\n",
      "be\n",
      "just\n",
      "-\n",
      "this\n",
      "is\n",
      "what\n",
      "we\n",
      "are\n",
      "missing\n",
      ",\n",
      "in\n",
      "my\n",
      "opinion\n",
      ".\n",
      "<EOS>\n",
      "<pad>\n",
      "Input-Input Layer5\n",
      "The\n",
      "Law\n",
      "will\n",
      "never\n",
      "be\n",
      "perfect\n",
      ",\n",
      "but\n",
      "its\n",
      "application\n",
      "should\n",
      "be\n",
      "just\n",
      "-\n",
      "this\n",
      "is\n",
      "what\n",
      "we\n",
      "are\n",
      "missing\n",
      ",\n",
      "in\n",
      "my\n",
      "opinion\n",
      ".\n",
      "<EOS>\n",
      "<pad>\n",
      "The\n",
      "Law\n",
      "will\n",
      "never\n",
      "be\n",
      "perfect\n",
      ",\n",
      "but\n",
      "its\n",
      "application\n",
      "should\n",
      "be\n",
      "just\n",
      "-\n",
      "this\n",
      "is\n",
      "what\n",
      "we\n",
      "are\n",
      "missing\n",
      ",\n",
      "in\n",
      "my\n",
      "opinion\n",
      ".\n",
      "<EOS>\n",
      "<pad>\n",
      "Figure 4: Two attention heads, also in layer 5 of 6, apparently involved in anaphora resolution. Top:\n",
      "Full attentions for head 5. Bottom: Isolated attentions from just the word ‘its’ for attention heads 5\n",
      "and 6. Note that the attentions are very sharp for this word.\n",
      "14\n",
      "------------\n",
      "Given the new context, refine the original summary.\n",
      "If the context isn't useful, return the original summary.\u001b[0m\n",
      "\n",
      "\u001b[1m> Finished chain.\u001b[0m\n",
      "\n",
      "\n",
      "\u001b[1m> Entering new LLMChain chain...\u001b[0m\n",
      "Prompt after formatting:\n",
      "\u001b[32;1m\u001b[1;3mYour job is to produce a final summary.\n",
      "We have provided an existing summary up to a certain point: The paper \"Attention Is All You Need\" introduces the Transformer, a novel neural network architecture that relies solely on attention mechanisms, eliminating the need for recurrent and convolutional layers. This approach enhances parallelization and reduces training time, allowing the model to achieve state-of-the-art results in machine translation, with a BLEU score of 28.4 for English-to-German and 41.8 for English-to-French. The Transformer demonstrates strong generalization capabilities across various tasks, including English constituency parsing.\n",
      "\n",
      "The architecture consists of an encoder and a decoder, each composed of a stack of six identical layers. The encoder features a multi-head self-attention mechanism and a position-wise fully connected feed-forward network, with residual connections and layer normalization applied to each sub-layer. The decoder includes an additional multi-head attention sub-layer that attends to the encoder's output, with modifications to prevent attending to future positions, ensuring that predictions depend only on known outputs.\n",
      "\n",
      "A key component of the Transformer is the Scaled Dot-Product Attention, which computes attention scores by taking the dot products of queries and keys, scaling them by the square root of their dimension, and applying a softmax function to obtain weights for the values. This method is efficient and effective, particularly when implemented with matrix multiplication. The model employs Multi-Head Attention, which allows it to project queries, keys, and values into multiple learned representations, performing attention in parallel to capture diverse information from different representation subspaces. Specifically, the Transformer uses eight parallel attention heads, each with reduced dimensionality, maintaining computational efficiency while enhancing the model's ability to jointly attend to information from different representation subspaces.\n",
      "\n",
      "The Transformer utilizes multi-head attention in three distinct ways: in encoder-decoder attention layers, where the decoder queries attend to the encoder's output; in self-attention layers within the encoder, allowing each position to attend to all previous positions; and in self-attention layers within the decoder, which are masked to prevent leftward information flow, preserving the auto-regressive property.\n",
      "\n",
      "In addition to attention sub-layers, each layer in the encoder and decoder contains a position-wise feed-forward network, consisting of two linear transformations with a ReLU activation in between. The model also incorporates learned embeddings to convert input and output tokens into vectors, and it uses positional encoding to inject information about the order of the sequence, compensating for the lack of recurrence and convolution. The positional encodings are derived from sine and cosine functions of different frequencies, allowing the model to learn relative positions effectively and potentially extrapolate to longer sequences than those encountered during training.\n",
      "\n",
      "The authors emphasize the collaborative effort behind the development and implementation of the Transformer, which represents a significant advancement in the field of sequence transduction. The paper discusses the advantages of self-attention over recurrent and convolutional layers, highlighting its lower computational complexity, greater parallelization potential, and shorter path lengths for learning long-range dependencies, making it particularly suitable for tasks involving variable-length sequences. Additionally, the authors note that self-attention could yield more interpretable models, as individual attention heads learn to perform different tasks and exhibit behavior related to the syntactic and semantic structure of sentences.\n",
      "\n",
      "The training of the Transformer models was conducted on large datasets, including the WMT 2014 English-German and English-French datasets, utilizing the Adam optimizer with a specific learning rate schedule and regularization techniques such as residual dropout. The training process was optimized for efficiency, leveraging powerful hardware to achieve significant performance improvements. Notably, the Transformer outperforms previous state-of-the-art models on the English-to-German and English-to-French translation tasks, achieving BLEU scores of 28.4 and 41.8, respectively, while requiring significantly less training cost in terms of floating point operations (FLOPs). The authors also employed label smoothing during training to improve accuracy and BLEU scores, further demonstrating the model's effectiveness.\n",
      "\n",
      "Additionally, the paper presents variations on the Transformer architecture, showing that larger models generally yield better performance, while dropout is effective in preventing overfitting. The Transformer also generalizes well to English constituency parsing, achieving competitive results compared to previous models, indicating its versatility across different tasks. The findings suggest that while certain architectural choices, such as the size of attention keys, can impact model quality, the overall design of the Transformer remains robust and effective across various applications. The authors also highlight the model's performance in small-data regimes, noting that it outperforms traditional RNN sequence-to-sequence models even with limited training data, further underscoring its efficiency and effectiveness. Future research directions include extending the Transformer to other modalities beyond text and exploring local attention mechanisms for handling larger inputs and outputs.\n",
      "\n",
      "The paper also includes attention visualizations, demonstrating how the attention mechanism can effectively capture long-distance dependencies. For instance, in the encoder's self-attention layer, certain attention heads focus on distant dependencies, such as the verb \"making\" in a sentence, illustrating the model's ability to maintain contextual relevance across longer sequences. This capability enhances the interpretability of the model, as different attention heads can be observed to learn distinct aspects of the input data. Notably, the paper also highlights specific attention heads involved in tasks like anaphora resolution, showcasing the model's ability to focus sharply on relevant words, further emphasizing the interpretability and effectiveness of the attention mechanism in understanding complex linguistic structures.\n",
      "We have the opportunity to refine the existing summary (only if needed) with some more context below.\n",
      "------------\n",
      "Input-Input Layer5\n",
      "The\n",
      "Law\n",
      "will\n",
      "never\n",
      "be\n",
      "perfect\n",
      ",\n",
      "but\n",
      "its\n",
      "application\n",
      "should\n",
      "be\n",
      "just\n",
      "-\n",
      "this\n",
      "is\n",
      "what\n",
      "we\n",
      "are\n",
      "missing\n",
      ",\n",
      "in\n",
      "my\n",
      "opinion\n",
      ".\n",
      "<EOS>\n",
      "<pad>\n",
      "The\n",
      "Law\n",
      "will\n",
      "never\n",
      "be\n",
      "perfect\n",
      ",\n",
      "but\n",
      "its\n",
      "application\n",
      "should\n",
      "be\n",
      "just\n",
      "-\n",
      "this\n",
      "is\n",
      "what\n",
      "we\n",
      "are\n",
      "missing\n",
      ",\n",
      "in\n",
      "my\n",
      "opinion\n",
      ".\n",
      "<EOS>\n",
      "<pad>\n",
      "Input-Input Layer5\n",
      "The\n",
      "Law\n",
      "will\n",
      "never\n",
      "be\n",
      "perfect\n",
      ",\n",
      "but\n",
      "its\n",
      "application\n",
      "should\n",
      "be\n",
      "just\n",
      "-\n",
      "this\n",
      "is\n",
      "what\n",
      "we\n",
      "are\n",
      "missing\n",
      ",\n",
      "in\n",
      "my\n",
      "opinion\n",
      ".\n",
      "<EOS>\n",
      "<pad>\n",
      "The\n",
      "Law\n",
      "will\n",
      "never\n",
      "be\n",
      "perfect\n",
      ",\n",
      "but\n",
      "its\n",
      "application\n",
      "should\n",
      "be\n",
      "just\n",
      "-\n",
      "this\n",
      "is\n",
      "what\n",
      "we\n",
      "are\n",
      "missing\n",
      ",\n",
      "in\n",
      "my\n",
      "opinion\n",
      ".\n",
      "<EOS>\n",
      "<pad>\n",
      "Figure 5: Many of the attention heads exhibit behaviour that seems related to the structure of the\n",
      "sentence. We give two such examples above, from two different heads from the encoder self-attention\n",
      "at layer 5 of 6. The heads clearly learned to perform different tasks.\n",
      "15\n",
      "------------\n",
      "Given the new context, refine the original summary.\n",
      "If the context isn't useful, return the original summary.\u001b[0m\n",
      "\n",
      "\u001b[1m> Finished chain.\u001b[0m\n",
      "\n",
      "\u001b[1m> Finished chain.\u001b[0m\n"
     ]
    }
   ],
   "source": [
    "llm = ChatOpenAI(temperature=0, model_name='gpt-4o-mini')\n",
    "chain = load_summarize_chain(\n",
    "    llm=llm,\n",
    "    chain_type='refine',\n",
    "    verbose=True\n",
    ")\n",
    "output_summary = chain.invoke(pdf_chunks)"
   ]
  },
  {
   "cell_type": "code",
   "execution_count": 101,
   "id": "7940743d-b1f7-452e-9ea4-0e0a5aa256f2",
   "metadata": {},
   "outputs": [
    {
     "data": {
      "text/markdown": [
       "The paper \"Attention Is All You Need\" introduces the Transformer, a novel neural network architecture that relies solely on attention mechanisms, eliminating the need for recurrent and convolutional layers. This approach enhances parallelization and reduces training time, allowing the model to achieve state-of-the-art results in machine translation, with a BLEU score of 28.4 for English-to-German and 41.8 for English-to-French. The Transformer demonstrates strong generalization capabilities across various tasks, including English constituency parsing.\n",
       "\n",
       "The architecture consists of an encoder and a decoder, each composed of a stack of six identical layers. The encoder features a multi-head self-attention mechanism and a position-wise fully connected feed-forward network, with residual connections and layer normalization applied to each sub-layer. The decoder includes an additional multi-head attention sub-layer that attends to the encoder's output, with modifications to prevent attending to future positions, ensuring that predictions depend only on known outputs.\n",
       "\n",
       "A key component of the Transformer is the Scaled Dot-Product Attention, which computes attention scores by taking the dot products of queries and keys, scaling them by the square root of their dimension, and applying a softmax function to obtain weights for the values. This method is efficient and effective, particularly when implemented with matrix multiplication. The model employs Multi-Head Attention, which allows it to project queries, keys, and values into multiple learned representations, performing attention in parallel to capture diverse information from different representation subspaces. Specifically, the Transformer uses eight parallel attention heads, each with reduced dimensionality, maintaining computational efficiency while enhancing the model's ability to jointly attend to information from different representation subspaces.\n",
       "\n",
       "The Transformer utilizes multi-head attention in three distinct ways: in encoder-decoder attention layers, where the decoder queries attend to the encoder's output; in self-attention layers within the encoder, allowing each position to attend to all previous positions; and in self-attention layers within the decoder, which are masked to prevent leftward information flow, preserving the auto-regressive property.\n",
       "\n",
       "In addition to attention sub-layers, each layer in the encoder and decoder contains a position-wise feed-forward network, consisting of two linear transformations with a ReLU activation in between. The model also incorporates learned embeddings to convert input and output tokens into vectors, and it uses positional encoding to inject information about the order of the sequence, compensating for the lack of recurrence and convolution. The positional encodings are derived from sine and cosine functions of different frequencies, allowing the model to learn relative positions effectively and potentially extrapolate to longer sequences than those encountered during training.\n",
       "\n",
       "The authors emphasize the collaborative effort behind the development and implementation of the Transformer, which represents a significant advancement in the field of sequence transduction. The paper discusses the advantages of self-attention over recurrent and convolutional layers, highlighting its lower computational complexity, greater parallelization potential, and shorter path lengths for learning long-range dependencies, making it particularly suitable for tasks involving variable-length sequences. Additionally, the authors note that self-attention could yield more interpretable models, as individual attention heads learn to perform different tasks and exhibit behavior related to the syntactic and semantic structure of sentences.\n",
       "\n",
       "The training of the Transformer models was conducted on large datasets, including the WMT 2014 English-German and English-French datasets, utilizing the Adam optimizer with a specific learning rate schedule and regularization techniques such as residual dropout. The training process was optimized for efficiency, leveraging powerful hardware to achieve significant performance improvements. Notably, the Transformer outperforms previous state-of-the-art models on the English-to-German and English-to-French translation tasks, achieving BLEU scores of 28.4 and 41.8, respectively, while requiring significantly less training cost in terms of floating point operations (FLOPs). The authors also employed label smoothing during training to improve accuracy and BLEU scores, further demonstrating the model's effectiveness.\n",
       "\n",
       "Additionally, the paper presents variations on the Transformer architecture, showing that larger models generally yield better performance, while dropout is effective in preventing overfitting. The Transformer also generalizes well to English constituency parsing, achieving competitive results compared to previous models, indicating its versatility across different tasks. The findings suggest that while certain architectural choices, such as the size of attention keys, can impact model quality, the overall design of the Transformer remains robust and effective across various applications. The authors also highlight the model's performance in small-data regimes, noting that it outperforms traditional RNN sequence-to-sequence models even with limited training data, further underscoring its efficiency and effectiveness. Future research directions include extending the Transformer to other modalities beyond text and exploring local attention mechanisms for handling larger inputs and outputs.\n",
       "\n",
       "The paper also includes attention visualizations, demonstrating how the attention mechanism can effectively capture long-distance dependencies. For instance, in the encoder's self-attention layer, certain attention heads focus on distant dependencies, such as the verb \"making\" in a sentence, illustrating the model's ability to maintain contextual relevance across longer sequences. This capability enhances the interpretability of the model, as different attention heads can be observed to learn distinct aspects of the input data. Notably, the paper highlights specific attention heads involved in tasks like anaphora resolution, showcasing the model's ability to focus sharply on relevant words, further emphasizing the interpretability and effectiveness of the attention mechanism in understanding complex linguistic structures. The attention visualizations also reveal that many attention heads exhibit behavior related to the structure of sentences, indicating that the model learns to perform different tasks effectively."
      ],
      "text/plain": [
       "<IPython.core.display.Markdown object>"
      ]
     },
     "metadata": {},
     "output_type": "display_data"
    }
   ],
   "source": [
    "display(Markdown(output_summary[\"output_text\"]))"
   ]
  },
  {
   "cell_type": "markdown",
   "id": "ffcd8ce3-9b4e-4dfd-8b70-7bc3d771df6f",
   "metadata": {},
   "source": [
    "### refine with Custom Prompts"
   ]
  },
  {
   "cell_type": "code",
   "execution_count": 102,
   "id": "526bbe10-d2ba-4b08-8640-9f0d42ba36f4",
   "metadata": {},
   "outputs": [],
   "source": [
    "prompt_template = \"\"\"Write a concise summary of the following extracting the key information:\n",
    "Text: `{text}`\n",
    "CONCISE SUMMARY:\"\"\"\n",
    "initial_prompt = PromptTemplate(template=prompt_template, input_variables=['text'])\n",
    "\n",
    "refine_template = '''\n",
    "    Your job is to produce a final summary.\n",
    "    I have provided an existing summary up to a certain point: {existing_answer}.\n",
    "    Please refine the existing summary with some more context below.\n",
    "    ------------\n",
    "    {text}\n",
    "    ------------\n",
    "    Start the final summary with an INTRODUCTION PARAGRAPH that gives an overview of the topic FOLLOWED\n",
    "    by BULLET POINTS if possible AND end the summary with a CONCLUSION PHRASE.\n",
    "    \n",
    "'''\n",
    "refine_prompt = PromptTemplate(\n",
    "    template=refine_template,\n",
    "    input_variables=['existing_answer', 'text']\n",
    ")"
   ]
  },
  {
   "cell_type": "code",
   "execution_count": 103,
   "id": "dc44a365-3cf7-4894-a225-0484a86c897d",
   "metadata": {},
   "outputs": [],
   "source": [
    "chain = load_summarize_chain(\n",
    "    llm=llm,\n",
    "    chain_type='refine',\n",
    "    question_prompt=initial_prompt,\n",
    "    refine_prompt=refine_prompt,\n",
    "    return_intermediate_steps=False\n",
    "    \n",
    ")\n",
    "output_summary = chain.invoke(pdf_chunks)"
   ]
  },
  {
   "cell_type": "code",
   "execution_count": 104,
   "id": "96d75506-7471-4703-a34d-015575a73c7d",
   "metadata": {},
   "outputs": [
    {
     "data": {
      "text/markdown": [
       "**Introduction**  \n",
       "The paper \"Attention Is All You Need\" introduces the Transformer model, a groundbreaking architecture that has significantly advanced the field of natural language processing (NLP) by relying solely on attention mechanisms. This model addresses the shortcomings of traditional recurrent and convolutional networks, resulting in enhanced training efficiency, superior performance, and the ability to effectively manage long-range dependencies in data. The Transformer not only sets new standards for sequence transduction tasks but also opens avenues for future innovations in machine learning. The paper thoroughly explores the components of the Transformer and showcases its effectiveness across various applications, including machine translation and other NLP tasks.\n",
       "\n",
       "**Key Points:**\n",
       "- **Architecture**: The Transformer consists of an encoder-decoder structure, each with six identical layers utilizing multi-head self-attention and position-wise feed-forward networks.\n",
       "- **Multi-Head Attention**: This feature enables the model to focus on different representation subspaces, capturing a diverse range of relationships within the data.\n",
       "- **Attention Mechanism**: The attention function maps queries to key-value pairs, producing outputs as weighted sums based on the compatibility of queries with keys.\n",
       "- **Scaled Dot-Product Attention**: This method computes dot products of queries and keys, scales them, and applies a softmax function to derive weights, effectively addressing gradient flow issues.\n",
       "- **Residual Connections and Layer Normalization**: These techniques improve training stability and overall performance in both encoder and decoder layers.\n",
       "- **Position-wise Feed-Forward Networks**: Each layer includes a fully connected feed-forward network, applied independently to each position.\n",
       "- **Positional Encoding**: The model employs positional encodings to maintain sequence order, using sine and cosine functions to learn relative positions.\n",
       "- **Performance**: The Transformer achieves state-of-the-art results in machine translation, significantly improving BLEU scores and outperforming previous models while reducing training time.\n",
       "- **Efficiency**: The model can be trained in as little as twelve hours on eight P100 GPUs, demonstrating its computational efficiency.\n",
       "- **Versatility**: The Transformer has been successfully applied to various tasks, including English constituency parsing, reading comprehension, and abstractive summarization.\n",
       "- **Self-Attention**: This mechanism enhances the model's ability to capture long-range dependencies, improving performance across diverse tasks.\n",
       "- **Comparative Analysis**: Self-attention layers exhibit lower computational complexity and greater parallelization compared to recurrent and convolutional layers.\n",
       "- **Training Regime**: The models were trained on WMT 2014 datasets, utilizing byte-pair encoding and a shared vocabulary, with a focus on optimization techniques.\n",
       "- **Results**: The Transformer outperforms previous models in BLEU scores for English-to-German and English-to-French translations, achieving these results with lower computational costs.\n",
       "- **Model Variations**: The paper explores variations in the Transformer model, revealing optimal ranges for attention heads and the significance of dropout in preventing overfitting.\n",
       "- **Generalization**: The architecture generalizes well to tasks beyond translation, achieving competitive F1 scores in English constituency parsing.\n",
       "- **Small Data Regimes**: The Transformer shows promising results in small-data scenarios, outperforming traditional RNN models.\n",
       "- **Attention Visualizations**: The paper includes visualizations of the attention mechanism, illustrating how the model captures long-distance dependencies. For example, in the encoder's self-attention layer, attention heads focus on the verb \"making,\" maintaining contextual relevance across distances. Additionally, attention heads in layer 5 demonstrate their role in anaphora resolution, showcasing sharp attentions for the word \"its.\"\n",
       "- **Layer-Specific Behavior**: Attention heads in layer 5 exhibit behavior related to sentence structure, indicating that different heads have learned to perform distinct tasks, further enhancing the model's interpretability.\n",
       "\n",
       "**Conclusion**  \n",
       "The introduction of the Transformer architecture represents a significant leap forward in neural network design, providing a robust framework for addressing a wide range of sequence transduction challenges. Its innovative attention mechanisms not only enhance performance but also lay the groundwork for future developments in natural language processing and related fields. The ongoing exploration of self-attention and its implications for model interpretability and efficiency underscores the Transformer's potential to shape the future of machine learning."
      ],
      "text/plain": [
       "<IPython.core.display.Markdown object>"
      ]
     },
     "metadata": {},
     "output_type": "display_data"
    }
   ],
   "source": [
    "display(Markdown(output_summary[\"output_text\"]))"
   ]
  },
  {
   "cell_type": "markdown",
   "id": "80be7f04-2570-479e-95f7-f6e613ff5107",
   "metadata": {},
   "source": [
    "## Summarizing Using LangChain Agents"
   ]
  },
  {
   "cell_type": "code",
   "execution_count": 112,
   "id": "7b83ce87-5534-4f76-abf5-469d924ebc01",
   "metadata": {},
   "outputs": [],
   "source": [
    "from langchain_openai import ChatOpenAI\n",
    "from langchain import hub\n",
    "from langchain.agents import create_react_agent, Tool, AgentExecutor\n",
    "from langchain_community.utilities import WikipediaAPIWrapper"
   ]
  },
  {
   "cell_type": "code",
   "execution_count": 114,
   "id": "8d3be8a6-472e-44a0-b8aa-e242598f2bc4",
   "metadata": {},
   "outputs": [
    {
     "name": "stdin",
     "output_type": "stream",
     "text": [
      "Enter your LANGCHAIN_API_KEY:  ········\n"
     ]
    }
   ],
   "source": [
    "os.environ[\"LANGCHAIN_API_KEY\"] = getpass.getpass(\"Enter your LANGCHAIN_API_KEY: \")"
   ]
  },
  {
   "cell_type": "code",
   "execution_count": 115,
   "id": "1609559b-dc1a-4de9-8e58-b228ec529af0",
   "metadata": {},
   "outputs": [
    {
     "name": "stderr",
     "output_type": "stream",
     "text": [
      "/opt/conda/lib/python3.11/site-packages/langsmith/client.py:241: LangSmithMissingAPIKeyWarning: API key must be provided when using hosted LangSmith API\n",
      "  warnings.warn(\n"
     ]
    }
   ],
   "source": [
    "llm = ChatOpenAI(temperature=0, model_name='gpt-4o-mini')\n",
    "wikipedia = WikipediaAPIWrapper()\n",
    "prompt = hub.pull(\"hwchase17/react\")"
   ]
  },
  {
   "cell_type": "code",
   "execution_count": 108,
   "id": "5a57016b-e0f1-4247-8450-b6591250bff3",
   "metadata": {},
   "outputs": [],
   "source": [
    "tools = [\n",
    "    Tool(\n",
    "        name=\"Wikipedia\", \n",
    "        func=wikipedia.run,\n",
    "        description=\"Useful for when you need to get information from wikipedia about a single topic\"\n",
    "    )\n",
    "]"
   ]
  },
  {
   "cell_type": "code",
   "execution_count": 116,
   "id": "ac391ff3-d4eb-4bde-8183-d5a36305e7d7",
   "metadata": {},
   "outputs": [],
   "source": [
    "agent = create_react_agent(llm, tools, prompt)\n",
    "agent_executor = AgentExecutor(agent=agent, tools=tools)"
   ]
  },
  {
   "cell_type": "code",
   "execution_count": 119,
   "id": "e7a09bba-e8e5-44e2-abe5-eb479a584011",
   "metadata": {},
   "outputs": [],
   "source": [
    "output = agent_executor.invoke({\"input\": \"Can you please provide a summary of LLMs, RAG, and llm agents\"})"
   ]
  },
  {
   "cell_type": "code",
   "execution_count": 122,
   "id": "fa28c39f-afb8-4b74-b4ca-bea64d58aa08",
   "metadata": {},
   "outputs": [
    {
     "data": {
      "text/markdown": [
       "**Large Language Models (LLMs)** are advanced computational models designed for natural language processing tasks, such as language generation. They learn statistical relationships from vast amounts of text through self-supervised and semi-supervised training. The most capable LLMs utilize a transformer-based architecture, allowing efficient processing and generation of text. They can be fine-tuned for specific tasks and are influenced by prompt engineering.\n",
       "\n",
       "**Retrieval-Augmented Generation (RAG)** is a technique that enhances LLMs by integrating information retrieval capabilities. This allows LLMs to respond to queries using both their training data and specific documents, enabling them to provide more accurate and up-to-date information. RAG is particularly useful in applications like chatbots that need access to internal data or authoritative sources.\n",
       "\n",
       "**LLM Agents** refer to multi-agent systems that leverage LLMs to enable sophisticated interactions among multiple intelligent agents. These systems can tackle complex problems that individual agents cannot solve alone. The integration of LLMs into multi-agent systems represents a new research area, enhancing the capabilities of agents in various applications, including online trading and disaster response."
      ],
      "text/plain": [
       "<IPython.core.display.Markdown object>"
      ]
     },
     "metadata": {},
     "output_type": "display_data"
    }
   ],
   "source": [
    "display(Markdown(output[\"output\"]))"
   ]
  },
  {
   "cell_type": "code",
   "execution_count": null,
   "id": "58b94948-4933-4934-a662-05b2ada82b9f",
   "metadata": {},
   "outputs": [],
   "source": []
  }
 ],
 "metadata": {
  "kernelspec": {
   "display_name": "Python 3 (ipykernel)",
   "language": "python",
   "name": "python3"
  },
  "language_info": {
   "codemirror_mode": {
    "name": "ipython",
    "version": 3
   },
   "file_extension": ".py",
   "mimetype": "text/x-python",
   "name": "python",
   "nbconvert_exporter": "python",
   "pygments_lexer": "ipython3",
   "version": "3.11.9"
  }
 },
 "nbformat": 4,
 "nbformat_minor": 5
}
