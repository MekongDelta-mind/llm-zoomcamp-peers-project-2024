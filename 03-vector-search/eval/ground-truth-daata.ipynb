{
 "cells": [
  {
   "cell_type": "markdown",
   "metadata": {},
   "source": [
    "# Ground Truth Dataset Generation For Retrieval Evaluation"
   ]
  },
  {
   "cell_type": "code",
   "execution_count": 1,
   "metadata": {},
   "outputs": [],
   "source": [
    "import requests \n",
    "\n",
    "docs_url = 'https://github.com/DataTalksClub/llm-zoomcamp/blob/main/01-intro/documents.json?raw=1'\n",
    "docs_response = requests.get(docs_url)\n",
    "documents_raw = docs_response.json()\n",
    "\n",
    "documents = []\n",
    "\n",
    "for course in documents_raw:\n",
    "    course_name = course['course']\n",
    "\n",
    "    for doc in course['documents']:\n",
    "        doc['course'] = course_name\n",
    "        documents.append(doc)"
   ]
  },
  {
   "cell_type": "code",
   "execution_count": 2,
   "metadata": {},
   "outputs": [
    {
     "data": {
      "text/plain": [
       "{'text': 'GitHub - DataTalksClub data-engineering-zoomcamp#prerequisites',\n",
       " 'section': 'General course-related questions',\n",
       " 'question': 'Course - What are the prerequisites for this course?',\n",
       " 'course': 'data-engineering-zoomcamp'}"
      ]
     },
     "execution_count": 2,
     "metadata": {},
     "output_type": "execute_result"
    }
   ],
   "source": [
    "documents[1]"
   ]
  },
  {
   "cell_type": "markdown",
   "metadata": {},
   "source": [
    "## Assign a unique id/number to each document record\n",
    "\n",
    "We need to make sure that each record has a unique id"
   ]
  },
  {
   "cell_type": "code",
   "execution_count": 3,
   "metadata": {},
   "outputs": [],
   "source": [
    "import hashlib\n",
    "\n",
    "def generate_document_id(doc):\n",
    "    # combined = f\"{doc['course']}-{doc['question']}\"\n",
    "    combined = f\"{doc['course']}-{doc['question']}-{doc['text'][:10]}\"\n",
    "    hash_object = hashlib.md5(combined.encode())\n",
    "    hash_hex = hash_object.hexdigest()\n",
    "    document_id = hash_hex[:8]\n",
    "    return document_id"
   ]
  },
  {
   "cell_type": "code",
   "execution_count": 4,
   "metadata": {},
   "outputs": [],
   "source": [
    "for doc in documents:\n",
    "    doc['id'] = generate_document_id(doc)"
   ]
  },
  {
   "cell_type": "code",
   "execution_count": 5,
   "metadata": {},
   "outputs": [
    {
     "data": {
      "text/plain": [
       "[{'text': \"The purpose of this document is to capture frequently asked technical questions\\nThe exact day and hour of the course will be 15th Jan 2024 at 17h00. The course will start with the first  “Office Hours'' live.1\\nSubscribe to course public Google Calendar (it works from Desktop only).\\nRegister before the course starts using this link.\\nJoin the course Telegram channel with announcements.\\nDon’t forget to register in DataTalks.Club's Slack and join the channel.\",\n",
       "  'section': 'General course-related questions',\n",
       "  'question': 'Course - When will the course start?',\n",
       "  'course': 'data-engineering-zoomcamp',\n",
       "  'id': 'c02e79ef'},\n",
       " {'text': 'GitHub - DataTalksClub data-engineering-zoomcamp#prerequisites',\n",
       "  'section': 'General course-related questions',\n",
       "  'question': 'Course - What are the prerequisites for this course?',\n",
       "  'course': 'data-engineering-zoomcamp',\n",
       "  'id': '1f6520ca'},\n",
       " {'text': \"Yes, even if you don't register, you're still eligible to submit the homeworks.\\nBe aware, however, that there will be deadlines for turning in the final projects. So don't leave everything for the last minute.\",\n",
       "  'section': 'General course-related questions',\n",
       "  'question': 'Course - Can I still join the course after the start date?',\n",
       "  'course': 'data-engineering-zoomcamp',\n",
       "  'id': '7842b56a'}]"
      ]
     },
     "execution_count": 5,
     "metadata": {},
     "output_type": "execute_result"
    }
   ],
   "source": [
    "documents[:3]"
   ]
  },
  {
   "cell_type": "code",
   "execution_count": 6,
   "metadata": {},
   "outputs": [],
   "source": [
    "from collections import defaultdict"
   ]
  },
  {
   "cell_type": "code",
   "execution_count": 7,
   "metadata": {},
   "outputs": [],
   "source": [
    "hashes = defaultdict(list)\n",
    "\n",
    "for doc in documents:\n",
    "    doc_id = doc['id']\n",
    "    hashes[doc_id].append(doc)"
   ]
  },
  {
   "cell_type": "code",
   "execution_count": 8,
   "metadata": {},
   "outputs": [
    {
     "data": {
      "text/plain": [
       "(947, 948)"
      ]
     },
     "execution_count": 8,
     "metadata": {},
     "output_type": "execute_result"
    }
   ],
   "source": [
    "# We see that we have some duplicates whic we can neglet for now.\n",
    "len(hashes), len(documents)"
   ]
  },
  {
   "cell_type": "code",
   "execution_count": 9,
   "metadata": {},
   "outputs": [
    {
     "name": "stdout",
     "output_type": "stream",
     "text": [
      "593f7569 2\n"
     ]
    }
   ],
   "source": [
    "for k, values in hashes.items():\n",
    "    if len(values) > 1:\n",
    "        print(k, len(values))"
   ]
  },
  {
   "cell_type": "code",
   "execution_count": 10,
   "metadata": {},
   "outputs": [
    {
     "data": {
      "text/plain": [
       "[{'text': \"They both do the same, it's just less typing from the script.\\nAsked by Andrew Katoch, Added by Edidiong Esu\",\n",
       "  'section': '6. Decision Trees and Ensemble Learning',\n",
       "  'question': 'Does it matter if we let the Python file create the server or if we run gunicorn directly?',\n",
       "  'course': 'machine-learning-zoomcamp',\n",
       "  'id': '593f7569'},\n",
       " {'text': \"They both do the same, it's just less typing from the script.\",\n",
       "  'section': '6. Decision Trees and Ensemble Learning',\n",
       "  'question': 'Does it matter if we let the Python file create the server or if we run gunicorn directly?',\n",
       "  'course': 'machine-learning-zoomcamp',\n",
       "  'id': '593f7569'}]"
      ]
     },
     "execution_count": 10,
     "metadata": {},
     "output_type": "execute_result"
    }
   ],
   "source": [
    "hashes['593f7569']"
   ]
  },
  {
   "cell_type": "markdown",
   "metadata": {},
   "source": [
    "## Saving documents with their generated hashed ids"
   ]
  },
  {
   "cell_type": "code",
   "execution_count": 11,
   "metadata": {},
   "outputs": [],
   "source": [
    "import json"
   ]
  },
  {
   "cell_type": "code",
   "execution_count": 12,
   "metadata": {},
   "outputs": [],
   "source": [
    "with open('documents-with-ids.json', 'wt') as f_out:\n",
    "    json.dump(documents, f_out, indent=2)"
   ]
  },
  {
   "cell_type": "code",
   "execution_count": 13,
   "metadata": {},
   "outputs": [
    {
     "name": "stdout",
     "output_type": "stream",
     "text": [
      "[\n",
      "  {\n",
      "    \"text\": \"The purpose of this document is to capture frequently asked technical questions\\nThe exact day and hour of the course will be 15th Jan 2024 at 17h00. The course will start with the first  \\u201cOffice Hours'' live.1\\nSubscribe to course public Google Calendar (it works from Desktop only).\\nRegister before the course starts using this link.\\nJoin the course Telegram channel with announcements.\\nDon\\u2019t forget to register in DataTalks.Club's Slack and join the channel.\",\n",
      "    \"section\": \"General course-related questions\",\n",
      "    \"question\": \"Course - When will the course start?\",\n",
      "    \"course\": \"data-engineering-zoomcamp\",\n",
      "    \"id\": \"c02e79ef\"\n",
      "  },\n",
      "  {\n",
      "    \"text\": \"GitHub - DataTalksClub data-engineering-zoomcamp#prerequisites\",\n",
      "    \"section\": \"General course-related questions\",\n",
      "    \"question\": \"Course - What are the prerequisites for this course?\",\n",
      "    \"course\": \"data-engineering-zoomcamp\",\n",
      "    \"id\": \"1f6520ca\"\n",
      "  },\n",
      "  {\n",
      "    \"text\": \"Yes, even if you don't register, you're still eligible to submit the homeworks.\\nBe aware, however, that there will be deadlines for turning in the final projects. So don't leave everything for the last minute.\",\n",
      "    \"section\": \"General course-related questions\",\n",
      "    \"question\": \"Course - Can I still join the course after the start date?\",\n",
      "    \"course\": \"data-engineering-zoomcamp\",\n"
     ]
    }
   ],
   "source": [
    "!head -n 20 documents-with-ids.json"
   ]
  },
  {
   "cell_type": "markdown",
   "metadata": {},
   "source": [
    "## Generating users' questions for each document record using the LLM"
   ]
  },
  {
   "cell_type": "code",
   "execution_count": 21,
   "metadata": {},
   "outputs": [],
   "source": [
    "prompt_template = \"\"\"\n",
    "You emulate a student who's taking our course.\n",
    "Formulate 5 questions this student might ask based on a FAQ record. The record\n",
    "should contain the answer to the questions, and the questions should be complete and not too short.\n",
    "If possible, use as fewer words as possible from the record. \n",
    "\n",
    "The record:\n",
    "\n",
    "section: {section}\n",
    "question: {question}\n",
    "answer: {text}\n",
    "\n",
    "Provide the output in parsable JSON without using code blocks:\n",
    "\n",
    "[\"question1\", \"question2\", ..., \"question5\"]\n",
    "\"\"\".strip()"
   ]
  },
  {
   "cell_type": "code",
   "execution_count": 14,
   "metadata": {},
   "outputs": [
    {
     "data": {
      "text/plain": [
       "True"
      ]
     },
     "execution_count": 14,
     "metadata": {},
     "output_type": "execute_result"
    }
   ],
   "source": [
    "import os\n",
    "from groq import Groq\n",
    "from dotenv import load_dotenv\n",
    "\n",
    "load_dotenv()"
   ]
  },
  {
   "cell_type": "code",
   "execution_count": 15,
   "metadata": {},
   "outputs": [],
   "source": [
    "client = Groq(\n",
    "    api_key=os.environ.get(\"GROQ_API_KEY\"),\n",
    ")"
   ]
  },
  {
   "cell_type": "code",
   "execution_count": 19,
   "metadata": {},
   "outputs": [],
   "source": [
    "def generate_questions(doc):\n",
    "    prompt = prompt_template.format(**doc)\n",
    "\n",
    "    response = client.chat.completions.create(\n",
    "        model='llama3-8b-8192',\n",
    "        messages=[{\"role\": \"user\", \"content\": prompt}]\n",
    "    )\n",
    "\n",
    "    json_response = response.choices[0].message.content\n",
    "    return json_response"
   ]
  },
  {
   "cell_type": "code",
   "execution_count": 40,
   "metadata": {},
   "outputs": [
    {
     "data": {
      "text/plain": [
       "{'text': \"The purpose of this document is to capture frequently asked technical questions\\nThe exact day and hour of the course will be 15th Jan 2024 at 17h00. The course will start with the first  “Office Hours'' live.1\\nSubscribe to course public Google Calendar (it works from Desktop only).\\nRegister before the course starts using this link.\\nJoin the course Telegram channel with announcements.\\nDon’t forget to register in DataTalks.Club's Slack and join the channel.\",\n",
       " 'section': 'General course-related questions',\n",
       " 'question': 'Course - When will the course start?',\n",
       " 'course': 'data-engineering-zoomcamp',\n",
       " 'id': 'c02e79ef'}"
      ]
     },
     "execution_count": 40,
     "metadata": {},
     "output_type": "execute_result"
    }
   ],
   "source": [
    "doc = documents[0]\n",
    "doc"
   ]
  },
  {
   "cell_type": "code",
   "execution_count": 41,
   "metadata": {},
   "outputs": [
    {
     "data": {
      "text/plain": [
       "'Here are the 5 questions the student might ask based on the FAQ record:\\n\\n[\\n\"Can you please tell me the exact start date and time of the course?\",\\n\"How will I receive updates about the course\",\\n\"What is the format of the first live session of the course?\",\\n\"Can I register for the course from any device?\",\\n\"Are there any additional steps I need to take to fully participate in the course?\"'"
      ]
     },
     "execution_count": 41,
     "metadata": {},
     "output_type": "execute_result"
    }
   ],
   "source": [
    "json_response = generate_questions(doc)\n",
    "json_response"
   ]
  },
  {
   "cell_type": "code",
   "execution_count": 42,
   "metadata": {},
   "outputs": [
    {
     "name": "stdout",
     "output_type": "stream",
     "text": [
      "Here are the 5 questions the student might ask based on the FAQ record:\n",
      "\n",
      "[\n",
      "\"Can you please tell me the exact start date and time of the course?\",\n",
      "\"How will I receive updates about the course\",\n",
      "\"What is the format of the first live session of the course?\",\n",
      "\"Can I register for the course from any device?\",\n",
      "\"Are there any additional steps I need to take to fully participate in the course?\"\n"
     ]
    }
   ],
   "source": [
    "print(json_response)"
   ]
  },
  {
   "cell_type": "markdown",
   "metadata": {},
   "source": [
    "#### Generate questions for each doc"
   ]
  },
  {
   "cell_type": "code",
   "execution_count": 43,
   "metadata": {},
   "outputs": [
    {
     "name": "stderr",
     "output_type": "stream",
     "text": [
      "/Users/patrickcmd/Projects/personal/llm-zoomcamp/env/lib/python3.11/site-packages/tqdm/auto.py:21: TqdmWarning: IProgress not found. Please update jupyter and ipywidgets. See https://ipywidgets.readthedocs.io/en/stable/user_install.html\n",
      "  from .autonotebook import tqdm as notebook_tqdm\n"
     ]
    }
   ],
   "source": [
    "from tqdm.auto import tqdm"
   ]
  },
  {
   "cell_type": "code",
   "execution_count": 44,
   "metadata": {},
   "outputs": [],
   "source": [
    "results = {}"
   ]
  },
  {
   "cell_type": "code",
   "execution_count": 45,
   "metadata": {},
   "outputs": [
    {
     "name": "stderr",
     "output_type": "stream",
     "text": [
      "100%|██████████| 948/948 [49:04<00:00,  3.11s/it] \n"
     ]
    }
   ],
   "source": [
    "for doc in tqdm(documents): \n",
    "    doc_id = doc['id']\n",
    "    if doc_id in results:\n",
    "        continue\n",
    "\n",
    "    questions = generate_questions(doc)\n",
    "    results[doc_id] = questions"
   ]
  },
  {
   "cell_type": "code",
   "execution_count": 46,
   "metadata": {},
   "outputs": [
    {
     "data": {
      "text/plain": [
       "'Here are 5 questions the student might ask based on the FAQ record:\\n\\n[\\n\"How do decision trees and ensemble learning relate to each other?\",\\n\"What is a server in the context of Python and gunicorn?\",\\n\"Won\\'t running gunicorn directly cause any issues\",\\n\"How can I avoid overfitting in my decision tree\",\\n\"Can I use gunicorn to run multiple Python files simultaneously\"\\n]'"
      ]
     },
     "execution_count": 46,
     "metadata": {},
     "output_type": "execute_result"
    }
   ],
   "source": [
    "results[\"593f7569\"]"
   ]
  },
  {
   "cell_type": "code",
   "execution_count": 47,
   "metadata": {},
   "outputs": [
    {
     "name": "stdout",
     "output_type": "stream",
     "text": [
      "Here are 5 questions the student might ask based on the FAQ record:\n",
      "\n",
      "[\n",
      "\"How do decision trees and ensemble learning relate to each other?\",\n",
      "\"What is a server in the context of Python and gunicorn?\",\n",
      "\"Won't running gunicorn directly cause any issues\",\n",
      "\"How can I avoid overfitting in my decision tree\",\n",
      "\"Can I use gunicorn to run multiple Python files simultaneously\"\n",
      "]\n"
     ]
    }
   ],
   "source": [
    "print(results[\"593f7569\"])"
   ]
  },
  {
   "cell_type": "code",
   "execution_count": 106,
   "metadata": {},
   "outputs": [],
   "source": [
    "def extract_questions(input_string):\n",
    "    start_token = '['\n",
    "    end_token = ']'\n",
    "    \n",
    "    start_index = input_string.find(start_token)\n",
    "    if start_index == -1:\n",
    "        return None\n",
    "    \n",
    "    end_index = input_string.find(end_token, start_index)\n",
    "    \n",
    "    if end_index == -1:\n",
    "        # If end token is not found, extract till the end of the string and append the closing bracket\n",
    "        questions_part = input_string[start_index:] + '\\n]'\n",
    "        questions_part = questions_part.replace(\"\\n\", \"\").replace(\"{\", \"\").replace(\"}\", \"\").replace('\"question\":', \"\")\n",
    "    else:\n",
    "        # If end token is found, extract normally including the end token\n",
    "        questions_part = input_string[start_index:end_index + len(end_token)].replace(\"\\n\", \"\").replace('\"question\":', \"\")\n",
    "        questions_part = questions_part.replace(\"{\", \"\").replace(\"}\", \"\")\n",
    "    \n",
    "    return str(questions_part)\n"
   ]
  },
  {
   "cell_type": "code",
   "execution_count": 86,
   "metadata": {},
   "outputs": [
    {
     "name": "stdout",
     "output_type": "stream",
     "text": [
      "[\"How do decision trees and ensemble learning relate to each other?\",\"What is a server in the context of Python and gunicorn?\",\"Won't running gunicorn directly cause any issues\",\"How can I avoid overfitting in my decision tree\",\"Can I use gunicorn to run multiple Python files simultaneously\"]\n"
     ]
    }
   ],
   "source": [
    "# Example usage\n",
    "input_string = results[\"593f7569\"]\n",
    "\n",
    "print(extract_questions(input_string))"
   ]
  },
  {
   "cell_type": "code",
   "execution_count": 88,
   "metadata": {},
   "outputs": [
    {
     "data": {
      "text/plain": [
       "['How do decision trees and ensemble learning relate to each other?',\n",
       " 'What is a server in the context of Python and gunicorn?',\n",
       " \"Won't running gunicorn directly cause any issues\",\n",
       " 'How can I avoid overfitting in my decision tree',\n",
       " 'Can I use gunicorn to run multiple Python files simultaneously']"
      ]
     },
     "execution_count": 88,
     "metadata": {},
     "output_type": "execute_result"
    }
   ],
   "source": [
    "json.loads(extract_questions(input_string))"
   ]
  },
  {
   "cell_type": "code",
   "execution_count": 101,
   "metadata": {},
   "outputs": [
    {
     "data": {
      "text/plain": [
       "'Here are 5 questions the student might ask based on the FAQ record:\\n\\n[{\"What are the prerequisites for the course?\", \"What do I need to know before starting the course?\", \"How can I prepare for the course?\", \"Do I need any prior knowledge to take this course?\", \"Are there any specific skills or qualifications required for the course?\"}'"
      ]
     },
     "execution_count": 101,
     "metadata": {},
     "output_type": "execute_result"
    }
   ],
   "source": [
    "input_string = results[\"1f6520ca\"]\n",
    "input_string\n"
   ]
  },
  {
   "cell_type": "code",
   "execution_count": 102,
   "metadata": {},
   "outputs": [
    {
     "name": "stdout",
     "output_type": "stream",
     "text": [
      "[\"What are the prerequisites for the course?\", \"What do I need to know before starting the course?\", \"How can I prepare for the course?\", \"Do I need any prior knowledge to take this course?\", \"Are there any specific skills or qualifications required for the course?\"]\n"
     ]
    }
   ],
   "source": [
    "print(extract_questions(input_string))"
   ]
  },
  {
   "cell_type": "code",
   "execution_count": 103,
   "metadata": {},
   "outputs": [
    {
     "data": {
      "text/plain": [
       "['What are the prerequisites for the course?',\n",
       " 'What do I need to know before starting the course?',\n",
       " 'How can I prepare for the course?',\n",
       " 'Do I need any prior knowledge to take this course?',\n",
       " 'Are there any specific skills or qualifications required for the course?']"
      ]
     },
     "execution_count": 103,
     "metadata": {},
     "output_type": "execute_result"
    }
   ],
   "source": [
    "json.loads(extract_questions(input_string))"
   ]
  },
  {
   "cell_type": "markdown",
   "metadata": {},
   "source": [
    "### Saving a results dictionary to a pickle .bin file"
   ]
  },
  {
   "cell_type": "code",
   "execution_count": 65,
   "metadata": {},
   "outputs": [],
   "source": [
    "import pickle\n",
    "\n",
    "def write_dict_to_pickle(file_path, data):\n",
    "    with open(file_path, 'wb') as file:\n",
    "        pickle.dump(data, file)\n"
   ]
  },
  {
   "cell_type": "code",
   "execution_count": 66,
   "metadata": {},
   "outputs": [
    {
     "name": "stdout",
     "output_type": "stream",
     "text": [
      "Results dictionary written to results.bin\n"
     ]
    }
   ],
   "source": [
    "file_path = 'results.bin'\n",
    "write_dict_to_pickle(file_path, results)\n",
    "\n",
    "print(f\"Results dictionary written to {file_path}\")"
   ]
  },
  {
   "cell_type": "markdown",
   "metadata": {},
   "source": [
    "### Loading results dictionary from pickle file"
   ]
  },
  {
   "cell_type": "code",
   "execution_count": 125,
   "metadata": {},
   "outputs": [],
   "source": [
    "with open('results.bin', 'rb') as f_in:\n",
    "    results = pickle.load(f_in)"
   ]
  },
  {
   "cell_type": "code",
   "execution_count": 126,
   "metadata": {},
   "outputs": [
    {
     "data": {
      "text/plain": [
       "'Here are 5 questions the student might ask based on the FAQ record:\\n\\n[{\"What are the prerequisites for the course?\", \"What do I need to know before starting the course?\", \"How can I prepare for the course?\", \"Do I need any prior knowledge to take this course?\", \"Are there any specific skills or qualifications required for the course?\"}'"
      ]
     },
     "execution_count": 126,
     "metadata": {},
     "output_type": "execute_result"
    }
   ],
   "source": [
    "results['1f6520ca']"
   ]
  },
  {
   "cell_type": "code",
   "execution_count": 127,
   "metadata": {},
   "outputs": [
    {
     "data": {
      "text/plain": [
       "947"
      ]
     },
     "execution_count": 127,
     "metadata": {},
     "output_type": "execute_result"
    }
   ],
   "source": [
    "len(results)"
   ]
  },
  {
   "cell_type": "markdown",
   "metadata": {},
   "source": [
    "### Parsing the results dictionary"
   ]
  },
  {
   "cell_type": "code",
   "execution_count": 128,
   "metadata": {},
   "outputs": [
    {
     "name": "stdout",
     "output_type": "stream",
     "text": [
      "Error: the JSON object must be str, bytes or bytearray, not NoneType\n",
      "None\n",
      "Error: Expecting ',' delimiter: line 1 column 317 (char 316)\n",
      "[[\"Will we still be using the same NYC Trip data as last year?\", \"Are we switching to new data for the project?\", \"What data will we use for this year's project? Are we still using the 2021 data?\", \"Although the project remains the same, will the data be updated?\", \"What data is available for this year's project?\"]\n",
      "Error: Expecting ',' delimiter: line 1 column 51 (char 50)\n",
      "[ \"How can I participate in the course?\", \"answer\": null,  \"What is the way to improve the course content?\", \"answer\": null,  \"How can others benefit from the course?\", \"answer\": null,  \"Can I enhance the quality of the course repository?\", \"answer\": null,  \"What should I do if I find the course material useful?\", \"answer\": null]\n",
      "Error: Expecting value: line 1 column 274 (char 273)\n",
      "[\"What resources do you recommend for this course?\", \"Can you provide any book recommendations?\", \"Do you have any additional resources that would be helpful?\", \"Are there any online resources you suggest I look at?\", \"Can you give me a list of important topics to learn?\",]\n",
      "Error: Expecting ',' delimiter: line 1 column 511 (char 510)\n",
      "[\"Why do we need to create a local Docker volume and map it to the PostgreSQL data directory when we run the command with -v option?\", \"What is the purpose of the POSTGRES_USER, POSTGRES_PASSWORD, and POSTGRES_DB environment variables in the Docker command?\", \"Why is the 'initdb' command failing when trying to change permissions of the directory '/var/lib/postgresql/data'?\", \"How do I verify if the Docker volume is working correctly?\", \"What should I do if I encounter the error 'initdb: error: directory \"/var/lib/postgresql/data\" exists but is not empty' when trying to create a new PostgreSQL database?\"]\n",
      "Error: Expecting ',' delimiter: line 1 column 5 (char 4)\n",
      "[\"q\": \"When running the command `docker run` for the first time, why do I get the error message 'error while creating build mount source path ...: mkdir ...: file exists'?\", \"q\": \"What does the error message 'error while creating build mount source path ...: mkdir ...: file exists' mean when I'm trying to run a Docker container for the second time?\",  \"q\": \"How can I fix the error when running the Docker command for the second time?\",  \"q\": \"Why does the error message occur when using the `-v` parameter in the `docker run` command?\",  \"q\": \"If I don't want to map my local directory to the Docker container as `postgis`, how can I modify the command to achieve this?\"]\n",
      "Error: Expecting ',' delimiter: line 1 column 203 (char 202)\n",
      "[\"What is the possible cause of Docker installation issues if I installed it via snap?\", \"How can I verify if I installed Docker via snap?\", \"What should I do if I encounter an 'error: unknown command \"status\"' after running 'sudo snap status docker'?\", \"What is the reason for a bind error on port 5432 in Docker?\", \"How can I fix the issue if Docker installation fails because of an 'unknown command' error?\"]\n",
      "Error: Expecting ',' delimiter: line 1 column 122 (char 121)\n",
      "[ \"Why do I get a permission denied error when building a Docker container on an Ubuntu/Linux system?\", \"expected answer\": \"This happens when trying to run the build command again to rebuild the pipeline or create a new one, and there are no permissions on the new folder.\", \"What is the cause of the 'failed to read Dockerfile' error when running the build command?\", \"expected answer\": \"The error occurs because there are no permissions on the new folder created to host the Docker files.\", \"How can I resolve the 'failed to solve with frontend dockerfile.v0' error?\", \"expected answer\": \"Grant permissions by running the command `sudo chmod -R 755 ny_taxi_postgres_data` or use 777 if still seeing problems.\", \"Why does the error occur even when I'm already the owner of the folder?\", \"expected answer\": \"The error occurs because the command `docker build -t taxi_ingest:v001 .` creates a new folder which doesn't have the right permissions.\", \"What are the valid permissions that I can set for the ny_taxi_postgres_data folder?\", \"expected answer\": \"You can set either 755 or 777 permissions for the folder.\"]\n",
      "Error: the JSON object must be str, bytes or bytearray, not NoneType\n",
      "None\n",
      "Error: Expecting ',' delimiter: line 1 column 90 (char 89)\n",
      "[\"I'm getting an error message saying 'error: could not change permissions of directory \"/var/lib/postgresql/data\": Operation not permitted  volume' when trying to mount a directory with Docker-Compose. What does this error message mean and how can I fix it?\",\"I used the previous answer's suggestion of creating a local Docker volume, but now I'm having trouble referencing it in my Docker-Compose file. Can you explain why I need to define the named volume in the 'volumes' section?\",\"I ran 'docker volume inspect dtc_postgres_volume_local' but it's saying that the mount point is actually 'docker_sql_dtc_postgres_volume_local', not the one I defined. Why is this and how can I fix it?\",\"In the FAQ answer, it's mentioned that I need to 'run docker compose up again and check if the table is there or not!' after making changes. What table are they referring to, and why do I need to check it?\",\"What exactly does the 'network' part of the Docker-Compose file do, and why do my services 'auto become part of the same network!'?\"]\n",
      "Error: Expecting ',' delimiter: line 1 column 93 (char 92)\n",
      "[ \"How do I fix the error I'm getting when running Docker Compose up -d?\", \"expected answer\": \"The error is related to getting credentials.\", \"Why am I getting an error saying 'docker-credential-desktop' is not found in the %PATH%?\", \"expected answer\": \"It's because the executable file is not in the path.\" , \"Where can I find the config.json file mentioned in the FAQ?\", \"expected answer\": \"You can find the config.json file in your home directory, specifically in Users/username/.docker.\", \"What do I need to modify in the config.json file?\", \"expected answer\": \"You need to modify 'credsStore' to 'credStore'.\", \"After modifying the config.json file, what do I need to do to resolve the error and re-run Docker Compose?\", \"expected answer\": \"You need to save the changes and re-run Docker Compose.\"]\n",
      "Error: Expecting ',' delimiter: line 1 column 85 (char 84)\n",
      "[  \"What does it mean when I get a 'FATAL: password authentication failed for user \"root\"' error message when using PGCLI, and how can I troubleshoot this issue?\",  \"Why should I use a different port when creating the Docker container, especially if I already have a local Postgres installation?\",  \"How do I connect to the Postgres Docker container using pgCLI when I've specified a non-standard port?\",  \"Are there any visual resources available to help me understand how to map ports in Docker, and what are some tips for debugging port-related issues?\",  \"How can I use the lsof command on a MacOS to troubleshoot which application is using a specific port, and are there any other commands I can use to identify and free up occupied ports?\"]\n",
      "Error: Expecting ',' delimiter: line 1 column 617 (char 616)\n",
      "[\"Since the solution mentions that 'psycopg2-binary' installation fails due to an old version of Python (3.7.3), can I still install it even though my Python version is 3.7.3?\",\"What does it mean when the output says 'libpq library not found'? Does it mean I need to find a library file somewhere?\",\"I'm having trouble running the command `$ python -V` to check my current Python version. What could be the issue?\",\"Can I install `pgcli` using pip like I did for `psycopg2_binary`, or do I really need to use conda?\",\"What's the difference between running the command `pip install psycopg2_binary` and `pip install \"psycopg[binary,pool]\n",
      "Error: Invalid \\escape: line 1 column 81 (char 80)\n",
      "[  \"What to do when I get the error 'c.relhasoids does not exist' when running `\\d <database name>`?\",  \"Why do I keep getting the 'column c.relhasoids does not exist' error when I try to interact with my PostgreSQL database?\",  \"How can I resolve the issue with the command `\\d` not working properly?\",  \"What is the cause of the error 'column c.relhasoids does not exist' when using PGCLI?\",  \"What are the steps to take to fix the error 'column c.relhasoids does not exist' and access my PostgreSQL database?\"]\n",
      "Error: the JSON object must be str, bytes or bytearray, not NoneType\n",
      "None\n",
      "Error: Expecting ',' delimiter: line 1 column 145 (char 144)\n",
      "[ \"Why am I getting an error with my Terraform command when trying to apply it? I'm getting a message about an i/o timeout.\",\"suggested answers\": \"The issue might be with your network connection. Is Google accessible in your country?\", \"I'm having trouble with OAuth2 authentication when trying to use Terraform. What could be the problem?\",\"suggested answers\": \"It might be related to your VPN. Is your terminal program configured to follow your system proxy settings?\", \"I'm using a VPN, but Terraform can't seem to authenticate with Google. Why is this happening?\",\"suggested answers\": \"Terraform may not automatically follow your system proxy settings. You may need to set up separate proxy configuration settings for your terminal program.\", \"I'm trying to use Terraform with a VPN, but I keep getting an error. How can I resolve this issue?\",\"suggested answers\": \"You might need to ask for help from your VPN provider. Have you tried opening an Enhanced Mode in your VPN app?\", \"Why do I need to configure separate proxy settings for my terminal program when using a VPN with Terraform?\",\"suggested answers\": \"Your VPN app may not provide the necessary authentication for Terraform to access Google Cloud services.\"]\n",
      "Error: the JSON object must be str, bytes or bytearray, not NoneType\n",
      "None\n",
      "Error: Expecting value: line 1 column 660 (char 659)\n",
      "[\"Can I use the same service account for all services and resources in the course, or do I need to create a separate one for Terraform?\",\"Before running Terraform, do I need to request a new service account and set up keys (.json file) specifically for it?\",\"Why do I need to make a separate service account for Terraform if I already have one for the other services?\",\"Are there any specific settings or configurations needed for the service account used with Terraform, or can I use the same set up for other services?\",\"Can I reuse the same service account I used for other resources in the course for Terraform, or is it recommended to create a new one?\",]\n",
      "Error: Expecting ',' delimiter: line 1 column 486 (char 485)\n",
      "[\"What do I need to do when running multiple Mage instances in Docker from different directories?\", \"Can I customize the host port when running multiple Mage instances in Docker from different directories?\", \"Why am I getting an error when deploying Mage to Google Cloud?\", \"How do I add the cloud platform scope to our GCP virtual machine when it's already created?\", \"How can I fix the error 'Request had insufficient authentication scopes' when deploying Mage to Google Cloud?\\r\\n\" Let me know if you'd like me to modify anything!]\n",
      "Error: Expecting ',' delimiter: line 1 column 136 (char 135)\n",
      "[\"What could be the reason for the 'denied: requested access to the resource is denied' message when trying to push to a docker image?\"\"Why does Docker Desktop require me to log in properly in order to push to a docker image?\"\"What should I check when I get a 'denied' error while pushing to a docker image?\"\"Can you provide an example of how to correctly build and push a docker image using the correct username?\"\"Is it a common mistake to use the wrong username when building and pushing a docker image?\"]\n",
      "Error: Expecting ',' delimiter: line 1 column 18 (char 17)\n",
      "[\"What does the \"killed\" message in my flow script mean?\", \"Why is my flow script failing with the \"killed\" message?\", \"How can I troubleshoot a flow script that fails with a \"killed\" message?\", \"Is there a specific reason why my flow script is running out of memory?\", \"Will increasing the amount of RAM in my VM resolve the 'killed' message failure?\"]\n",
      "Error: Unterminated string starting at: line 1 column 124 (char 123)\n",
      "[    \"Why do I keep getting the SettingWithCopyWarning error when I'm trying to assign a value to a DataFrame column?\",    \"What is the difference between using df[]\n",
      "Error: the JSON object must be str, bytes or bytearray, not NoneType\n",
      "None\n",
      "Error: Expecting ',' delimiter: line 1 column 82 (char 81)\n",
      "[ \"Can we use Google BigQuery for storing historical data in Module 3?\", \"answer\": \"found in FAQ record\",  \"Is BigQuery suitable for storing large datasets in our project?\", \"answer\": \"found in FAQ record\",  \"Can I create customized models using BigQuery for real-time analytics in this project?\", \"answer\": \"found in FAQ record\",  \"Are there any limitations to using BigQuery for real-time data analysis?\", \"answer\": \"found in FAQ record\",  \"Is integration of BigQuery with other Google Cloud Platform services feasible for future project iterations?\", \"answer\": \"found in FAQ record\"]\n",
      "Error: Expecting ',' delimiter: line 1 column 53 (char 52)\n",
      "[  \"What is the error 'Missing close double quote (\") character' that I'm encountering during the BigQuery upload process?\",  \"How can I resolve the 'Missing close double quote (\") character' error when uploading data to BigQuery?\",  \"I want to upload data from Google Cloud Storage to BigQuery. Can I use BigQuery Cloud Shell for this purpose?\",  \"What is the command syntax for uploading data from Google Cloud Storage to BigQuery using BigQuery Cloud Shell?\",  \"Does BigQuery support CSV files compressed with .gz when uploading data from Google Cloud Storage?\"]\n",
      "Error: Expecting ',' delimiter: line 1 column 109 (char 108)\n",
      "[   \"What is the main difference between Native tables and External tables in BigQuery?\",   \"answerLocation\": \"section: error: Error while reading table: trips_data_all.external_fhv_tripdata, error message: Parquet column 'DOlocationID' has type INT64 which does not match the target cpp_type DOUBLE.\",   \"Why is the type mismatch between Parquet column 'DOlocationID' and its target cpp_type causing an error?\",   \"answerLocation\": \"section: error: Error while reading table: trips_data_all.external_fhv_tripdata, error message: Parquet column 'DOlocationID' has type INT64 which does not match the target cpp_type DOUBLE.\",   \"What is the purpose of native tables in BigQuery?\",   \"answerLocation\": \"section: GCP BQ - Native tables vs External tables in BigQuery\",   \"Can external tables be used as a data source in BigQuery?\",   \"answerLocation\": \"section: GCP BQ - Native tables vs External tables in BigQuery\",   \"How do external tables differ from native tables in terms of data storage?\",   \"answerLocation\": \"section: GCP BQ - Native tables vs External tables in BigQuery\"]\n",
      "Error: Unterminated string starting at: line 1 column 129 (char 128)\n",
      "[  \"When trying to read parquet files directly from nyc.gov's cloudfront into pandas, why do I get an 'Out of bounds' error?\",  \"What is the problem with converting a timestamp from 'timestamp[us]\n",
      "Error: the JSON object must be str, bytes or bytearray, not NoneType\n",
      "None\n",
      "Error: the JSON object must be str, bytes or bytearray, not NoneType\n",
      "None\n",
      "Error: Expecting ',' delimiter: line 1 column 90 (char 89)\n",
      "[ \"How do I resolve the discrepancy in version control when editing dbt files?\", \"answer\": \"\",  \"Why am I unable to make changes to my dbt files, and how can I correct this?\", \"answer\": \"\",  \"What is the correct procedure for working on dbt files while keeping the main branch intact?\", \"answer\": \"\",  \"How can I make changes to my dbt files and still keep them synced with the main branch?\", \"answer\": \"\",  \"Is there a more efficient way to commit and push changes to the main branch after making edits to dbt files?\", \"answer\": \"\"]\n",
      "Error: Expecting ',' delimiter: line 1 column 89 (char 88)\n",
      "[ \"Why is the Environment Type dropdown menu greyed out and inaccessible?\", \"jsonSource\": \"Not able to change Environment Type as it is greyed out and inaccessible\", \"Can I select multiple environment types while deploying a database?\", \"jsonSource\": \"Not able to change Environment Type as it is greyed out and inaccessible\", \"What kind of environment type is created by default in this course?\", \"jsonSource\": \"Not able to change Environment Type as it is greyed out and inaccessible\", \"Why do I need to change the environment type in the first place?\", \"jsonSource\": \"Not able to change Environment Type as it is greyed out and inaccessible\", \"Are there any specific requirements for the environment type depending on the use case of dbt?\", \"jsonSource\": \"Not able to change Environment Type as it is greyed out and inaccessible\"]\n",
      "Error: Expecting ',' delimiter: line 1 column 13 (char 12)\n",
      "[\" question\": \"How do I install SDKMAN on my Linux system? Do I need to follow any specific steps to install it?\" ,\" question\": \"Can I install multiple versions of Java using SDKMAN, and how do I switch between them?\" ,\" question\": \"What is the purpose of running 'source \"$HOME/.sdkman/bin/sdkman-init.sh\"' after installing Java and Spark using SDKMAN?\" ,\" question\": \"Why do I need to verify the locations and versions of Java and Spark after installing them using SDKMAN, and how do I do it?\" ,\" question\": \"What is 'spark-submit' and how do I use it to check the version of Spark that I installed using SDKMAN?\" ]\n",
      "Error: Unterminated string starting at: line 1 column 2 (char 1)\n",
      "[\"During our module 5: pyspark tutorial, we used the 'local[*]\n",
      "Error: Expecting ',' delimiter: line 1 column 190 (char 189)\n",
      "[\"Can you explain why I'm getting a java.io.FileNotFoundException when I try to write parquet files with Spark?\",\"Why does Spark perform 'lazy transformations' that cause issues like this?\"\"What does 'mode=\"overwrite\"' do when I write parquet files, and how is it related to the error I'm seeing?\",\"How do I prevent Spark from deleting the parquet files that I'm trying to read when I use 'mode=\"overwrite\"'?\",\"Is there a work-around to avoid this issue, instead of writing to a different directory?\"]\n",
      "Error: Expecting ',' delimiter: line 1 column 19 (char 18)\n",
      "[      \"question1\": \"How do I read a specific number of rows from a parquet file using PyArrow?\",    \"answer\": \"You can use the `iter_batches` method of the `ParquetFile` object and specify the batch size. For example, `pf.iter_batches(batch_size = 1000)`\"  ,      \"question2\": \"Is it necessary to convert the table to a Pandas DataFrame using `to_pandas` when using PyArrow?\",    \"answer\": \"Yes, PyArrow builds tables, not dataframes, so you need to convert the table to a Pandas DataFrame using `to_pandas` if you want to work with it as a Pandas DataFrame.\"  ,      \"question3\": \"How can I read a parquet file using Spark, rather than PyArrow?\",    \"answer\": \"You can use the `read.parquet` method of the Spark session. For example, `df = spark.read.parquet('fhvhv_tripdata_2021-01.parquet')`\"  ,      \"question4\": \"Is there a way to sort the data before reading a small number of rows from the parquet file using Spark?\",    \"answer\": \"Yes, you can use the `sort` method to sort the data before reading a small number of rows. For example, `df = df.sort('DOLocationID').limit(1000)`\"  ,      \"question5\": \"Why do I need to convert the Spark DataFrame to a Pandas DataFrame using `toPandas` when reading a small number of rows?\",    \"answer\": \"You need to convert the Spark DataFrame to a Pandas DataFrame using `toPandas` because Pandas DataFrames are more memory-efficient and easier to work with when dealing with small amounts of data.\"  ]\n",
      "Error: Unterminated string starting at: line 1 column 465 (char 464)\n",
      "[\"How do I fix TypeError when using spark.createDataFrame function on a pandas df if Affiliated_base_number is a mix of letters and numbers?\", \"Why am I getting a TypeError when creating a PySpark DataFrame from a pandas DataFrame with a column of mixed data types?\", \"What is the error message TypeError: field Affiliated_base_number: Can not merge type and and why is it occurring?\", \"Can you explain why Pandas infer type method is not accurate in this case?\", \"How do I handle rows with null values in a pandas DataFrame before converting it to a PySpark DataFrame?]\n",
      "Error: the JSON object must be str, bytes or bytearray, not NoneType\n",
      "None\n",
      "Error: Expecting ',' delimiter: line 1 column 47 (char 46)\n",
      "[\"Why do I get a different result when using \"wc -l\" with a gzip file?\", \"How do I get the correct result when using \"wc -l\" with a compressed file?\", \"Is there a way to use \"wc -l\" with gzipped files without unzipping them?\", \"What is the reason behind the discrepancy in results when using \"wc -l\" with a gzip file?\", \"Can you show me the correct command to use \"wc -l\" with a csv file in pyspark?\"]\n",
      "Error: Expecting ',' delimiter: line 1 column 58 (char 57)\n",
      "[  \"Why do I get an exception like 'Exception in thread \"main\" java.lang.UnsatisfiedLinkError: org.apache.hadoop.io.nativeio.NativeIO$Windows.access0(Ljava/lang/String;I)Z' when writing to parquet files in Module 5: pyspark?\",  \"What is the typical cause of this 'UnsatisfiedLinkError' exception, and how can I resolve it?\",  \"I'm using Windows, and I see this error; do I need to set any environment variables to resolve it?\",  \"How do I set the 'HADOOP_HOME' and 'PATH' variables correctly for my Windows system?\",  \"Can you provide any additional tips or resources to help me troubleshoot this issue, as mentioned in the FAQ response?\"]\n",
      "Error: Unterminated string starting at: line 1 column 4 (char 3)\n",
      "[  \"What does it mean when the error message says that a required property like [project]\n",
      "Error: Expecting ',' delimiter: line 1 column 104 (char 103)\n",
      "[\"Can I still use VS Code to forward ports if the Jupyter Notebook or SparkUI is not loading properly?\"\"Why do I need to use the ssh command instead of VS Code to forward ports?\",\"What should I do if the connection breaks when I logout from the session?\",\"How can I add the forwarding instructions to the .ssh/config file, and what is the format?\",\"What should I check if the Jupyter Notebook or SparkUI still doesn't load properly after adding the forwarding instructions to the .ssh/config file?\"]\n",
      "Error: Expecting ',' delimiter: line 1 column 103 (char 102)\n",
      "[ \"Can I use Dataproc without having a Virtual Machine (VM) on Google Cloud Platform (GCP)?\", \"answer\": \"No, its not essential.\",  \"Do I need to use a specific device to run Dataproc and submit jobs?\", \"answer\": \"No, you can submit a job to DataProc from your local computer.\",  \"How do I submit a job to Dataproc from my local machine?\", \"answer\": \"You can install gsutil.\",  \"What is gsutil and where do I get it?\", \"answer\": \"gsutil is used to download and upload data to Google Cloud Storage.\",  \"Do I need to set up a cluster in a specific region for Dataproc?\", \"answer\": \"Yes, you need to specify the region in the command, for example, 'europe-west6'.\"]\n",
      "Error: the JSON object must be str, bytes or bytearray, not NoneType\n",
      "None\n",
      "Error: the JSON object must be str, bytes or bytearray, not NoneType\n",
      "None\n",
      "Error: Expecting ',' delimiter: line 1 column 5 (char 4)\n",
      "[\"q\": \"How do I start multiple Spark Streaming queries in the same Spark Session?\",\"a\": \"I initiate a Spark Session, then create separate queries for each topic I want to read from, and finally start each query separately using the .start() method.\",\"q\": \"Can I read from multiple topics in Spark Streaming within the same Spark application?\",\"a\": [\"The answer is in the FAQ\", \"Yes, you can\"]\n",
      "Error: Expecting value: line 1 column 3 (char 2)\n",
      "[[q1: \"How do I make sure I have the necessary packages installed to run the workshop code?\", q2: \"How do I install the 'dltduckdb' package?\", q3: \"Do I need to install 'duckdb' separately if I'm installing it locally?\", q4: \"What command do I use to install the necessary dependencies?\", q5: \"Can I install the packages in a specific order, or does it matter?\"]\n",
      "Error: Expecting ',' delimiter: line 1 column 580 (char 579)\n",
      "[  \"When running the stream-kafka script, why does it get stuck on a loop with a 'Connection Refused' error?\",  \"What should I do if I see the message_queue container in Docker keeps restarting with a 'Could not initialize seastar: std::runtime_error (insufficient physical memory)' error?\",  \"Why do I get an error when running psql -f risingwave-sql/table/trip_data.sql after starting services with default values using docker-compose up?\",  \"How do I resolve the 'Connection Refused' error in the stream-kafka script?\",  \"What is the solution to the 'syntax error at or near \".\"' error when running the trip_data.sql file after starting services?\"]\n",
      "Error: the JSON object must be str, bytes or bytearray, not NoneType\n",
      "None\n",
      "Error: the JSON object must be str, bytes or bytearray, not NoneType\n",
      "None\n",
      "Error: Expecting ',' delimiter: line 1 column 489 (char 488)\n",
      "[\"How much theoretical background will we need to understand the practice part of the course?\",\"Will the course focus more on math derivations or practical applications?\",\"Can you give some examples of what kind of mathematical derivations we won't be covering?\",\"Will we be learning the intricacies of logistic regression or just how to use it?\",\"Are there any other courses that would be a good supplement to this one for those who want to learn more about the mathematical background?\"Note: I've tried to rephrase the questions in a way that's natural for a student to ask, while keeping in mind the words and ideas contained in the FAQ record.]\n",
      "Error: Expecting ',' delimiter: line 1 column 58 (char 57)\n",
      "[\"What happens if I miss the homework deadline?\",\"reason\":\"\",\"Is there any penalty for missing the deadline?\",\"reason\":\"\",\"Will my grade be affected if I submit late work?\",\"reason\":\"\",\"Is there a way to resubmit missing assignments?\",\"reason\":\"\",\"Can I still pass the course if I don't complete the homework?\"]\n",
      "Error: Expecting ',' delimiter: line 1 column 462 (char 461)\n",
      "[\"How do I add my own notes to the course website?\",\"What is the process of linking my personal repository to the community notes section?\",\"Can I just copy my notes to the original course repository or do I need to create a separate repository?\",\"Once I've linked my repository, do I need to manually keep my fork up to date with the original course repo?\",\"Are there any specific guidelines for organizing and structuring my notes in my personal repository?\" \"]\n",
      "Error: Invalid \\escape: line 1 column 236 (char 235)\n",
      "[\"Can I use a comma or a forward slash when specifying the file path in Windows OS when working with Pandas?\",\"Why do I need to add 'r' before the file path when reading a CSV file in Windows OS?\",\"What happens when I use a backslash (\\) in a Python string and why does it cause an error?\",\"Is there a way to avoid conflicts between Python and Windows file navigation when reading a dataset?\",\"Cna I use the same code to read a file in Linux/Mac OS, or do I need to make changes?\"]\n",
      "Error: Expecting ',' delimiter: line 1 column 549 (char 548)\n",
      "[\"Can I skip running 'conda create -n ......' once the environment is created, and only use 'conda activate ml-zoomcamp' from then on?\",\"How do I always ensure that the correct environment is activated when I open VSCode?\",\"Why do I need to run 'conda create -n ......' only once, and not every time I start working on the project?\",\"Can I share my environment with others, or is there a way to save it so I can easily recreate it later?\",\"Is there a way to ensure that my environment remains consistent across different computers or environments?\"Note: The questions are written in a way that incorporates phrases and words from the original FAQ record, with minimal additional content.]\n",
      "Error: Unterminated string starting at: line 1 column 231 (char 230)\n",
      "[  \"What is the best way to find the number of rows in a dataset in Pandas?\",  \"Can I use the .shape attribute to get the number of columns in a dataset?\",  \"How do I access the attribute that tells me the shape of my dataset?\",  \"Is .shape[0]\n",
      "Error: Expecting ',' delimiter: line 1 column 419 (char 418)\n",
      "[\"How can I find a detailed description of the California housing dataset?\", \"What is the source of the California housing dataset information?\", \"Can I find more information about the characteristics of the California housing dataset online?\", \"Where can I find the Python code related to the California housing dataset?\", \"Do you have any additional resources for learning more about the California housing dataset?\"\"]\n",
      "Error: Unterminated string starting at: line 1 column 380 (char 379)\n",
      "[\"Can you explain more about the concept of regularization strength in `r` and `alpha` in sklearn.Ridge()?\",\"What is the purpose of adding 'noise' to the main diagonal in the lesson's notebook code using `r`?\",\"How does the `r` parameter prevent multicollinearity in the lesson's notebook code?\",\"Is there a specific range or value for `r` that is commonly used or recommended?\",\"Why is mathematically adding `r * np.eye(XTX.shape[0]\n",
      "Error: Expecting ',' delimiter: line 1 column 100 (char 99)\n",
      "[ \"How do I use the sklearn and numpy packages to calculate the Root Mean Squared Error?\", \"answer\": null, \"What is the purpose of the 'y_pred' and 'y_val' variables in the Root Mean Squared Error calculation?\", \"answer\": null, \"Can I use a similar method to calculate the Root Mean Squared Error for regression problems?\", \"answer\": null, \"Can you explain the logic behind using 'np.sqrt(mean_squared_error(y_pred, y_val/ytest))' to calculate the Root Mean Squared Error?\", \"answer\": null, \"How do I use the provided code from Alexey's notebook to calculate the Root Mean Squared Error in a practical scenario?\", \"answer\": null]\n",
      "Error: Expecting ',' delimiter: line 1 column 106 (char 105)\n",
      "[\"What do I need to check to evaluate feature importance of numerical variables in course 2021?\",\"answer\": \"What is the solution for evaluating feature importance of numerical variables?\",\"Can I use AUC to evaluate feature importance of numerical variables, or is it for something else?\",\"answer\": \"Can I use a specific evaluation metric to evaluate feature importance?\",\"How do I use roc_auc_score to determine feature importance in the 2021 course iteration?\",\"answer\": \"How to use roc_auc_score?\",\"Is there a specific course iteration version that contains the solution for evaluating feature importance of numerical variables?\",\"answer\": \"Which iteration of the course has the solution?\",\"What is roc_auc_score, and how is it related to evaluating feature importance of numerical variables?\",\"answer\": \"What is roc_auc_score?\"]\n",
      "Error: Expecting ',' delimiter: line 1 column 80 (char 79)\n",
      "[ \"Why doesn't the position of KFold in the code affect the results?\", \"answer\": \"KFold is just a generator object and it contains only the information n_splits, shuffle and random_state. The k-fold splitting actually happens in the next for loop for train_idx, val_idx in kFold.split(df_full_train): , so it doesn't matter where we generate the object, before or after the first loop.\", \"What makes a difference in the results of KFold?\", \"answer\": \"Changing the random state makes a difference in the case too.\", \"Why is it better to create the KFold object before the loop?\", \"answer\": \"No point doing it again and again inside the loop from the programming point of view, it is better to do it before the loop.\", \"Can I loop through different values of Cs in KFold?\", \"answer\": \"Yes, it is better to loop through the different values of Cs as the video explained.\", \"What should I do if I have separate train and predict functions?\", \"answer\": \"Reuse them after dividing the dataset via KFold and loop through the different values of Cs.\"]\n",
      "Error: Unterminated string starting at: line 1 column 219 (char 218)\n",
      "[\"Can you explain the difference between the output of predict(X) and predict_proba(X) in case of binary classification problems?\",\"Why is it a problem to use predict(X) for evaluation in binary classification tasks?\",\"What exactly does predict_proba(X)[:,1]\n",
      "Error: Expecting ',' delimiter: line 1 column 84 (char 83)\n",
      "[\"How do I interpret the result of np.argwhere(np.diff(np.sign(np.array(df_scores[\"precision\"]\n",
      "Error: Expecting ',' delimiter: line 1 column 204 (char 203)\n",
      "[ \"Can you provide more details on how to compute the model evaluation metrics using scikit learn?\", \"Is it mandatory to use the scikit learn library to calculate the model evaluation metrics?\", \"answer\": \"According to the FAQ, using scikit learn is recommended as it is more precise compared to our own calculations.\", \"What are the specific metrics being calculated using scikit learn, such as accuracy, precision, recall, F1-score, and ROC AUC score?\",  \"How can I customize or modify the model evaluation metrics if they don't suit my specific problem?\", \"answer\": \"The FAQ doesn't explicitly mention customization options, but a hint from the code snippet suggests that the metrics can be calculated using readily available functions.\",  \"Can you walk me through the code snippet provided in the FAQ, specifically how the model evaluation metrics are calculated?\"]\n",
      "Error: Expecting ',' delimiter: line 1 column 373 (char 372)\n",
      "[\"How do I create a Kaggle account for seamless data download?\",\"What are the steps to download a kaggle.json file and save it in the correct location?\",\"Are there any specific permissions required for the kaggle.json file?\",\"Can you explain how to import os and set the KAGGLE_CONFIG_DIR environment variable?\",\"How do I unzip the downloaded file to access the CSV data?\"These questions are based on the original questions in the record, but rephrased to make them more complete and asked in a way that a student might ask them.]\n",
      "Error: Expecting ',' delimiter: line 1 column 115 (char 114)\n",
      "[\"Can I have an example of how to name a Dockerfile correctly, as I'm getting an error when trying to create one?\"; \"What causes the issue when trying to build a docker image, and how can I fix it?\"; \"Why do I get an error when creating a Dockerfile with an extension, such as Dockerfile.dockerfile?\"; \"Can you explain why the Dockerfile command is failing to read the file, and what I can do to resolve the issue?\"; \"What are some common mistakes people make when creating a Dockerfile that could lead to the 'Failed to read Dockerfile' error?\"]\n",
      "Error: Unterminated string starting at: line 1 column 311 (char 310)\n",
      "[  \"Why do I get an error when deploying a machine learning model?\",   \"What is the cause of the 'not found' error when loading a machine learning model in MINGW64?\",   \"How can I load all files from a docker image and my working directory?\",   \"What is the default behavior of the COPY command in Docker?\",   \"Why might I need to use COPY ['*', './']\n",
      "Error: Unterminated string starting at: line 1 column 366 (char 365)\n",
      "[ \"How do I avoid a docker build ERROR when running the command?\",  \"What is the correct syntax for naming filenames in a Dockerfile when building an image?\",  \"I'm getting an error when trying to build a Docker image. What's the most common mistake to watch out for?\",  \"Why would the use of single quotes around a filename in a Dockerfile cause a build error?\",  \"How can I troubleshoot and resolve the Docker build error when it says '[x/y]\n",
      "Error: Expecting ',' delimiter: line 1 column 284 (char 283)\n",
      "[    \"Why am I getting a ValueError when creating a DMatrix for train and validation in question 6?\",    \"What characters in feature names can cause errors when creating a DMatrix?\",    \"How can I fix the ValueError when feature names contain special characters?\",    \"Is replacing \"=\" with \"_\" sufficient to fix the ValueError, or do I need to replace other characters as well?\",    \"Can I replace special characters in feature names with any characters, or are there certain characters that are safer to use?\"]\n",
      "Error: Unterminated string starting at: line 1 column 120 (char 119)\n",
      "[\"Q1: Why am I getting TypeError when setting xgb.DMatrix feature names? I thought converting to a list would fix it?\",\"Q2: How can I avoid ValueError when setting xgb.DMatrix feature names with characters like [ and ]\n",
      "Error: Expecting ',' delimiter: line 1 column 169 (char 168)\n",
      "[\"How can I capture the stdout of each iteration of a loop separately without having to run and edit the code multiple times?\", \"What are the limitations of using the \"%%capture output\" command to capture stdout in a Jupyter Notebook?\", \"Can I use 'capture_output' from IPython.utils.capture module to capture the output of a particular statement in the loop?\", \"In the provided code, what is the function of 'capture_output' and 'sys.stdout'?\", \"How can I parse the captured output to get the desired format, such as a JSON object, without having to manually edit the output?\",]\n",
      "Error: Expecting ',' delimiter: line 1 column 396 (char 395)\n",
      "[\"When I'm looking at the RMSE values for my Decision Trees with varying n_estimators, I noticed that it initially goes up and then back down. What am I supposed to do in this scenario? Should I choose the number of n_estimators that caused the initial increase in RMSE or the one that resulted in the overall lowest value? I'm a bit confused about what constitutes 'when RMSE stops improving'.\"\"What does 'when RMSE stops improving' mean, exactly? Does it mean a sudden drop, or a gradual decrease?\"\"When my RMSE converges to a stable value, can I assume it's stopped improving, or do I need to check for any further decreases?\"\"Is there a specific threshold or tolerance I can use to determine when RMSE has 'stopped improving'? I'm worried about overfitting or missing out on better results if I don't set it correctly.\"\"In general, what's the best approach to choosing the optimal number of n_estimators in this type of scenario, considering the trade-offs between model complexity and performance?\"]\n",
      "Error: Expecting ',' delimiter: line 1 column 43 (char 42)\n",
      "[\"What is the common mistake that causes \"ValueError: Unknown label type: 'continuous'\" when using decision trees?\", \"What type of decision tree should I use for classification versus regression tasks?\", \"I got a 'ValueError: Unknown label type: 'continuous'' and my training data is categorical, what should I do?\", \"Is this error related to the type of target variable in my dataset?\", \"What are some common pitfalls I should be aware of when using decision trees with machine learning?\"]\n",
      "Error: the JSON object must be str, bytes or bytearray, not NoneType\n",
      "None\n",
      "Error: Expecting ',' delimiter: line 1 column 278 (char 277)\n",
      "[\"How can I run 'nvidia-smi' in a loop without using the 'watch' command?\", \"Is there a way to make the results more readable?\", \"Can I specify the frequency of updates?\", \"Can I stop the loop by pressing a key?\", \"Is there a similar command for GPUs from other manufacturers?\"These questions are based on the provided FAQ record and use as few words as possible from it.]\n",
      "Error: the JSON object must be str, bytes or bytearray, not NoneType\n",
      "None\n",
      "Error: the JSON object must be str, bytes or bytearray, not NoneType\n",
      "None\n",
      "Error: Unterminated string starting at: line 1 column 88 (char 87)\n",
      "[\"Can I get an error when building my Docker image from the Amazon python base image?\",\"What might be the cause of an ERROR [internal]\n",
      "Error: Expecting ',' delimiter: line 1 column 191 (char 190)\n",
      "[\"Can I import both tensorflow and tflite_runtime.interpreter in the same notebook?\", \"Why do I get an error when I run my code with tflite_runtime.interpreter?\", \"What is the cause of the \"ImporterError: generic_type: type \"InterpreterWrapper\" is already registered!\" error?\", \"How can I fix this issue with conflicting library imports?\", \"Do I need to restart the kernel every time I import tflite_runtime.interpreter in a new script?\"]\n",
      "Error: Expecting value: line 1 column 189 (char 188)\n",
      "[\"With regards to setting up a Jupyter notebook, how do I ensure that the packages I install using pip are recognized by the notebook if it doesn't seem to be working after installation?\",'What can I do when my Jupyter notebook is not recognizing a package even after I have installed it using pip? ','I installed a package using pip in my VSCode environment, but it's not being recognized in my Jupyter notebook. What should I do to resolve this issue?','I've installed a package using pip, but after restarting my Jupyter notebook, the package is still not recognized. What is the correct procedure for installing packages for Jupyter notebooks?','What steps can I take to troubleshoot the issue of Jupyter notebook not recognizing a package I've installed using pip?' ]\n",
      "Error: Expecting ',' delimiter: line 1 column 266 (char 265)\n",
      "[\"Can you provide more detailed instructions on how to create a new IAM policy in the AWS Console for Week 9: Serverless?\",\"What is the exact JSON policy I need to create for ECR actions in IAM?\",\"How do I resolve the error 'error getting credentials - err: exec: \"docker-credential-desktop.exe\": executable file not found in $PATH' when using WSL2 system?\",\"Can I use a different version of the JSON policy provided, or do I need to stick to the one mentioned in the FAQ?\",\"What is the exact location of the 'Services' drop-down menu in the AWS Console where I can select 'IAM'?\"]\n",
      "Error: the JSON object must be str, bytes or bytearray, not NoneType\n",
      "None\n",
      "Error: Expecting ',' delimiter: line 1 column 157 (char 156)\n",
      "[\"How do I fix a 'The connection to the server localhost:8080 was refused - did you specify the right host or port?' error while running a kubectl command?\"\"Why do I need to restart everything from scratch to solve an error related to kubectl?\"\"What is the purpose of deleting a cluster and removing the kube directory when troubleshooting kubectl issues?\"\"Is it possible to fix a 'The connection to the server localhost:8080 was refused - did you specify the right host or port?' error without restarting from scratch?\"\"Can you explain why setting environment variables or creating admin.config files in my home directory didn't help resolve the issue?\"]\n",
      "Error: Expecting ',' delimiter: line 1 column 320 (char 319)\n",
      "[\"When trying to load a Docker image to the cluster, I get an error saying 'Kind cannot load docker image'. What's causing this issue?\",\"Can you explain why the 'kind' command fails to load the Docker image when I'm trying to deploy to a named cluster?\",\"Why does the error message specify 'no nodes found for cluster \"kind\"' if I've already named my cluster?\",\"I'm having trouble getting the 'kind' command to load my Docker image to the cluster. Why do I need to specify the cluster name with '-n'?\",\"What is the significance of specifying the cluster name with '-n' in the 'kind' command when loading a Docker image?\"]\n",
      "Error: Expecting ',' delimiter: line 1 column 93 (char 92)\n",
      "[\"How do I troubleshoot errors during Istio installation using the quick_install.sh script?\"\"Why is the Istio update failing, and how can I resolve this issue?\"\"What are the correct versions of Istio and Knative that I should be using for KServe installation?\"\"Can I just edit the quick_install.bash file and then run the script, or do I need to download it first?\"\"What is the recommended way to check the kubectl version for KServe installation, and how does it relate to Istio installation issues?\"]\n",
      "Error: Expecting ',' delimiter: line 1 column 127 (char 126)\n",
      "[ \"Are there any exceptions for collaborative projects in the midterm or capstone? Can I work with a group?\", \"related_record\": \"section: Projects (Midterm and Capstone)\",  \"Do I have to complete the projects all by myself? Can't I have someone help me with some parts?\", \"related_record\": \"section: Projects (Midterm and Capstone)\",  \"Can I work with a partner or teammate on a midterm or capstone project?\", \"related_record\": \"section: Projects (Midterm and Capstone)\",  \"How will I know if my project is considered a solo project? Are there any specific guidelines?\", \"related_record\": \"section: Projects (Midterm and Capstone)\",  \"Will there be any opportunities to work in groups earlier on in the course, or are all projects solo from day one?\", \"related_record\": \"section: Projects (Midterm and Capstone)\"]\n",
      "Error: Unterminated string starting at: line 1 column 4 (char 3)\n",
      "[  \"What is causing the error '[Errno 12]\n",
      "Error: Expecting ',' delimiter: line 1 column 136 (char 135)\n",
      "[\"Why am I getting an error when I try to create a docker image using bentoml?\",\"What does the error message 'Failed to import module \"service\": No module named 'sklearn'' mean?\",\"I keep getting this error when I try to use bentoml, can anyone help me troubleshoot it?\",\"What packages do I need to include in my bentofile.yaml to fix this issue?\",\"In bentofiled.yaml, why do I need to write 'scikit-learn' instead of just 'sklearn'?\"]\n",
      "Error: Unterminated string starting at: line 1 column 4 (char 3)\n",
      "[  \"When I run pipenv install, I get a [pipenv.exceptions.ResolutionFailure]\n",
      "Error: Unterminated string starting at: line 1 column 319 (char 318)\n",
      "[\"What is the expected format for asking questions in this course?\", \"Can you explain the purpose of this MLOps Zoomcamp FAQ document?\", \"How did the data engineering course use this FAQ format, and can we learn from it?\", \"Are there any specific sections or topics in MLOps Zoomcamp that require special attention?\", \"Can I expect any additional resources or explanations for the problem titled [Problem title]\n",
      "Error: Expecting ',' delimiter: line 1 column 59 (char 58)\n",
      "[\"How do I get an invitation code for IBM Cloud?\",\"answer\":\"\",\"Can I use my invitation code in IBM Cloud to verify my account?\",\"answer\":\"\",\"What are the key characteristics that differentiate IBM Cloud from AWS?\",\"answer\":\"\",\"Why do you like IBM Cloud?\",\"answer\":\"\",\"Can I find more information about IBM Cloud through a video tutorial?\",\"answer\":\"\"]\n",
      "Error: Expecting value: line 1 column 2 (char 1)\n",
      "['duration']\n",
      "Error: Expecting ',' delimiter: line 1 column 239 (char 238)\n",
      "[[\"When I use 'mlflow.xgboost.autolog()', I get a warning message that looks like what Warrie Warrie experienced. Is this a usual behavior?\", \"Why did I get an Autolog Model Signature Failure warning when using mlflow.xgboost.autolog()?\"]\n",
      "Error: Unterminated string starting at: line 1 column 344 (char 343)\n",
      "[\"When I'm setting up MLflow on GCP for experiment tracking, what are some common problems I might encounter?\",\"What are some resources I can use to troubleshoot issues with setting up MLflow on GCP?\",\"Can you provide more information on how to set up MLflow experiment tracking on GCP?\",\"How do I check if MLflow is set up correctly on GCP?\",\"What are some general best practices for setting up MLflow experiment tracking on GCP?]\n",
      "Error: Unterminated string starting at: line 1 column 117 (char 116)\n",
      "[\"Can I still run mlflow ui on my Windows system if I have successfully installed mlflow using pip install mlflow?\",\"I ran mlflow ui and got a FileNotFoundError: [WinError 2]\n",
      "Error: Expecting ',' delimiter: line 1 column 112 (char 111)\n",
      "[\"What happens if I have multiple experiments with different parameters and I want to track only the new ones?\"\"I've added mlflow.log_params to my hpo.py script, but max_depth is still not recognized. What's missing?\"\"Why does running my code with mlflow.log_params append the new model to the previous run instead of creating a new experiment?\"\"How can I remove a previous experiment so that only new experiments are tracked?\"\"Can I change the tracking behavior so that new experiments don't append to previous runs?\"]\n",
      "Error: Expecting value: line 1 column 325 (char 324)\n",
      "[\"Can I find the FAQ section for Prefect issues?\", \"What resources does Prefect offer for deployment-related questions?\", \"How do I access the Prefect FAQ if I have a deployment problem?\", \"What kind of support can I expect from Prefect for deployment issues?\", \"Can I refer to a specific FAQ page for Prefect deployment?\", ]\n",
      "Error: Expecting ',' delimiter: line 1 column 144 (char 143)\n",
      "[    \"What should I do when I get a 'ModuleNotFoundError: No module named 'pip._vendor.six'' error during scikit-learn installation?\", \"answer\": \"Install python-six using sudo apt install python-six\",    \"Why am I getting a 'No module named 'pip._vendor.six'' error during scikit-learn installation?\", \"answer\": \"This error occurs due to scikit-learn installation via the command 'pipenv install scikit-learn==1.0.2'\",    \"How can I fix the 'No module named 'pip._vendor.six'' error?\", \"answer\": \"Install python-six using sudo apt install python-six, remove the pipenv environment using pipenv --rm, and then reinstall scikit-learn using pipenv install scikit-learn==1.0.2\",    \"Can I still install scikit-learn even after getting a 'No module named 'pip._vendor.six'' error?\", \"answer\": \"Yes, you can install scikit-learn again after fixing the 'No module named 'pip._vendor.six'' error\",    \"What are the necessary steps to resolve the 'No module named 'pip._vendor.six'' error during scikit-learn installation?\", \"answer\": \"Install python-six, remove pipenv environment, and reinstall scikit-learn\"]\n",
      "Error: the JSON object must be str, bytes or bytearray, not NoneType\n",
      "None\n",
      "Error: Expecting ',' delimiter: line 1 column 124 (char 123)\n",
      "[\"How can I resolve the ValueError: Unknown format code 'd' for object of type 'str' error when parsing arguments via CLI?\"\"What does 'f’year:04d’ do in the script?\"\"Why are all inputs from the command line read as strings by default?\"\"How can I convert the inputs from the command line to numeric/integer values?\"\"If I'm using the click library to create a CLI, how do I handle this issue in a decorator?\"]\n",
      "Error: Expecting ',' delimiter: line 1 column 117 (char 116)\n",
      "[  \"Why do I get an InstallationError when trying to generate a pipfile.lock?\",  \"How can I fix the error 'Command \"python setup.py egg_info\" failed with error code 1'?\",  \"What is the reason for getting an InstallationError when deploying my application?\",  \"Is there a way to force an upgrade of wheel and pipenv?\",  \"Can you provide the exact command to upgrade wheel and pipenv?\"]\n",
      "Error: Invalid \\escape: line 1 column 169 (char 168)\n",
      "[       \"What do I do if I get a ModuleNotFoundError: No module named 'pipenv.patched.pip._vendor.urllib3.response'?\"  ,       \"How can I resolve the error '<file path>\\pipenv\\patched\\pip\\_vendor\\urllib3\\connectionpool.py\" in Module 5 of the course?\"  ,       \"Can I fix the 'pipenv.patched.pip._vendor.urllib3.response' error using pip install pipenv --force-reinstall?\"  ,       \"What command should I run to resolve the ModuleNotFoundError: No module named 'pipenv.patched.pip._vendor.urllib3.response'?\"  ,       \"Why do I need to install 'pip' and 'requests' separately if I'm experiencing issues with pipenv?\"]\n",
      "Error: Expecting ',' delimiter: line 1 column 144 (char 143)\n",
      "[ \"When committing changes in Powershell, I get an error about utf-8 encoding after creating a pre-commit yaml file. What's going on?\",\"source\": \"Module 6: Best practices, In Powershell, Git commit raises utf-8 encoding error after creating pre-commit yaml file\",  \"Why do I get an 'InvalidConfigError' when running 'git commit -m 'Updated xxxxxx''?\",\"source\": \"Module 6: Best practices, In Powershell, Git commit raises utf-8 encoding error after creating pre-commit yaml file\",  \"What causes the 'utf-8 codec can't decode byte 0xff in position 0: invalid start byte' error?\",\"source\": \"Module 6: Best practices, In Powershell, Git commit raises utf-8 encoding error after creating pre-commit yaml file\",  \"How do I avoid getting encoding errors when creating the pre-commit yaml file?\",\"source\": \"Module 6: Best practices, In Powershell, Git commit raises utf-8 encoding error after creating pre-commit yaml file\",  \"Can you provide a command to create the pre-commit yaml file with the correct utf-8 encoding?\",\"source\": \"Module 6: Best practices, In Powershell, Git commit raises utf-8 encoding error after creating pre-commit yaml file\"]\n"
     ]
    }
   ],
   "source": [
    "parsed_results = {}\n",
    "\n",
    "for doc_id, json_questions in results.items():\n",
    "    try:\n",
    "        json_questions = extract_questions(json_questions)\n",
    "        parsed_results[doc_id] = json.loads(json_questions)\n",
    "    except Exception as e:\n",
    "        print(f\"Error: {str(e)}\")\n",
    "        print(json_questions)"
   ]
  },
  {
   "cell_type": "code",
   "execution_count": 129,
   "metadata": {},
   "outputs": [
    {
     "data": {
      "text/plain": [
       "845"
      ]
     },
     "execution_count": 129,
     "metadata": {},
     "output_type": "execute_result"
    }
   ],
   "source": [
    "len(parsed_results)"
   ]
  },
  {
   "cell_type": "code",
   "execution_count": 130,
   "metadata": {},
   "outputs": [],
   "source": [
    "doc_index = {d['id']: d for d in documents}"
   ]
  },
  {
   "cell_type": "code",
   "execution_count": 131,
   "metadata": {},
   "outputs": [
    {
     "data": {
      "text/plain": [
       "{'text': 'GitHub - DataTalksClub data-engineering-zoomcamp#prerequisites',\n",
       " 'section': 'General course-related questions',\n",
       " 'question': 'Course - What are the prerequisites for this course?',\n",
       " 'course': 'data-engineering-zoomcamp',\n",
       " 'id': '1f6520ca'}"
      ]
     },
     "execution_count": 131,
     "metadata": {},
     "output_type": "execute_result"
    }
   ],
   "source": [
    "doc_index[\"1f6520ca\"]"
   ]
  },
  {
   "cell_type": "code",
   "execution_count": 132,
   "metadata": {},
   "outputs": [
    {
     "data": {
      "text/plain": [
       "947"
      ]
     },
     "execution_count": 132,
     "metadata": {},
     "output_type": "execute_result"
    }
   ],
   "source": [
    "len(doc_index)"
   ]
  },
  {
   "cell_type": "code",
   "execution_count": 133,
   "metadata": {},
   "outputs": [],
   "source": [
    "final_results = []\n",
    "\n",
    "for doc_id, questions in parsed_results.items():\n",
    "    if doc_id in doc_index:\n",
    "        course = doc_index[doc_id]['course']\n",
    "        for q in questions:\n",
    "            final_results.append((q, course, doc_id))"
   ]
  },
  {
   "cell_type": "code",
   "execution_count": 134,
   "metadata": {},
   "outputs": [
    {
     "data": {
      "text/plain": [
       "4207"
      ]
     },
     "execution_count": 134,
     "metadata": {},
     "output_type": "execute_result"
    }
   ],
   "source": [
    "len(final_results)"
   ]
  },
  {
   "cell_type": "code",
   "execution_count": 135,
   "metadata": {},
   "outputs": [
    {
     "data": {
      "text/plain": [
       "('Can you tell me when the course is starting?',\n",
       " 'data-engineering-zoomcamp',\n",
       " 'c02e79ef')"
      ]
     },
     "execution_count": 135,
     "metadata": {},
     "output_type": "execute_result"
    }
   ],
   "source": [
    "final_results[0]"
   ]
  },
  {
   "cell_type": "markdown",
   "metadata": {},
   "source": [
    "### Generating pandas dataframe and saving to .csv file"
   ]
  },
  {
   "cell_type": "code",
   "execution_count": 137,
   "metadata": {},
   "outputs": [],
   "source": [
    "import pandas as pd"
   ]
  },
  {
   "cell_type": "code",
   "execution_count": 138,
   "metadata": {},
   "outputs": [],
   "source": [
    "df = pd.DataFrame(final_results, columns=['question', 'course', 'document'])"
   ]
  },
  {
   "cell_type": "code",
   "execution_count": 139,
   "metadata": {},
   "outputs": [
    {
     "data": {
      "text/plain": [
       "12621"
      ]
     },
     "execution_count": 139,
     "metadata": {},
     "output_type": "execute_result"
    }
   ],
   "source": [
    "df.size"
   ]
  },
  {
   "cell_type": "code",
   "execution_count": 140,
   "metadata": {},
   "outputs": [
    {
     "data": {
      "text/plain": [
       "(4207, 3)"
      ]
     },
     "execution_count": 140,
     "metadata": {},
     "output_type": "execute_result"
    }
   ],
   "source": [
    "df.shape"
   ]
  },
  {
   "cell_type": "code",
   "execution_count": 141,
   "metadata": {},
   "outputs": [
    {
     "data": {
      "text/plain": [
       "4207"
      ]
     },
     "execution_count": 141,
     "metadata": {},
     "output_type": "execute_result"
    }
   ],
   "source": [
    "len(df)"
   ]
  },
  {
   "cell_type": "code",
   "execution_count": 142,
   "metadata": {},
   "outputs": [
    {
     "data": {
      "text/html": [
       "<div>\n",
       "<style scoped>\n",
       "    .dataframe tbody tr th:only-of-type {\n",
       "        vertical-align: middle;\n",
       "    }\n",
       "\n",
       "    .dataframe tbody tr th {\n",
       "        vertical-align: top;\n",
       "    }\n",
       "\n",
       "    .dataframe thead th {\n",
       "        text-align: right;\n",
       "    }\n",
       "</style>\n",
       "<table border=\"1\" class=\"dataframe\">\n",
       "  <thead>\n",
       "    <tr style=\"text-align: right;\">\n",
       "      <th></th>\n",
       "      <th>question</th>\n",
       "      <th>course</th>\n",
       "      <th>document</th>\n",
       "    </tr>\n",
       "  </thead>\n",
       "  <tbody>\n",
       "    <tr>\n",
       "      <th>0</th>\n",
       "      <td>Can you tell me when the course is starting?</td>\n",
       "      <td>data-engineering-zoomcamp</td>\n",
       "      <td>c02e79ef</td>\n",
       "    </tr>\n",
       "    <tr>\n",
       "      <th>1</th>\n",
       "      <td>What is the exact day and hour of the course?</td>\n",
       "      <td>data-engineering-zoomcamp</td>\n",
       "      <td>c02e79ef</td>\n",
       "    </tr>\n",
       "    <tr>\n",
       "      <th>2</th>\n",
       "      <td>Is there a specific calendar I should subscrib...</td>\n",
       "      <td>data-engineering-zoomcamp</td>\n",
       "      <td>c02e79ef</td>\n",
       "    </tr>\n",
       "    <tr>\n",
       "      <th>3</th>\n",
       "      <td>Can you guide me on how to register for the co...</td>\n",
       "      <td>data-engineering-zoomcamp</td>\n",
       "      <td>c02e79ef</td>\n",
       "    </tr>\n",
       "    <tr>\n",
       "      <th>4</th>\n",
       "      <td>What platforms can I use to stay updated on co...</td>\n",
       "      <td>data-engineering-zoomcamp</td>\n",
       "      <td>c02e79ef</td>\n",
       "    </tr>\n",
       "    <tr>\n",
       "      <th>5</th>\n",
       "      <td>What are the prerequisites for the course?</td>\n",
       "      <td>data-engineering-zoomcamp</td>\n",
       "      <td>1f6520ca</td>\n",
       "    </tr>\n",
       "    <tr>\n",
       "      <th>6</th>\n",
       "      <td>What do I need to know before starting the cou...</td>\n",
       "      <td>data-engineering-zoomcamp</td>\n",
       "      <td>1f6520ca</td>\n",
       "    </tr>\n",
       "    <tr>\n",
       "      <th>7</th>\n",
       "      <td>How can I prepare for the course?</td>\n",
       "      <td>data-engineering-zoomcamp</td>\n",
       "      <td>1f6520ca</td>\n",
       "    </tr>\n",
       "    <tr>\n",
       "      <th>8</th>\n",
       "      <td>Do I need any prior knowledge to take this cou...</td>\n",
       "      <td>data-engineering-zoomcamp</td>\n",
       "      <td>1f6520ca</td>\n",
       "    </tr>\n",
       "    <tr>\n",
       "      <th>9</th>\n",
       "      <td>Are there any specific skills or qualification...</td>\n",
       "      <td>data-engineering-zoomcamp</td>\n",
       "      <td>1f6520ca</td>\n",
       "    </tr>\n",
       "  </tbody>\n",
       "</table>\n",
       "</div>"
      ],
      "text/plain": [
       "                                            question  \\\n",
       "0       Can you tell me when the course is starting?   \n",
       "1      What is the exact day and hour of the course?   \n",
       "2  Is there a specific calendar I should subscrib...   \n",
       "3  Can you guide me on how to register for the co...   \n",
       "4  What platforms can I use to stay updated on co...   \n",
       "5         What are the prerequisites for the course?   \n",
       "6  What do I need to know before starting the cou...   \n",
       "7                  How can I prepare for the course?   \n",
       "8  Do I need any prior knowledge to take this cou...   \n",
       "9  Are there any specific skills or qualification...   \n",
       "\n",
       "                      course  document  \n",
       "0  data-engineering-zoomcamp  c02e79ef  \n",
       "1  data-engineering-zoomcamp  c02e79ef  \n",
       "2  data-engineering-zoomcamp  c02e79ef  \n",
       "3  data-engineering-zoomcamp  c02e79ef  \n",
       "4  data-engineering-zoomcamp  c02e79ef  \n",
       "5  data-engineering-zoomcamp  1f6520ca  \n",
       "6  data-engineering-zoomcamp  1f6520ca  \n",
       "7  data-engineering-zoomcamp  1f6520ca  \n",
       "8  data-engineering-zoomcamp  1f6520ca  \n",
       "9  data-engineering-zoomcamp  1f6520ca  "
      ]
     },
     "execution_count": 142,
     "metadata": {},
     "output_type": "execute_result"
    }
   ],
   "source": [
    "df.head(10)"
   ]
  },
  {
   "cell_type": "code",
   "execution_count": 143,
   "metadata": {},
   "outputs": [
    {
     "data": {
      "text/html": [
       "<div>\n",
       "<style scoped>\n",
       "    .dataframe tbody tr th:only-of-type {\n",
       "        vertical-align: middle;\n",
       "    }\n",
       "\n",
       "    .dataframe tbody tr th {\n",
       "        vertical-align: top;\n",
       "    }\n",
       "\n",
       "    .dataframe thead th {\n",
       "        text-align: right;\n",
       "    }\n",
       "</style>\n",
       "<table border=\"1\" class=\"dataframe\">\n",
       "  <thead>\n",
       "    <tr style=\"text-align: right;\">\n",
       "      <th></th>\n",
       "      <th>question</th>\n",
       "      <th>course</th>\n",
       "      <th>document</th>\n",
       "    </tr>\n",
       "  </thead>\n",
       "  <tbody>\n",
       "    <tr>\n",
       "      <th>4197</th>\n",
       "      <td>Why did the pre-commit command fail in the iso...</td>\n",
       "      <td>mlops-zoomcamp</td>\n",
       "      <td>fb3c4150</td>\n",
       "    </tr>\n",
       "    <tr>\n",
       "      <th>4198</th>\n",
       "      <td>What is the most recent working version of iso...</td>\n",
       "      <td>mlops-zoomcamp</td>\n",
       "      <td>fb3c4150</td>\n",
       "    </tr>\n",
       "    <tr>\n",
       "      <th>4199</th>\n",
       "      <td>What is the reason for the error in the pre-co...</td>\n",
       "      <td>mlops-zoomcamp</td>\n",
       "      <td>fb3c4150</td>\n",
       "    </tr>\n",
       "    <tr>\n",
       "      <th>4200</th>\n",
       "      <td>How did the solution help in resolving the iss...</td>\n",
       "      <td>mlops-zoomcamp</td>\n",
       "      <td>fb3c4150</td>\n",
       "    </tr>\n",
       "    <tr>\n",
       "      <th>4201</th>\n",
       "      <td>Who contributed to the solution of setting iso...</td>\n",
       "      <td>mlops-zoomcamp</td>\n",
       "      <td>fb3c4150</td>\n",
       "    </tr>\n",
       "    <tr>\n",
       "      <th>4202</th>\n",
       "      <td>What are some best practices for destroying in...</td>\n",
       "      <td>mlops-zoomcamp</td>\n",
       "      <td>886d1617</td>\n",
       "    </tr>\n",
       "    <tr>\n",
       "      <th>4203</th>\n",
       "      <td>How can I destroy infrastructure created in AW...</td>\n",
       "      <td>mlops-zoomcamp</td>\n",
       "      <td>886d1617</td>\n",
       "    </tr>\n",
       "    <tr>\n",
       "      <th>4204</th>\n",
       "      <td>Do I need to reconfigure something before dest...</td>\n",
       "      <td>mlops-zoomcamp</td>\n",
       "      <td>886d1617</td>\n",
       "    </tr>\n",
       "    <tr>\n",
       "      <th>4205</th>\n",
       "      <td>What command should I use from local to initia...</td>\n",
       "      <td>mlops-zoomcamp</td>\n",
       "      <td>886d1617</td>\n",
       "    </tr>\n",
       "    <tr>\n",
       "      <th>4206</th>\n",
       "      <td>What file should I use as a variable file when...</td>\n",
       "      <td>mlops-zoomcamp</td>\n",
       "      <td>886d1617</td>\n",
       "    </tr>\n",
       "  </tbody>\n",
       "</table>\n",
       "</div>"
      ],
      "text/plain": [
       "                                               question          course  \\\n",
       "4197  Why did the pre-commit command fail in the iso...  mlops-zoomcamp   \n",
       "4198  What is the most recent working version of iso...  mlops-zoomcamp   \n",
       "4199  What is the reason for the error in the pre-co...  mlops-zoomcamp   \n",
       "4200  How did the solution help in resolving the iss...  mlops-zoomcamp   \n",
       "4201  Who contributed to the solution of setting iso...  mlops-zoomcamp   \n",
       "4202  What are some best practices for destroying in...  mlops-zoomcamp   \n",
       "4203  How can I destroy infrastructure created in AW...  mlops-zoomcamp   \n",
       "4204  Do I need to reconfigure something before dest...  mlops-zoomcamp   \n",
       "4205  What command should I use from local to initia...  mlops-zoomcamp   \n",
       "4206  What file should I use as a variable file when...  mlops-zoomcamp   \n",
       "\n",
       "      document  \n",
       "4197  fb3c4150  \n",
       "4198  fb3c4150  \n",
       "4199  fb3c4150  \n",
       "4200  fb3c4150  \n",
       "4201  fb3c4150  \n",
       "4202  886d1617  \n",
       "4203  886d1617  \n",
       "4204  886d1617  \n",
       "4205  886d1617  \n",
       "4206  886d1617  "
      ]
     },
     "execution_count": 143,
     "metadata": {},
     "output_type": "execute_result"
    }
   ],
   "source": [
    "df.tail(10)"
   ]
  },
  {
   "cell_type": "code",
   "execution_count": 145,
   "metadata": {},
   "outputs": [
    {
     "data": {
      "text/plain": [
       "question    0\n",
       "course      0\n",
       "document    0\n",
       "dtype: int64"
      ]
     },
     "execution_count": 145,
     "metadata": {},
     "output_type": "execute_result"
    }
   ],
   "source": [
    "df.isnull().sum()"
   ]
  },
  {
   "cell_type": "code",
   "execution_count": 146,
   "metadata": {},
   "outputs": [
    {
     "data": {
      "text/plain": [
       "(0, 3)"
      ]
     },
     "execution_count": 146,
     "metadata": {},
     "output_type": "execute_result"
    }
   ],
   "source": [
    "null_mask = df.isnull().any(axis=1)\n",
    "null_rows = df[null_mask]\n",
    "null_rows.shape"
   ]
  },
  {
   "cell_type": "code",
   "execution_count": 147,
   "metadata": {},
   "outputs": [
    {
     "data": {
      "text/plain": [
       "(4207, 3)"
      ]
     },
     "execution_count": 147,
     "metadata": {},
     "output_type": "execute_result"
    }
   ],
   "source": [
    "not_null_mask = df.notnull().all(axis=1)\n",
    "not_null_rows = df[not_null_mask]\n",
    "not_null_rows.shape"
   ]
  },
  {
   "cell_type": "code",
   "execution_count": 151,
   "metadata": {},
   "outputs": [],
   "source": [
    "df.to_csv('ground-truth-data.csv', index=False)"
   ]
  },
  {
   "cell_type": "code",
   "execution_count": 152,
   "metadata": {},
   "outputs": [
    {
     "name": "stdout",
     "output_type": "stream",
     "text": [
      "question,course,document\n",
      "Can you tell me when the course is starting?,data-engineering-zoomcamp,c02e79ef\n",
      "What is the exact day and hour of the course?,data-engineering-zoomcamp,c02e79ef\n",
      "Is there a specific calendar I should subscribe to for the course schedule?,data-engineering-zoomcamp,c02e79ef\n",
      "Can you guide me on how to register for the course?,data-engineering-zoomcamp,c02e79ef\n",
      "What platforms can I use to stay updated on course announcements?,data-engineering-zoomcamp,c02e79ef\n",
      "What are the prerequisites for the course?,data-engineering-zoomcamp,1f6520ca\n",
      "What do I need to know before starting the course?,data-engineering-zoomcamp,1f6520ca\n",
      "How can I prepare for the course?,data-engineering-zoomcamp,1f6520ca\n",
      "Do I need any prior knowledge to take this course?,data-engineering-zoomcamp,1f6520ca\n",
      "Are there any specific skills or qualifications required for the course?,data-engineering-zoomcamp,1f6520ca\n",
      "Can I still join the course after the start date and what are the implications on the assignments?,data-engineering-zoomcamp,7842b56a\n",
      "\"If I don't register initially, can I still access the course materials?\",data-engineering-zoomcamp,7842b56a\n",
      "What happens if I don't submit my homeworks on time after joining the course?,data-engineering-zoomcamp,7842b56a\n",
      "Are there any deadlines for submitting final projects if I join the course mid-term?,data-engineering-zoomcamp,7842b56a\n",
      "\"If I join the course late, are there any specific requirements or restrictions I need to be aware of?\",data-engineering-zoomcamp,7842b56a\n",
      "\"Can I expect a confirmation email after registering for the Data Engineering Bootcamp, or is there another way to confirm my registration?\",data-engineering-zoomcamp,0bbf41ec\n",
      "Is there any need to wait for a confirmation email to start learning and submitting homework for the course?,data-engineering-zoomcamp,0bbf41ec\n",
      "Will the registration process be checked against a list of registered students at some point?,data-engineering-zoomcamp,0bbf41ec\n",
      "What is the purpose of registering for the Data Engineering Bootcamp if it's not necessary for acceptance?,data-engineering-zoomcamp,0bbf41ec\n"
     ]
    }
   ],
   "source": [
    "!head -n 20 ground-truth-data.csv"
   ]
  },
  {
   "cell_type": "code",
   "execution_count": 153,
   "metadata": {},
   "outputs": [
    {
     "name": "stdout",
     "output_type": "stream",
     "text": [
      "How do I manage multiple Docker containers with docker-compose when they take up too many resources?,mlops-zoomcamp,b16aae74\n",
      "What happens when a docker-compose file contains a large number of containers?,mlops-zoomcamp,b16aae74\n",
      "Can I only run a subset of containers from a large docker-compose file?,mlops-zoomcamp,b16aae74\n",
      "How do I specify which group of containers to start when using docker-compose?,mlops-zoomcamp,b16aae74\n",
      "What is the purpose of adding profiles in a service definition in docker-compose?,mlops-zoomcamp,b16aae74\n",
      "Can I have more details on why AWS regions need to match in docker-compose and local config?,mlops-zoomcamp,66326a87\n",
      "\"What happens if my AWS regions don't match, and how can I fix it?\",mlops-zoomcamp,66326a87\n",
      "Can you provide an example of how to set my AWS region in the local config?,mlops-zoomcamp,66326a87\n",
      "How does this issue with AWS regions affect my integration tests and kinesis?,mlops-zoomcamp,66326a87\n",
      "Can I set the AWS region in the docker-compose file instead of the local config?,mlops-zoomcamp,66326a87\n",
      "Why did the pre-commit command fail in the isort repo?,mlops-zoomcamp,fb3c4150\n",
      "What is the most recent working version of isort that was identified?,mlops-zoomcamp,fb3c4150\n",
      "What is the reason for the error in the pre-commit command,mlops-zoomcamp,fb3c4150\n",
      "How did the solution help in resolving the issue with isort repo?,mlops-zoomcamp,fb3c4150\n",
      "Who contributed to the solution of setting isort version to 5.12.0?,mlops-zoomcamp,fb3c4150\n",
      "What are some best practices for destroying infrastructure created via GitHub Actions?,mlops-zoomcamp,886d1617\n",
      "How can I destroy infrastructure created in AWS using CD-Deploy Action?,mlops-zoomcamp,886d1617\n",
      "Do I need to reconfigure something before destroying infrastructure?,mlops-zoomcamp,886d1617\n",
      "What command should I use from local to initialize Terraform for destruction?,mlops-zoomcamp,886d1617\n",
      "What file should I use as a variable file when destroying infrastructure in prod environment?,mlops-zoomcamp,886d1617\n"
     ]
    }
   ],
   "source": [
    "!tail -n 20 ground-truth-data.csv"
   ]
  },
  {
   "cell_type": "code",
   "execution_count": 155,
   "metadata": {},
   "outputs": [
    {
     "data": {
      "text/plain": [
       "264445"
      ]
     },
     "execution_count": 155,
     "metadata": {},
     "output_type": "execute_result"
    }
   ],
   "source": [
    "df_ground_truth_from_csv = pd.read_csv('ground-truth-data.csv', skip_blank_lines=True)\n",
    "len(df_ground_truth_from_csv)"
   ]
  },
  {
   "cell_type": "code",
   "execution_count": 156,
   "metadata": {},
   "outputs": [
    {
     "data": {
      "text/plain": [
       "(260238, 3)"
      ]
     },
     "execution_count": 156,
     "metadata": {},
     "output_type": "execute_result"
    }
   ],
   "source": [
    "null_mask = df_ground_truth_from_csv.isnull().any(axis=1)\n",
    "null_rows = df_ground_truth_from_csv[null_mask]\n",
    "null_rows.shape"
   ]
  },
  {
   "cell_type": "code",
   "execution_count": 160,
   "metadata": {},
   "outputs": [
    {
     "data": {
      "text/plain": [
       "(4207, 3)"
      ]
     },
     "execution_count": 160,
     "metadata": {},
     "output_type": "execute_result"
    }
   ],
   "source": [
    "df_ground_truth_from_csv.dropna(inplace=True)\n",
    "df_ground_truth_from_csv.shape"
   ]
  },
  {
   "cell_type": "code",
   "execution_count": null,
   "metadata": {},
   "outputs": [],
   "source": []
  }
 ],
 "metadata": {
  "kernelspec": {
   "display_name": "env",
   "language": "python",
   "name": "python3"
  },
  "language_info": {
   "codemirror_mode": {
    "name": "ipython",
    "version": 3
   },
   "file_extension": ".py",
   "mimetype": "text/x-python",
   "name": "python",
   "nbconvert_exporter": "python",
   "pygments_lexer": "ipython3",
   "version": "3.11.7"
  }
 },
 "nbformat": 4,
 "nbformat_minor": 2
}
