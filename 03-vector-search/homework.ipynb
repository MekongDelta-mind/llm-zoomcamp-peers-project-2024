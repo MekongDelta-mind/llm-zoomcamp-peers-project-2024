{
 "cells": [
  {
   "cell_type": "markdown",
   "metadata": {},
   "source": [
    "## Homework: Vector Search"
   ]
  },
  {
   "cell_type": "markdown",
   "metadata": {},
   "source": [
    "In this homework, we'll experiemnt with vector with and without Elasticsearch\n",
    "\n",
    "### Q1. Getting the embeddings model\n",
    "\n",
    "First, we will get the embeddings model `multi-qa-distilbert-cos-v1` from\n",
    "[the Sentence Transformer library](https://www.sbert.net/docs/sentence_transformer/pretrained_models.html#model-overview)\n",
    "\n",
    "```bash\n",
    "from sentence_transformers import SentenceTransformer\n",
    "embedding_model = SentenceTransformer(model_name)\n",
    "```\n",
    "\n",
    "Create the embedding for this user question:\n",
    "\n",
    "```python\n",
    "user_question = \"I just discovered the course. Can I still join it?\"\n",
    "```\n",
    "\n",
    "What's the first value of the resulting vector?\n",
    "\n",
    "* -0.24\n",
    "* -0.04\n",
    "* 0.07\n",
    "* 0.27"
   ]
  },
  {
   "cell_type": "code",
   "execution_count": 1,
   "metadata": {},
   "outputs": [
    {
     "name": "stderr",
     "output_type": "stream",
     "text": [
      "/Users/patrickcmd/Projects/personal/llm-zoomcamp/env/lib/python3.11/site-packages/tqdm/auto.py:21: TqdmWarning: IProgress not found. Please update jupyter and ipywidgets. See https://ipywidgets.readthedocs.io/en/stable/user_install.html\n",
      "  from .autonotebook import tqdm as notebook_tqdm\n"
     ]
    }
   ],
   "source": [
    "from sentence_transformers import SentenceTransformer"
   ]
  },
  {
   "cell_type": "code",
   "execution_count": 2,
   "metadata": {},
   "outputs": [],
   "source": [
    "model_name = 'multi-qa-distilbert-cos-v1'\n",
    "embedding_model = SentenceTransformer(model_name)"
   ]
  },
  {
   "cell_type": "code",
   "execution_count": 3,
   "metadata": {},
   "outputs": [],
   "source": [
    "user_question = \"I just discovered the course. Can I still join it?\""
   ]
  },
  {
   "cell_type": "code",
   "execution_count": 4,
   "metadata": {},
   "outputs": [],
   "source": [
    "vec = embedding_model.encode(user_question)"
   ]
  },
  {
   "cell_type": "code",
   "execution_count": 5,
   "metadata": {},
   "outputs": [
    {
     "data": {
      "text/plain": [
       "768"
      ]
     },
     "execution_count": 5,
     "metadata": {},
     "output_type": "execute_result"
    }
   ],
   "source": [
    "len(vec)"
   ]
  },
  {
   "cell_type": "code",
   "execution_count": 7,
   "metadata": {},
   "outputs": [
    {
     "data": {
      "text/plain": [
       "0.07822263"
      ]
     },
     "execution_count": 7,
     "metadata": {},
     "output_type": "execute_result"
    }
   ],
   "source": [
    "vec[0]"
   ]
  },
  {
   "cell_type": "markdown",
   "metadata": {},
   "source": [
    "### Prepare the documents\n",
    "\n",
    "Now we will create the embeddings for the documents.\n",
    "\n",
    "Load the documents with ids that we prepared in the module:\n",
    "\n",
    "```python\n",
    "import requests \n",
    "\n",
    "base_url = 'https://github.com/DataTalksClub/llm-zoomcamp/blob/main'\n",
    "relative_url = '03-vector-search/eval/documents-with-ids.json'\n",
    "docs_url = f'{base_url}/{relative_url}?raw=1'\n",
    "docs_response = requests.get(docs_url)\n",
    "documents = docs_response.json()\n",
    "```\n",
    "\n",
    "We will use only a subset of the questions - the questions\n",
    "for `\"machine-learning-zoomcamp\"`. After filtering, you should\n",
    "have only 375 documents"
   ]
  },
  {
   "cell_type": "code",
   "execution_count": 8,
   "metadata": {},
   "outputs": [],
   "source": [
    "import requests \n",
    "\n",
    "base_url = 'https://github.com/DataTalksClub/llm-zoomcamp/blob/main'\n",
    "relative_url = '03-vector-search/eval/documents-with-ids.json'\n",
    "docs_url = f'{base_url}/{relative_url}?raw=1'\n",
    "docs_response = requests.get(docs_url)\n",
    "documents = docs_response.json()"
   ]
  },
  {
   "cell_type": "code",
   "execution_count": 9,
   "metadata": {},
   "outputs": [
    {
     "data": {
      "text/plain": [
       "948"
      ]
     },
     "execution_count": 9,
     "metadata": {},
     "output_type": "execute_result"
    }
   ],
   "source": [
    "len(documents)"
   ]
  },
  {
   "cell_type": "code",
   "execution_count": 10,
   "metadata": {},
   "outputs": [
    {
     "data": {
      "text/plain": [
       "[{'text': \"The purpose of this document is to capture frequently asked technical questions\\nThe exact day and hour of the course will be 15th Jan 2024 at 17h00. The course will start with the first  “Office Hours'' live.1\\nSubscribe to course public Google Calendar (it works from Desktop only).\\nRegister before the course starts using this link.\\nJoin the course Telegram channel with announcements.\\nDon’t forget to register in DataTalks.Club's Slack and join the channel.\",\n",
       "  'section': 'General course-related questions',\n",
       "  'question': 'Course - When will the course start?',\n",
       "  'course': 'data-engineering-zoomcamp',\n",
       "  'id': 'c02e79ef'},\n",
       " {'text': 'GitHub - DataTalksClub data-engineering-zoomcamp#prerequisites',\n",
       "  'section': 'General course-related questions',\n",
       "  'question': 'Course - What are the prerequisites for this course?',\n",
       "  'course': 'data-engineering-zoomcamp',\n",
       "  'id': '1f6520ca'},\n",
       " {'text': \"Yes, even if you don't register, you're still eligible to submit the homeworks.\\nBe aware, however, that there will be deadlines for turning in the final projects. So don't leave everything for the last minute.\",\n",
       "  'section': 'General course-related questions',\n",
       "  'question': 'Course - Can I still join the course after the start date?',\n",
       "  'course': 'data-engineering-zoomcamp',\n",
       "  'id': '7842b56a'}]"
      ]
     },
     "execution_count": 10,
     "metadata": {},
     "output_type": "execute_result"
    }
   ],
   "source": [
    "documents[:3]"
   ]
  },
  {
   "cell_type": "code",
   "execution_count": 11,
   "metadata": {},
   "outputs": [],
   "source": [
    "def filter_documents_by_course(documents, course_name):\n",
    "    \"\"\"\n",
    "    Filters the documents based on the given course name.\n",
    "\n",
    "    Parameters:\n",
    "    documents (list): A list of dictionaries where each dictionary represents a document.\n",
    "    course_name (str): The name of the course to filter the documents by.\n",
    "\n",
    "    Returns:\n",
    "    list: A list of dictionaries that belong to the specified course.\n",
    "    \"\"\"\n",
    "    return [doc for doc in documents if doc.get('course') == course_name]"
   ]
  },
  {
   "cell_type": "code",
   "execution_count": 12,
   "metadata": {},
   "outputs": [],
   "source": [
    "ml_documents = filter_documents_by_course(documents, \"machine-learning-zoomcamp\")"
   ]
  },
  {
   "cell_type": "code",
   "execution_count": 13,
   "metadata": {},
   "outputs": [
    {
     "data": {
      "text/plain": [
       "375"
      ]
     },
     "execution_count": 13,
     "metadata": {},
     "output_type": "execute_result"
    }
   ],
   "source": [
    "len(ml_documents)"
   ]
  },
  {
   "cell_type": "code",
   "execution_count": 14,
   "metadata": {},
   "outputs": [
    {
     "data": {
      "text/plain": [
       "[{'text': 'Machine Learning Zoomcamp FAQ\\nThe purpose of this document is to capture frequently asked technical questions.\\nWe did this for our data engineering course and it worked quite well. Check this document for inspiration on how to structure your questions and answers:\\nData Engineering Zoomcamp FAQ\\nIn the course GitHub repository there’s a link. Here it is: https://airtable.com/shryxwLd0COOEaqXo\\nwork',\n",
       "  'section': 'General course-related questions',\n",
       "  'question': 'How do I sign up?',\n",
       "  'course': 'machine-learning-zoomcamp',\n",
       "  'id': '0227b872'},\n",
       " {'text': 'The course videos are pre-recorded, you can start watching the course right now.\\nWe will also occasionally have office hours - live sessions where we will answer your questions. The office hours sessions are recorded too.\\nYou can see the office hours as well as the pre-recorded course videos in the course playlist on YouTube.',\n",
       "  'section': 'General course-related questions',\n",
       "  'question': 'Is it going to be live? When?',\n",
       "  'course': 'machine-learning-zoomcamp',\n",
       "  'id': '39fda9f0'}]"
      ]
     },
     "execution_count": 14,
     "metadata": {},
     "output_type": "execute_result"
    }
   ],
   "source": [
    "ml_documents[:2]"
   ]
  },
  {
   "cell_type": "markdown",
   "metadata": {},
   "source": [
    "### Q2. Creating the embeddings\n",
    "\n",
    "Now for each document, we will create an embedding for both question and answer fields.\n",
    "\n",
    "We want to put all of them into a single matrix `X`:\n",
    "\n",
    "- Create a list `embeddings` \n",
    "- Iterate over each document \n",
    "- `qa_text = f'{question} {text}'`\n",
    "- compute the embedding for `qa_text`, append to `embeddings`\n",
    "- At the end, let `X = np.array(embeddings)` (`import numpy as np`) \n",
    "\n",
    "What's the shape of X? (`X.shape`). Include the parantheses."
   ]
  },
  {
   "cell_type": "code",
   "execution_count": 15,
   "metadata": {},
   "outputs": [],
   "source": [
    "from tqdm.auto import tqdm"
   ]
  },
  {
   "cell_type": "code",
   "execution_count": 56,
   "metadata": {},
   "outputs": [
    {
     "name": "stderr",
     "output_type": "stream",
     "text": [
      "100%|██████████| 375/375 [01:53<00:00,  3.29it/s]\n"
     ]
    }
   ],
   "source": [
    "qa_text_embeddings = []\n",
    "\n",
    "for doc in tqdm(ml_documents):\n",
    "    question = doc['question']\n",
    "    text = doc['text']\n",
    "    qa_text = f\"{question} {text}\"\n",
    "\n",
    "    doc['question_vector'] = embedding_model.encode(question)\n",
    "    doc['text_vector'] = embedding_model.encode(text)\n",
    "    doc['question_text_vector'] = embedding_model.encode(qa_text)\n",
    "    qa_text_embeddings.append(embedding_model.encode(qa_text))"
   ]
  },
  {
   "cell_type": "code",
   "execution_count": 17,
   "metadata": {},
   "outputs": [
    {
     "data": {
      "text/plain": [
       "375"
      ]
     },
     "execution_count": 17,
     "metadata": {},
     "output_type": "execute_result"
    }
   ],
   "source": [
    "len(qa_text_embeddings)"
   ]
  },
  {
   "cell_type": "code",
   "execution_count": 19,
   "metadata": {},
   "outputs": [],
   "source": [
    "import numpy as np"
   ]
  },
  {
   "cell_type": "code",
   "execution_count": 24,
   "metadata": {},
   "outputs": [
    {
     "data": {
      "text/plain": [
       "(375, 768)"
      ]
     },
     "execution_count": 24,
     "metadata": {},
     "output_type": "execute_result"
    }
   ],
   "source": [
    "X = np.array(qa_text_embeddings)\n",
    "\n",
    "X.shape"
   ]
  },
  {
   "cell_type": "markdown",
   "metadata": {},
   "source": [
    "### Q3. Search\n",
    "\n",
    "We have the embeddings and the query vector. Now let's compute the \n",
    "cosine similarity between the vector from Q1 (let's call it `v`) and the matrix from Q2. \n",
    "\n",
    "The vectors returned from the embedding model are already\n",
    "normalized (you can check it by computing a dot product of a vector\n",
    "with itself - it should return something very close to 1.0). This means that in order\n",
    "to compute the coside similarity, it's sufficient to \n",
    "multiply the matrix `X` by the vector `v`:\n",
    "\n",
    "\n",
    "```python\n",
    "scores = X.dot(v)\n",
    "```\n",
    "\n",
    "What's the highest score in the results?\n",
    "\n",
    "- 65.0 \n",
    "- 6.5\n",
    "- 0.65\n",
    "- 0.065\n"
   ]
  },
  {
   "cell_type": "code",
   "execution_count": 27,
   "metadata": {},
   "outputs": [
    {
     "data": {
      "text/plain": [
       "0.65065753"
      ]
     },
     "execution_count": 27,
     "metadata": {},
     "output_type": "execute_result"
    }
   ],
   "source": [
    "scores = X.dot(vec)\n",
    "\n",
    "scores.max()"
   ]
  },
  {
   "cell_type": "markdown",
   "metadata": {},
   "source": [
    "### Vector search\n",
    "\n",
    "We can now compute the similarity between a query vector and all the embeddings.\n",
    "\n",
    "Let's use this to implement our own vector search\n",
    "\n",
    "```python\n",
    "class VectorSearchEngine():\n",
    "    def __init__(self, documents, embeddings):\n",
    "        self.documents = documents\n",
    "        self.embeddings = embeddings\n",
    "\n",
    "    def search(self, v_query, num_results=10):\n",
    "        scores = self.embeddings.dot(v_query)\n",
    "        idx = np.argsort(-scores)[:num_results]\n",
    "        return [self.documents[i] for i in idx]\n",
    "\n",
    "search_engine = VectorSearchEngine(documents=documents, embeddings=X)\n",
    "search_engine.search(v, num_results=5)\n",
    "```\n",
    "\n",
    "If you don't understand how the `search` function work:\n",
    "\n",
    "* Ask ChatGTP or any other LLM of your choice to explain the code\n",
    "* Check our pre-course workshop about implementing a search engine [here](https://github.com/alexeygrigorev/build-your-own-search-engine)\n",
    "\n",
    "(Note: you can replace `argsort` with `argpartition` to make it a lot faster)"
   ]
  },
  {
   "cell_type": "code",
   "execution_count": 28,
   "metadata": {},
   "outputs": [],
   "source": [
    "class VectorSearchEngine:\n",
    "    \"\"\"\n",
    "    A vector search engine that retrieves the most relevant documents based on vector similarity.\n",
    "\n",
    "    Attributes:\n",
    "    -----------\n",
    "    documents : list\n",
    "        A list of documents where each document is represented as a dictionary.\n",
    "    embeddings : numpy.ndarray\n",
    "        A 2D numpy array where each row is the vector embedding of a document.\n",
    "\n",
    "    Methods:\n",
    "    --------\n",
    "    __init__(documents, embeddings)\n",
    "        Initializes the search engine with documents and their corresponding embeddings.\n",
    "    search(v_query, num_results=10)\n",
    "        Searches for and returns the most relevant documents based on the query vector.\n",
    "    \"\"\"\n",
    "\n",
    "    def __init__(self, documents, embeddings):\n",
    "        \"\"\"\n",
    "        Initializes the VectorSearchEngine with a list of documents and their embeddings.\n",
    "\n",
    "        Parameters:\n",
    "        -----------\n",
    "        documents : list\n",
    "            A list of documents where each document is represented as a dictionary.\n",
    "        embeddings : numpy.ndarray\n",
    "            A 2D numpy array where each row is the vector embedding of a document.\n",
    "        \"\"\"\n",
    "        self.documents = documents\n",
    "        self.embeddings = embeddings\n",
    "\n",
    "    def search(self, v_query, num_results=10):\n",
    "        \"\"\"\n",
    "        Searches for and returns the most relevant documents based on the query vector.\n",
    "\n",
    "        Parameters:\n",
    "        -----------\n",
    "        v_query : numpy.ndarray\n",
    "            A vector representing the query.\n",
    "        num_results : int, optional\n",
    "            The number of top relevant documents to return (default is 10).\n",
    "\n",
    "        Returns:\n",
    "        --------\n",
    "        list\n",
    "            A list of the most relevant documents.\n",
    "        \"\"\"\n",
    "        scores = self.embeddings.dot(v_query)  # Calculate the similarity scores\n",
    "        idx = np.argsort(-scores)[:num_results]  # Get indices of the top `num_results` scores\n",
    "        return [self.documents[i] for i in idx]  # Return the corresponding documents\n"
   ]
  },
  {
   "cell_type": "code",
   "execution_count": 29,
   "metadata": {},
   "outputs": [
    {
     "data": {
      "text/plain": [
       "[{'text': 'Yes, you can. You won’t be able to submit some of the homeworks, but you can still take part in the course.\\nIn order to get a certificate, you need to submit 2 out of 3 course projects and review 3 peers’ Projects by the deadline. It means that if you join the course at the end of November and manage to work on two projects, you will still be eligible for a certificate.',\n",
       "  'section': 'General course-related questions',\n",
       "  'question': 'The course has already started. Can I still join it?',\n",
       "  'course': 'machine-learning-zoomcamp',\n",
       "  'id': 'ee58a693'},\n",
       " {'text': 'Welcome to the course! Go to the course page (http://mlzoomcamp.com/), scroll down and start going through the course materials. Then read everything in the cohort folder for your cohort’s year.\\nClick on the links and start watching the videos. Also watch office hours from previous cohorts. Go to DTC youtube channel and click on Playlists and search for {course yyyy}. ML Zoomcamp was first launched in 2021.\\nOr you can just use this link: http://mlzoomcamp.com/#syllabus',\n",
       "  'section': 'General course-related questions',\n",
       "  'question': 'I just joined. What should I do next? How can I access course materials?',\n",
       "  'course': 'machine-learning-zoomcamp',\n",
       "  'id': '0a278fb2'},\n",
       " {'text': \"The process is automated now, so you should receive the email eventually. If you haven’t, check your promotions tab in Gmail as well as spam.\\nIf you unsubscribed from our newsletter, you won't get course related updates too.\\nBut don't worry, it’s not a problem. To make sure you don’t miss anything, join the #course-ml-zoomcamp channel in Slack and our telegram channel with announcements. This is enough to follow the course.\",\n",
       "  'section': 'General course-related questions',\n",
       "  'question': \"I filled the form, but haven't received a confirmation email. Is it normal?\",\n",
       "  'course': 'machine-learning-zoomcamp',\n",
       "  'id': '6ba259b1'},\n",
       " {'text': 'Technically, yes. Advisable? Not really. Reasons:\\nSome homework(s) asks for specific python library versions.\\nAnswers may not match in MCQ options if using different languages other than Python 3.10 (the recommended version for 2023 cohort)\\nAnd as for midterms/capstones, your peer-reviewers may not know these other languages. Do you want to be penalized for others not knowing these other languages?\\nYou can create a separate repo using course’s lessons but written in other languages for your own learnings, but not advisable for submissions.\\ntx[source]',\n",
       "  'section': 'Miscellaneous',\n",
       "  'question': 'Can I do the course in other languages, like R or Scala?',\n",
       "  'course': 'machine-learning-zoomcamp',\n",
       "  'id': '9f261648'},\n",
       " {'text': 'We won’t re-record the course videos. The focus of the course and the skills we want to teach remained the same, and the videos are still up-to-date.\\nIf you haven’t taken part in the previous iteration, you can start watching the videos. It’ll be useful for you and you will learn new things. However, we recommend using Python 3.10 now instead of Python 3.8.',\n",
       "  'section': 'General course-related questions',\n",
       "  'question': 'The course videos are from the previous iteration. Will you release new ones or we’ll use the videos from 2021?',\n",
       "  'course': 'machine-learning-zoomcamp',\n",
       "  'id': 'e7ba6b8a'}]"
      ]
     },
     "execution_count": 29,
     "metadata": {},
     "output_type": "execute_result"
    }
   ],
   "source": [
    "search_engine = VectorSearchEngine(documents=ml_documents, embeddings=X)\n",
    "search_engine.search(vec, num_results=5)"
   ]
  },
  {
   "cell_type": "markdown",
   "metadata": {},
   "source": [
    "### Q4. Hit-rate for our search engine\n",
    "\n",
    "Let's evaluate the performance of our own search engine. We will\n",
    "use the hitrate metric for evaluation.\n",
    "\n",
    "First, load the ground truth dataset:\n",
    "\n",
    "```python\n",
    "import pandas as pd\n",
    "\n",
    "base_url = 'https://github.com/DataTalksClub/llm-zoomcamp/blob/main'\n",
    "relative_url = '03-vector-search/eval/ground-truth-data.csv'\n",
    "ground_truth_url = f'{base_url}/{relative_url}?raw=1'\n",
    "\n",
    "df_ground_truth = pd.read_csv(ground_truth_url)\n",
    "df_ground_truth = df_ground_truth[df_ground_truth.course == 'machine-learning-zoomcamp']\n",
    "ground_truth = df_ground_truth.to_dict(orient='records')\n",
    "```\n",
    "\n",
    "Now use the code from the module to calculate the hitrate of\n",
    "`VectorSearchEngine` with `num_results=5`.\n",
    "\n",
    "What did you get?\n",
    "\n",
    "* 0.93\n",
    "* 0.73\n",
    "* 0.53\n",
    "* 0.33\n"
   ]
  },
  {
   "cell_type": "code",
   "execution_count": 30,
   "metadata": {},
   "outputs": [],
   "source": [
    "import pandas as pd"
   ]
  },
  {
   "cell_type": "code",
   "execution_count": 31,
   "metadata": {},
   "outputs": [],
   "source": [
    "base_url = 'https://github.com/DataTalksClub/llm-zoomcamp/blob/main'\n",
    "relative_url = '03-vector-search/eval/ground-truth-data.csv'\n",
    "ground_truth_url = f'{base_url}/{relative_url}?raw=1'\n",
    "\n",
    "df_ground_truth = pd.read_csv(ground_truth_url)\n",
    "df_ground_truth = df_ground_truth[df_ground_truth.course == 'machine-learning-zoomcamp']\n"
   ]
  },
  {
   "cell_type": "code",
   "execution_count": 32,
   "metadata": {},
   "outputs": [
    {
     "data": {
      "text/html": [
       "<div>\n",
       "<style scoped>\n",
       "    .dataframe tbody tr th:only-of-type {\n",
       "        vertical-align: middle;\n",
       "    }\n",
       "\n",
       "    .dataframe tbody tr th {\n",
       "        vertical-align: top;\n",
       "    }\n",
       "\n",
       "    .dataframe thead th {\n",
       "        text-align: right;\n",
       "    }\n",
       "</style>\n",
       "<table border=\"1\" class=\"dataframe\">\n",
       "  <thead>\n",
       "    <tr style=\"text-align: right;\">\n",
       "      <th></th>\n",
       "      <th>question</th>\n",
       "      <th>course</th>\n",
       "      <th>document</th>\n",
       "    </tr>\n",
       "  </thead>\n",
       "  <tbody>\n",
       "    <tr>\n",
       "      <th>2123</th>\n",
       "      <td>Where can I sign up for the course?</td>\n",
       "      <td>machine-learning-zoomcamp</td>\n",
       "      <td>0227b872</td>\n",
       "    </tr>\n",
       "    <tr>\n",
       "      <th>2124</th>\n",
       "      <td>Can you provide a link to sign up?</td>\n",
       "      <td>machine-learning-zoomcamp</td>\n",
       "      <td>0227b872</td>\n",
       "    </tr>\n",
       "    <tr>\n",
       "      <th>2125</th>\n",
       "      <td>Is there an FAQ for this Machine Learning course?</td>\n",
       "      <td>machine-learning-zoomcamp</td>\n",
       "      <td>0227b872</td>\n",
       "    </tr>\n",
       "    <tr>\n",
       "      <th>2126</th>\n",
       "      <td>Does this course have a GitHub repository for ...</td>\n",
       "      <td>machine-learning-zoomcamp</td>\n",
       "      <td>0227b872</td>\n",
       "    </tr>\n",
       "    <tr>\n",
       "      <th>2127</th>\n",
       "      <td>How can I structure my questions and answers f...</td>\n",
       "      <td>machine-learning-zoomcamp</td>\n",
       "      <td>0227b872</td>\n",
       "    </tr>\n",
       "  </tbody>\n",
       "</table>\n",
       "</div>"
      ],
      "text/plain": [
       "                                               question  \\\n",
       "2123                Where can I sign up for the course?   \n",
       "2124                 Can you provide a link to sign up?   \n",
       "2125  Is there an FAQ for this Machine Learning course?   \n",
       "2126  Does this course have a GitHub repository for ...   \n",
       "2127  How can I structure my questions and answers f...   \n",
       "\n",
       "                         course  document  \n",
       "2123  machine-learning-zoomcamp  0227b872  \n",
       "2124  machine-learning-zoomcamp  0227b872  \n",
       "2125  machine-learning-zoomcamp  0227b872  \n",
       "2126  machine-learning-zoomcamp  0227b872  \n",
       "2127  machine-learning-zoomcamp  0227b872  "
      ]
     },
     "execution_count": 32,
     "metadata": {},
     "output_type": "execute_result"
    }
   ],
   "source": [
    "df_ground_truth.head()"
   ]
  },
  {
   "cell_type": "code",
   "execution_count": 34,
   "metadata": {},
   "outputs": [],
   "source": [
    "df_ground_truth.dropna(inplace=True)"
   ]
  },
  {
   "cell_type": "code",
   "execution_count": 36,
   "metadata": {},
   "outputs": [
    {
     "data": {
      "text/plain": [
       "(1830, 3)"
      ]
     },
     "execution_count": 36,
     "metadata": {},
     "output_type": "execute_result"
    }
   ],
   "source": [
    "df_ground_truth.shape"
   ]
  },
  {
   "cell_type": "code",
   "execution_count": 37,
   "metadata": {},
   "outputs": [],
   "source": [
    "ground_truth = df_ground_truth.to_dict(orient='records')"
   ]
  },
  {
   "cell_type": "code",
   "execution_count": 39,
   "metadata": {},
   "outputs": [
    {
     "data": {
      "text/plain": [
       "{'question': 'Where can I sign up for the course?',\n",
       " 'course': 'machine-learning-zoomcamp',\n",
       " 'document': '0227b872'}"
      ]
     },
     "execution_count": 39,
     "metadata": {},
     "output_type": "execute_result"
    }
   ],
   "source": [
    "ground_truth[0]"
   ]
  },
  {
   "cell_type": "markdown",
   "metadata": {},
   "source": [
    "#### Evaluation metrics for the VectorSearch Enginee using HitRate"
   ]
  },
  {
   "cell_type": "code",
   "execution_count": 38,
   "metadata": {},
   "outputs": [],
   "source": [
    "# hit rate (recall)\n",
    "def hit_rate(relevance_total):\n",
    "    cnt = 0\n",
    "\n",
    "    for line in relevance_total:\n",
    "        if True in line:\n",
    "            cnt = cnt + 1\n",
    "\n",
    "    return cnt / len(relevance_total)"
   ]
  },
  {
   "cell_type": "code",
   "execution_count": 52,
   "metadata": {},
   "outputs": [],
   "source": [
    "def evaluate(ground_truth, search_function):\n",
    "    relevance_total = []\n",
    "\n",
    "    for q in tqdm(ground_truth):\n",
    "        doc_id = q['document']\n",
    "        user_question = q[\"question\"]\n",
    "        vec = embedding_model.encode(user_question)\n",
    "        results = search_function(vec, num_results=5)\n",
    "        relevance = [d['id'] == doc_id for d in results]\n",
    "        relevance_total.append(relevance)\n",
    "    \n",
    "    print(results[-1])\n",
    "    print(relevance_total[0])\n",
    "    print(relevance_total[-1])\n",
    "\n",
    "    return {\n",
    "        'hit_rate': hit_rate(relevance_total)\n",
    "    }"
   ]
  },
  {
   "cell_type": "code",
   "execution_count": 53,
   "metadata": {},
   "outputs": [
    {
     "name": "stderr",
     "output_type": "stream",
     "text": [
      "  0%|          | 0/1830 [00:00<?, ?it/s]"
     ]
    },
    {
     "name": "stderr",
     "output_type": "stream",
     "text": [
      "100%|██████████| 1830/1830 [01:21<00:00, 22.36it/s]"
     ]
    },
    {
     "name": "stdout",
     "output_type": "stream",
     "text": [
      "{'text': 'Install Nvidia drivers: https://www.nvidia.com/download/index.aspx.\\nWindows:\\nInstall Anaconda prompt https://www.anaconda.com/\\nTwo options:\\nInstall package ‘tensorflow-gpu’ in Anaconda\\nInstall the Tensorflow way https://www.tensorflow.org/install/pip#windows-native\\nWSL/Linux:\\nWSL: Use the Windows Nvida drivers, do not touch that.\\nTwo options:\\nInstall the Tensorflow way https://www.tensorflow.org/install/pip#linux_1\\nMake sure to follow step 4 to install CUDA by environment\\nAlso run:\\necho ‘export XLA_FLAGS=--xla_gpu_cuda_data_dir=$CONDA_PREFIX/lib/> $CONDA_PREFIX/etc/conda/activate.d/env_vars.sh\\nInstall CUDA toolkit 11.x.x https://developer.nvidia.com/cuda-toolkit-archive\\nInstall https://developer.nvidia.com/rdp/cudnn-download\\nNow you should be able to do training/inference with GPU in Tensorflow\\n(Learning in public links Links to social media posts where you share your progress with others (LinkedIn, Twitter, etc). Use #mlzoomcamp tag. The scores for this part will be capped at 7 points. Please make sure the posts are valid URLs starting with \"https://\" Does it mean that I should provide my linkedin link? or it means that I should write a post that I have completed my first assignement? (\\nANS (by ezehcp7482@gmail.com): Yes, provide the linkedIN link to where you posted.\\nezehcp7482@gmail.com:\\nPROBLEM: Since I had to put up a link to a public repository, I had to use Kaggle and uploading the dataset therein was a bit difficult; but I had to ‘google’ my way out.\\nANS: See this link for a guide (https://www.kaggle.com/code/dansbecker/finding-your-files-in-kaggle-kernels/notebook)', 'section': 'Miscellaneous', 'question': 'CUDA toolkit and cuDNN Install for Tensorflow', 'course': 'machine-learning-zoomcamp', 'id': 'f2cd48b6'}\n",
      "[False, False, False, False, False]\n",
      "[True, False, False, False, False]\n"
     ]
    },
    {
     "name": "stderr",
     "output_type": "stream",
     "text": [
      "\n"
     ]
    },
    {
     "data": {
      "text/plain": [
       "{'hit_rate': 0.9398907103825137}"
      ]
     },
     "execution_count": 53,
     "metadata": {},
     "output_type": "execute_result"
    }
   ],
   "source": [
    "search_engine = VectorSearchEngine(documents=ml_documents, embeddings=X)\n",
    "\n",
    "evaluate(ground_truth, search_engine.search)"
   ]
  },
  {
   "cell_type": "markdown",
   "metadata": {},
   "source": [
    "### Q5. Indexing with Elasticsearch\n",
    "\n",
    "Now let's index these documents with elasticsearch\n",
    "\n",
    "* Create the index with the same settings as in the module (but change the dimensions)\n",
    "* Index the embeddings (note: you've already computed them)\n",
    "\n",
    "After indexing, let's perform the search of the same query from Q1.\n",
    "\n",
    "What's the ID of the document with the highest score?"
   ]
  },
  {
   "cell_type": "code",
   "execution_count": 54,
   "metadata": {},
   "outputs": [
    {
     "data": {
      "text/plain": [
       "ObjectApiResponse({'acknowledged': True, 'shards_acknowledged': True, 'index': 'ml-course-questions-vector'})"
      ]
     },
     "execution_count": 54,
     "metadata": {},
     "output_type": "execute_result"
    }
   ],
   "source": [
    "from elasticsearch import Elasticsearch\n",
    "\n",
    "es_client = Elasticsearch('http://localhost:9200') \n",
    "\n",
    "index_settings = {\n",
    "    \"settings\": {\n",
    "        \"number_of_shards\": 1,\n",
    "        \"number_of_replicas\": 0\n",
    "    },\n",
    "    \"mappings\": {\n",
    "        \"properties\": {\n",
    "            \"text\": {\"type\": \"text\"},\n",
    "            \"section\": {\"type\": \"text\"},\n",
    "            \"question\": {\"type\": \"text\"},\n",
    "            \"course\": {\"type\": \"keyword\"},\n",
    "            \"id\": {\"type\": \"keyword\"},\n",
    "            \"question_vector\": {\n",
    "                \"type\": \"dense_vector\",\n",
    "                \"dims\": 768,\n",
    "                \"index\": True,\n",
    "                \"similarity\": \"cosine\"\n",
    "            },\n",
    "            \"text_vector\": {\n",
    "                \"type\": \"dense_vector\",\n",
    "                \"dims\": 768,\n",
    "                \"index\": True,\n",
    "                \"similarity\": \"cosine\"\n",
    "            },\n",
    "            \"question_text_vector\": {\n",
    "                \"type\": \"dense_vector\",\n",
    "                \"dims\": 768,\n",
    "                \"index\": True,\n",
    "                \"similarity\": \"cosine\"\n",
    "            },\n",
    "        }\n",
    "    }\n",
    "}\n",
    "\n",
    "index_name = \"ml-course-questions-vector\"\n",
    "\n",
    "es_client.indices.delete(index=index_name, ignore_unavailable=True)\n",
    "es_client.indices.create(index=index_name, body=index_settings)"
   ]
  },
  {
   "cell_type": "code",
   "execution_count": 57,
   "metadata": {},
   "outputs": [
    {
     "name": "stderr",
     "output_type": "stream",
     "text": [
      "100%|██████████| 375/375 [00:04<00:00, 82.37it/s] \n"
     ]
    }
   ],
   "source": [
    "for doc in tqdm(ml_documents):\n",
    "    es_client.index(index=index_name, document=doc)"
   ]
  },
  {
   "cell_type": "code",
   "execution_count": 61,
   "metadata": {},
   "outputs": [
    {
     "data": {
      "text/plain": [
       "{'text': 'Machine Learning Zoomcamp FAQ\\nThe purpose of this document is to capture frequently asked technical questions.\\nWe did this for our data engineering course and it worked quite well. Check this document for inspiration on how to structure your questions and answers:\\nData Engineering Zoomcamp FAQ\\nIn the course GitHub repository there’s a link. Here it is: https://airtable.com/shryxwLd0COOEaqXo\\nwork',\n",
       " 'section': 'General course-related questions',\n",
       " 'question': 'How do I sign up?',\n",
       " 'course': 'machine-learning-zoomcamp',\n",
       " 'id': '0227b872',\n",
       " 'question_text_vector': array([ 8.80591646e-02,  1.55936433e-02,  7.92557746e-02,  2.52757091e-02,\n",
       "         7.55764470e-02, -3.90596166e-02, -4.13813293e-02,  2.52917074e-02,\n",
       "         2.43241899e-02,  3.62590281e-03, -7.28286617e-03, -3.28751355e-02,\n",
       "         6.12956062e-02, -5.71100414e-02,  1.16774524e-02, -1.79441012e-02,\n",
       "         4.49205674e-02, -5.41606285e-02, -1.92252628e-03,  1.48329502e-02,\n",
       "         7.91352708e-03, -3.43126953e-02,  1.21480897e-02,  1.27186282e-02,\n",
       "        -1.60091650e-02,  7.12130684e-03,  1.58388913e-02, -3.27606802e-04,\n",
       "         3.01291840e-03, -4.58918102e-02, -1.34767988e-03,  2.01150067e-02,\n",
       "         2.33724099e-02, -4.28200327e-03, -3.09383180e-02,  1.94303703e-03,\n",
       "        -1.88219715e-02,  5.35162352e-03,  1.29352547e-02, -3.23958658e-02,\n",
       "         3.10556944e-02,  5.12983510e-03, -3.24416062e-04, -3.15542296e-02,\n",
       "         1.93377491e-02, -6.38601333e-02, -3.05380728e-02, -6.27885535e-02,\n",
       "        -1.74859650e-02,  3.52948420e-02, -2.98070349e-02,  7.45345801e-02,\n",
       "        -2.06181966e-02, -1.79156996e-02,  1.86262727e-02,  5.31013757e-02,\n",
       "         1.19286953e-02, -5.18542901e-02, -1.61925494e-03,  3.58706005e-02,\n",
       "        -6.52321195e-03,  4.53287065e-02, -1.06173232e-02,  1.02414880e-02,\n",
       "        -4.41201478e-02, -7.07985312e-02,  1.33665241e-02, -2.05063317e-02,\n",
       "         3.62042449e-02, -3.39449868e-02,  3.25139053e-02,  2.22205166e-02,\n",
       "        -3.24137025e-02, -3.93159986e-02,  2.75323371e-04,  2.43686568e-02,\n",
       "         1.57889575e-02,  2.50409245e-02,  1.70959113e-03, -2.63267517e-04,\n",
       "         4.40217406e-02, -5.46364784e-02,  2.34348681e-02,  2.99488120e-02,\n",
       "         1.41274650e-02, -2.91330405e-02, -6.47388073e-03, -3.54053676e-02,\n",
       "         1.71306767e-02,  2.90904213e-02,  1.46858655e-02,  8.54333397e-03,\n",
       "        -3.44418250e-02, -1.04836067e-02,  3.15485224e-02, -8.74644294e-02,\n",
       "        -2.11829524e-02, -5.05226851e-02, -7.52343051e-03,  4.42792773e-02,\n",
       "         3.77510078e-02, -1.24980998e-03,  6.45407662e-03, -1.53079787e-02,\n",
       "         1.66408308e-02,  5.46391234e-02,  1.78500917e-02, -7.61289289e-03,\n",
       "        -4.61102799e-02,  4.10019532e-02, -4.52272743e-02, -2.77623683e-02,\n",
       "         1.95288341e-02, -6.11867830e-02,  1.12644238e-02,  5.08547621e-03,\n",
       "         4.85851169e-02, -9.07003600e-03, -9.79340915e-03,  1.72461458e-02,\n",
       "        -7.30905458e-02,  5.36573380e-02, -3.24016474e-02,  1.24104600e-02,\n",
       "         1.06902933e-02,  3.30721103e-02,  4.14839610e-02,  3.38428915e-02,\n",
       "        -1.12893397e-03, -9.08525586e-02,  3.76024004e-03, -3.49575579e-02,\n",
       "         1.31473299e-02,  1.33827971e-02,  3.44474949e-02,  6.85055032e-02,\n",
       "        -1.42454142e-02, -5.42298518e-02, -8.57373048e-03,  2.42687780e-02,\n",
       "         5.15868850e-02, -2.89775971e-02, -1.47677371e-02, -1.08239902e-02,\n",
       "        -5.66393249e-02, -2.07524421e-03, -3.71209793e-02,  4.00512852e-03,\n",
       "        -5.97900487e-02, -1.55889271e-02,  2.72703748e-02,  1.94719974e-02,\n",
       "         1.87415779e-02, -3.74510214e-02,  2.62066461e-02,  7.50285685e-02,\n",
       "         2.16102488e-02, -1.37813594e-02,  5.01989014e-02, -6.47025695e-03,\n",
       "         5.67430370e-02, -4.03868183e-02, -1.20674493e-02,  8.55053067e-02,\n",
       "        -2.71651568e-03,  2.78824270e-02, -4.38817777e-02, -2.82746721e-02,\n",
       "         1.92068629e-02, -4.36237566e-02,  3.98129299e-02, -5.63068017e-02,\n",
       "         1.37331076e-02,  4.01089620e-03, -7.01447157e-03, -1.51920216e-02,\n",
       "         4.40157726e-02,  2.72325724e-02,  3.32806744e-02,  3.21898237e-02,\n",
       "        -8.18990842e-02, -5.92770278e-02,  2.22219974e-02, -2.69076135e-02,\n",
       "         4.15942632e-02, -1.37761254e-02,  4.10629585e-02,  4.05325070e-02,\n",
       "        -5.58695756e-02,  3.60301994e-02, -6.35673106e-03, -1.65046994e-02,\n",
       "        -1.07160152e-03, -7.76120508e-03,  5.12158871e-02, -3.07670869e-02,\n",
       "        -3.98046598e-02,  2.19666399e-02, -9.50627495e-03,  2.66281627e-02,\n",
       "         3.57357077e-02,  5.89501224e-02,  5.54059539e-03, -1.41586550e-03,\n",
       "        -2.31177099e-02,  2.41298089e-03, -2.71170400e-02, -3.01101506e-02,\n",
       "        -1.71694774e-02, -3.58681604e-02, -4.03451324e-02,  2.02253647e-02,\n",
       "         1.31837716e-02, -1.05260322e-02,  1.65335909e-02, -1.22697279e-02,\n",
       "        -3.93680111e-02,  9.12594702e-03, -1.34846400e-02,  2.73655672e-02,\n",
       "         3.88677567e-02, -3.65220313e-03, -2.11338997e-02,  2.25973956e-04,\n",
       "        -3.12622339e-02, -3.47088277e-02, -4.12916727e-02,  2.91098375e-02,\n",
       "         5.44958636e-02, -1.32070035e-01,  9.59284604e-03, -1.37134651e-02,\n",
       "         4.40674759e-02, -1.03825718e-01,  6.36643246e-02,  8.60979594e-03,\n",
       "         1.49037279e-02,  8.22761736e-04, -2.20600944e-02, -9.55874159e-04,\n",
       "        -4.45700571e-04, -1.26143117e-02, -4.75995913e-02, -2.14227811e-02,\n",
       "         4.69316877e-02,  2.59528868e-02, -1.09705394e-02, -1.69420857e-02,\n",
       "         7.51994178e-03, -5.15509471e-02,  4.28997092e-02,  1.28117367e-03,\n",
       "        -1.04662916e-02, -1.64836403e-02, -4.98015881e-02,  4.39343750e-02,\n",
       "         5.84346913e-02, -4.44176085e-02,  6.89991098e-03,  5.39159663e-02,\n",
       "         1.75765548e-02,  7.08559994e-03, -2.18797270e-02, -1.89141580e-03,\n",
       "         1.05513446e-02, -5.98141402e-02, -3.13124470e-02, -2.73168180e-02,\n",
       "         3.12897041e-02,  5.49116991e-02, -1.85727719e-02, -2.15360783e-02,\n",
       "         6.17362186e-02,  7.07533211e-03,  2.01494191e-02, -4.06039841e-02,\n",
       "         2.30053160e-02,  2.01895256e-02,  1.80802979e-02,  3.35160978e-02,\n",
       "        -2.27058884e-02, -5.81537485e-02,  3.04264855e-02, -1.40141882e-02,\n",
       "         2.95397602e-02,  1.17535656e-02, -7.83733726e-02,  2.78971978e-02,\n",
       "        -4.30106409e-02, -7.59010017e-02,  4.92750406e-02,  7.59606883e-02,\n",
       "         3.54486564e-03,  5.81535511e-02,  4.69779149e-02, -4.00018785e-03,\n",
       "        -4.00542235e-03,  2.51615234e-02, -9.95812863e-02,  3.34291197e-02,\n",
       "        -3.01803765e-03,  3.01541407e-02,  4.54931706e-02, -7.25229308e-02,\n",
       "         4.01626602e-02, -1.16757825e-02, -6.19696872e-03, -9.54162702e-02,\n",
       "        -3.01121455e-02, -2.74964366e-02, -4.44819145e-02,  1.52521429e-03,\n",
       "        -6.31316379e-02, -8.02881345e-02,  4.55778018e-02,  3.08043696e-02,\n",
       "        -4.65145707e-03, -2.48234882e-03, -1.87035762e-02,  3.56814079e-02,\n",
       "        -8.61486048e-02, -8.76676943e-03,  5.94233572e-02,  7.03033656e-02,\n",
       "        -3.35517665e-03,  3.14285494e-02,  3.35557498e-02,  4.47359197e-02,\n",
       "        -1.82780549e-02,  4.33740951e-03, -1.56071605e-02,  4.82698120e-02,\n",
       "         5.78109883e-02, -1.55577587e-03, -3.07916310e-02,  3.06997690e-02,\n",
       "         3.05095352e-02,  4.37345095e-02, -2.46432107e-02, -1.98744349e-02,\n",
       "         7.25650694e-03,  3.61755304e-02, -1.86710171e-02, -1.69780310e-02,\n",
       "         5.28292954e-02,  1.72059762e-03,  3.34721357e-02, -6.57697245e-02,\n",
       "        -3.20817307e-02,  4.12172172e-03,  8.29506852e-03, -4.56412509e-02,\n",
       "         3.20224613e-02, -2.28897780e-02,  5.52555695e-02,  4.02578823e-02,\n",
       "        -2.90957317e-02, -3.44283553e-03, -1.38216875e-02, -6.28976035e-04,\n",
       "         2.53444854e-02,  1.89794172e-02, -4.45093177e-02, -4.78352308e-02,\n",
       "         3.22865881e-02,  6.68824837e-02, -8.67477991e-03, -7.80015020e-03,\n",
       "         2.92876735e-03, -2.42291987e-02, -2.09650062e-02, -1.09208822e-01,\n",
       "        -2.94363387e-02,  1.47711569e-02, -4.47422490e-02, -2.71010753e-02,\n",
       "        -3.91127123e-03,  1.68100614e-02,  3.11842449e-02,  1.24179143e-02,\n",
       "         6.59744069e-03, -4.44684178e-03, -3.45145799e-02, -1.24454568e-03,\n",
       "         5.61033227e-02, -4.12151180e-02,  4.74843569e-02,  3.92920896e-02,\n",
       "        -5.78538775e-02, -4.47588004e-02,  1.95153393e-02,  3.01111992e-02,\n",
       "        -8.72339215e-03, -2.85053886e-02, -7.27261323e-03,  3.58913168e-02,\n",
       "        -7.09610209e-02, -6.56752512e-02,  5.03810029e-03,  2.90020667e-02,\n",
       "         4.08620667e-03,  7.97065161e-03, -2.29645129e-02, -4.41172570e-02,\n",
       "         4.12212051e-02,  2.17065625e-02,  1.23129794e-02, -1.74233839e-02,\n",
       "        -1.55699216e-02, -1.17437523e-02,  5.18719591e-02,  3.44446814e-03,\n",
       "        -6.66775033e-02,  3.35144103e-02, -4.39766236e-03, -3.66433002e-02,\n",
       "         7.48344362e-02,  1.37543986e-02, -5.05723357e-02, -1.69508699e-02,\n",
       "        -9.13899243e-02,  3.94618995e-02, -4.91534062e-02,  2.32399292e-02,\n",
       "        -6.95741409e-03, -2.49377266e-02,  1.79813784e-02, -3.91750969e-02,\n",
       "         2.72794832e-02,  5.39086238e-02,  6.70256764e-02,  2.87339985e-02,\n",
       "         7.15195108e-03,  4.48691845e-02, -2.89589427e-02,  2.67862193e-02,\n",
       "         6.71392977e-02, -3.71885300e-03, -2.13471558e-02,  4.02928442e-02,\n",
       "         5.37430942e-02,  2.69311643e-03,  3.33235003e-02,  4.19460349e-02,\n",
       "         3.77101712e-02,  1.00907553e-02,  1.64033826e-02,  1.37284677e-02,\n",
       "         4.92302775e-02,  5.35364412e-02,  5.79526387e-02, -3.29138711e-02,\n",
       "         1.22460444e-02,  2.88262162e-02, -4.93668625e-03,  2.96172667e-02,\n",
       "         6.32617855e-03, -4.79912683e-02, -3.14916708e-02, -3.97242270e-02,\n",
       "        -3.50666158e-02,  2.99799675e-03, -9.44072939e-03,  2.62566865e-03,\n",
       "         9.90505051e-03, -5.18645793e-02,  2.04040408e-02,  3.75542119e-02,\n",
       "         8.65955651e-03,  3.73829044e-02,  2.54472103e-02, -1.32635087e-02,\n",
       "         8.06263760e-02,  2.10315268e-02, -1.99040938e-02, -1.00639034e-02,\n",
       "        -3.93789150e-02, -3.32227647e-02,  1.41281672e-02,  4.00279760e-02,\n",
       "        -7.60366768e-03, -4.89356183e-02, -2.67796833e-02, -5.59408069e-02,\n",
       "         3.21787968e-02,  8.22694693e-03,  3.76135744e-02,  8.17613211e-03,\n",
       "        -1.37847504e-02, -2.16961112e-02,  1.27261039e-02, -6.38866425e-03,\n",
       "        -8.46948940e-03, -6.06386829e-03, -1.16484556e-02,  1.15113575e-02,\n",
       "         2.72040237e-02, -1.29375281e-02, -1.30015528e-02,  3.71455364e-02,\n",
       "         2.18765792e-02,  2.41832342e-02,  3.43375199e-04, -1.44565189e-02,\n",
       "         3.24437656e-02,  5.78669943e-02,  1.25016179e-02,  1.83984526e-02,\n",
       "        -7.32085034e-02, -1.24306688e-02, -1.85830779e-02, -2.32736347e-03,\n",
       "         1.47508392e-02,  1.19954012e-02, -2.08626827e-03, -2.90985014e-02,\n",
       "         3.42213112e-04, -2.48182975e-02, -2.78203264e-02, -3.26312077e-03,\n",
       "        -1.13068325e-02, -3.82189751e-02, -8.83378088e-02, -2.67932210e-02,\n",
       "        -4.97603305e-02,  1.06248884e-02, -2.03507077e-02,  4.61896509e-02,\n",
       "         3.04142684e-02,  7.39258453e-02, -1.93728823e-02, -6.24436364e-02,\n",
       "        -4.30182740e-02, -2.44432921e-03,  2.31975503e-02,  2.40072459e-02,\n",
       "        -6.32213056e-02, -1.28708230e-02, -1.06627643e-02, -1.21628419e-02,\n",
       "         4.63577285e-02,  8.66867136e-03, -3.91136445e-02,  5.18054655e-03,\n",
       "        -3.37269492e-02,  4.08052951e-02,  4.56021056e-02, -5.35721565e-03,\n",
       "         1.47815412e-02,  6.52767811e-03, -1.91998295e-02,  1.32418955e-02,\n",
       "         1.28353816e-02,  3.14029232e-02,  2.19753850e-02, -1.87768321e-02,\n",
       "         9.01830755e-03,  1.66759267e-02,  1.36971043e-03,  4.85401675e-02,\n",
       "        -5.04996628e-02,  2.72835828e-02, -2.80783791e-03,  8.74805730e-03,\n",
       "         2.16660891e-02,  1.66531876e-02, -4.64340709e-02, -1.94112770e-02,\n",
       "         1.49264978e-02, -2.04602089e-02, -9.30300057e-02, -3.57581885e-03,\n",
       "         4.36928794e-02,  4.18228507e-02, -1.04739852e-02,  9.13394243e-03,\n",
       "        -1.26577104e-02,  9.28817841e-04,  3.03164963e-02,  9.25372541e-03,\n",
       "        -1.58131903e-03,  6.60841390e-02,  1.97660308e-02, -3.60444374e-02,\n",
       "        -3.43115954e-03, -3.59755643e-02,  1.49512133e-02, -2.88110115e-02,\n",
       "         1.71101000e-02,  4.95878309e-02,  3.53193544e-02,  4.19225916e-02,\n",
       "         4.83730435e-02,  1.96335278e-02, -1.70035136e-03,  9.81865823e-02,\n",
       "         1.77093707e-02, -3.84569354e-03, -4.52681854e-02, -4.13469318e-03,\n",
       "        -5.71960211e-02,  1.04758572e-02,  1.73035488e-02,  4.14521508e-02,\n",
       "         1.68830082e-02, -1.23575730e-02, -1.35784894e-02,  6.87891170e-02,\n",
       "         1.86708905e-02,  5.50275818e-02,  2.71758623e-02, -3.02900616e-02,\n",
       "         4.20797281e-02,  3.58546190e-02, -7.05273226e-02,  8.97791795e-03,\n",
       "         3.04064993e-02, -4.93473606e-03, -3.86132374e-02, -6.36185035e-02,\n",
       "        -1.28049925e-02,  1.45554440e-02, -3.86997052e-02, -1.90096125e-02,\n",
       "        -4.16539162e-02, -5.53315394e-02,  3.14243441e-03, -4.05709073e-02,\n",
       "        -4.65660915e-03,  1.20834354e-02,  3.92554179e-02, -1.48488944e-02,\n",
       "        -4.43880036e-02, -1.95002649e-02, -2.00037621e-02, -3.84879261e-02,\n",
       "         6.50727004e-02,  1.58443861e-03,  2.42224708e-02,  2.11767312e-02,\n",
       "        -2.80457214e-02,  5.06496355e-02, -3.17924991e-02, -3.93060558e-02,\n",
       "        -7.48628527e-02, -1.47939827e-02,  2.93552340e-03, -1.90875900e-03,\n",
       "        -4.62152846e-02,  2.79246252e-02,  5.36212437e-02,  5.08886911e-02,\n",
       "        -3.63442898e-02,  4.83041741e-02,  2.08878368e-02,  4.74292412e-02,\n",
       "         4.92657255e-03, -2.71410625e-02,  5.47686033e-02, -4.14409637e-02,\n",
       "        -5.68518648e-03, -3.04766223e-02,  3.94591549e-03, -3.12195718e-02,\n",
       "        -4.37382758e-02,  2.12003589e-02, -1.80493724e-02,  2.81700063e-02,\n",
       "         3.96551341e-02, -5.35950512e-02,  5.33269383e-02,  7.67341396e-03,\n",
       "        -2.33187582e-02, -1.42170675e-02,  5.31647839e-02, -3.49745862e-02,\n",
       "         6.54081777e-02,  4.37313318e-02, -7.25451708e-02,  4.89383787e-02,\n",
       "        -9.12464876e-03,  4.59331386e-02, -3.46429721e-02, -2.72386298e-02,\n",
       "        -3.04770973e-02, -4.05410677e-02,  5.07944226e-02,  2.39162054e-02,\n",
       "        -4.21275869e-02, -7.53406957e-02, -6.37313715e-05,  2.31819693e-02,\n",
       "         2.98201814e-02, -4.67951894e-02,  1.05024446e-02, -8.33896548e-03,\n",
       "        -2.53908075e-02, -2.78914464e-03, -5.80482148e-02, -3.58988419e-02,\n",
       "         1.04233939e-02, -3.31454314e-02, -2.29871757e-02,  1.90615356e-02,\n",
       "        -4.05620746e-02,  3.41106928e-03,  1.07716080e-02,  5.10822535e-02,\n",
       "        -3.88363823e-02, -3.84784453e-02,  4.38734256e-02, -3.46118920e-02,\n",
       "         1.73041560e-02,  1.62715707e-02,  2.14489810e-02, -2.26181895e-02,\n",
       "        -1.69366002e-02,  2.30085831e-02,  2.55132318e-02,  8.10870230e-02,\n",
       "         5.52573018e-02,  1.81328058e-02,  2.32690834e-02,  7.37191960e-02,\n",
       "        -2.53651608e-02,  1.41271055e-02,  7.17906561e-03,  4.39648032e-02,\n",
       "        -1.27545232e-02,  2.30466016e-02,  3.01264692e-02, -7.24175991e-03,\n",
       "         3.82401347e-02,  5.56619130e-02, -6.76998124e-02, -2.43170504e-02,\n",
       "        -1.17052309e-02, -1.58955175e-02,  4.49812822e-02, -5.12632504e-02,\n",
       "         2.38026455e-02,  3.47883254e-02, -3.94905433e-02, -3.04278750e-02,\n",
       "         3.11546475e-02, -2.13786401e-02,  3.09259370e-02,  1.42324474e-02,\n",
       "        -6.56462610e-02,  1.46022262e-02,  3.42594087e-03,  4.44190092e-02,\n",
       "         2.20308616e-03, -1.86534487e-02,  1.99844986e-02, -5.16026206e-02,\n",
       "        -4.81741726e-02,  1.30593618e-02,  1.76973268e-02, -1.19785080e-02,\n",
       "        -9.83291212e-03, -7.01444969e-02, -6.58488423e-02,  6.75936714e-02,\n",
       "        -2.80170869e-02,  7.45118177e-03,  2.41913926e-03,  1.14713097e-02],\n",
       "       dtype=float32),\n",
       " 'question_vector': array([ 8.70802701e-02,  5.98305166e-02,  4.62658741e-02, -8.17992166e-02,\n",
       "         4.93381768e-02,  6.70092404e-02,  5.20504825e-02, -3.99583578e-03,\n",
       "         2.49936450e-02, -1.05813174e-02, -2.35180929e-03, -3.07780597e-02,\n",
       "         8.50448683e-02, -3.35007906e-02, -6.30882103e-03, -3.81490216e-02,\n",
       "         1.95374452e-02,  1.93471275e-02,  1.81184821e-02, -3.73531096e-02,\n",
       "        -1.95184369e-02,  9.90939979e-03, -1.98410754e-03,  1.07108159e-02,\n",
       "         3.84842940e-02,  1.44675709e-02,  1.78855844e-02,  6.32837694e-03,\n",
       "         3.50506529e-02, -3.67645659e-02,  1.76413003e-02, -1.20080663e-02,\n",
       "         1.59992594e-02, -1.58906367e-03,  3.32526118e-02, -4.17819023e-02,\n",
       "        -3.58939059e-02, -7.28505896e-03,  2.76707187e-02, -2.10283659e-02,\n",
       "         1.95879284e-02,  2.02007238e-02,  4.42552753e-02, -8.25183541e-02,\n",
       "         4.97124568e-02, -4.98544760e-02,  4.16607084e-03, -6.07516244e-02,\n",
       "         2.62201298e-02,  5.03271259e-03,  9.59343929e-03, -3.34805734e-02,\n",
       "        -2.03158595e-02, -8.25882889e-03,  3.54897119e-02, -1.46899307e-02,\n",
       "        -9.23245959e-03, -2.71762721e-02, -5.84522560e-02,  4.83575165e-02,\n",
       "         1.01479776e-02,  4.11047190e-02,  7.56503595e-03, -3.57881254e-05,\n",
       "        -4.26467694e-02,  1.12401042e-02,  5.18288650e-02, -1.62688072e-03,\n",
       "        -3.95539042e-04, -1.60425287e-02,  3.82913947e-02, -2.04210486e-02,\n",
       "        -2.19978373e-02, -1.00972183e-01,  8.23598914e-03,  4.06734422e-02,\n",
       "        -2.42702514e-02,  8.21415633e-02,  5.16978502e-02,  3.25115509e-02,\n",
       "         4.10151705e-02, -3.15854140e-03,  4.46419567e-02,  4.77466397e-02,\n",
       "         3.35419402e-02,  9.27505177e-03, -6.77031744e-03, -5.14788404e-02,\n",
       "         4.47446927e-02, -2.30417680e-03, -8.55956599e-03, -2.47552563e-02,\n",
       "        -2.57656835e-02, -4.69634403e-03,  5.69505093e-04, -9.01088640e-02,\n",
       "        -1.10540818e-03,  3.23455245e-03,  2.02641939e-03,  8.93845037e-03,\n",
       "        -6.60273582e-02,  1.62397679e-02,  2.98869964e-02, -3.44878272e-03,\n",
       "        -1.52867259e-02, -1.15146127e-03, -5.21426499e-02, -1.00047868e-02,\n",
       "        -3.74489427e-02,  1.04487054e-02,  1.46123357e-02, -3.23584080e-02,\n",
       "        -2.25288719e-02,  2.11963169e-02,  9.60049592e-03,  4.31365296e-02,\n",
       "         2.95627732e-02, -3.94041911e-02, -3.08419317e-02,  3.43799442e-02,\n",
       "        -4.68121916e-02,  1.93808470e-02, -2.75954939e-02, -4.59608342e-03,\n",
       "        -7.05472659e-03,  5.16317002e-02,  2.92339325e-02, -4.30485990e-04,\n",
       "        -4.35341410e-02, -2.02498399e-02, -3.85314524e-02,  2.01222617e-02,\n",
       "         5.69560602e-02,  4.32400852e-02,  2.03943998e-02,  6.12277314e-02,\n",
       "        -1.94237456e-02, -3.60939316e-02, -2.95778047e-02,  7.55533017e-03,\n",
       "         5.47715239e-02,  4.17898363e-03, -3.23445648e-02, -8.70552585e-02,\n",
       "        -2.32796464e-02,  3.86215672e-02,  2.80429516e-02, -3.84249240e-02,\n",
       "        -3.51223443e-03, -2.50217784e-03,  1.27626397e-02, -3.12405843e-02,\n",
       "         3.47318016e-02, -2.62544695e-02, -6.91881254e-02, -1.25474054e-02,\n",
       "         2.88694855e-02,  1.36279240e-02,  7.56112039e-02,  1.06749469e-02,\n",
       "        -2.74903164e-03, -4.15111799e-03,  2.31169406e-02,  4.08570617e-02,\n",
       "         2.40717623e-02,  7.51859844e-02, -4.42242138e-02, -2.21296679e-02,\n",
       "         3.88502181e-02, -7.03992620e-02,  2.39693038e-02, -9.35092792e-02,\n",
       "         1.81460623e-02,  3.87608372e-02,  2.08167974e-02, -1.83704533e-02,\n",
       "         3.47918160e-02,  9.23410989e-03, -4.24353033e-03, -8.34707823e-03,\n",
       "        -9.29200128e-02, -1.06964456e-02,  2.30492949e-02,  5.82842492e-02,\n",
       "         2.01787297e-02, -1.93024836e-02,  2.44355630e-02,  1.85181964e-02,\n",
       "         3.05873994e-03,  2.20255945e-02,  1.18626151e-02,  2.77229156e-02,\n",
       "         5.11281826e-02, -2.89661884e-02,  3.78153659e-02, -3.79341729e-02,\n",
       "        -2.97175013e-02,  5.01002185e-03, -3.02496497e-02, -1.33483717e-02,\n",
       "        -3.52379493e-02,  2.45233998e-02,  9.47465468e-03, -1.32964952e-02,\n",
       "        -7.37986267e-02,  4.22097184e-02,  2.84170341e-02,  8.89250170e-03,\n",
       "         2.12190989e-02, -6.19694851e-02, -6.38337433e-02,  3.07227653e-02,\n",
       "        -1.30053172e-02,  3.64630744e-02, -1.10693434e-02,  1.56922247e-02,\n",
       "        -9.48437676e-03, -6.22122400e-02,  1.61019666e-03,  2.79853679e-02,\n",
       "         3.40696238e-02,  3.56073827e-02, -3.56078260e-02, -2.46103927e-02,\n",
       "        -2.21272521e-02, -1.25012081e-02, -4.55179587e-02,  6.75417185e-02,\n",
       "        -2.36764159e-02, -8.11440051e-02, -1.17958002e-02,  9.13684815e-03,\n",
       "         5.68337552e-02, -1.64413564e-02, -5.91300335e-03, -5.20769842e-02,\n",
       "         9.62903630e-03, -1.99338682e-02,  1.48729119e-03, -9.29190312e-04,\n",
       "         5.65507822e-02, -1.93160158e-02, -1.43361362e-02, -2.70036571e-02,\n",
       "         2.27044849e-03,  5.56255244e-02,  1.04014501e-02,  1.03113148e-02,\n",
       "         2.62240954e-02,  1.89206246e-02,  3.67160179e-02, -6.65115714e-02,\n",
       "         1.12000946e-03, -4.02690656e-03, -4.19268794e-02, -1.98105238e-02,\n",
       "         2.76801474e-02, -1.90580133e-02,  1.41965365e-02, -3.54122967e-02,\n",
       "         2.13353336e-02, -2.31490191e-02, -1.82303675e-02,  3.05177104e-02,\n",
       "         3.47675942e-02,  5.37259914e-02, -2.56120451e-02,  4.01429385e-02,\n",
       "        -3.18804681e-02,  4.13107537e-02,  5.80998370e-03, -1.34971114e-02,\n",
       "         2.64270380e-02, -3.86925647e-03, -6.76624244e-03, -3.43644954e-02,\n",
       "         4.60754149e-02, -1.64378975e-02,  1.83466859e-02,  2.41670804e-03,\n",
       "        -1.35573484e-02, -8.08777194e-03, -2.21831482e-02, -4.32742946e-02,\n",
       "        -2.54946183e-02,  1.25626782e-02,  1.79136954e-02, -3.46484408e-02,\n",
       "        -1.28558325e-02, -4.62693870e-02,  3.80026400e-02,  8.31776410e-02,\n",
       "         3.29059884e-02,  1.32290004e-02,  5.86556867e-02, -3.42538357e-02,\n",
       "         4.16765213e-02,  1.75094679e-02, -3.33167240e-02,  3.35466601e-02,\n",
       "         7.10362196e-02, -2.40205694e-02,  2.72529926e-02, -1.24648521e-02,\n",
       "         6.51989654e-02, -1.47180520e-02, -4.39531580e-02, -9.38269943e-02,\n",
       "        -2.67580617e-04, -8.26621503e-02, -3.48438136e-02, -5.02705462e-02,\n",
       "         1.96013190e-02, -3.97293419e-02,  2.22892296e-02, -5.51628601e-03,\n",
       "        -3.75247039e-02,  1.89151720e-03,  1.51451183e-02, -2.83264909e-02,\n",
       "        -6.26254603e-02, -5.82070611e-02,  2.93984339e-02,  6.38646111e-02,\n",
       "         5.19132651e-02,  1.43162822e-02, -3.16225104e-02,  4.17460641e-03,\n",
       "        -5.85780740e-02,  1.15949819e-02,  1.26860067e-02,  7.15300888e-02,\n",
       "         6.47989064e-02,  4.82777990e-02,  7.57579284e-04,  3.61676235e-03,\n",
       "         3.78079228e-02,  5.49490117e-02,  6.51758816e-03,  1.43593652e-02,\n",
       "         6.36864081e-02,  9.98783298e-03, -3.43473479e-02,  2.57169129e-03,\n",
       "         1.11475401e-02, -3.03036384e-02, -9.44696087e-03, -9.69760790e-02,\n",
       "        -1.13036577e-03, -3.02912761e-02,  2.65027303e-02,  4.19649715e-03,\n",
       "         6.85105100e-02, -5.92997596e-02,  2.56385989e-02, -6.52194722e-03,\n",
       "        -5.19728847e-02,  1.43163754e-02,  4.25555222e-02,  4.35074158e-02,\n",
       "         1.03643695e-02,  3.87926660e-02, -3.88085693e-02, -3.85832861e-02,\n",
       "        -2.47987937e-02,  3.85782234e-02, -2.81403605e-02,  5.37510850e-02,\n",
       "         6.64101541e-03, -3.55417170e-02,  6.58558682e-02, -9.23101604e-02,\n",
       "        -6.89882203e-04, -3.16549502e-02, -4.43792110e-03, -1.10774878e-02,\n",
       "         1.82568580e-02,  4.39068191e-02,  1.99364014e-02,  6.76041190e-03,\n",
       "        -3.49056982e-02,  4.13650945e-02, -1.57522727e-02, -3.20014427e-03,\n",
       "        -4.50835004e-03,  1.69690643e-02,  2.54300926e-02,  4.10567373e-02,\n",
       "         4.55349684e-03, -8.20907205e-03,  8.72268435e-03,  1.20095620e-02,\n",
       "        -1.74093246e-02, -1.42513243e-02, -4.10461091e-02, -3.70445836e-04,\n",
       "        -3.14458534e-02, -1.82229038e-02,  2.00132094e-02,  3.20543237e-02,\n",
       "         3.72089334e-02,  2.04382022e-03, -5.84067516e-02, -6.54338452e-04,\n",
       "         2.06295364e-02, -4.40502763e-02, -2.24326197e-02,  1.66441444e-02,\n",
       "         1.05584031e-02,  7.96640217e-02,  4.80360910e-02, -1.36604970e-02,\n",
       "        -1.71370823e-02,  3.45635321e-03, -3.05474382e-02, -2.36243792e-02,\n",
       "        -1.83441602e-02, -3.53198336e-03, -5.65857701e-02, -5.41365221e-02,\n",
       "        -7.56415203e-02,  6.49416000e-02, -6.41308576e-02,  3.93562652e-02,\n",
       "        -4.82392572e-02,  1.87011398e-02, -6.19434826e-02, -2.59307493e-02,\n",
       "         5.37659489e-02, -2.19367590e-04,  3.47940139e-02, -2.98211612e-02,\n",
       "         3.18190679e-02,  2.30970699e-02, -2.93778703e-02, -1.47967860e-02,\n",
       "         8.60268064e-03, -1.18335523e-02, -3.80117781e-02,  3.67456512e-03,\n",
       "        -2.90013570e-02, -2.42578480e-02,  5.04902229e-02,  2.81809028e-02,\n",
       "         7.41417930e-02, -3.53925186e-03,  9.01720766e-03,  5.36644943e-02,\n",
       "         3.94205675e-02, -1.06409090e-02,  7.06582814e-02, -1.87121648e-02,\n",
       "        -2.43251901e-02, -8.00363533e-03, -2.46675573e-02, -3.42134051e-02,\n",
       "         1.01197260e-02,  3.83009315e-02,  6.59636222e-03, -7.37774000e-02,\n",
       "        -1.87709704e-02, -3.93027905e-03, -8.76471121e-03,  3.89822423e-02,\n",
       "         5.93413524e-02, -3.41268741e-02, -5.99577427e-02,  2.51072589e-02,\n",
       "        -1.39033729e-02, -4.58609201e-02,  1.11276340e-02, -5.80929266e-03,\n",
       "         8.64839740e-03, -1.93028674e-02, -4.97774221e-02,  6.66803913e-03,\n",
       "        -5.08542098e-02, -1.05078872e-02,  5.29873604e-03,  4.13953252e-02,\n",
       "        -9.49333364e-04, -9.78063326e-03,  6.93679182e-03, -3.85583788e-02,\n",
       "        -1.09828706e-03,  1.44261792e-02,  2.75524370e-02, -6.79829046e-02,\n",
       "        -2.68070139e-02, -1.41209513e-02, -8.45051091e-03, -4.13219258e-02,\n",
       "        -3.37474868e-02, -2.57930700e-02,  5.79552073e-03, -1.57805961e-02,\n",
       "        -9.20537766e-03, -2.64264550e-02,  2.18101405e-03, -3.55889928e-03,\n",
       "         2.34224219e-02, -5.73876128e-02, -1.74528752e-02,  3.72435013e-03,\n",
       "         1.56019330e-02,  2.77279578e-02,  1.77571308e-02,  4.65037823e-02,\n",
       "        -1.57825630e-02,  2.48612780e-02, -1.02951780e-01, -3.69931497e-02,\n",
       "         6.01014914e-03, -1.16299670e-02,  5.14779612e-02,  2.93547008e-03,\n",
       "         4.10600230e-02, -4.63934653e-02,  4.88297315e-03, -2.90226825e-02,\n",
       "        -3.04031502e-02, -3.73103134e-02, -4.35509756e-02, -3.12380143e-03,\n",
       "        -7.15970472e-02,  2.77309678e-02, -1.26565592e-02,  3.24672796e-02,\n",
       "        -6.25961134e-03,  1.83318704e-02, -3.59399766e-02,  3.35561298e-02,\n",
       "        -4.14350405e-02,  5.73971216e-03,  5.08014904e-03,  2.92742066e-02,\n",
       "        -6.75258115e-02, -4.25230488e-02, -5.38186636e-03, -2.19025239e-02,\n",
       "         2.38593183e-02, -3.33152227e-02, -2.78076828e-02,  8.18555895e-03,\n",
       "        -6.95452020e-02, -2.35884450e-03, -2.80637518e-02,  2.01840177e-02,\n",
       "        -5.81951179e-02,  2.23695636e-02, -4.93154973e-02,  5.45184985e-02,\n",
       "         1.83750987e-02,  4.02017497e-02, -7.27903005e-03,  2.39896066e-02,\n",
       "        -3.29203391e-03,  2.32355781e-02, -1.33452928e-02,  6.43631965e-02,\n",
       "         2.35524643e-02, -1.61193479e-02, -4.16099355e-02, -1.13526136e-02,\n",
       "        -2.83497125e-02,  5.87236509e-02, -1.32735670e-02,  1.70353241e-02,\n",
       "         4.27583456e-02, -1.46099580e-02, -4.32567485e-02,  8.63891281e-03,\n",
       "         8.84969253e-03,  1.20419962e-02, -1.96425058e-02,  5.57239093e-02,\n",
       "         9.59323812e-03,  3.21145393e-02, -2.63084448e-03, -2.89345328e-02,\n",
       "         1.94005352e-02,  4.24370207e-02, -5.20646274e-02, -6.57953024e-02,\n",
       "         3.32742520e-02, -4.40250486e-02,  1.47150569e-02,  1.95760131e-02,\n",
       "         2.58430783e-02,  2.69170050e-02,  2.32513286e-02, -2.28530448e-03,\n",
       "         5.27845882e-02, -2.90677473e-02, -2.26091761e-02,  7.03100637e-02,\n",
       "         5.54751884e-03,  4.31366824e-02, -2.80137565e-02,  3.39199901e-02,\n",
       "         1.52024087e-02,  3.15245241e-02, -1.42835304e-02,  5.09444587e-02,\n",
       "         5.60076423e-02, -1.65185574e-02,  6.34871237e-03,  4.57393751e-02,\n",
       "         5.47683239e-02,  2.49260608e-02, -3.25059369e-02, -1.25160869e-02,\n",
       "         2.10324787e-02,  5.92041016e-02, -3.16314511e-02, -1.44712068e-03,\n",
       "        -5.89200342e-03,  2.25132909e-02, -1.66706052e-02, -4.33990248e-02,\n",
       "         1.98725816e-02, -6.82303682e-03, -2.88476907e-02, -1.69012300e-03,\n",
       "        -2.53483951e-02, -7.54695907e-02, -2.77119707e-02, -3.66236232e-02,\n",
       "         4.17360999e-02, -1.89422909e-02,  3.99931893e-02, -1.20678628e-02,\n",
       "        -1.78725757e-02, -1.12346895e-02, -4.85224882e-03,  1.25932181e-02,\n",
       "         5.03381640e-02,  1.57146212e-02,  5.02866867e-04, -2.75440644e-02,\n",
       "        -9.27354209e-03, -2.61986423e-02,  2.21601818e-02, -3.78094949e-02,\n",
       "        -5.33081368e-02, -7.35204816e-02, -2.52722874e-02,  2.50223689e-02,\n",
       "        -5.70625663e-02,  1.08698495e-02,  3.64082903e-02,  8.14327970e-02,\n",
       "        -8.52787984e-04,  4.58938405e-02,  1.47046121e-02,  1.16642341e-02,\n",
       "         2.14800239e-02, -4.22035716e-02,  2.08472200e-02, -1.11805703e-02,\n",
       "        -3.49233672e-02,  8.31293466e-04, -1.73125621e-02, -1.03639409e-01,\n",
       "        -4.32283692e-02, -1.01070143e-02, -1.64133627e-02,  2.60115955e-02,\n",
       "         2.06406862e-02, -2.72303559e-02,  2.74200533e-02,  1.64424405e-02,\n",
       "        -1.89347565e-02,  1.82611439e-02,  6.86810166e-02, -1.48090301e-02,\n",
       "         1.73128303e-02,  5.37731983e-02, -2.28171274e-02,  7.35895485e-02,\n",
       "         5.91700114e-02,  6.53602704e-02, -9.15973447e-03, -4.25580842e-03,\n",
       "        -1.32802250e-02, -1.57667547e-02, -8.79698899e-03, -5.76401427e-02,\n",
       "        -3.80938756e-03,  2.15674378e-02, -3.71255241e-02,  3.41611728e-02,\n",
       "         3.71550322e-02, -1.05055235e-01,  1.92534365e-02, -1.00996755e-02,\n",
       "         2.58813873e-02, -3.27942409e-02, -9.11486614e-03, -1.57391522e-02,\n",
       "         6.93458691e-02, -3.76550592e-02, -1.97034590e-02, -6.80407044e-03,\n",
       "         2.66726352e-02, -1.29854986e-02,  2.20796205e-02, -2.15736032e-02,\n",
       "        -1.54914595e-02,  3.71024162e-02,  1.56809681e-03, -3.79437134e-02,\n",
       "        -2.96055968e-03, -2.51941420e-02,  9.62056033e-03,  4.03162427e-02,\n",
       "         5.69317490e-02,  9.53215454e-03,  9.02646221e-03,  7.67744258e-02,\n",
       "         1.83213055e-02,  6.06555082e-02, -1.32104214e-02,  1.46885337e-02,\n",
       "         8.53557959e-02,  3.88746671e-02, -2.54933294e-02,  3.68119255e-02,\n",
       "         3.26373875e-02,  3.18692066e-02,  1.52746104e-02,  7.57856853e-03,\n",
       "         2.87188813e-02,  2.30183788e-02, -5.81614263e-02, -2.54991893e-02,\n",
       "         7.17054494e-03, -4.55928706e-02,  1.38215693e-02, -1.09135611e-02,\n",
       "         2.30497513e-02,  2.05929168e-02,  6.04062015e-03, -8.66548438e-03,\n",
       "         3.08990125e-02, -3.22575718e-02,  4.18313220e-02, -1.73802662e-03,\n",
       "        -4.37453464e-02,  5.67844696e-03,  9.50110704e-03,  3.40455174e-02,\n",
       "        -4.43438515e-02, -8.39940012e-02, -2.35574450e-02, -5.76307550e-02,\n",
       "        -7.20061129e-03, -4.01667058e-02,  1.08120173e-01, -9.59164649e-03,\n",
       "        -6.35454953e-02, -6.35170713e-02, -3.22387740e-02,  5.53784370e-02,\n",
       "        -6.25566170e-02,  1.18530830e-02, -3.55262607e-02,  5.43173030e-02],\n",
       "       dtype=float32),\n",
       " 'text_vector': array([ 1.94306243e-02, -3.65398941e-03,  4.04272676e-02,  6.81330040e-02,\n",
       "         7.54619166e-02, -6.53878972e-02, -7.44076967e-02,  4.88241799e-02,\n",
       "         1.25474762e-02, -3.29861022e-03, -1.33466823e-02, -3.61684375e-02,\n",
       "         2.87903044e-02, -6.28864169e-02,  2.43467186e-02, -4.16530389e-03,\n",
       "         1.55152865e-02, -9.21596065e-02,  1.82585337e-03,  3.28044966e-02,\n",
       "         4.60628979e-02, -3.13377492e-02,  2.05839761e-02,  2.48071607e-02,\n",
       "        -2.86336727e-02,  4.47740545e-03, -4.25297488e-03,  1.59647018e-02,\n",
       "        -3.67885386e-03, -2.17898134e-02, -3.21024433e-02,  3.81503291e-02,\n",
       "         1.33388499e-02, -5.87553997e-03, -5.18016927e-02,  9.39236395e-03,\n",
       "        -5.48255024e-03,  4.38214367e-04,  1.90585759e-02, -1.33218095e-02,\n",
       "         2.67226212e-02,  1.32904772e-03, -1.90516934e-02, -1.55497985e-02,\n",
       "         1.32602835e-02, -2.74935607e-02, -3.06940190e-02, -2.66230442e-02,\n",
       "        -4.29591797e-02,  5.08185886e-02, -7.02737346e-02,  1.07137091e-01,\n",
       "        -1.15533108e-02, -3.84914409e-03,  2.38290243e-03,  6.62340522e-02,\n",
       "         2.47182399e-02, -2.51007844e-02,  1.07645998e-02,  2.36616079e-02,\n",
       "        -2.78234798e-02,  2.77103744e-02, -1.51072247e-02,  1.83580369e-02,\n",
       "        -4.33423258e-02, -7.69421682e-02, -3.89533341e-02, -7.22300308e-03,\n",
       "         2.88575236e-02, -3.63197476e-02,  1.94385238e-02,  3.52904983e-02,\n",
       "        -1.94323268e-02,  3.85820307e-03,  5.50590549e-03,  1.24537479e-02,\n",
       "         3.13690528e-02, -1.62993800e-02, -1.98822990e-02, -1.66181680e-02,\n",
       "        -7.24570127e-03, -4.42299955e-02,  1.45383961e-02,  1.96385873e-03,\n",
       "         5.08153625e-02, -2.20848620e-02, -1.93344280e-02, -1.17539093e-02,\n",
       "        -2.68877316e-02,  1.48200821e-02,  2.50323508e-02,  1.63481925e-02,\n",
       "        -3.97169515e-02,  6.99256780e-03,  3.41186747e-02, -7.00766966e-02,\n",
       "        -4.13333513e-02, -3.88807170e-02, -1.83628462e-02,  7.66202286e-02,\n",
       "         3.40393633e-02, -1.11961411e-02, -6.31687988e-04, -2.78117089e-03,\n",
       "        -7.03989994e-03,  5.37924655e-02,  2.80342102e-02, -1.40132504e-02,\n",
       "        -1.62565410e-02,  3.80193777e-02, -4.73601557e-02, -1.32621620e-02,\n",
       "         1.51555752e-02, -6.14236519e-02,  1.45302871e-02, -1.98907815e-02,\n",
       "         3.93777564e-02,  3.07927225e-02, -5.61883999e-03,  1.58161558e-02,\n",
       "        -7.58039281e-02,  5.78419603e-02,  1.25382585e-03,  1.29550109e-02,\n",
       "         1.82677917e-02,  2.85533704e-02,  3.01080737e-02,  3.16716917e-02,\n",
       "         3.88597995e-02, -6.45867959e-02, -3.44989728e-03, -2.19931360e-02,\n",
       "         8.98797717e-03,  6.58437959e-04,  3.72024649e-03,  5.22188433e-02,\n",
       "        -9.62836388e-03, -3.91367860e-02, -1.93564016e-02,  5.24144620e-02,\n",
       "         4.92758900e-02, -2.19861418e-02,  7.45960837e-03,  2.79403233e-04,\n",
       "        -5.29375337e-02, -1.60984043e-02, -4.93177809e-02,  2.27682362e-03,\n",
       "        -4.34651598e-02, -2.70118024e-02,  2.29618922e-02,  4.24054600e-02,\n",
       "        -1.96506716e-02, -3.47648002e-02,  5.37353531e-02,  1.11235619e-01,\n",
       "        -1.40142124e-02, -1.20215183e-02,  2.64172740e-02, -2.02293657e-02,\n",
       "         5.38081825e-02, -5.59429824e-02, -4.33032811e-02,  5.52847497e-02,\n",
       "        -2.47136224e-02, -1.63074639e-02, -2.82997489e-02,  5.50512150e-02,\n",
       "         7.72214215e-03,  1.36441533e-02,  3.31994072e-02, -1.19300196e-02,\n",
       "        -2.18306715e-03, -2.15266808e-03, -2.47551799e-02,  1.33745559e-02,\n",
       "         2.61533204e-02,  4.15193029e-02,  3.59753333e-02,  3.66095640e-02,\n",
       "        -4.18090671e-02, -7.60567635e-02,  2.58420352e-02, -6.84912428e-02,\n",
       "         3.84323187e-02, -8.36531818e-03,  8.07957277e-02,  2.71144491e-02,\n",
       "        -9.09253284e-02,  2.51635145e-02, -1.58704575e-02, -1.30454348e-02,\n",
       "        -1.99926924e-02,  5.40945632e-03,  5.20433113e-02, -3.52950282e-02,\n",
       "        -2.39463430e-03, -7.35408161e-03,  1.21049061e-02,  2.39960924e-02,\n",
       "         4.39364500e-02,  5.81138656e-02,  1.00027677e-02,  3.39650246e-03,\n",
       "         1.08557055e-02, -3.58995460e-02, -5.57783656e-02, -5.21036088e-02,\n",
       "        -3.81511413e-02, -2.94710211e-02, -2.74804272e-02,  1.07901273e-02,\n",
       "        -4.77660401e-03, -2.54545696e-02,  1.27775725e-02, -3.30600739e-02,\n",
       "        -5.23384102e-02,  4.57100235e-02,  1.46014988e-02,  5.52700087e-03,\n",
       "         2.09297705e-02, -3.81364860e-03, -1.68678723e-02,  6.74707629e-03,\n",
       "        -2.33151354e-02, -2.97140162e-02, -2.03313995e-02,  2.27119979e-02,\n",
       "         4.60876450e-02, -1.09235771e-01,  1.32339289e-02, -3.15145925e-02,\n",
       "         1.15745272e-02, -9.08505693e-02,  6.09658025e-02,  3.13045792e-02,\n",
       "         1.58359837e-02,  2.14962270e-02,  1.18276700e-02, -2.35967133e-02,\n",
       "        -9.91285872e-03, -2.61638276e-02, -2.75310092e-02, -1.37975300e-02,\n",
       "         6.94418773e-02, -1.92946312e-03, -9.50850639e-03, -1.99882649e-02,\n",
       "        -1.13568967e-03, -5.00413179e-02,  2.29222756e-02,  3.64173278e-02,\n",
       "        -4.18290845e-04, -2.21479125e-03, -3.78054231e-02,  4.90420200e-02,\n",
       "         5.11538759e-02, -4.30563577e-02,  2.57981140e-02,  8.40048492e-02,\n",
       "         6.08479837e-03,  2.08358150e-02, -1.19709792e-02, -2.35642605e-02,\n",
       "         5.97327156e-03, -9.81497541e-02, -2.39892397e-02, -7.65728578e-02,\n",
       "         5.48168197e-02,  4.08210829e-02, -3.05479635e-02, -1.75546892e-02,\n",
       "         6.69792593e-02,  1.88155845e-02,  2.48852056e-02, -5.74048124e-02,\n",
       "         3.52685302e-02,  9.19847284e-04,  4.08588909e-03,  3.49835977e-02,\n",
       "        -1.40396757e-02, -4.64449488e-02,  2.53746752e-02,  1.03512444e-02,\n",
       "         3.64561230e-02,  1.57913789e-02, -8.90653729e-02,  5.95500655e-02,\n",
       "        -2.52743140e-02, -4.84617688e-02,  2.73763109e-02,  3.80886309e-02,\n",
       "        -9.70905181e-03,  4.51517701e-02,  1.22892130e-02,  3.67728323e-02,\n",
       "        -1.82041638e-02,  8.25523492e-03, -8.97327960e-02,  2.42232140e-02,\n",
       "        -5.65124154e-02,  5.57193682e-02,  3.09131518e-02, -7.83973634e-02,\n",
       "        -8.85036122e-03,  1.60843898e-02, -1.14838658e-02, -5.17130494e-02,\n",
       "        -3.68859358e-02,  4.50747181e-03, -4.21332940e-02,  6.53568842e-03,\n",
       "        -6.21088445e-02, -4.73893061e-02,  2.54037734e-02,  2.35924795e-02,\n",
       "        -2.77884491e-03, -1.80888046e-02, -2.21880283e-02,  5.41182011e-02,\n",
       "        -7.32527524e-02,  4.80894484e-02,  5.14145866e-02,  5.55341579e-02,\n",
       "        -3.22967060e-02, -1.95086957e-03,  3.36738341e-02,  4.42564376e-02,\n",
       "         1.34920878e-02, -2.76374873e-02, -1.71903800e-02,  2.62890533e-02,\n",
       "         7.08734430e-03, -5.22382669e-02, -5.13879545e-02,  2.18082406e-02,\n",
       "         1.02802338e-02,  2.14918517e-02, -2.82668956e-02, -7.15029389e-02,\n",
       "        -2.15350650e-02,  4.39693630e-02,  1.63470989e-03,  3.37065454e-03,\n",
       "         5.23141325e-02,  3.78731675e-02,  4.97279353e-02, -4.90458384e-02,\n",
       "        -1.65991522e-02,  3.19508538e-02,  9.62301902e-03, -4.53381762e-02,\n",
       "         4.19965312e-02,  6.32721232e-03,  7.01274425e-02,  3.48722972e-02,\n",
       "        -8.41477362e-04, -2.62864605e-02, -1.23455320e-02, -2.71269381e-02,\n",
       "         2.18386557e-02, -6.16026949e-03, -4.91732173e-02, -4.09251824e-02,\n",
       "         6.41152188e-02,  4.97951619e-02,  1.50657389e-02, -4.74716574e-02,\n",
       "         3.40750664e-02, -2.41402593e-02, -7.20948577e-02, -8.88852254e-02,\n",
       "        -2.78877188e-02,  2.48051919e-02, -5.81909455e-02,  4.11460787e-04,\n",
       "        -3.11761107e-02, -5.07191010e-03,  1.83343552e-02,  3.78990686e-03,\n",
       "        -2.84311431e-03, -1.12739243e-02, -3.42050940e-02,  1.17126834e-02,\n",
       "         6.08903579e-02, -4.97489758e-02,  6.06744327e-02,  5.79265542e-02,\n",
       "        -6.05249517e-02, -2.71031484e-02,  4.62509459e-03,  4.53767702e-02,\n",
       "        -1.22629320e-02, -4.75323945e-02, -2.70440914e-02,  3.69668053e-03,\n",
       "        -2.93936320e-02, -7.26306736e-02,  2.31464095e-02, -1.30539425e-02,\n",
       "        -2.37738062e-02,  2.15872340e-02,  1.40211533e-03, -5.93921393e-02,\n",
       "         3.54881100e-02,  6.07726127e-02,  7.77557353e-03, -2.79751755e-02,\n",
       "        -4.55747098e-02, -4.85009328e-02,  3.76276486e-02,  1.91990472e-02,\n",
       "        -4.77523766e-02,  6.69021308e-02,  8.17308552e-04, -8.11454188e-03,\n",
       "         7.65619054e-02,  3.78531450e-03, -3.38517241e-02,  1.90130454e-02,\n",
       "        -3.62568200e-02,  1.90430023e-02, -3.05224974e-02, -7.17858505e-03,\n",
       "         7.80087756e-03, -3.68588530e-02,  4.38257009e-02, -6.04245216e-02,\n",
       "        -1.42065305e-02,  7.30545521e-02,  6.96476176e-02,  6.64357170e-02,\n",
       "         9.01043881e-03,  1.25076752e-02, -1.24009401e-02,  1.45919183e-02,\n",
       "         4.04754095e-02, -8.81835149e-05,  9.20112245e-03,  3.77960093e-02,\n",
       "         9.50388759e-02,  2.67819185e-02,  1.75413452e-02,  2.32916549e-02,\n",
       "         1.70646105e-02,  2.63668643e-03,  2.06368212e-02, -1.48415118e-02,\n",
       "         2.07706206e-02,  6.44687787e-02,  4.11790200e-02, -4.21001539e-02,\n",
       "         2.82061994e-02,  1.50247775e-02,  5.73094422e-03,  5.62192649e-02,\n",
       "         8.90298374e-03, -6.30838647e-02, -5.44698052e-02, -6.82823872e-03,\n",
       "        -3.68349180e-02,  6.68205181e-03,  4.37139673e-03, -1.15816677e-02,\n",
       "        -3.56252789e-02, -4.20504361e-02,  6.42990693e-02,  2.89902128e-02,\n",
       "         1.75038576e-02,  4.04041074e-02,  1.79374439e-03, -1.52626727e-02,\n",
       "         2.48060077e-02,  1.84431095e-02,  2.33387318e-03, -1.87329333e-02,\n",
       "        -3.09966169e-02, -3.45301814e-02, -1.25172231e-02,  6.93466421e-03,\n",
       "         1.32874427e-02, -6.06232844e-02, -3.86826955e-02, -2.09950116e-02,\n",
       "         6.60822168e-02,  1.15986643e-02,  7.32618477e-03,  4.25703079e-02,\n",
       "        -6.75463071e-03, -3.69876847e-02,  4.16489020e-02,  2.90515479e-02,\n",
       "        -6.38682069e-03,  2.30505373e-02, -2.27855612e-03,  5.19549660e-02,\n",
       "         2.58906558e-02,  3.15146218e-03, -3.53525276e-03,  2.81121843e-02,\n",
       "         3.74162979e-02,  6.38517290e-02, -8.88550130e-04,  2.42999662e-03,\n",
       "         5.86731210e-02,  2.75037382e-02,  3.44354426e-03,  4.29382455e-03,\n",
       "        -8.54880214e-02, -2.47843638e-02,  4.95944098e-02,  2.32295431e-02,\n",
       "         6.46616565e-03,  3.33147459e-02, -3.14602032e-02, -4.69516777e-02,\n",
       "        -2.69646365e-02, -2.32281629e-02, -2.54886039e-02,  2.75783036e-02,\n",
       "        -2.61095073e-03, -3.41482386e-02, -5.23735657e-02, -3.17358784e-02,\n",
       "        -2.47820541e-02, -1.50229679e-02, -3.39793367e-03,  2.30519474e-02,\n",
       "         2.38602012e-02,  7.35329464e-02,  7.30079040e-03, -6.16547577e-02,\n",
       "        -1.35125592e-02, -3.23561095e-02,  2.25666687e-02,  1.61295515e-02,\n",
       "        -3.58309522e-02,  3.69955450e-02,  4.03669430e-03,  1.24806976e-02,\n",
       "         6.15222342e-02,  5.20586520e-02, -2.44998913e-02,  2.09090300e-04,\n",
       "        -2.49562394e-02,  3.67898345e-02,  4.96088527e-02, -9.81265958e-03,\n",
       "         3.83905619e-02, -1.72933564e-02, -7.07201660e-03,  3.04694753e-02,\n",
       "         2.54107118e-02,  7.55984569e-03,  2.14877054e-02, -4.22401614e-02,\n",
       "         1.81699339e-02,  2.58324994e-03,  1.82277486e-02,  2.88302656e-02,\n",
       "        -7.30578229e-02,  4.72176410e-02,  9.35581140e-03,  6.42789761e-03,\n",
       "         2.47064643e-02, -7.07321800e-04, -3.73275727e-02, -2.82643139e-02,\n",
       "        -1.79500170e-02, -5.63815283e-03, -7.59392828e-02,  1.39039373e-02,\n",
       "         3.52805220e-02,  2.64520701e-02,  1.07889408e-02, -1.56931509e-03,\n",
       "        -1.07067451e-02, -5.11952303e-03,  2.85491850e-02,  4.09332477e-02,\n",
       "        -2.61308276e-03,  5.62554486e-02,  4.56589051e-02, -2.51616072e-02,\n",
       "        -1.59899611e-02, -7.92683102e-03,  1.78695992e-02, -2.89715584e-02,\n",
       "        -1.28905021e-03,  3.10830474e-02,  3.85487974e-02,  3.44252819e-03,\n",
       "         2.44932156e-02,  3.83141600e-02, -4.08679619e-03,  5.72711155e-02,\n",
       "         2.89805029e-02, -3.47199407e-03, -2.75209714e-02, -1.32895922e-02,\n",
       "        -6.65037781e-02, -1.36773698e-02,  3.25333998e-02,  1.35851651e-03,\n",
       "         8.80438089e-03,  3.92997451e-03,  1.23574249e-02,  4.89969850e-02,\n",
       "        -1.04477769e-02,  4.66229878e-02,  3.34812216e-02, -4.05945703e-02,\n",
       "         4.10727672e-02,  1.93054862e-02, -6.49342686e-02,  1.81065612e-02,\n",
       "         4.81786914e-02, -1.88430268e-02, -3.03573534e-02, -3.65079828e-02,\n",
       "        -2.62588710e-02,  3.50273773e-02, -4.02337983e-02, -1.90865621e-02,\n",
       "        -2.47323848e-02, -2.70179398e-02,  4.25259843e-02, -1.36804730e-02,\n",
       "        -2.20648199e-02,  2.55869385e-02,  4.70812842e-02, -3.38379368e-02,\n",
       "        -6.37892410e-02, -2.15374697e-02, -7.26795197e-03, -6.47407770e-02,\n",
       "         2.90831346e-02, -7.95456767e-03,  2.48010606e-02,  6.59703836e-02,\n",
       "        -4.17828634e-02,  7.31000528e-02, -3.81293297e-02, -3.80342342e-02,\n",
       "        -6.95484579e-02,  1.61877703e-02,  2.77476516e-02, -1.26060126e-02,\n",
       "        -2.46544331e-02,  2.97088828e-02,  5.24368919e-02,  6.43420964e-03,\n",
       "        -3.54463533e-02,  3.98543216e-02,  2.58417297e-02,  3.01291421e-02,\n",
       "        -1.60063524e-02, -1.33427298e-02,  4.71410863e-02, -3.44925113e-02,\n",
       "         1.08158421e-02, -6.06712420e-03,  1.93200503e-02,  2.70596296e-02,\n",
       "        -1.70456022e-02,  2.33922210e-02,  2.45034671e-03,  2.45746709e-02,\n",
       "         4.02013548e-02, -2.00505238e-02,  3.93853933e-02, -8.77987128e-03,\n",
       "        -1.86702423e-03, -6.90465095e-03,  2.46149283e-02, -2.03402098e-02,\n",
       "         5.82689382e-02,  2.33308915e-02, -8.65317136e-02,  3.64400856e-02,\n",
       "        -3.80807519e-02,  2.04047328e-03, -3.91206965e-02, -1.97285786e-02,\n",
       "        -4.29656059e-02, -4.16799150e-02,  6.32930696e-02,  5.30863106e-02,\n",
       "        -3.44622731e-02, -1.03274651e-01,  1.36294030e-02,  5.80757670e-03,\n",
       "         1.55173731e-03,  3.93336499e-03, -1.15404592e-03,  8.50656477e-04,\n",
       "        -2.53946148e-02, -3.25065828e-03, -5.12851477e-02, -5.44550009e-02,\n",
       "        -1.12726749e-03, -6.76404219e-03,  6.02446776e-03,  2.08522975e-02,\n",
       "        -4.97647300e-02,  1.54254725e-03, -3.57242930e-03,  5.93104064e-02,\n",
       "        -3.98916937e-02, -6.39656484e-02,  4.11955640e-02, -3.36742727e-03,\n",
       "         1.06917545e-02,  2.37899441e-02,  4.05088067e-02, -4.18793149e-02,\n",
       "        -4.62328345e-02,  1.76827870e-02,  5.38869537e-02,  3.79395373e-02,\n",
       "         3.34967896e-02, -2.10750587e-02,  3.56215760e-02,  6.74417540e-02,\n",
       "        -8.28717873e-02, -1.69524979e-02,  2.41007358e-02,  2.66997404e-02,\n",
       "        -2.29072422e-02, -1.15271879e-03,  1.81309395e-02, -1.44277839e-03,\n",
       "         1.53331533e-02,  4.18882370e-02, -1.85556877e-02, -5.57767227e-03,\n",
       "        -3.80831100e-02, -1.11812484e-02,  4.22288440e-02, -4.26098518e-02,\n",
       "        -2.97432649e-03,  2.55700424e-02, -4.57594916e-02, -9.00959771e-04,\n",
       "        -8.54113977e-03, -4.22612391e-03,  7.24022370e-03,  8.95013195e-03,\n",
       "        -6.04529381e-02,  9.01756063e-03,  4.12838766e-03,  2.68067215e-02,\n",
       "         1.00865774e-02,  1.32257361e-02,  1.54534345e-02, -1.35335037e-02,\n",
       "        -3.57120819e-02,  3.46390791e-02, -3.13110575e-02,  1.24554960e-02,\n",
       "         2.97204242e-04, -5.83777800e-02, -6.00483306e-02,  4.45585288e-02,\n",
       "         2.62445360e-02, -9.01904888e-03, -6.07051235e-03, -4.37318487e-03],\n",
       "       dtype=float32)}"
      ]
     },
     "execution_count": 61,
     "metadata": {},
     "output_type": "execute_result"
    }
   ],
   "source": [
    "ml_documents[0]"
   ]
  },
  {
   "cell_type": "code",
   "execution_count": 60,
   "metadata": {},
   "outputs": [],
   "source": [
    "user_question = \"I just discovered the course. Can I still join it?\"\n",
    "v_q = embedding_model.encode(user_question)"
   ]
  },
  {
   "cell_type": "code",
   "execution_count": 62,
   "metadata": {},
   "outputs": [],
   "source": [
    "def elastic_search_knn(field, vector, course):\n",
    "    knn = {\n",
    "        \"field\": field,\n",
    "        \"query_vector\": vector,\n",
    "        \"k\": 5,\n",
    "        \"num_candidates\": 10000,\n",
    "        \"filter\": {\n",
    "            \"term\": {\n",
    "                \"course\": course\n",
    "            }\n",
    "        }\n",
    "    }\n",
    "\n",
    "    search_query = {\n",
    "        \"knn\": knn,\n",
    "        \"_source\": [\"text\", \"section\", \"question\", \"course\", \"id\"]\n",
    "    }\n",
    "\n",
    "    es_results = es_client.search(\n",
    "        index=index_name,\n",
    "        body=search_query\n",
    "    )\n",
    "    \n",
    "    result_docs = []\n",
    "    \n",
    "    for hit in es_results['hits']['hits']:\n",
    "        result_docs.append(hit['_source'])\n",
    "\n",
    "    return result_docs"
   ]
  },
  {
   "cell_type": "code",
   "execution_count": 63,
   "metadata": {},
   "outputs": [],
   "source": [
    "search_results = elastic_search_knn(\"question_text_vector\", v_q, \"machine-learning-zoomcamp\")"
   ]
  },
  {
   "cell_type": "code",
   "execution_count": 64,
   "metadata": {},
   "outputs": [
    {
     "data": {
      "text/plain": [
       "[{'question': 'The course has already started. Can I still join it?',\n",
       "  'course': 'machine-learning-zoomcamp',\n",
       "  'section': 'General course-related questions',\n",
       "  'text': 'Yes, you can. You won’t be able to submit some of the homeworks, but you can still take part in the course.\\nIn order to get a certificate, you need to submit 2 out of 3 course projects and review 3 peers’ Projects by the deadline. It means that if you join the course at the end of November and manage to work on two projects, you will still be eligible for a certificate.',\n",
       "  'id': 'ee58a693'},\n",
       " {'question': 'I just joined. What should I do next? How can I access course materials?',\n",
       "  'course': 'machine-learning-zoomcamp',\n",
       "  'section': 'General course-related questions',\n",
       "  'text': 'Welcome to the course! Go to the course page (http://mlzoomcamp.com/), scroll down and start going through the course materials. Then read everything in the cohort folder for your cohort’s year.\\nClick on the links and start watching the videos. Also watch office hours from previous cohorts. Go to DTC youtube channel and click on Playlists and search for {course yyyy}. ML Zoomcamp was first launched in 2021.\\nOr you can just use this link: http://mlzoomcamp.com/#syllabus',\n",
       "  'id': '0a278fb2'},\n",
       " {'question': \"I filled the form, but haven't received a confirmation email. Is it normal?\",\n",
       "  'course': 'machine-learning-zoomcamp',\n",
       "  'section': 'General course-related questions',\n",
       "  'text': \"The process is automated now, so you should receive the email eventually. If you haven’t, check your promotions tab in Gmail as well as spam.\\nIf you unsubscribed from our newsletter, you won't get course related updates too.\\nBut don't worry, it’s not a problem. To make sure you don’t miss anything, join the #course-ml-zoomcamp channel in Slack and our telegram channel with announcements. This is enough to follow the course.\",\n",
       "  'id': '6ba259b1'},\n",
       " {'question': 'Can I do the course in other languages, like R or Scala?',\n",
       "  'course': 'machine-learning-zoomcamp',\n",
       "  'section': 'Miscellaneous',\n",
       "  'text': 'Technically, yes. Advisable? Not really. Reasons:\\nSome homework(s) asks for specific python library versions.\\nAnswers may not match in MCQ options if using different languages other than Python 3.10 (the recommended version for 2023 cohort)\\nAnd as for midterms/capstones, your peer-reviewers may not know these other languages. Do you want to be penalized for others not knowing these other languages?\\nYou can create a separate repo using course’s lessons but written in other languages for your own learnings, but not advisable for submissions.\\ntx[source]',\n",
       "  'id': '9f261648'},\n",
       " {'question': 'The course videos are from the previous iteration. Will you release new ones or we’ll use the videos from 2021?',\n",
       "  'course': 'machine-learning-zoomcamp',\n",
       "  'section': 'General course-related questions',\n",
       "  'text': 'We won’t re-record the course videos. The focus of the course and the skills we want to teach remained the same, and the videos are still up-to-date.\\nIf you haven’t taken part in the previous iteration, you can start watching the videos. It’ll be useful for you and you will learn new things. However, we recommend using Python 3.10 now instead of Python 3.8.',\n",
       "  'id': 'e7ba6b8a'}]"
      ]
     },
     "execution_count": 64,
     "metadata": {},
     "output_type": "execute_result"
    }
   ],
   "source": [
    "search_results"
   ]
  },
  {
   "cell_type": "markdown",
   "metadata": {},
   "source": [
    "### Q6. Hit-rate for Elasticsearch\n",
    "\n",
    "The search engine we used in Q4 computed the similarity between\n",
    "the query and ALL the vectors in our database. Usually this is \n",
    "not practical, as we may have a lot of data.\n",
    "\n",
    "Elasticsearch uses approximate techniques to make it faster. \n",
    "\n",
    "Let's evaluate how worse the results are when we switch from\n",
    "exact search (as in Q4) to approximate search with Elastic.\n",
    "\n",
    "What's hitrate for our dataset for Elastic?\n",
    "\n",
    "* 0.93\n",
    "* 0.73\n",
    "* 0.53\n",
    "* 0.33"
   ]
  },
  {
   "cell_type": "code",
   "execution_count": 65,
   "metadata": {},
   "outputs": [],
   "source": [
    "def evaluate(ground_truth, search_function):\n",
    "    relevance_total = []\n",
    "\n",
    "    for q in tqdm(ground_truth):\n",
    "        doc_id = q['document']\n",
    "        results = search_function(q)\n",
    "        relevance = [d['id'] == doc_id for d in results]\n",
    "        relevance_total.append(relevance)\n",
    "\n",
    "    return {\n",
    "        'hit_rate': hit_rate(relevance_total)\n",
    "    }"
   ]
  },
  {
   "cell_type": "code",
   "execution_count": 66,
   "metadata": {},
   "outputs": [],
   "source": [
    "def question_text_vector_knn(q):\n",
    "    question = q['question']\n",
    "    course = q['course']\n",
    "\n",
    "    v_q = embedding_model.encode(question)\n",
    "\n",
    "    return elastic_search_knn('question_text_vector', v_q, course)"
   ]
  },
  {
   "cell_type": "code",
   "execution_count": 67,
   "metadata": {},
   "outputs": [
    {
     "name": "stderr",
     "output_type": "stream",
     "text": [
      "100%|██████████| 1830/1830 [01:22<00:00, 22.06it/s]\n"
     ]
    },
    {
     "data": {
      "text/plain": [
       "{'hit_rate': 0.9398907103825137}"
      ]
     },
     "execution_count": 67,
     "metadata": {},
     "output_type": "execute_result"
    }
   ],
   "source": [
    "evaluate(ground_truth, question_text_vector_knn)"
   ]
  },
  {
   "cell_type": "code",
   "execution_count": null,
   "metadata": {},
   "outputs": [],
   "source": []
  }
 ],
 "metadata": {
  "kernelspec": {
   "display_name": "env",
   "language": "python",
   "name": "python3"
  },
  "language_info": {
   "codemirror_mode": {
    "name": "ipython",
    "version": 3
   },
   "file_extension": ".py",
   "mimetype": "text/x-python",
   "name": "python",
   "nbconvert_exporter": "python",
   "pygments_lexer": "ipython3",
   "version": "3.11.7"
  }
 },
 "nbformat": 4,
 "nbformat_minor": 2
}
