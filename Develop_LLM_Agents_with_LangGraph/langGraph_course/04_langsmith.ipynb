{
 "cells": [
  {
   "cell_type": "markdown",
   "id": "5f05ec30-2b5b-4321-9fb7-e05bcab71685",
   "metadata": {},
   "source": [
    "# Tracing With LangSmith"
   ]
  },
  {
   "cell_type": "code",
   "execution_count": 1,
   "id": "a9fca810-3358-4923-84dc-d7be44ad8d78",
   "metadata": {},
   "outputs": [],
   "source": [
    "%%capture\n",
    "!pip install -U langsmith\n",
    "!pip install --upgrade -q openai langchain langchain-openai langchain-community langgraph"
   ]
  },
  {
   "cell_type": "code",
   "execution_count": 2,
   "id": "68b24189-5bd9-4137-ab8b-4ccd6098d472",
   "metadata": {},
   "outputs": [],
   "source": [
    "import os\n",
    "import openai\n",
    "import getpass\n",
    "# import logging\n",
    "\n",
    "# logging.basicConfig(level=logging.DEBUG)\n"
   ]
  },
  {
   "cell_type": "code",
   "execution_count": 3,
   "id": "67a564ce-e9b8-4c1f-82d1-4aeefff8fb32",
   "metadata": {},
   "outputs": [
    {
     "name": "stdin",
     "output_type": "stream",
     "text": [
      "Enter your OPENAI_API_KEY:  ········\n",
      "Enter your LANGCHAIN_API_KEY:  ········\n"
     ]
    }
   ],
   "source": [
    "os.environ[\"OPENAI_API_KEY\"] = getpass.getpass(\"Enter your OPENAI_API_KEY: \")\n",
    "os.environ[\"LANGCHAIN_API_KEY\"] = getpass.getpass(\"Enter your LANGCHAIN_API_KEY: \")"
   ]
  },
  {
   "cell_type": "code",
   "execution_count": 4,
   "id": "cdc1f74e-50b5-4c97-86d1-8dfcbba61e53",
   "metadata": {},
   "outputs": [],
   "source": [
    "os.environ[\"LANGCHAIN_TRACING_V2\"] = \"true\"\n",
    "os.environ[\"LANGCHAIN_ENDPOINT\"] = \"https://api.smith.langchain.com\"\n",
    "os.environ[\"LANGCHAIN_PROJECT\"] = \"pr-tracing-with-langsmith\"\n",
    "os.environ[\"LANGSMITH_API_KEY\"] = os.getenv(\"LANGCHAIN_API_KEY\")"
   ]
  },
  {
   "cell_type": "code",
   "execution_count": 8,
   "id": "e7f5b044-8aee-4b04-a53c-5734f8d6fcf4",
   "metadata": {},
   "outputs": [],
   "source": [
    "from langsmith import wrappers, traceable\n",
    "\n",
    "# Auto-trace LLM calls in-context\n",
    "client = wrappers.wrap_openai(openai.Client())\n",
    "\n",
    "\n",
    "@traceable\n",
    "def format_prompt(user_prompt):\n",
    "    return [\n",
    "        {\n",
    "            'role': 'system',\n",
    "            'content': 'You are a helpful assistant.',\n",
    "        },\n",
    "        {\n",
    "            'role': 'user',\n",
    "            'content': f'Generate three good names for an online store that sells {user_prompt}?'\n",
    "        }\n",
    "    ]\n",
    "\n",
    "\n",
    "@traceable(run_type='llm')\n",
    "def invoke_llm(messages):\n",
    "    return client.chat.completions.create(\n",
    "        messages=messages, model='gpt-4o-mini', temperature=0\n",
    "    )\n",
    "\n",
    "\n",
    "@traceable\n",
    "def parse_output(response):\n",
    "    return response.choices[0].message.content\n",
    "\n",
    "\n",
    "@traceable\n",
    "def run_pipeline():\n",
    "    messages = format_prompt('Men\\'s Soccer Boats')\n",
    "    response = invoke_llm(messages)\n",
    "    return parse_output(response)\n",
    "    \n",
    "result = run_pipeline()"
   ]
  },
  {
   "cell_type": "code",
   "execution_count": 9,
   "id": "86e2f2e3-6f44-4fbe-9eb2-7f9249d9be03",
   "metadata": {},
   "outputs": [
    {
     "data": {
      "text/markdown": [
       "Here are three name suggestions for your online store that sells men's soccer boots:\n",
       "\n",
       "1. **Kick & Style** - This name emphasizes both the action of kicking and the stylish aspect of soccer boots.\n",
       "\n",
       "2. **Goal Gear** - A catchy name that highlights the purpose of the boots while suggesting a range of soccer-related products.\n",
       "\n",
       "3. **Striker's Choice** - This name appeals to players who want to make a statement on the field, suggesting that your store offers top-quality options for strikers and soccer enthusiasts alike."
      ],
      "text/plain": [
       "<IPython.core.display.Markdown object>"
      ]
     },
     "metadata": {},
     "output_type": "display_data"
    }
   ],
   "source": [
    "from IPython.display import Markdown, display\n",
    "\n",
    "display(Markdown(result))"
   ]
  },
  {
   "cell_type": "code",
   "execution_count": null,
   "id": "a3463352-a0aa-4da0-a896-deffe674a3e3",
   "metadata": {},
   "outputs": [],
   "source": []
  },
  {
   "cell_type": "markdown",
   "id": "6d77a8de-fe43-4846-bccd-98cad2f309b0",
   "metadata": {},
   "source": [
    "## Tracing the Reflection Agentic App with LangSmith"
   ]
  },
  {
   "cell_type": "code",
   "execution_count": 10,
   "id": "e573305f-89fb-452a-9457-d02634567f04",
   "metadata": {},
   "outputs": [],
   "source": [
    "os.environ[\"LANGCHAIN_PROJECT\"] = \"pr-langGraph-reflection\""
   ]
  },
  {
   "cell_type": "code",
   "execution_count": 11,
   "id": "e96c1ca8-ff09-46c3-898c-d6d27038ec74",
   "metadata": {},
   "outputs": [],
   "source": [
    "from langchain_core.messages import AIMessage, BaseMessage, HumanMessage\n",
    "from langchain_core.prompts import ChatPromptTemplate, MessagesPlaceholder\n",
    "from langchain_openai import ChatOpenAI"
   ]
  },
  {
   "cell_type": "code",
   "execution_count": 12,
   "id": "1aaea60b-7169-4c2f-adf9-765189a57b37",
   "metadata": {},
   "outputs": [
    {
     "name": "stdout",
     "output_type": "stream",
     "text": [
      "🌍⚽️ The countdown to #FIFAWorldCup26 has begun! 🏆 With matches set to light up North America, which team are you rooting for? 🇺🇸🇨🇦🇲🇽 Let's make history together! 🎉 Share your predictions below! 👇 #WorldCup2026 #SoccerFever"
     ]
    }
   ],
   "source": [
    "generation_prompt = ChatPromptTemplate.from_messages([\n",
    "    (\n",
    "        'system',\n",
    "        '''You are a Twitter expert assigned to craft outstanding tweets.\n",
    "        Generate the most engaging and impactful tweet possible based on the user's request.\n",
    "        If the user provides feedback, refine and enhance your previous attempts accordingly for maximum engagement.''',\n",
    "    ),\n",
    "    MessagesPlaceholder(variable_name='messages'),\n",
    "])\n",
    "llm = ChatOpenAI(model_name=\"gpt-4o-mini\", temperature=0.7)\n",
    "# using LCEL to create the generate_chain\n",
    "generate_chain  = generation_prompt | llm\n",
    "\n",
    "tweet = ''\n",
    "request = HumanMessage(\n",
    "    content='FIFA World Cup 26'\n",
    ")\n",
    "\n",
    "for chunk in generate_chain.stream(\n",
    "    {'messages': [request]}\n",
    "): \n",
    "    print(chunk.content, end=\"\")\n",
    "    tweet += chunk.content"
   ]
  },
  {
   "cell_type": "code",
   "execution_count": 13,
   "id": "286904af-4429-4899-a3d4-47bbe04428a2",
   "metadata": {},
   "outputs": [
    {
     "name": "stdout",
     "output_type": "stream",
     "text": [
      "Your tweet has a great foundation with its enthusiasm and engagement prompts! Here are some suggestions to enhance its depth, style, and overall impact:\n",
      "\n",
      "1. **Add Context**: Mention specific locations or dates to give your audience a clearer picture of what to expect. This can also spark excitement about particular matches or events.\n",
      "\n",
      "2. **Incorporate Numbers or Stats**: Adding a fun fact or statistic about the World Cup can pique interest. For example, mentioning how many teams will compete or the last time the tournament was held in North America can add depth.\n",
      "\n",
      "3. **Use a Question to Engage**: Instead of just asking which team they support, consider a more thought-provoking question. For instance, “Which underdog team do you think will surprise everyone?” This invites more detailed responses and engages a wider audience.\n",
      "\n",
      "4. **Include a Call to Action**: Encourage followers to engage with your tweet by sharing their favorite World Cup memories or predictions. This can create a sense of community in the replies.\n",
      "\n",
      "5. **Visuals or GIFs**: If possible, consider attaching a relevant GIF or image that showcases the excitement of the World Cup. Visuals can increase engagement significantly.\n",
      "\n",
      "Here’s a revised version of your tweet incorporating these suggestions:\n",
      "\n",
      "🌍⚽️ The countdown to #FIFAWorldCup26 has officially begun! 🏆 Matches will light up North America from [insert dates]! 🇺🇸🇨🇦🇲🇽 Which team are you cheering for? 🌟 Will an underdog steal the spotlight? Share your predictions and favorite World Cup moments below! 👇 #WorldCup2026 #SoccerFever\n",
      "\n",
      "By adding these elements, your tweet will be more informative and engaging, encouraging your audience to interact and share their thoughts!"
     ]
    }
   ],
   "source": [
    "reflection_prompt = ChatPromptTemplate.from_messages(\n",
    "    [\n",
    "        (\n",
    "            'system',\n",
    "            '''You are a Twitter influencer known for your engaging content and sharp insights.\n",
    "            Review and critique the user’s tweet.\n",
    "            Provide constructive feedback, focusing on enhancing its depth, style, and overall impact.\n",
    "            Offer specific suggestions to make the tweet more compelling and engaging for their audience.'''\n",
    "        ),\n",
    "        MessagesPlaceholder(variable_name='messages'),\n",
    "    ]\n",
    ")\n",
    "\n",
    "reflect_chain  = reflection_prompt | llm\n",
    "\n",
    "reflection = ''\n",
    "# streaming the response\n",
    "for chunk in reflect_chain.stream(\n",
    "    {'messages': [request, HumanMessage(content=tweet)]}\n",
    "):\n",
    "    print(chunk.content, end='')\n",
    "    reflection += chunk.content"
   ]
  },
  {
   "cell_type": "code",
   "execution_count": 14,
   "id": "ea11400d-5a73-4355-8774-a30ffe7e2f7c",
   "metadata": {},
   "outputs": [
    {
     "name": "stdout",
     "output_type": "stream",
     "text": [
      "🌍⚽️ The countdown to #FIFAWorldCup26 is ON! 🏆 Kicking off in [insert dates], North America is ready to host the world's biggest soccer celebration! 🇺🇸🇨🇦🇲🇽 \n",
      "\n",
      "Which team are you cheering for? 🌟 Do you think an underdog will steal the spotlight this year? Share your predictions and favorite World Cup memories below! Let’s get the conversation started! 👇 #WorldCup2026 #SoccerFever\n",
      "\n",
      "(Feel free to insert specific dates for added context!)"
     ]
    }
   ],
   "source": [
    "for chunk in generate_chain.stream(\n",
    "    {'messages': [request, AIMessage(content=tweet), HumanMessage(content=reflection)]}\n",
    "):\n",
    "    print(chunk.content, end='')"
   ]
  },
  {
   "cell_type": "code",
   "execution_count": null,
   "id": "cb083536-b081-4287-a480-48b9975ae2da",
   "metadata": {},
   "outputs": [],
   "source": []
  },
  {
   "cell_type": "code",
   "execution_count": 15,
   "id": "13d637ca-87e2-4f69-9811-94cfc3438c70",
   "metadata": {},
   "outputs": [],
   "source": [
    "from typing import List, Sequence\n",
    "from langgraph.graph import END, MessageGraph"
   ]
  },
  {
   "cell_type": "code",
   "execution_count": 16,
   "id": "e5d7d5a5-523c-4a6e-b203-57228607c2ab",
   "metadata": {},
   "outputs": [],
   "source": [
    "# defining a function for the generation node\n",
    "def generation_node(state: Sequence[BaseMessage]):\n",
    "    return generate_chain.invoke({'messages': state})\n",
    "\n",
    "# defining a function for the reflection node\n",
    "def reflection_node(messages: Sequence[BaseMessage]) -> List[BaseMessage]:\n",
    "    # messages we need to adjust\n",
    "    cls_map = {'ai': HumanMessage, 'human': AIMessage}\n",
    "    # First message is the original user request. We keep it the same for all nodes\n",
    "    translated = [messages[0]] + [\n",
    "    cls_map[msg.type](content=msg.content) for msg in messages[1:]\n",
    "    ]\n",
    "    res = reflect_chain.invoke({'messages': translated})\n",
    "    # We treat the output (AI message) of this as human feedback for the generator\n",
    "    return HumanMessage(content=res.content)\n",
    "\n",
    "# initializing the MessageGraph and adding two nodes to the graph: generate and reflect.\n",
    "builder = MessageGraph()\n",
    "builder.add_node('generate', generation_node)\n",
    "builder.add_node('reflect', reflection_node)\n",
    "\n",
    "# setting the generate node as the starting point\n",
    "builder.set_entry_point('generate')\n",
    "\n",
    "MAX_ITERATIONS = 5\n",
    "def should_continue(state: List[BaseMessage]):\n",
    "    if len(state) > MAX_ITERATIONS:\n",
    "        return END\n",
    "    return 'reflect'\n",
    "\n",
    "# adding a conditional edge to the graph\n",
    "builder.add_conditional_edges('generate', should_continue)\n",
    "builder.add_edge('reflect', 'generate')\n",
    "\n",
    "# compiling the graph\n",
    "graph = builder.compile()"
   ]
  },
  {
   "cell_type": "code",
   "execution_count": 17,
   "id": "65dcb74d-c48b-45c0-b914-641a8b179a18",
   "metadata": {},
   "outputs": [],
   "source": [
    "inputs = HumanMessage(content='Generate a tweet about FIFA World Cup 26')\n",
    "response = graph.invoke(inputs)"
   ]
  },
  {
   "cell_type": "code",
   "execution_count": 18,
   "id": "a55d7ba3-498a-4b70-8762-e65a90fba8cf",
   "metadata": {},
   "outputs": [
    {
     "data": {
      "text/markdown": [
       "Generate a tweet about FIFA World Cup 26"
      ],
      "text/plain": [
       "<IPython.core.display.Markdown object>"
      ]
     },
     "metadata": {},
     "output_type": "display_data"
    },
    {
     "name": "stdout",
     "output_type": "stream",
     "text": [
      "\n",
      "----------------------------------------------------------------------------------------------------\n",
      "\n"
     ]
    },
    {
     "data": {
      "text/markdown": [
       "🌍⚽️ The countdown to #FIFAWorldCup26 is ON! Excitement is building as we prepare for the world's biggest soccer celebration across North America! 🏆✨ Who do you think will lift the trophy? Share your predictions! 👇 #WorldCup2026 #SoccerLove"
      ],
      "text/plain": [
       "<IPython.core.display.Markdown object>"
      ]
     },
     "metadata": {},
     "output_type": "display_data"
    },
    {
     "name": "stdout",
     "output_type": "stream",
     "text": [
      "\n",
      "----------------------------------------------------------------------------------------------------\n",
      "\n"
     ]
    },
    {
     "data": {
      "text/markdown": [
       "Your tweet is a great start! It captures the excitement surrounding the upcoming FIFA World Cup and invites engagement from your audience. Here are some suggestions to enhance its depth, style, and overall impact:\n",
       "\n",
       "1. **Add a Historical Context**: Mentioning past World Cup moments or records could enhance the depth of your tweet. This could spark nostalgia and engage followers who appreciate the history of the tournament.\n",
       "\n",
       "2. **Include a Personal Touch**: Sharing a personal favorite memory or player from past World Cups can make your tweet more relatable and engaging. \n",
       "\n",
       "3. **Use a Poll**: Instead of just asking for predictions, consider including a quick poll. This could encourage more interaction and make it easier for followers to share their opinions.\n",
       "\n",
       "4. **Visual Element**: While you can't include images in the text itself, suggesting a related image or video could enhance engagement. A striking World Cup image or a clip of memorable moments could elevate your post.\n",
       "\n",
       "5. **Call-to-Action Expansion**: Instead of just asking for predictions, you could prompt followers to share their favorite World Cup moments or players. This invites a broader conversation.\n",
       "\n",
       "Here’s a revised version of your tweet incorporating these suggestions:\n",
       "\n",
       "🌍⚽️ The countdown to #FIFAWorldCup26 is ON! As we gear up for the world's biggest soccer celebration across North America, I can't help but reminisce about [insert favorite World Cup memory]! 🏆✨ Who do you think will lift the trophy this time? Vote below or share your all-time favorite World Cup moment! 👇 #WorldCup2026 #SoccerLove\n",
       "\n",
       "[Insert Poll Options or an engaging visual]\n",
       "\n",
       "This approach not only builds excitement but also fosters a community dialogue around the World Cup. Keep up the great work!"
      ],
      "text/plain": [
       "<IPython.core.display.Markdown object>"
      ]
     },
     "metadata": {},
     "output_type": "display_data"
    },
    {
     "name": "stdout",
     "output_type": "stream",
     "text": [
      "\n",
      "----------------------------------------------------------------------------------------------------\n",
      "\n"
     ]
    },
    {
     "data": {
      "text/markdown": [
       "🌍⚽️ The countdown to #FIFAWorldCup26 is ON! As we gear up for the world's biggest soccer celebration in North America, I can't help but reminisce about that unforgettable 2014 final! 🏆✨ Who do you think will lift the trophy this time? Vote below or share your all-time favorite World Cup moment! 👇 \n",
       "\n",
       "🗳️ Who's your pick for the champion? \n",
       "1️⃣ Brazil \n",
       "2️⃣ France \n",
       "3️⃣ Argentina \n",
       "4️⃣ Dark Horse \n",
       "\n",
       "#WorldCup2026 #SoccerLove \n",
       "\n",
       "[📸 Insert an iconic World Cup image or video clip] \n",
       "\n",
       "Let’s create some amazing memories together! 🌟"
      ],
      "text/plain": [
       "<IPython.core.display.Markdown object>"
      ]
     },
     "metadata": {},
     "output_type": "display_data"
    },
    {
     "name": "stdout",
     "output_type": "stream",
     "text": [
      "\n",
      "----------------------------------------------------------------------------------------------------\n",
      "\n"
     ]
    },
    {
     "data": {
      "text/markdown": [
       "This revised tweet looks fantastic! You've effectively incorporated the suggestions to deepen the engagement and excitement around the FIFA World Cup. Here are a few more tweaks and suggestions to make it even more compelling:\n",
       "\n",
       "1. **Emphasize the Community Aspect**: You can further enhance the sense of community by encouraging retweets or comments. This can help spread the conversation wider.\n",
       "\n",
       "2. **Add a Hashtag for the Poll**: Consider using a specific hashtag for your poll to track the engagement better and encourage followers to use it when they share their thoughts. \n",
       "\n",
       "3. **Make the Poll Choices More Descriptive**: Instead of just \"Dark Horse,\" you could specify potential dark horse teams to give followers a clearer choice. \n",
       "\n",
       "4. **Closing Line**: A closing line that ties back to the excitement can leave a lasting impression.\n",
       "\n",
       "Here’s a revised version with these suggestions in mind:\n",
       "\n",
       "🌍⚽️ The countdown to #FIFAWorldCup26 is ON! As we gear up for the world's biggest soccer celebration in North America, I can't help but reminisce about that unforgettable 2014 final! 🏆✨ Who do you think will lift the trophy this time? Vote below or share your all-time favorite World Cup moment! 👇 \n",
       "\n",
       "🗳️ Who's your pick for the champion? \n",
       "1️⃣ Brazil \n",
       "2️⃣ France \n",
       "3️⃣ Argentina \n",
       "4️⃣ Surprise Team (e.g., Netherlands, Portugal, etc.)\n",
       "\n",
       "#WorldCup2026 #SoccerLove #WC2026Poll \n",
       "\n",
       "[📸 Insert an iconic World Cup image or video clip] \n",
       "\n",
       "Let’s create unforgettable memories together! 🌟 Can’t wait to see your picks and stories!\n",
       "\n",
       "This structure would not only improve engagement but also encourage your followers to interact more broadly. Great job! Keep it up!"
      ],
      "text/plain": [
       "<IPython.core.display.Markdown object>"
      ]
     },
     "metadata": {},
     "output_type": "display_data"
    },
    {
     "name": "stdout",
     "output_type": "stream",
     "text": [
      "\n",
      "----------------------------------------------------------------------------------------------------\n",
      "\n"
     ]
    },
    {
     "data": {
      "text/markdown": [
       "🌍⚽️ The countdown to #FIFAWorldCup26 is ON! As we gear up for the world's biggest soccer celebration in North America, I can't help but reminisce about that unforgettable 2014 final! 🏆✨ Who do you think will lift the trophy this time? Vote below or share your all-time favorite World Cup moment! 👇 \n",
       "\n",
       "🗳️ Who's your pick for the champion? \n",
       "1️⃣ Brazil \n",
       "2️⃣ France \n",
       "3️⃣ Argentina \n",
       "4️⃣ Surprise Team (e.g., Netherlands, Portugal, etc.)\n",
       "\n",
       "#WorldCup2026 #SoccerLove #WC2026Poll \n",
       "\n",
       "[📸 Insert an iconic World Cup image or video clip] \n",
       "\n",
       "Let’s create unforgettable memories together! 🌟 Can’t wait to see your picks and stories! Retweet to join the conversation! 🗣️💬"
      ],
      "text/plain": [
       "<IPython.core.display.Markdown object>"
      ]
     },
     "metadata": {},
     "output_type": "display_data"
    },
    {
     "name": "stdout",
     "output_type": "stream",
     "text": [
      "\n",
      "----------------------------------------------------------------------------------------------------\n",
      "\n"
     ]
    }
   ],
   "source": [
    "from IPython.display import Markdown, display\n",
    "\n",
    "for resp in response:\n",
    "    display(Markdown(resp.content))\n",
    "    print('\\n' + '-' * 100 + '\\n')"
   ]
  },
  {
   "cell_type": "code",
   "execution_count": null,
   "id": "3bb4bfa7-49d0-4848-8c8a-a0883a987531",
   "metadata": {},
   "outputs": [],
   "source": []
  }
 ],
 "metadata": {
  "kernelspec": {
   "display_name": "Python 3 (ipykernel)",
   "language": "python",
   "name": "python3"
  },
  "language_info": {
   "codemirror_mode": {
    "name": "ipython",
    "version": 3
   },
   "file_extension": ".py",
   "mimetype": "text/x-python",
   "name": "python",
   "nbconvert_exporter": "python",
   "pygments_lexer": "ipython3",
   "version": "3.11.10"
  }
 },
 "nbformat": 4,
 "nbformat_minor": 5
}
