{
  "nbformat": 4,
  "nbformat_minor": 0,
  "metadata": {
    "colab": {
      "provenance": []
    },
    "kernelspec": {
      "name": "python3",
      "display_name": "Python 3"
    },
    "language_info": {
      "name": "python"
    }
  },
  "cells": [
    {
      "cell_type": "markdown",
      "source": [
        "# Building a Simple ReAct Agent from Scratch"
      ],
      "metadata": {
        "id": "Ukr-XR7IzHnK"
      }
    },
    {
      "cell_type": "code",
      "execution_count": 1,
      "metadata": {
        "id": "ATiwhmT5y7Wh"
      },
      "outputs": [],
      "source": [
        "%%capture\n",
        "!pip install -r requirements.txt"
      ]
    },
    {
      "cell_type": "code",
      "source": [
        "import os\n",
        "import openai\n",
        "import getpass\n",
        "import httpx\n",
        "import re"
      ],
      "metadata": {
        "id": "aIFagPupOi5s"
      },
      "execution_count": 30,
      "outputs": []
    },
    {
      "cell_type": "code",
      "source": [
        "os.environ[\"OPENAI_API_KEY\"] = getpass.getpass(\"Enter your OPENAI_API_KEY: \")\n",
        "os.environ[\"LANGCHAIN_API_KEY\"] = getpass.getpass(\"Enter your LANGCHAIN_API_KEY: \")"
      ],
      "metadata": {
        "colab": {
          "base_uri": "https://localhost:8080/"
        },
        "id": "758AROFfPM1P",
        "outputId": "51854ef2-e13e-4f6e-8a48-15de436f74c7"
      },
      "execution_count": 3,
      "outputs": [
        {
          "name": "stdout",
          "output_type": "stream",
          "text": [
            "Enter your OPENAI_API_KEY: ··········\n",
            "Enter your LANGCHAIN_API_KEY: ··········\n"
          ]
        }
      ]
    },
    {
      "cell_type": "code",
      "source": [
        "from openai import OpenAI\n",
        "\n",
        "client = OpenAI()\n",
        "\n",
        "Model = \"gpt-4o-mini\"\n",
        "prompt = \"Write something short but funny.\"\n",
        "chat_completion = client.chat.completions.create(\n",
        "    messages=[\n",
        "        {\n",
        "            \"role\": \"user\",\n",
        "            \"content\": prompt,\n",
        "        }\n",
        "    ],\n",
        "    model=Model,\n",
        ")\n",
        "print(chat_completion.choices[0].message.content)"
      ],
      "metadata": {
        "colab": {
          "base_uri": "https://localhost:8080/"
        },
        "id": "PL38BoOoPS89",
        "outputId": "87cc6256-f9e2-4fff-8252-bfffeca04712"
      },
      "execution_count": 6,
      "outputs": [
        {
          "output_type": "stream",
          "name": "stdout",
          "text": [
            "Why did the scarecrow win an award? Because he was outstanding in his field!\n"
          ]
        }
      ]
    },
    {
      "cell_type": "code",
      "source": [
        "#@title Creating the Agent Class\n",
        "\n",
        "class Agent:\n",
        "    def __init__(self, system=''):\n",
        "        self.system = system\n",
        "        self.messages = []\n",
        "\n",
        "        if self.system:\n",
        "            self.messages.append({'role': 'system', 'content': system})\n",
        "\n",
        "    def __call__(self, prompt):\n",
        "        self.messages.append({'role': 'user', 'content': prompt})\n",
        "        result = self.execute()\n",
        "        self.messages.append({'role': 'assistant', 'content': result})\n",
        "        return result\n",
        "\n",
        "    def execute(self, model='gpt-4o-mini', temperature=0):\n",
        "        completion = client.chat.completions.create(\n",
        "                        model=model,\n",
        "                        temperature=temperature,\n",
        "                        messages=self.messages)\n",
        "\n",
        "        return completion.choices[0].message.content"
      ],
      "metadata": {
        "id": "s3FqHIWjQJjA"
      },
      "execution_count": 7,
      "outputs": []
    },
    {
      "cell_type": "code",
      "source": [
        "#@title Creating the ReAct Prompt\n",
        "\n",
        "prompt = '''\n",
        "You run in a loop of Thought, Action, PAUSE, Observation.\n",
        "At the end of the loop you output an Answer\n",
        "Use Thought to describe your thoughts about the question you have been asked.\n",
        "Use Action to run one of the actions available to you - then return PAUSE.\n",
        "Observation will be the result of running those actions.\n",
        "\n",
        "Your available actions are:\n",
        "\n",
        "calculate:\n",
        "e.g. calculate: 4 * 7 / 3\n",
        "Runs a calculation and returns the number - uses Python so be sure to use floating point syntax if necessary\n",
        "\n",
        "get_cost:\n",
        "e.g. get_cost: book\n",
        "returns the cost of a book\n",
        "\n",
        "wikipedia:\n",
        "e.g. wikipedia: LangChain\n",
        "Returns a summary from searching Wikipedia\n",
        "\n",
        "Always look things up on Wikipedia if you have the opportunity to do so.\n",
        "\n",
        "Example session #1:\n",
        "\n",
        "Question: How much does a pen cost?\n",
        "Thought: I should look the pen cost using get_cost\n",
        "Action: get_cost: pen\n",
        "PAUSE\n",
        "\n",
        "You will be called again with this:\n",
        "\n",
        "Observation: A pen costs $5\n",
        "\n",
        "You then output:\n",
        "\n",
        "Answer: A pen costs $5\n",
        "\n",
        "\n",
        "Example session #2\n",
        "\n",
        "Question: What is the capital of France?\n",
        "Thought: I should look up France on Wikipedia\n",
        "Action: wikipedia: France\n",
        "PAUSE\n",
        "\n",
        "You will be called again with this:\n",
        "\n",
        "Observation: France is a country. The capital is Paris.\n",
        "\n",
        "You then output:\n",
        "\n",
        "Answer: The capital of France is Paris\n",
        "'''.strip()"
      ],
      "metadata": {
        "id": "0VsU6wzdRBaQ"
      },
      "execution_count": 8,
      "outputs": []
    },
    {
      "cell_type": "code",
      "source": [
        "#@title Creating the Tools\n",
        "\n",
        "# 1. the calculate() function takes in a string, evaluates that string, and returns the result\n",
        "def calculate(what):\n",
        "    return eval(what)\n",
        "\n",
        "# 2. the get_cost() function returns the cost for a pen, a book, and a stapler\n",
        "def get_cost(thing):\n",
        "    if thing in 'pen':\n",
        "        return('A pen costs $5')\n",
        "    elif thing in 'book':\n",
        "        return('A book costs $20')\n",
        "    elif thing in 'stapler':\n",
        "        return('A stapler costs $10')\n",
        "    else:\n",
        "        return('A random thing for writing costs $12.')\n",
        "\n",
        "# 3. the wikipedia() function uses the Wikipedia API to search for a specific query on Wikipedia\n",
        "def wikipedia(q):\n",
        "    response = httpx.get('https://en.wikipedia.org/w/api.php', params={\n",
        "        'action': 'query',\n",
        "        'list': 'search',\n",
        "        'srsearch': q,\n",
        "        'format': 'json'\n",
        "    })\n",
        "    results = response.json().get('query').get('search', [])\n",
        "\n",
        "    if not results:\n",
        "        return None\n",
        "    return results[0]['snippet']"
      ],
      "metadata": {
        "id": "CdiqWMkGSFT_"
      },
      "execution_count": 9,
      "outputs": []
    },
    {
      "cell_type": "code",
      "source": [
        "wikipedia('langchain')"
      ],
      "metadata": {
        "colab": {
          "base_uri": "https://localhost:8080/",
          "height": 53
        },
        "id": "ubjNLE63TReZ",
        "outputId": "b6da8ffe-2b6f-479f-e5a7-b28060236323"
      },
      "execution_count": 10,
      "outputs": [
        {
          "output_type": "execute_result",
          "data": {
            "text/plain": [
              "'<span class=\"searchmatch\">LangChain</span> is a software framework that helps facilitate the integration of large language models (LLMs) into applications. As a language model integration'"
            ],
            "application/vnd.google.colaboratory.intrinsic+json": {
              "type": "string"
            }
          },
          "metadata": {},
          "execution_count": 10
        }
      ]
    },
    {
      "cell_type": "code",
      "source": [
        "# dictionary that maps the function names to the functions themselves\n",
        "known_actions = {\n",
        "    'calculate': calculate,\n",
        "    'get_cost': get_cost,\n",
        "    'wikipedia': wikipedia\n",
        "}"
      ],
      "metadata": {
        "id": "g8vUjVA0TxQT"
      },
      "execution_count": 11,
      "outputs": []
    },
    {
      "cell_type": "code",
      "source": [
        "#@title Testing the Agent\n",
        "\n",
        "my_agent = Agent(prompt)"
      ],
      "metadata": {
        "id": "W97_BLLnT3ym"
      },
      "execution_count": 13,
      "outputs": []
    },
    {
      "cell_type": "code",
      "source": [
        "result = my_agent('How much does a pen cost?')\n",
        "print(result)\n"
      ],
      "metadata": {
        "colab": {
          "base_uri": "https://localhost:8080/"
        },
        "id": "7g_h4S1aT9Ah",
        "outputId": "664045a8-313e-46dd-f234-48ee21339cbb"
      },
      "execution_count": 14,
      "outputs": [
        {
          "output_type": "stream",
          "name": "stdout",
          "text": [
            "Thought: I should look the pen cost using get_cost.  \n",
            "Action: get_cost: pen  \n",
            "PAUSE\n"
          ]
        }
      ]
    },
    {
      "cell_type": "code",
      "source": [
        "# creating the next prompt that will be used as an observation and passed to the language model\n",
        "next_prompt = f\"Observation: {get_cost('pen')}\""
      ],
      "metadata": {
        "id": "gD4d72UIUIil"
      },
      "execution_count": 15,
      "outputs": []
    },
    {
      "cell_type": "code",
      "source": [
        "# calling the agent with that next prompt\n",
        "my_agent(next_prompt)"
      ],
      "metadata": {
        "colab": {
          "base_uri": "https://localhost:8080/",
          "height": 36
        },
        "id": "xmUFk0mYUTST",
        "outputId": "7bbaaebd-635f-4939-87f8-5b33bab649a9"
      },
      "execution_count": 16,
      "outputs": [
        {
          "output_type": "execute_result",
          "data": {
            "text/plain": [
              "'Answer: A pen costs $5.'"
            ],
            "application/vnd.google.colaboratory.intrinsic+json": {
              "type": "string"
            }
          },
          "metadata": {},
          "execution_count": 16
        }
      ]
    },
    {
      "cell_type": "code",
      "source": [
        "my_agent.messages"
      ],
      "metadata": {
        "colab": {
          "base_uri": "https://localhost:8080/"
        },
        "id": "qalXeTr3UcZr",
        "outputId": "6aaa1acd-5b7b-40f7-adec-2e6acc53c046"
      },
      "execution_count": 17,
      "outputs": [
        {
          "output_type": "execute_result",
          "data": {
            "text/plain": [
              "[{'role': 'system',\n",
              "  'content': 'You run in a loop of Thought, Action, PAUSE, Observation.\\nAt the end of the loop you output an Answer\\nUse Thought to describe your thoughts about the question you have been asked.\\nUse Action to run one of the actions available to you - then return PAUSE.\\nObservation will be the result of running those actions.\\n\\nYour available actions are:\\n\\ncalculate:\\ne.g. calculate: 4 * 7 / 3\\nRuns a calculation and returns the number - uses Python so be sure to use floating point syntax if necessary\\n\\nget_cost:\\ne.g. get_cost: book\\nreturns the cost of a book\\n\\nwikipedia:\\ne.g. wikipedia: LangChain\\nReturns a summary from searching Wikipedia\\n\\nAlways look things up on Wikipedia if you have the opportunity to do so.\\n\\nExample session #1:\\n\\nQuestion: How much does a pen cost?\\nThought: I should look the pen cost using get_cost\\nAction: get_cost: pen\\nPAUSE\\n\\nYou will be called again with this:\\n\\nObservation: A pen costs $5\\n\\nYou then output:\\n\\nAnswer: A pen costs $5\\n\\n\\nExample session #2\\n\\nQuestion: What is the capital of France?\\nThought: I should look up France on Wikipedia\\nAction: wikipedia: France\\nPAUSE\\n\\nYou will be called again with this:\\n\\nObservation: France is a country. The capital is Paris.\\n\\nYou then output:\\n\\nAnswer: The capital of France is Paris'},\n",
              " {'role': 'user', 'content': 'How much does a pen cost?'},\n",
              " {'role': 'assistant',\n",
              "  'content': 'Thought: I should look the pen cost using get_cost.  \\nAction: get_cost: pen  \\nPAUSE'},\n",
              " {'role': 'user', 'content': 'Observation: A pen costs $5'},\n",
              " {'role': 'assistant', 'content': 'Answer: A pen costs $5.'}]"
            ]
          },
          "metadata": {},
          "execution_count": 17
        }
      ]
    },
    {
      "cell_type": "code",
      "source": [
        "abot = Agent(prompt)"
      ],
      "metadata": {
        "id": "hX24m6aWUkYS"
      },
      "execution_count": 18,
      "outputs": []
    },
    {
      "cell_type": "code",
      "source": [
        "question = '''I want to buy a pen and a book.\n",
        "How much do they cost in total?'''\n",
        "\n",
        "abot(question)"
      ],
      "metadata": {
        "colab": {
          "base_uri": "https://localhost:8080/",
          "height": 53
        },
        "id": "JIscjnHZVFyJ",
        "outputId": "38104ca5-398c-4c26-b1d1-88b031691341"
      },
      "execution_count": 19,
      "outputs": [
        {
          "output_type": "execute_result",
          "data": {
            "text/plain": [
              "'Thought: I need to find the cost of both a pen and a book to calculate the total cost. I will first get the cost of the pen and then the cost of the book. \\nAction: get_cost: pen\\nPAUSE'"
            ],
            "application/vnd.google.colaboratory.intrinsic+json": {
              "type": "string"
            }
          },
          "metadata": {},
          "execution_count": 19
        }
      ]
    },
    {
      "cell_type": "code",
      "source": [
        "# executing the action and creating the next prompt.\n",
        "next_prompt = f'Observation: {get_cost(\"pen\")}'\n",
        "print(next_prompt)"
      ],
      "metadata": {
        "colab": {
          "base_uri": "https://localhost:8080/"
        },
        "id": "QwC60e9KVKmA",
        "outputId": "e34bda15-f70e-4939-acc0-b3de7db6d8e1"
      },
      "execution_count": 20,
      "outputs": [
        {
          "output_type": "stream",
          "name": "stdout",
          "text": [
            "Observation: A pen costs $5\n"
          ]
        }
      ]
    },
    {
      "cell_type": "code",
      "source": [
        "abot(next_prompt)"
      ],
      "metadata": {
        "colab": {
          "base_uri": "https://localhost:8080/",
          "height": 36
        },
        "id": "j1NwBsVPVV78",
        "outputId": "275e0729-5601-4562-e08d-fe81640312e6"
      },
      "execution_count": 21,
      "outputs": [
        {
          "output_type": "execute_result",
          "data": {
            "text/plain": [
              "'Thought: Now that I have the cost of the pen, I will look up the cost of the book to find the total. \\nAction: get_cost: book\\nPAUSE'"
            ],
            "application/vnd.google.colaboratory.intrinsic+json": {
              "type": "string"
            }
          },
          "metadata": {},
          "execution_count": 21
        }
      ]
    },
    {
      "cell_type": "code",
      "source": [
        "next_prompt = f'Observation: {get_cost(\"book\")}'\n",
        "print(next_prompt)"
      ],
      "metadata": {
        "colab": {
          "base_uri": "https://localhost:8080/"
        },
        "id": "_tngzvlUVZ8g",
        "outputId": "ad83671b-1451-4cd7-c700-c1d4eba1506a"
      },
      "execution_count": 22,
      "outputs": [
        {
          "output_type": "stream",
          "name": "stdout",
          "text": [
            "Observation: A book costs $20\n"
          ]
        }
      ]
    },
    {
      "cell_type": "code",
      "source": [
        "abot(next_prompt)"
      ],
      "metadata": {
        "colab": {
          "base_uri": "https://localhost:8080/",
          "height": 53
        },
        "id": "Q-3FcS8RVen5",
        "outputId": "1fbc0559-d4ed-4f7a-86a8-3e6433d03c33"
      },
      "execution_count": 23,
      "outputs": [
        {
          "output_type": "execute_result",
          "data": {
            "text/plain": [
              "'Thought: I now have the costs of both the pen and the book. The pen costs $5 and the book costs $20. I will calculate the total cost by adding these two amounts together. \\nAction: calculate: 5 + 20\\nPAUSE'"
            ],
            "application/vnd.google.colaboratory.intrinsic+json": {
              "type": "string"
            }
          },
          "metadata": {},
          "execution_count": 23
        }
      ]
    },
    {
      "cell_type": "code",
      "source": [],
      "metadata": {
        "id": "OTfYHi_uWTI2"
      },
      "execution_count": null,
      "outputs": []
    },
    {
      "cell_type": "code",
      "source": [
        "abot = Agent(prompt)"
      ],
      "metadata": {
        "id": "ZzO_j7W-ViDS"
      },
      "execution_count": 24,
      "outputs": []
    },
    {
      "cell_type": "code",
      "source": [
        "query = '2024 United Kingdom elections'\n",
        "abot(query)"
      ],
      "metadata": {
        "colab": {
          "base_uri": "https://localhost:8080/",
          "height": 53
        },
        "id": "4b9rrlNeWTli",
        "outputId": "95682fa3-0fa5-47ef-f8a8-67d8bcdc5018"
      },
      "execution_count": 25,
      "outputs": [
        {
          "output_type": "execute_result",
          "data": {
            "text/plain": [
              "'Thought: I should look up information about the 2024 United Kingdom elections on Wikipedia to get the most accurate and detailed information. \\nAction: wikipedia: 2024 United Kingdom elections\\nPAUSE'"
            ],
            "application/vnd.google.colaboratory.intrinsic+json": {
              "type": "string"
            }
          },
          "metadata": {},
          "execution_count": 25
        }
      ]
    },
    {
      "cell_type": "code",
      "source": [
        "# calling the wikipedia() function and creating the next prompt\n",
        "next_prompt = f'Observation: {wikipedia(query)}'\n",
        "# print(next_prompt)\n",
        "next_prompt"
      ],
      "metadata": {
        "colab": {
          "base_uri": "https://localhost:8080/",
          "height": 70
        },
        "id": "vBj5zOHpWVjt",
        "outputId": "85584c90-0352-4bed-a920-64cd31e3e69c"
      },
      "execution_count": 27,
      "outputs": [
        {
          "output_type": "execute_result",
          "data": {
            "text/plain": [
              "'Observation: The <span class=\"searchmatch\">2024</span> <span class=\"searchmatch\">United</span> <span class=\"searchmatch\">Kingdom</span> general <span class=\"searchmatch\">election</span> was held on Thursday, 4 July <span class=\"searchmatch\">2024</span>, to elect 650 members of Parliament to the House of Commons, the lower house'"
            ],
            "application/vnd.google.colaboratory.intrinsic+json": {
              "type": "string"
            }
          },
          "metadata": {},
          "execution_count": 27
        }
      ]
    },
    {
      "cell_type": "code",
      "source": [
        "# calling the agent with the new prompt, which in turn is giving the final answer\n",
        "abot(next_prompt)"
      ],
      "metadata": {
        "colab": {
          "base_uri": "https://localhost:8080/",
          "height": 53
        },
        "id": "bgiAp706Wapz",
        "outputId": "0f6a4b76-05b3-4cc0-cc07-a9775130367d"
      },
      "execution_count": 28,
      "outputs": [
        {
          "output_type": "execute_result",
          "data": {
            "text/plain": [
              "'Answer: The 2024 United Kingdom general election is scheduled to be held on Thursday, 4 July 2024, to elect 650 members of Parliament to the House of Commons.'"
            ],
            "application/vnd.google.colaboratory.intrinsic+json": {
              "type": "string"
            }
          },
          "metadata": {},
          "execution_count": 28
        }
      ]
    },
    {
      "cell_type": "code",
      "source": [
        "abot.messages"
      ],
      "metadata": {
        "colab": {
          "base_uri": "https://localhost:8080/"
        },
        "id": "fFOYqhqSWj4T",
        "outputId": "d7d98db7-31bc-4b2f-b2dc-4a0e6c547427"
      },
      "execution_count": 29,
      "outputs": [
        {
          "output_type": "execute_result",
          "data": {
            "text/plain": [
              "[{'role': 'system',\n",
              "  'content': 'You run in a loop of Thought, Action, PAUSE, Observation.\\nAt the end of the loop you output an Answer\\nUse Thought to describe your thoughts about the question you have been asked.\\nUse Action to run one of the actions available to you - then return PAUSE.\\nObservation will be the result of running those actions.\\n\\nYour available actions are:\\n\\ncalculate:\\ne.g. calculate: 4 * 7 / 3\\nRuns a calculation and returns the number - uses Python so be sure to use floating point syntax if necessary\\n\\nget_cost:\\ne.g. get_cost: book\\nreturns the cost of a book\\n\\nwikipedia:\\ne.g. wikipedia: LangChain\\nReturns a summary from searching Wikipedia\\n\\nAlways look things up on Wikipedia if you have the opportunity to do so.\\n\\nExample session #1:\\n\\nQuestion: How much does a pen cost?\\nThought: I should look the pen cost using get_cost\\nAction: get_cost: pen\\nPAUSE\\n\\nYou will be called again with this:\\n\\nObservation: A pen costs $5\\n\\nYou then output:\\n\\nAnswer: A pen costs $5\\n\\n\\nExample session #2\\n\\nQuestion: What is the capital of France?\\nThought: I should look up France on Wikipedia\\nAction: wikipedia: France\\nPAUSE\\n\\nYou will be called again with this:\\n\\nObservation: France is a country. The capital is Paris.\\n\\nYou then output:\\n\\nAnswer: The capital of France is Paris'},\n",
              " {'role': 'user', 'content': '2024 United Kingdom elections'},\n",
              " {'role': 'assistant',\n",
              "  'content': 'Thought: I should look up information about the 2024 United Kingdom elections on Wikipedia to get the most accurate and detailed information. \\nAction: wikipedia: 2024 United Kingdom elections\\nPAUSE'},\n",
              " {'role': 'user',\n",
              "  'content': 'Observation: The <span class=\"searchmatch\">2024</span> <span class=\"searchmatch\">United</span> <span class=\"searchmatch\">Kingdom</span> general <span class=\"searchmatch\">election</span> was held on Thursday, 4 July <span class=\"searchmatch\">2024</span>, to elect 650 members of Parliament to the House of Commons, the lower house'},\n",
              " {'role': 'assistant',\n",
              "  'content': 'Answer: The 2024 United Kingdom general election is scheduled to be held on Thursday, 4 July 2024, to elect 650 members of Parliament to the House of Commons.'}]"
            ]
          },
          "metadata": {},
          "execution_count": 29
        }
      ]
    },
    {
      "cell_type": "code",
      "source": [],
      "metadata": {
        "id": "Q8Ct0FtSWp0B"
      },
      "execution_count": null,
      "outputs": []
    },
    {
      "cell_type": "code",
      "source": [
        "#@title Automating the Agent\n",
        "\n",
        "# defining a regex for finding the action string\n",
        "action_re = re.compile(r'^Action: (\\w+): (.*)$')  # python regular expression to select Action:\n",
        "\n",
        "\n",
        "# dictionary that maps the function names to the functions themselves\n",
        "known_actions = {\n",
        "    'calculate': calculate,\n",
        "    'get_cost': get_cost,\n",
        "    'wikipedia': wikipedia\n",
        "}"
      ],
      "metadata": {
        "id": "izT_NGNiW4Ho"
      },
      "execution_count": 32,
      "outputs": []
    },
    {
      "cell_type": "code",
      "source": [
        "def query(question, max_turns=5):\n",
        "    i = 0\n",
        "    bot = Agent(prompt)\n",
        "    next_prompt = question\n",
        "    while i < max_turns:\n",
        "        i += 1\n",
        "        result = bot(next_prompt)\n",
        "        print(result)\n",
        "\n",
        "         # using the regex to parse the response from the agent.\n",
        "        actions = [ # This is a list comprehension\n",
        "            action_re.match(a) for a in result.split('\\n') if action_re.match(a)\n",
        "        ]\n",
        "\n",
        "        if actions:\n",
        "            action, action_input = actions[0].groups()\n",
        "\n",
        "            if action not in known_actions:\n",
        "                raise Exception(f'Unknown action: {action}: {action_input}')\n",
        "\n",
        "            print(f' -- running {action} {action_input}')\n",
        "            observation = known_actions[action](action_input)\n",
        "\n",
        "            print(f'Observation: {observation}')\n",
        "            next_prompt = f'Observation: {observation}'\n",
        "        else:\n",
        "            return"
      ],
      "metadata": {
        "id": "GgobR7EmXL-0"
      },
      "execution_count": 33,
      "outputs": []
    },
    {
      "cell_type": "code",
      "source": [
        "question = '''I want to buy 2 books and 3 pens. How much do I have to pay?'''\n",
        "query(question)"
      ],
      "metadata": {
        "colab": {
          "base_uri": "https://localhost:8080/"
        },
        "id": "WcZg7IgnX0YV",
        "outputId": "816c0002-7118-47ee-c167-b58e06c24ba5"
      },
      "execution_count": 34,
      "outputs": [
        {
          "output_type": "stream",
          "name": "stdout",
          "text": [
            "Thought: I need to find out the cost of a book and a pen to calculate the total cost for 2 books and 3 pens. I will first look up the cost of a book and then the cost of a pen. \n",
            "\n",
            "Action: get_cost: book\n",
            "PAUSE\n",
            " -- running get_cost book\n",
            "Observation: A book costs $20\n",
            "Thought: Now that I know the cost of a book is $20, I need to find out the cost of a pen to complete the calculation for the total cost. \n",
            "\n",
            "Action: get_cost: pen\n",
            "PAUSE\n",
            " -- running get_cost pen\n",
            "Observation: A pen costs $5\n",
            "Thought: I have the costs now: a book costs $20 and a pen costs $5. I will calculate the total cost for 2 books and 3 pens. \n",
            "\n",
            "Action: calculate: 2 * 20 + 3 * 5\n",
            "PAUSE\n",
            " -- running calculate 2 * 20 + 3 * 5\n",
            "Observation: 55\n",
            "Answer: You have to pay $55 for 2 books and 3 pens.\n"
          ]
        }
      ]
    },
    {
      "cell_type": "code",
      "source": [
        "question = '''UEFA EURO 2024'''\n",
        "query(question)"
      ],
      "metadata": {
        "colab": {
          "base_uri": "https://localhost:8080/"
        },
        "id": "nloFg69bX5Qd",
        "outputId": "58c2c0b1-7571-4b61-bb69-dc64cee2843e"
      },
      "execution_count": 35,
      "outputs": [
        {
          "output_type": "stream",
          "name": "stdout",
          "text": [
            "Thought: I should look up UEFA EURO 2024 on Wikipedia to gather information about the event.  \n",
            "Action: wikipedia: UEFA EURO 2024  \n",
            "PAUSE\n",
            " -- running wikipedia UEFA EURO 2024  \n",
            "Observation: <span class=\"searchmatch\">2024</span> <span class=\"searchmatch\">UEFA</span> European Football Championship, commonly referred to as <span class=\"searchmatch\">UEFA</span> <span class=\"searchmatch\">Euro</span> <span class=\"searchmatch\">2024</span> (stylised as <span class=\"searchmatch\">UEFA</span> <span class=\"searchmatch\">EURO</span> <span class=\"searchmatch\">2024</span>) or simply <span class=\"searchmatch\">Euro</span> <span class=\"searchmatch\">2024</span>, was the 17th <span class=\"searchmatch\">UEFA</span> European\n",
            "Answer: UEFA EURO 2024 is the 17th UEFA European Football Championship.\n"
          ]
        }
      ]
    },
    {
      "cell_type": "code",
      "source": [],
      "metadata": {
        "id": "SFo1A8MeYXXo"
      },
      "execution_count": null,
      "outputs": []
    }
  ]
}