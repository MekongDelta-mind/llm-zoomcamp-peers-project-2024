{
 "cells": [
  {
   "cell_type": "markdown",
   "id": "e63b52b9-2045-4d9d-8cee-d167ea839e24",
   "metadata": {},
   "source": [
    "# Reflection with LangChain (Tweet Generator)\n",
    "\n",
    "- [LangGraph - Reflection](https://langchain-ai.github.io/langgraph/tutorials/reflection/reflection/)"
   ]
  },
  {
   "cell_type": "code",
   "execution_count": 1,
   "id": "ae0f1a26-3ae0-498c-bc2a-b3dc969b404d",
   "metadata": {},
   "outputs": [],
   "source": [
    "%%capture\n",
    "!pip install --upgrade -q openai langchain langchain-openai langchain-community langgraph"
   ]
  },
  {
   "cell_type": "markdown",
   "id": "950d797c-2567-4728-a5d8-e69922fe044a",
   "metadata": {},
   "source": [
    "## Generate"
   ]
  },
  {
   "cell_type": "code",
   "execution_count": 2,
   "id": "678f7d02-6862-4cda-b6ff-c0e11c75f079",
   "metadata": {},
   "outputs": [],
   "source": [
    "import os\n",
    "import openai\n",
    "import getpass\n",
    "import httpx\n",
    "import re"
   ]
  },
  {
   "cell_type": "code",
   "execution_count": 3,
   "id": "98c2fbde-f3b3-4658-8ba6-11a07d8e5c07",
   "metadata": {},
   "outputs": [
    {
     "name": "stdin",
     "output_type": "stream",
     "text": [
      "Enter your OPENAI_API_KEY:  ········\n",
      "Enter your LANGCHAIN_API_KEY:  ········\n"
     ]
    }
   ],
   "source": [
    "os.environ[\"OPENAI_API_KEY\"] = getpass.getpass(\"Enter your OPENAI_API_KEY: \")\n",
    "os.environ[\"LANGCHAIN_API_KEY\"] = getpass.getpass(\"Enter your LANGCHAIN_API_KEY: \")"
   ]
  },
  {
   "cell_type": "code",
   "execution_count": 4,
   "id": "534b92ff-edaf-4042-988b-e981db7bbffd",
   "metadata": {},
   "outputs": [],
   "source": [
    "from langchain_core.messages import AIMessage, BaseMessage, HumanMessage\n",
    "from langchain_core.prompts import ChatPromptTemplate, MessagesPlaceholder\n",
    "from langchain_openai import ChatOpenAI"
   ]
  },
  {
   "cell_type": "code",
   "execution_count": 11,
   "id": "eadab6fa-0fe5-48bc-a06e-054de330e558",
   "metadata": {},
   "outputs": [],
   "source": [
    "generation_prompt = ChatPromptTemplate.from_messages([\n",
    "    (\n",
    "        'system',\n",
    "        '''You are a Twitter expert assigned to craft outstanding tweets.\n",
    "        Generate the most engaging and impactful tweet possible based on the user's request.\n",
    "        If the user provides feedback, refine and enhance your previous attempts accordingly for maximum engagement.''',\n",
    "    ),\n",
    "    MessagesPlaceholder(variable_name='messages'),\n",
    "])\n",
    "llm = ChatOpenAI(model_name=\"gpt-4o-mini\", temperature=0.7)\n",
    "# using LCEL to create the generate_chain\n",
    "generate_chain  = generation_prompt | llm"
   ]
  },
  {
   "cell_type": "code",
   "execution_count": 12,
   "id": "902ab516-3927-44f4-9650-ae095cdea767",
   "metadata": {},
   "outputs": [
    {
     "data": {
      "text/plain": [
       "ChatPromptTemplate(input_variables=['messages'], input_types={'messages': list[typing.Annotated[typing.Union[typing.Annotated[langchain_core.messages.ai.AIMessage, Tag(tag='ai')], typing.Annotated[langchain_core.messages.human.HumanMessage, Tag(tag='human')], typing.Annotated[langchain_core.messages.chat.ChatMessage, Tag(tag='chat')], typing.Annotated[langchain_core.messages.system.SystemMessage, Tag(tag='system')], typing.Annotated[langchain_core.messages.function.FunctionMessage, Tag(tag='function')], typing.Annotated[langchain_core.messages.tool.ToolMessage, Tag(tag='tool')], typing.Annotated[langchain_core.messages.ai.AIMessageChunk, Tag(tag='AIMessageChunk')], typing.Annotated[langchain_core.messages.human.HumanMessageChunk, Tag(tag='HumanMessageChunk')], typing.Annotated[langchain_core.messages.chat.ChatMessageChunk, Tag(tag='ChatMessageChunk')], typing.Annotated[langchain_core.messages.system.SystemMessageChunk, Tag(tag='SystemMessageChunk')], typing.Annotated[langchain_core.messages.function.FunctionMessageChunk, Tag(tag='FunctionMessageChunk')], typing.Annotated[langchain_core.messages.tool.ToolMessageChunk, Tag(tag='ToolMessageChunk')]], FieldInfo(annotation=NoneType, required=True, discriminator=Discriminator(discriminator=<function _get_type at 0x7b39468bb2e0>, custom_error_type=None, custom_error_message=None, custom_error_context=None))]]}, partial_variables={}, messages=[SystemMessagePromptTemplate(prompt=PromptTemplate(input_variables=[], input_types={}, partial_variables={}, template=\"You are a Twitter expert assigned to craft outstanding tweets.\\n        Generate the most engaging and impactful tweet possible based on the user's request.\\n        If the user provides feedback, refine and enhance your previous attempts accordingly for maximum engagement.\"), additional_kwargs={}), MessagesPlaceholder(variable_name='messages')])\n",
       "| ChatOpenAI(client=<openai.resources.chat.completions.Completions object at 0x7b3944d97350>, async_client=<openai.resources.chat.completions.AsyncCompletions object at 0x7b3945544150>, root_client=<openai.OpenAI object at 0x7b3945893c50>, root_async_client=<openai.AsyncOpenAI object at 0x7b3944dbf950>, model_name='gpt-4o-mini', model_kwargs={}, openai_api_key=SecretStr('**********'))"
      ]
     },
     "execution_count": 12,
     "metadata": {},
     "output_type": "execute_result"
    }
   ],
   "source": [
    "generate_chain"
   ]
  },
  {
   "cell_type": "code",
   "execution_count": 14,
   "id": "b55f45f8-3959-4443-a2cd-1895cf3d41be",
   "metadata": {},
   "outputs": [
    {
     "name": "stdout",
     "output_type": "stream",
     "text": [
      "🌍⚽️ Get ready for the ultimate showdown! The #FIFAWorldCup2026 is set to be a historic celebration of football, uniting fans across the USA, Canada, & Mexico! 🇺🇸🇨🇦🇲🇽 Who's your pick to lift the trophy? 🏆🔥 #WorldCup2026 #FootballFever"
     ]
    }
   ],
   "source": [
    "from IPython.display import Markdown, display\n",
    "\n",
    "tweet = ''\n",
    "request = HumanMessage(\n",
    "    content='FIFA World Cup 26'\n",
    ")\n",
    "\n",
    "for chunk in generate_chain.stream(\n",
    "    {'messages': [request]}\n",
    "): \n",
    "    print(chunk.content, end=\"\")\n",
    "    tweet += chunk.content"
   ]
  },
  {
   "cell_type": "markdown",
   "id": "f3b51ff4-ca99-4d14-ac2f-14c73b433069",
   "metadata": {},
   "source": [
    "## Reflect and Repeat"
   ]
  },
  {
   "cell_type": "code",
   "execution_count": 15,
   "id": "ae7314af-4f65-495c-9c68-1884b3b13101",
   "metadata": {},
   "outputs": [],
   "source": [
    "reflection_prompt = ChatPromptTemplate.from_messages(\n",
    "    [\n",
    "        (\n",
    "            'system',\n",
    "            '''You are a Twitter influencer known for your engaging content and sharp insights.\n",
    "            Review and critique the user’s tweet.\n",
    "            Provide constructive feedback, focusing on enhancing its depth, style, and overall impact.\n",
    "            Offer specific suggestions to make the tweet more compelling and engaging for their audience.'''\n",
    "        ),\n",
    "        MessagesPlaceholder(variable_name='messages'),\n",
    "    ]\n",
    ")\n",
    "\n",
    "reflect_chain  = reflection_prompt | llm"
   ]
  },
  {
   "cell_type": "code",
   "execution_count": 16,
   "id": "a6c49fb5-bfb2-4761-84f1-5e2523fe7b5f",
   "metadata": {},
   "outputs": [
    {
     "data": {
      "text/plain": [
       "ChatPromptTemplate(input_variables=['messages'], input_types={'messages': list[typing.Annotated[typing.Union[typing.Annotated[langchain_core.messages.ai.AIMessage, Tag(tag='ai')], typing.Annotated[langchain_core.messages.human.HumanMessage, Tag(tag='human')], typing.Annotated[langchain_core.messages.chat.ChatMessage, Tag(tag='chat')], typing.Annotated[langchain_core.messages.system.SystemMessage, Tag(tag='system')], typing.Annotated[langchain_core.messages.function.FunctionMessage, Tag(tag='function')], typing.Annotated[langchain_core.messages.tool.ToolMessage, Tag(tag='tool')], typing.Annotated[langchain_core.messages.ai.AIMessageChunk, Tag(tag='AIMessageChunk')], typing.Annotated[langchain_core.messages.human.HumanMessageChunk, Tag(tag='HumanMessageChunk')], typing.Annotated[langchain_core.messages.chat.ChatMessageChunk, Tag(tag='ChatMessageChunk')], typing.Annotated[langchain_core.messages.system.SystemMessageChunk, Tag(tag='SystemMessageChunk')], typing.Annotated[langchain_core.messages.function.FunctionMessageChunk, Tag(tag='FunctionMessageChunk')], typing.Annotated[langchain_core.messages.tool.ToolMessageChunk, Tag(tag='ToolMessageChunk')]], FieldInfo(annotation=NoneType, required=True, discriminator=Discriminator(discriminator=<function _get_type at 0x7b39468bb2e0>, custom_error_type=None, custom_error_message=None, custom_error_context=None))]]}, partial_variables={}, messages=[SystemMessagePromptTemplate(prompt=PromptTemplate(input_variables=[], input_types={}, partial_variables={}, template='You are a Twitter influencer known for your engaging content and sharp insights.\\n            Review and critique the user’s tweet.\\n            Provide constructive feedback, focusing on enhancing its depth, style, and overall impact.\\n            Offer specific suggestions to make the tweet more compelling and engaging for their audience.'), additional_kwargs={}), MessagesPlaceholder(variable_name='messages')])\n",
       "| ChatOpenAI(client=<openai.resources.chat.completions.Completions object at 0x7b3944d97350>, async_client=<openai.resources.chat.completions.AsyncCompletions object at 0x7b3945544150>, root_client=<openai.OpenAI object at 0x7b3945893c50>, root_async_client=<openai.AsyncOpenAI object at 0x7b3944dbf950>, model_name='gpt-4o-mini', model_kwargs={}, openai_api_key=SecretStr('**********'))"
      ]
     },
     "execution_count": 16,
     "metadata": {},
     "output_type": "execute_result"
    }
   ],
   "source": [
    "reflect_chain"
   ]
  },
  {
   "cell_type": "code",
   "execution_count": 17,
   "id": "859de843-5235-44cf-bd2d-85b4c254eaad",
   "metadata": {},
   "outputs": [
    {
     "name": "stdout",
     "output_type": "stream",
     "text": [
      "This tweet does a great job of capturing the excitement surrounding the upcoming FIFA World Cup! The use of emojis adds a fun and vibrant touch, while the hashtags help to increase visibility. However, there are a few areas where you could enhance the depth and engagement:\n",
      "\n",
      "### Critique & Suggestions:\n",
      "\n",
      "1. **Add Context**: While the tweet is enthusiastic, including a fact or statistic about the World Cup or the teams involved could provide more context. For example, mentioning how many teams will participate or a notable past achievement of a favorite team could spark more conversation.\n",
      "\n",
      "   **Example**: \"Did you know it will be the first World Cup with 48 teams? 🌍⚽️\"\n",
      "\n",
      "2. **Engagement**: Instead of a general question, consider a more engaging prompt that encourages replies. For example, ask followers for their predictions or insights beyond just picking a team.\n",
      "\n",
      "   **Example**: \"Which underdog team do you think could surprise us this year? 🏆🔥\"\n",
      "\n",
      "3. **Personal Touch**: Adding a personal touch can help connect with your audience. Share your own thoughts or an anecdote about your favorite World Cup memory.\n",
      "\n",
      "   **Example**: \"I’ll never forget the thrill of [insert memorable moment]—what’s your favorite World Cup moment?\"\n",
      "\n",
      "4. **Visuals**: If possible, pair the tweet with a striking image or graphic related to the World Cup, like the official logo or previous tournament highlights. Visual content often increases engagement.\n",
      "\n",
      "5. **Call to Action**: You could also encourage your followers to share the tweet or tag friends to expand the conversation.\n",
      "\n",
      "   **Example**: \"Tag a friend who needs to join the football frenzy! ⚽️🔥\"\n",
      "\n",
      "### Revised Tweet Example:\n",
      "\"🌍⚽️ The countdown begins! The #FIFAWorldCup2026 will be the first with 48 teams, uniting fans in the USA, Canada, & Mexico! 🇺🇸🇨🇦🇲🇽 Who's your pick to lift the trophy? And which underdog team do you think might surprise us? 🏆🔥 Tag a friend to join the football frenzy! #WorldCup2026 #FootballFever\"\n",
      "\n",
      "By incorporating these suggestions, your tweet can become more engaging and provoke deeper conversations among your followers!"
     ]
    }
   ],
   "source": [
    "reflection = ''\n",
    "# streaming the response\n",
    "for chunk in reflect_chain.stream(\n",
    "    {'messages': [request, HumanMessage(content=tweet)]}\n",
    "):\n",
    "    print(chunk.content, end='')\n",
    "    reflection += chunk.content"
   ]
  },
  {
   "cell_type": "code",
   "execution_count": 18,
   "id": "b254fbbd-e143-4102-8fc2-bb2ab862946e",
   "metadata": {},
   "outputs": [
    {
     "name": "stdout",
     "output_type": "stream",
     "text": [
      "Thank you for the insightful feedback! Here’s a revised tweet that incorporates your suggestions for depth, engagement, and a personal touch:\n",
      "\n",
      "🌍⚽️ The countdown is on! With the #FIFAWorldCup2026 being the first to feature 48 teams, excitement is building across the USA, Canada, & Mexico! 🇺🇸🇨🇦🇲🇽 Who do you think will lift the trophy? 🏆🔥 And which underdog do you believe could steal the spotlight this year? Let’s hear your predictions! Tag a friend to join the football frenzy! ⚽️✨ #WorldCup2026 #FootballFever \n",
      "\n",
      "What do you think? Any more tweaks you'd like to see?"
     ]
    }
   ],
   "source": [
    "for chunk in generate_chain.stream(\n",
    "    {'messages': [request, AIMessage(content=tweet), HumanMessage(content=reflection)]}\n",
    "):\n",
    "    print(chunk.content, end='')"
   ]
  },
  {
   "cell_type": "markdown",
   "id": "7bb26ace-721b-4ac5-a181-8cac5676cf87",
   "metadata": {},
   "source": [
    "## Define the Graph"
   ]
  },
  {
   "cell_type": "code",
   "execution_count": 19,
   "id": "e62f7f41-6582-40a3-9f26-40e9df70206e",
   "metadata": {},
   "outputs": [],
   "source": [
    "from typing import List, Sequence\n",
    "from langgraph.graph import END, MessageGraph"
   ]
  },
  {
   "cell_type": "code",
   "execution_count": 20,
   "id": "770eb6a1-bb33-4942-829d-b2a8cd67db37",
   "metadata": {},
   "outputs": [],
   "source": [
    "# defining a function for the generation node\n",
    "def generation_node(state: Sequence[BaseMessage]):\n",
    "    return generate_chain.invoke({'messages': state})\n",
    "\n",
    "# defining a function for the reflection node\n",
    "def reflection_node(messages: Sequence[BaseMessage]) -> List[BaseMessage]:\n",
    "    # messages we need to adjust\n",
    "    cls_map = {'ai': HumanMessage, 'human': AIMessage}\n",
    "    # First message is the original user request. We keep it the same for all nodes\n",
    "    translated = [messages[0]] + [\n",
    "    cls_map[msg.type](content=msg.content) for msg in messages[1:]\n",
    "    ]\n",
    "    res = reflect_chain.invoke({'messages': translated})\n",
    "    # We treat the output (AI message) of this as human feedback for the generator\n",
    "    return HumanMessage(content=res.content)\n",
    "\n",
    "# initializing the MessageGraph and adding two nodes to the graph: generate and reflect.\n",
    "builder = MessageGraph()\n",
    "builder.add_node('generate', generation_node)\n",
    "builder.add_node('reflect', reflection_node)\n",
    "\n",
    "# setting the generate node as the starting point\n",
    "builder.set_entry_point('generate')\n",
    "\n",
    "MAX_ITERATIONS = 5\n",
    "def should_continue(state: List[BaseMessage]):\n",
    "    if len(state) > MAX_ITERATIONS:\n",
    "        return END\n",
    "    return 'reflect'\n",
    "\n",
    "# adding a conditional edge to the graph\n",
    "builder.add_conditional_edges('generate', should_continue)\n",
    "builder.add_edge('reflect', 'generate')\n",
    "\n",
    "# compiling the graph\n",
    "graph = builder.compile()"
   ]
  },
  {
   "cell_type": "code",
   "execution_count": 21,
   "id": "6ce6cb63-564e-412f-af76-72c2d182c894",
   "metadata": {},
   "outputs": [
    {
     "data": {
      "image/png": "[encoded data removed]",
      "text/plain": [
       "<IPython.core.display.Image object>"
      ]
     },
     "metadata": {},
     "output_type": "display_data"
    }
   ],
   "source": [
    "from IPython.display import Image, display\n",
    "display(Image(graph.get_graph().draw_mermaid_png()))"
   ]
  },
  {
   "cell_type": "markdown",
   "id": "c8d6299b-a535-4a56-84e6-ace56777f791",
   "metadata": {},
   "source": [
    "## Running the App"
   ]
  },
  {
   "cell_type": "code",
   "execution_count": 23,
   "id": "abc01888-2af1-4cd5-b654-812e2b8fba43",
   "metadata": {},
   "outputs": [],
   "source": [
    "inputs = HumanMessage(content='Generate a tweet about FIFA World Cup 26')\n",
    "response = graph.invoke(inputs)"
   ]
  },
  {
   "cell_type": "code",
   "execution_count": 24,
   "id": "6f099259-604d-406c-bdc6-8c1fead9865b",
   "metadata": {},
   "outputs": [
    {
     "data": {
      "text/markdown": [
       "Generate a tweet about FIFA World Cup 26"
      ],
      "text/plain": [
       "<IPython.core.display.Markdown object>"
      ]
     },
     "metadata": {},
     "output_type": "display_data"
    },
    {
     "name": "stdout",
     "output_type": "stream",
     "text": [
      "\n",
      "----------------------------------------------------------------------------------------------------\n",
      "\n"
     ]
    },
    {
     "data": {
      "text/markdown": [
       "🌍⚽️ The countdown to #FIFAWorldCup26 has officially begun! 🏆 With 48 teams and matches across the USA, Canada, and Mexico, this tournament is set to be the biggest celebration of global football yet! 🎉 Who are you rooting for? 🇺🇸🇨🇦🇲🇽 #WorldCup #FootballFever"
      ],
      "text/plain": [
       "<IPython.core.display.Markdown object>"
      ]
     },
     "metadata": {},
     "output_type": "display_data"
    },
    {
     "name": "stdout",
     "output_type": "stream",
     "text": [
      "\n",
      "----------------------------------------------------------------------------------------------------\n",
      "\n"
     ]
    },
    {
     "data": {
      "text/markdown": [
       "Your tweet captures the excitement of the upcoming FIFA World Cup 2026 well! The emojis add a fun touch, and asking a question engages your audience effectively. Here are some suggestions to enhance its depth, style, and impact:\n",
       "\n",
       "1. **Add a Unique Angle**: Instead of just announcing the size and locations, consider including a personal or unique perspective. For example, mention a memorable moment from past World Cups or speculate on which emerging teams might surprise us.\n",
       "\n",
       "2. **Use a Stronger Hook**: Start with a more powerful statement. For instance, \"Get ready to witness history at #FIFAWorldCup26!\" This sets a more enthusiastic tone right from the beginning.\n",
       "\n",
       "3. **Incorporate a Call to Action**: Encourage your followers to share their thoughts. For example, \"Drop your predictions below! Who will make it to the finals?\"\n",
       "\n",
       "4. **Enhance Visual Appeal**: While emojis are great, consider using a GIF or an image related to previous World Cups or the host cities to make your tweet visually striking.\n",
       "\n",
       "Here's a revised version of your tweet incorporating these suggestions:\n",
       "\n",
       "\"🔥 Get ready to witness history at #FIFAWorldCup26! 🌍🏆 With 48 teams and matches spanning the USA, Canada, and Mexico, this will be the biggest celebration of football yet! 🎉 Which underdog team do you think will steal the spotlight? Drop your predictions below! 🇺🇸🇨🇦🇲🇽 #FootballFever\"\n",
       "\n",
       "This version creates more excitement, prompts interaction, and maintains the engaging style of your original tweet!"
      ],
      "text/plain": [
       "<IPython.core.display.Markdown object>"
      ]
     },
     "metadata": {},
     "output_type": "display_data"
    },
    {
     "name": "stdout",
     "output_type": "stream",
     "text": [
      "\n",
      "----------------------------------------------------------------------------------------------------\n",
      "\n"
     ]
    },
    {
     "data": {
      "text/markdown": [
       "🔥 Get ready to witness history at #FIFAWorldCup26! 🌍🏆 With 48 teams and matches spanning the USA, Canada, and Mexico, this will be the biggest celebration of football yet! 🎉 Which underdog team do you think will steal the spotlight? Drop your predictions below! 🇺🇸🇨🇦🇲🇽 #FootballFever"
      ],
      "text/plain": [
       "<IPython.core.display.Markdown object>"
      ]
     },
     "metadata": {},
     "output_type": "display_data"
    },
    {
     "name": "stdout",
     "output_type": "stream",
     "text": [
      "\n",
      "----------------------------------------------------------------------------------------------------\n",
      "\n"
     ]
    },
    {
     "data": {
      "text/markdown": [
       "This is a fantastic tweet! You've effectively upped the enthusiasm and engagement factor. Here are a few final tweaks to consider that could further enhance its impact:\n",
       "\n",
       "1. **Add a Personal Touch**: You might want to share a personal connection to the World Cup, such as a favorite memory or a reason why it matters to you. This can make your tweet feel more authentic and relatable.\n",
       "\n",
       "2. **Highlight the Cultural Impact**: Mention the cultural significance of the tournament or how it brings nations together, which could deepen the emotional resonance of your tweet.\n",
       "\n",
       "3. **Use a Hashtag Strategy**: In addition to #FootballFever, consider including a trending hashtag related to football or upcoming matches to increase visibility.\n",
       "\n",
       "Here’s a refined version of your tweet:\n",
       "\n",
       "\"🔥 Get ready to witness history at #FIFAWorldCup26! 🌍🏆 With 48 teams competing across the USA, Canada, and Mexico, this will be the biggest celebration of football yet! 🎉 It’s a chance for underdogs to shine—who do you think will steal the spotlight? Share your predictions below! 🇺🇸🇨🇦🇲🇽 #FootballFever #WorldCupMagic\"\n",
       "\n",
       "This version maintains the excitement while also adding a touch of cultural importance and increasing its visibility potential! Great job overall—your audience will surely appreciate the energy and engagement!"
      ],
      "text/plain": [
       "<IPython.core.display.Markdown object>"
      ]
     },
     "metadata": {},
     "output_type": "display_data"
    },
    {
     "name": "stdout",
     "output_type": "stream",
     "text": [
      "\n",
      "----------------------------------------------------------------------------------------------------\n",
      "\n"
     ]
    },
    {
     "data": {
      "text/markdown": [
       "🔥 Get ready to witness history at #FIFAWorldCup26! 🌍🏆 With 48 teams competing across the USA, Canada, and Mexico, this will be the biggest celebration of football yet! 🎉 It’s a chance for underdogs to shine—who do you think will steal the spotlight? Share your predictions below! 🇺🇸🇨🇦🇲🇽 #FootballFever #WorldCupMagic"
      ],
      "text/plain": [
       "<IPython.core.display.Markdown object>"
      ]
     },
     "metadata": {},
     "output_type": "display_data"
    },
    {
     "name": "stdout",
     "output_type": "stream",
     "text": [
      "\n",
      "----------------------------------------------------------------------------------------------------\n",
      "\n"
     ]
    }
   ],
   "source": [
    "for resp in response:\n",
    "    display(Markdown(resp.content))\n",
    "    print('\\n' + '-' * 100 + '\\n')"
   ]
  },
  {
   "cell_type": "code",
   "execution_count": null,
   "id": "36c23f78-ed8e-42ef-9a0c-0fbc23a571da",
   "metadata": {},
   "outputs": [],
   "source": []
  }
 ],
 "metadata": {
  "kernelspec": {
   "display_name": "Python 3 (ipykernel)",
   "language": "python",
   "name": "python3"
  },
  "language_info": {
   "codemirror_mode": {
    "name": "ipython",
    "version": 3
   },
   "file_extension": ".py",
   "mimetype": "text/x-python",
   "name": "python",
   "nbconvert_exporter": "python",
   "pygments_lexer": "ipython3",
   "version": "3.11.10"
  }
 },
 "nbformat": 4,
 "nbformat_minor": 5
}
