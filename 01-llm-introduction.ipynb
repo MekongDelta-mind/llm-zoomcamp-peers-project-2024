{
 "cells": [
  {
   "cell_type": "code",
   "execution_count": 1,
   "id": "324448d4-4ab5-4320-ab28-029dc9c49bd2",
   "metadata": {},
   "outputs": [],
   "source": [
    "import os\n",
    "from openai import OpenAI\n",
    "from groq import Groq"
   ]
  },
  {
   "cell_type": "code",
   "execution_count": 3,
   "id": "68507fdb-8c39-451b-b351-51a348735365",
   "metadata": {},
   "outputs": [],
   "source": [
    "# client = OpenAI(api_key=os.getenv(\"OPENAI_API_KEY\"))\n",
    "client = Groq(\n",
    "    api_key=os.environ.get(\"GROQ_API_KEY\"),\n",
    ")"
   ]
  },
  {
   "cell_type": "code",
   "execution_count": 4,
   "id": "564780bc-7de8-4823-b3eb-99f2b9dd15f4",
   "metadata": {},
   "outputs": [
    {
     "data": {
      "text/plain": [
       "<groq.Groq at 0x7665abea5e70>"
      ]
     },
     "execution_count": 4,
     "metadata": {},
     "output_type": "execute_result"
    }
   ],
   "source": [
    "client"
   ]
  },
  {
   "cell_type": "code",
   "execution_count": 5,
   "id": "341639de-c0ca-4a76-82d8-cdcfa555b99c",
   "metadata": {},
   "outputs": [],
   "source": [
    "# response = client.chat.completions.create(\n",
    "#     model=\"gpt-3.5-turbo-16k\",\n",
    "#     messages=[{\"role\": \"user\", \"content\": \"is it too late to join the course?\"}]\n",
    "# )\n",
    "\n",
    "chat_completion = client.chat.completions.create(\n",
    "    messages=[\n",
    "        {\n",
    "            \"role\": \"user\",\n",
    "            \"content\": \"Explain the importance of fast language models\",\n",
    "        }\n",
    "    ],\n",
    "    model=\"llama3-8b-8192\",\n",
    ")"
   ]
  },
  {
   "cell_type": "code",
   "execution_count": 6,
   "id": "52f6826b-e52f-4ab8-9efe-f6aefc105ce5",
   "metadata": {},
   "outputs": [
    {
     "data": {
      "text/plain": [
       "ChatCompletion(id='chatcmpl-59875543-a57b-413c-8973-7cc71bebb1f4', choices=[Choice(finish_reason='stop', index=0, logprobs=None, message=ChatCompletionMessage(content='Fast language models, also known as rapid language models or real-time language models, have gained significant importance in recent years due to their ability to process and generate human-like language at incredibly fast speeds. Here are some reasons why fast language models are crucial:\\n\\n1. **Real-time processing**: Fast language models can process and respond to user queries in real-time, making them essential for applications like chatbots, voice assistants, and conversational AI. This responsiveness is critical in industries like customer service, where immediate answers are critical.\\n2. **Scalability**: Fast language models can handle large volumes of data and user interactions simultaneously, making them suitable for applications like social media platforms, online forums, and messaging apps.\\n3. **Improved user experience**: By processing user input quickly, fast language models can provide instant feedback, reducing the latency and increasing the engagement of users.\\n4. **Enhanced AI capabilities**: Fast language models can be integrated with other AI technologies, such as computer vision and speech recognition, to create more sophisticated and intelligent systems.\\n5. **Higher accuracy**: With faster processing times, fast language models can learn from user interactions more quickly, leading to higher accuracy and adaptability over time.\\n6. **Real-time recommendations**: Fast language models can generate personalized recommendations in real-time, making them valuable for applications like e-commerce, entertainment, and travel.\\n7. **Cybersecurity**: Fast language models can help detect and prevent cyber threats, such as spam and phishing attacks, in real-time by analyzing user behavior and language patterns.\\n8. **Emergency response**: In emergency situations, fast language models can quickly process and analyze language data, providing critical information to first responders and emergency services.\\n9. **Content generation**: Fast language models can generate content at scale, making them useful for applications like content creation, journalism, and marketing.\\n10. **Research and innovation**: Fast language models can enable researchers to explore new areas of study, such as understanding human language, sentiment analysis, and machine learning.\\n\\nFast language models are fueled by advancements in technologies like:\\n\\n1. **GPU acceleration**: Graphics Processing Units (GPUs) have enabled faster processing times for language models.\\n2. **Distributed computing**: Distributed computing platforms, like cloud services, have made it possible to scale language models horizontally.\\n3. **Transfer learning**: Transfer learning, which involves pre-training language models on large datasets, has significantly improved their performance.\\n4. **Attention mechanisms**: Attention mechanisms, which enable language models to focus on specific parts of text, have improved their accuracy and processing speed.\\n\\nAs AI continues to evolve, fast language models will play a critical role in many applications, from customer service to healthcare, and beyond.', role='assistant', function_call=None, tool_calls=None))], created=1719162282, model='llama3-8b-8192', object='chat.completion', system_fingerprint='fp_af05557ca2', usage=CompletionUsage(completion_tokens=541, prompt_tokens=18, total_tokens=559, completion_time=0.431518961, prompt_time=0.005002199, queue_time=None, total_time=0.43652115999999996), x_groq={'id': 'req_01j130x8e4e7hryevveb2vpb5z'})"
      ]
     },
     "execution_count": 6,
     "metadata": {},
     "output_type": "execute_result"
    }
   ],
   "source": [
    "chat_completion"
   ]
  },
  {
   "cell_type": "code",
   "execution_count": 7,
   "id": "7df9a250-9edc-4fc0-ba41-4620bad340b4",
   "metadata": {},
   "outputs": [
    {
     "name": "stdout",
     "output_type": "stream",
     "text": [
      "Fast language models, also known as rapid language models or real-time language models, have gained significant importance in recent years due to their ability to process and generate human-like language at incredibly fast speeds. Here are some reasons why fast language models are crucial:\n",
      "\n",
      "1. **Real-time processing**: Fast language models can process and respond to user queries in real-time, making them essential for applications like chatbots, voice assistants, and conversational AI. This responsiveness is critical in industries like customer service, where immediate answers are critical.\n",
      "2. **Scalability**: Fast language models can handle large volumes of data and user interactions simultaneously, making them suitable for applications like social media platforms, online forums, and messaging apps.\n",
      "3. **Improved user experience**: By processing user input quickly, fast language models can provide instant feedback, reducing the latency and increasing the engagement of users.\n",
      "4. **Enhanced AI capabilities**: Fast language models can be integrated with other AI technologies, such as computer vision and speech recognition, to create more sophisticated and intelligent systems.\n",
      "5. **Higher accuracy**: With faster processing times, fast language models can learn from user interactions more quickly, leading to higher accuracy and adaptability over time.\n",
      "6. **Real-time recommendations**: Fast language models can generate personalized recommendations in real-time, making them valuable for applications like e-commerce, entertainment, and travel.\n",
      "7. **Cybersecurity**: Fast language models can help detect and prevent cyber threats, such as spam and phishing attacks, in real-time by analyzing user behavior and language patterns.\n",
      "8. **Emergency response**: In emergency situations, fast language models can quickly process and analyze language data, providing critical information to first responders and emergency services.\n",
      "9. **Content generation**: Fast language models can generate content at scale, making them useful for applications like content creation, journalism, and marketing.\n",
      "10. **Research and innovation**: Fast language models can enable researchers to explore new areas of study, such as understanding human language, sentiment analysis, and machine learning.\n",
      "\n",
      "Fast language models are fueled by advancements in technologies like:\n",
      "\n",
      "1. **GPU acceleration**: Graphics Processing Units (GPUs) have enabled faster processing times for language models.\n",
      "2. **Distributed computing**: Distributed computing platforms, like cloud services, have made it possible to scale language models horizontally.\n",
      "3. **Transfer learning**: Transfer learning, which involves pre-training language models on large datasets, has significantly improved their performance.\n",
      "4. **Attention mechanisms**: Attention mechanisms, which enable language models to focus on specific parts of text, have improved their accuracy and processing speed.\n",
      "\n",
      "As AI continues to evolve, fast language models will play a critical role in many applications, from customer service to healthcare, and beyond.\n"
     ]
    }
   ],
   "source": [
    "print(chat_completion.choices[0].message.content)"
   ]
  },
  {
   "cell_type": "code",
   "execution_count": 8,
   "id": "b2cfae6c-ada9-419b-81ae-7b23fe1d353d",
   "metadata": {},
   "outputs": [
    {
     "name": "stdout",
     "output_type": "stream",
     "text": [
      "Since I am a text-based AI assistant and don't have any specific knowledge about a particular course, I'll provide a general answer.\n",
      "\n",
      "Typically, the decision to join a course depends on various factors, including the course structure, duration, and the instructor's policies. Some courses may have start dates or deadlines, while others may be ongoing or flexible.\n",
      "\n",
      "If you're concerned about joining a course, I would suggest checking with the course organizer or instructor to see if it's still possible to enroll. You can ask questions like:\n",
      "\n",
      "1. Is the course still open for enrollment?\n",
      "2. Are there any prerequisites or requirements that I need to fulfill before joining?\n",
      "3. Can I catch up on any missed material if I join late?\n",
      "4. Are there any special accommodations or support available for late joiners?\n",
      "\n",
      "Remember to provide accurate information about the course you're interested in, and I'll be happy to help you find the answers.\n"
     ]
    }
   ],
   "source": [
    "chat_completion = client.chat.completions.create(\n",
    "    messages=[\n",
    "        {\n",
    "            \"role\": \"user\",\n",
    "            \"content\": \"Is it too late to join the course?\",\n",
    "        }\n",
    "    ],\n",
    "    model=\"llama3-8b-8192\",\n",
    ")\n",
    "print(chat_completion.choices[0].message.content)"
   ]
  },
  {
   "cell_type": "code",
   "execution_count": null,
   "id": "367d7cad-fba2-4ff7-8581-2bee6f914e88",
   "metadata": {},
   "outputs": [],
   "source": []
  }
 ],
 "metadata": {
  "kernelspec": {
   "display_name": "Python 3 (ipykernel)",
   "language": "python",
   "name": "python3"
  },
  "language_info": {
   "codemirror_mode": {
    "name": "ipython",
    "version": 3
   },
   "file_extension": ".py",
   "mimetype": "text/x-python",
   "name": "python",
   "nbconvert_exporter": "python",
   "pygments_lexer": "ipython3",
   "version": "3.10.13"
  }
 },
 "nbformat": 4,
 "nbformat_minor": 5
}
